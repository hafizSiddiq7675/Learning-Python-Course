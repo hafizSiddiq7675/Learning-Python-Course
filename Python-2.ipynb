{
 "cells": [
  {
   "cell_type": "markdown",
   "id": "6b4c752f",
   "metadata": {},
   "source": [
    "# Binomial events\n",
    "\n",
    "Binomial events always have 2 possible outcomes, which we refer to as success and failure."
   ]
  },
  {
   "cell_type": "code",
   "execution_count": 3,
   "id": "12ce4ad0",
   "metadata": {},
   "outputs": [],
   "source": [
    "import numpy"
   ]
  },
  {
   "cell_type": "code",
   "execution_count": 4,
   "id": "905c63cd",
   "metadata": {
    "scrolled": true
   },
   "outputs": [
    {
     "name": "stdout",
     "output_type": "stream",
     "text": [
      "[1 1 1 1 1 1 1 0 1 1 1 1 1 1 1 1 1 1 0 1 1 1 1 0 1 0 0 0 0 1 1 1 0 1 0 1 1\n",
      " 1 1 0 1 0 0 0 1 1 1 1 1 0 1 0 1 1 0 1 1 1 0 1 0 1 1 0 1 0 1 1 1 0 0 1 1 1\n",
      " 1 1 1 1 1 1 1 1 0 1 1 0 1 0 1 1 1 1 0 1 1 0 1 1 1 1 1 1 1 1 0 0 1 1 0 1 1\n",
      " 0 1 1 1 0 1 0 0 1 1 1 1 1 0 1 1 1 1 0 1 1 1 1 1 1 1 1 1 1 1 0 1 1 1 0 1 1\n",
      " 1 1 1 1 1 1 1 1 1 1 1 1 1 1 1 1 0 1 1 1 1 1 1 1 0 1 1 1 1 1 0 1 0 1 1 0 1\n",
      " 1 1 1 1 1 0 1 0 1 0 0 1 1 1 0 0 1 0 1 1 0 1 1 1 0 1 1 1 1 1 0 1 1 1 1 0 1\n",
      " 1 0 1 1 0 1 1 1 0 1 0 0 1 1 1 1 1 1 1 1 0 1 1 1 1 1 0 1 1 1 1 1 1 0 1 0 1\n",
      " 1 0 1 1 1 1 0 0 1 1 0 1 1 1 1 1 0 1 1 1 0 1 1 1 1 1 1 1 1 1 0 1 1 1 1 1 1\n",
      " 0 1 1 1 0 1 1 1 1 1 1 1 1 0 1 1 0 1 0 1 1 0 0 0 1 1 1 1 0 0 1 1 1 1 1 1 1\n",
      " 1 1 1 1 1 1 1 1 1 0 1 1 0 0 1 1 1 1 1 0 1 1 0 1 1 1 1 1 1 1 1 1 0 1 1 1 1\n",
      " 1 1 1 1 1 1 0 1 1 1 1 1 1 1 1 1 1 0 0 0 1 1 1 0 1 1 0 1 1 0 1 1 1 1 1 1 1\n",
      " 1 0 1 1 1 1 0 1 1 1 1 1 1 1 1 1 0 1 1 1 1 1 1 1 0 0 0 0 1 0 0 1 1 1 1 0 1\n",
      " 1 1 1 1 1 1 1 1 1 1 0 0 0 0 1 1 0 1 0 0 1 1 1 1 1 1 1 1 0 1 0 1 1 0 0 1 1\n",
      " 1 1 0 1 0 1 0 1 1 1 1 0 0 1 1 1 1 0 1]\n"
     ]
    }
   ],
   "source": [
    "print(numpy.random.binomial(n=1, p=0.8, size=500))"
   ]
  },
  {
   "cell_type": "code",
   "execution_count": 5,
   "id": "361cb0f9",
   "metadata": {},
   "outputs": [
    {
     "name": "stdout",
     "output_type": "stream",
     "text": [
      "[84 81 72 79 82 79 83 79 77 80 76 75 81 82 81 81 82 85 72 82 78 85 76 75\n",
      " 79 76 76 79 78 80 82 86 80 83 86 82 82 77 83 76 81 74 80 75 81 81 82 75\n",
      " 89 74 82 83 82 83 78 77 81 77 80 80 82 77 80 79 76 79 86 76 80 85 81 71\n",
      " 87 86 82 80 81 77 83 81 82 89 81 83 81 82 80 86 72 82 75 81 81 82 74 75\n",
      " 75 80 86 80 88 82 84 86 81 75 82 82 78 82 87 73 82 80 84 87 72 74 75 76\n",
      " 76 83 81 85 80 79 79 74 72 80 82 77 83 82 77 78 74 80 79 74 83 81 80 80\n",
      " 81 84 74 83 74 78 81 82 81 83 81 69 82 82 85 89 75 84 80 73 82 79 87 81\n",
      " 80 72 83 80 80 79 89 75 78 76 83 81 84 81 79 79 82 79 78 85 83 87 81 87\n",
      " 78 81 80 73 73 84 83 79 75 76 81 84 78 81 74 82 78 78 77 84 83 82 83 77\n",
      " 77 81 83 81 85 74 82 80 79 73 78 77 81 88 74 83 73 76 90 71 83 81 82 73\n",
      " 85 83 76 83 87 87 75 83 74 84 88 73 85 86 81 80 82 78 74 82 80 83 81 84\n",
      " 79 77 77 74 84 80 84 84 89 80 77 76 73 80 83 88 74 75 84 83 80 78 79 82\n",
      " 83 88 82 81 87 79 76 80 86 81 86 79 84 77 79 78 70 80 79 76 83 82 74 81\n",
      " 83 86 87 74 83 85 84 82 81 84 75 84 84 83 79 78 87 80 77 73 78 78 90 80\n",
      " 76 79 82 78 78 84 80 77 84 88 77 84 80 80 85 73 77 81 81 80 80 84 80 81\n",
      " 85 72 86 81 87 75 78 79 78 82 75 76 87 80 80 81 80 86 74 81 79 77 84 84\n",
      " 76 75 82 82 76 82 80 82 82 78 81 87 84 74 69 75 82 83 79 83 79 76 83 76\n",
      " 84 78 78 79 74 77 80 84 87 69 84 83 82 85 81 77 73 78 82 79 79 81 80 82\n",
      " 82 84 88 79 82 82 86 82 89 83 78 85 82 77 91 78 83 78 81 79 77 86 83 76\n",
      " 73 80 81 83 76 81 70 83 75 81 80 79 81 89 75 84 70 74 77 87 84 79 83 78\n",
      " 72 80 79 80 77 83 82 69 76 83 80 80 81 87 82 82 81 73 87 84]\n"
     ]
    }
   ],
   "source": [
    "print(numpy.random.binomial(n=100, p=0.8, size=500))"
   ]
  },
  {
   "cell_type": "markdown",
   "id": "24636026",
   "metadata": {},
   "source": [
    "# Introduction to Strings\n",
    "\n",
    "A string is a sequence of characters contained within a pair of 'single quotes' or \"double quotes\"."
   ]
  },
  {
   "cell_type": "code",
   "execution_count": 21,
   "id": "66b173f5",
   "metadata": {},
   "outputs": [
    {
     "name": "stdout",
     "output_type": "stream",
     "text": [
      "hello\n"
     ]
    }
   ],
   "source": [
    "favorite_word = \"hello\"\n",
    "print(favorite_word)"
   ]
  },
  {
   "cell_type": "markdown",
   "id": "56bb66f8",
   "metadata": {},
   "source": [
    "# A string can be thought of as a list of characters.\n",
    "Like any other list, each character in a string has an index."
   ]
  },
  {
   "cell_type": "code",
   "execution_count": 24,
   "id": "17a6a7a0",
   "metadata": {},
   "outputs": [
    {
     "name": "stdout",
     "output_type": "stream",
     "text": [
      "h\n"
     ]
    }
   ],
   "source": [
    "first_letter = favorite_word[0]\n",
    "print(first_letter)"
   ]
  },
  {
   "cell_type": "markdown",
   "id": "a347b871",
   "metadata": {},
   "source": [
    "# String Slices"
   ]
  },
  {
   "cell_type": "code",
   "execution_count": 34,
   "id": "2216462b",
   "metadata": {},
   "outputs": [
    {
     "name": "stdout",
     "output_type": "stream",
     "text": [
      "nueva\n",
      "llan\n"
     ]
    }
   ],
   "source": [
    "first_name = \"Rodrigo\"\n",
    "last_name = \"Villanueva\"\n",
    "\n",
    "new_account = last_name[:5]\n",
    "new_account = last_name[5:]\n",
    "print(new_account)\n",
    "\n",
    "temp_password = last_name[2:6]\n",
    "print(temp_password)"
   ]
  },
  {
   "cell_type": "markdown",
   "id": "e89df7b5",
   "metadata": {},
   "source": [
    "# Concatenating Strings"
   ]
  },
  {
   "cell_type": "code",
   "execution_count": 31,
   "id": "02b242a1",
   "metadata": {},
   "outputs": [
    {
     "name": "stdout",
     "output_type": "stream",
     "text": [
      "Julie Blevins\n"
     ]
    }
   ],
   "source": [
    "first_name = \"Julie\"\n",
    "last_name = \"Blevins\"\n",
    "\n",
    "full_name = first_name + ' '+ last_name\n",
    "\n",
    "print(full_name)"
   ]
  },
  {
   "cell_type": "markdown",
   "id": "3548c955",
   "metadata": {},
   "source": [
    "# find length of string"
   ]
  },
  {
   "cell_type": "code",
   "execution_count": 33,
   "id": "7d96b092",
   "metadata": {},
   "outputs": [
    {
     "data": {
      "text/plain": [
       "5"
      ]
     },
     "execution_count": 33,
     "metadata": {},
     "output_type": "execute_result"
    }
   ],
   "source": [
    "len(\"Julie\")"
   ]
  },
  {
   "cell_type": "markdown",
   "id": "7f77b7d1",
   "metadata": {},
   "source": [
    "# Negative Indices"
   ]
  },
  {
   "cell_type": "code",
   "execution_count": null,
   "id": "f5c0fca2",
   "metadata": {},
   "outputs": [],
   "source": [
    "company_motto = \"Copeland's Corporate Company helps you capably cope with the constant cacophony of daily life\"\n",
    "\n",
    "second_to_last = company_motto[-2]\n",
    "final_word = company_motto[:-4]\n",
    "print(final_word)"
   ]
  },
  {
   "cell_type": "markdown",
   "id": "7b03e670",
   "metadata": {},
   "source": [
    "# Strings are Immutable\n",
    "\n",
    "means that we cannot change a string once it is created."
   ]
  },
  {
   "cell_type": "code",
   "execution_count": 38,
   "id": "c28d7230",
   "metadata": {},
   "outputs": [
    {
     "name": "stdout",
     "output_type": "stream",
     "text": [
      "Rob\n"
     ]
    }
   ],
   "source": [
    "first_name = \"Bob\"\n",
    "last_name = \"Daily\"\n",
    "\n",
    "# first_name[0] = \"R\"\n",
    "fixed_first_name = \"R\" + first_name[1:] \n",
    "print(fixed_first_name)"
   ]
  },
  {
   "cell_type": "markdown",
   "id": "0168a394",
   "metadata": {},
   "source": [
    "# Escape Characters\n",
    "you’ll find that you want to include characters that already have a special meaning in python."
   ]
  },
  {
   "cell_type": "code",
   "execution_count": 39,
   "id": "ae0e25d4",
   "metadata": {},
   "outputs": [
    {
     "name": "stdout",
     "output_type": "stream",
     "text": [
      "He said, \"blueberries are my favorite!\"\n"
     ]
    }
   ],
   "source": [
    "favorite_fruit_conversation = \"He said, \\\"blueberries are my favorite!\\\"\"\n",
    "print(favorite_fruit_conversation)"
   ]
  },
  {
   "cell_type": "markdown",
   "id": "e55a97d9",
   "metadata": {},
   "source": [
    "# Iterating through Strings\n",
    "\n",
    " strings are lists, that means we can iterate through a string using for or while loops."
   ]
  },
  {
   "cell_type": "code",
   "execution_count": 41,
   "id": "74c4da77",
   "metadata": {},
   "outputs": [
    {
     "name": "stdout",
     "output_type": "stream",
     "text": [
      "b\n",
      "l\n",
      "u\n",
      "e\n"
     ]
    }
   ],
   "source": [
    "def print_each_letter(word):\n",
    "  for letter in word:\n",
    "    print(letter)\n",
    "    \n",
    "print_each_letter(\"blue\")"
   ]
  },
  {
   "cell_type": "markdown",
   "id": "7e797f4d",
   "metadata": {},
   "source": [
    "# Strings and Conditionals"
   ]
  },
  {
   "cell_type": "code",
   "execution_count": 42,
   "id": "385073a6",
   "metadata": {},
   "outputs": [
    {
     "name": "stdout",
     "output_type": "stream",
     "text": [
      "2\n"
     ]
    }
   ],
   "source": [
    "favorite_fruit = \"blueberry\"\n",
    "counter = 0\n",
    "for character in favorite_fruit:\n",
    "  if character == \"b\":\n",
    "    counter = counter + 1\n",
    "print(counter)"
   ]
  },
  {
   "cell_type": "code",
   "execution_count": 43,
   "id": "9c88e6f9",
   "metadata": {},
   "outputs": [
    {
     "name": "stdout",
     "output_type": "stream",
     "text": [
      "True\n"
     ]
    }
   ],
   "source": [
    "print(\"blue\" in \"blueberry\")"
   ]
  },
  {
   "cell_type": "code",
   "execution_count": 44,
   "id": "146b8bd4",
   "metadata": {},
   "outputs": [
    {
     "name": "stdout",
     "output_type": "stream",
     "text": [
      "False\n"
     ]
    }
   ],
   "source": [
    "print(\"e\" in \"blueberry\" and \"e\" in \"carrot\")"
   ]
  },
  {
   "cell_type": "markdown",
   "id": "33f8a82d",
   "metadata": {},
   "source": [
    "# String methods"
   ]
  },
  {
   "cell_type": "markdown",
   "id": "f016f5b6",
   "metadata": {},
   "source": [
    "## Formatting Methods\n",
    "\n",
    "There are three string methods that can change the casing of a string. These are .lower(), .upper(), and .title().\n",
    "\n",
    ".lower() returns the string with all lowercase characters.\n",
    ".upper() returns the string with all uppercase characters.\n",
    ".title() returns the string in title case, which means the first letter of each word is capitalized."
   ]
  },
  {
   "cell_type": "code",
   "execution_count": 47,
   "id": "dc54e2a3",
   "metadata": {},
   "outputs": [
    {
     "name": "stdout",
     "output_type": "stream",
     "text": [
      "smooth\n",
      "SMOOTH\n",
      "Smooth\n"
     ]
    }
   ],
   "source": [
    "favorite_song = 'SmOoTH'\n",
    "print(favorite_song.lower())\n",
    "print(favorite_song.upper())\n",
    "print(favorite_song.title())"
   ]
  },
  {
   "cell_type": "markdown",
   "id": "65e2613b",
   "metadata": {},
   "source": [
    "## Splitting Strings\n",
    "\n",
    ".split() is performed on a string, takes one argument, and returns a list of substrings found between the given argument"
   ]
  },
  {
   "cell_type": "code",
   "execution_count": 48,
   "id": "57540af2",
   "metadata": {},
   "outputs": [
    {
     "name": "stdout",
     "output_type": "stream",
     "text": [
      "['Like', 'seven', 'inches', 'from', 'the', 'midday', 'sun']\n"
     ]
    }
   ],
   "source": [
    "man_its_a_hot_one = \"Like seven inches from the midday sun\"\n",
    "print(man_its_a_hot_one.split())"
   ]
  },
  {
   "cell_type": "code",
   "execution_count": 49,
   "id": "be9da6ae",
   "metadata": {},
   "outputs": [
    {
     "name": "stdout",
     "output_type": "stream",
     "text": [
      "['sa', 'ta', 'a']\n"
     ]
    }
   ],
   "source": [
    "greatest_guitarist = \"santana\"\n",
    "print(greatest_guitarist.split('n'))"
   ]
  },
  {
   "cell_type": "code",
   "execution_count": 50,
   "id": "6e45fbe5",
   "metadata": {},
   "outputs": [
    {
     "name": "stdout",
     "output_type": "stream",
     "text": [
      "['And if you said, \"This life ain\\'t good enough.\"', 'I would give my world to lift you up', 'I could change my life to better suit your mood', \"Because you're so smooth\"]\n"
     ]
    }
   ],
   "source": [
    "smooth_chorus = \\\n",
    "\"\"\"And if you said, \"This life ain't good enough.\"\n",
    "I would give my world to lift you up\n",
    "I could change my life to better suit your mood\n",
    "Because you're so smooth\"\"\"\n",
    " \n",
    "chorus_lines = smooth_chorus.split('\\n')\n",
    " \n",
    "print(chorus_lines)"
   ]
  },
  {
   "cell_type": "markdown",
   "id": "b494a79a",
   "metadata": {},
   "source": [
    "## Joining Strings"
   ]
  },
  {
   "cell_type": "code",
   "execution_count": 51,
   "id": "386b64e3",
   "metadata": {},
   "outputs": [
    {
     "name": "stdout",
     "output_type": "stream",
     "text": [
      "My Spanish Harlem Mona Lisa\n"
     ]
    }
   ],
   "source": [
    "my_munequita = ['My', 'Spanish', 'Harlem', 'Mona', 'Lisa']\n",
    "print(' '.join(my_munequita))"
   ]
  },
  {
   "cell_type": "code",
   "execution_count": 53,
   "id": "2252f772",
   "metadata": {},
   "outputs": [
    {
     "name": "stdout",
     "output_type": "stream",
     "text": [
      "All the complicated details\n",
      "of the attiring and\n",
      "the disattiring are completed!\n",
      "A liquid moon\n",
      "moves gently among\n",
      "the long branches.\n",
      "Thus having prepared their buds\n",
      "against a sure winter\n",
      "the wise trees\n",
      "stand sleeping in the cold.\n"
     ]
    }
   ],
   "source": [
    "winter_trees_lines = ['All the complicated details', 'of the attiring and', 'the disattiring are completed!', 'A liquid moon', 'moves gently among', 'the long branches.', 'Thus having prepared their buds', 'against a sure winter', 'the wise trees', 'stand sleeping in the cold.']\n",
    "\n",
    "winter_trees_full = \"\\n\" .join(winter_trees_lines)\n",
    "print(winter_trees_full)"
   ]
  },
  {
   "cell_type": "markdown",
   "id": "df4769bc",
   "metadata": {},
   "source": [
    "## .strip()"
   ]
  },
  {
   "cell_type": "code",
   "execution_count": 54,
   "id": "01684aa6",
   "metadata": {},
   "outputs": [
    {
     "name": "stdout",
     "output_type": "stream",
     "text": [
      "rob thomas\n"
     ]
    }
   ],
   "source": [
    "featuring = \"           rob thomas                 \"\n",
    "print(featuring.strip())"
   ]
  },
  {
   "cell_type": "code",
   "execution_count": 55,
   "id": "468cadb7",
   "metadata": {},
   "outputs": [
    {
     "name": "stdout",
     "output_type": "stream",
     "text": [
      "rob thomas       \n"
     ]
    }
   ],
   "source": [
    "featuring = \"!!!rob thomas       !!!!!\"\n",
    "print(featuring.strip('!'))"
   ]
  },
  {
   "cell_type": "markdown",
   "id": "2ffb08ae",
   "metadata": {},
   "source": [
    "## Replace"
   ]
  },
  {
   "cell_type": "code",
   "execution_count": 56,
   "id": "ba0e8dba",
   "metadata": {},
   "outputs": [
    {
     "name": "stdout",
     "output_type": "stream",
     "text": [
      "You_got_the_kind_of_loving_that_can_be_so_smooth\n"
     ]
    }
   ],
   "source": [
    "with_spaces = \"You got the kind of loving that can be so smooth\"\n",
    "with_underscores = with_spaces.replace(' ', '_')\n",
    "print(with_underscores)"
   ]
  },
  {
   "cell_type": "markdown",
   "id": "8eabafff",
   "metadata": {},
   "source": [
    "## .find()"
   ]
  },
  {
   "cell_type": "code",
   "execution_count": 57,
   "id": "52d928dd",
   "metadata": {},
   "outputs": [
    {
     "name": "stdout",
     "output_type": "stream",
     "text": [
      "4\n"
     ]
    }
   ],
   "source": [
    "print('smooth'.find('t'))"
   ]
  },
  {
   "cell_type": "code",
   "execution_count": 58,
   "id": "a4ca7d82",
   "metadata": {},
   "outputs": [
    {
     "name": "stdout",
     "output_type": "stream",
     "text": [
      "2\n"
     ]
    }
   ],
   "source": [
    "print(\"smooth\".find('oo'))"
   ]
  },
  {
   "cell_type": "markdown",
   "id": "5e420f3d",
   "metadata": {},
   "source": [
    "## .format()"
   ]
  },
  {
   "cell_type": "code",
   "execution_count": 59,
   "id": "083178c7",
   "metadata": {},
   "outputs": [
    {
     "name": "stdout",
     "output_type": "stream",
     "text": [
      "My favorite song is Smooth by Santana.\n"
     ]
    }
   ],
   "source": [
    "def favorite_song_statement(song, artist):\n",
    "  return \"My favorite song is {} by {}.\".format(song, artist)\n",
    "print(favorite_song_statement(\"Smooth\", \"Santana\"))"
   ]
  },
  {
   "cell_type": "code",
   "execution_count": 60,
   "id": "745a6b8a",
   "metadata": {},
   "outputs": [
    {
     "name": "stdout",
     "output_type": "stream",
     "text": [
      "My favorite song is Smooth by Santana.\n"
     ]
    }
   ],
   "source": [
    "def favorite_song_statement(song, artist):\n",
    "  return \"My favorite song is {song} by {artist}.\".format(song=song, artist=artist)\n",
    "print(favorite_song_statement(\"Smooth\", \"Santana\"))"
   ]
  },
  {
   "cell_type": "code",
   "execution_count": null,
   "id": "75038fb8",
   "metadata": {},
   "outputs": [],
   "source": []
  }
 ],
 "metadata": {
  "kernelspec": {
   "display_name": "Python 3 (ipykernel)",
   "language": "python",
   "name": "python3"
  },
  "language_info": {
   "codemirror_mode": {
    "name": "ipython",
    "version": 3
   },
   "file_extension": ".py",
   "mimetype": "text/x-python",
   "name": "python",
   "nbconvert_exporter": "python",
   "pygments_lexer": "ipython3",
   "version": "3.10.9"
  }
 },
 "nbformat": 4,
 "nbformat_minor": 5
}
