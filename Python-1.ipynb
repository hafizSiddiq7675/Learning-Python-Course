{
 "cells": [
  {
   "cell_type": "markdown",
   "id": "65295d3c-6971-4c8f-868e-b2d5ff8e4c0b",
   "metadata": {},
   "source": [
    "# Comments Explain about the code"
   ]
  },
  {
   "cell_type": "code",
   "execution_count": 8,
   "id": "9cc8785e-3b8d-4d73-bb1a-1361404b0ebe",
   "metadata": {},
   "outputs": [
    {
     "data": {
      "text/plain": [
       "'\\nThis is multi line comment\\n'"
      ]
     },
     "execution_count": 8,
     "metadata": {},
     "output_type": "execute_result"
    }
   ],
   "source": [
    "# This is comment\n",
    "\"\"\"\n",
    "This is multi line comment\n",
    "\"\"\""
   ]
  },
  {
   "cell_type": "markdown",
   "id": "78eb3440-2b78-4894-8478-7a6954ac3f2d",
   "metadata": {},
   "source": [
    "# Print Statement\n",
    "print on the console"
   ]
  },
  {
   "cell_type": "markdown",
   "id": "706f475a-b39c-4dbb-b89e-4ea358c46c49",
   "metadata": {},
   "source": [
    "# Print Statement\n",
    "print on the console"
   ]
  },
  {
   "cell_type": "code",
   "execution_count": 10,
   "id": "f6b20b96-4691-4161-8d74-d2ba48cf32b3",
   "metadata": {},
   "outputs": [
    {
     "name": "stdout",
     "output_type": "stream",
     "text": [
      "Hello\n"
     ]
    }
   ],
   "source": [
    "print(\"Hello\")"
   ]
  },
  {
   "cell_type": "markdown",
   "id": "3986014d-7dc9-43ae-8750-f0dc79a04d65",
   "metadata": {},
   "source": [
    "# Strings\n",
    "in single qoutes or double qoutes"
   ]
  },
  {
   "cell_type": "code",
   "execution_count": 11,
   "id": "fdee9cda-6b7c-4355-b7c4-f131178a4dfa",
   "metadata": {},
   "outputs": [
    {
     "name": "stdout",
     "output_type": "stream",
     "text": [
      "hello\n",
      "hello\n"
     ]
    }
   ],
   "source": [
    "print('hello')\n",
    "\n",
    "print(\"hello\")"
   ]
  },
  {
   "cell_type": "markdown",
   "id": "e3924097-9e4c-459f-84f1-a48022399809",
   "metadata": {},
   "source": [
    "# Variables\n",
    "Used to store information"
   ]
  },
  {
   "cell_type": "code",
   "execution_count": 1,
   "id": "1ea0c8be-2ab8-473b-8a6b-fe40fbdcefc0",
   "metadata": {},
   "outputs": [],
   "source": [
    "name = \"Sam\""
   ]
  },
  {
   "cell_type": "code",
   "execution_count": 2,
   "id": "4f13bf2b-ed83-4a3e-957f-c15c9f99a8f2",
   "metadata": {},
   "outputs": [
    {
     "name": "stdout",
     "output_type": "stream",
     "text": [
      "Sam\n"
     ]
    }
   ],
   "source": [
    "print(name)"
   ]
  },
  {
   "cell_type": "code",
   "execution_count": 3,
   "id": "6389a8d2-d5ec-4d4f-97e9-382117021f09",
   "metadata": {},
   "outputs": [
    {
     "name": "stdout",
     "output_type": "stream",
     "text": [
      "<class 'str'>\n"
     ]
    }
   ],
   "source": [
    "print(type(name))"
   ]
  },
  {
   "cell_type": "code",
   "execution_count": 4,
   "id": "4d20fc11-1f2d-46ac-bdf2-f0bab3ced581",
   "metadata": {},
   "outputs": [],
   "source": [
    "first_number = 1"
   ]
  },
  {
   "cell_type": "code",
   "execution_count": 5,
   "id": "a6507cb4-b5fe-481c-b336-d80203cd185e",
   "metadata": {},
   "outputs": [
    {
     "name": "stdout",
     "output_type": "stream",
     "text": [
      "<class 'int'>\n"
     ]
    }
   ],
   "source": [
    "print(type(first_number))"
   ]
  },
  {
   "cell_type": "markdown",
   "id": "8cb7dda2-ab62-414e-98a8-4d916f726b91",
   "metadata": {},
   "source": [
    "# Numbers\n",
    "\n",
    "Numbers can be float or Integers, int is used to represent integers, float is used to represent float\n",
    "\n",
    "Python identifies variable type itself"
   ]
  },
  {
   "cell_type": "code",
   "execution_count": 14,
   "id": "47814c5d-a8af-439b-829c-6540b52d950a",
   "metadata": {},
   "outputs": [],
   "source": [
    "marks = 99\n",
    "\n",
    "percentage = 98.88"
   ]
  },
  {
   "cell_type": "code",
   "execution_count": 15,
   "id": "5a445b8f-f945-4505-95ad-197d5d8c4914",
   "metadata": {},
   "outputs": [
    {
     "name": "stdout",
     "output_type": "stream",
     "text": [
      "<class 'int'>\n"
     ]
    }
   ],
   "source": [
    "print(type(marks))"
   ]
  },
  {
   "cell_type": "code",
   "execution_count": 16,
   "id": "efa5c241-b654-4ef5-a552-55550bcf9c62",
   "metadata": {},
   "outputs": [
    {
     "name": "stdout",
     "output_type": "stream",
     "text": [
      "<class 'float'>\n"
     ]
    }
   ],
   "source": [
    "print(type(percentage))"
   ]
  },
  {
   "cell_type": "markdown",
   "id": "43927fd1-a62a-4adb-b244-86a6fec233a2",
   "metadata": {},
   "source": [
    "# Calculations\n",
    "\n",
    "Addition adds an amount to a number: 2 + 3 = 5\n",
    "Subtraction takes away an amount from a number: 10 - 3 = 7\n",
    "Multiplication takes a number and repeats it a specified number of times: 5 * 2 = 10\n",
    "Division takes a number and divides it by another number: 15 / 3 = 5"
   ]
  },
  {
   "cell_type": "code",
   "execution_count": 18,
   "id": "89a99935-d7c8-4f3b-aa34-d6bc7b5c16b3",
   "metadata": {},
   "outputs": [
    {
     "name": "stdout",
     "output_type": "stream",
     "text": [
      "500\n",
      "50\n",
      "2.0\n"
     ]
    }
   ],
   "source": [
    "# Prints \"500\"\n",
    "print(573 - 74 + 1)\n",
    " \n",
    "# Prints \"50\"\n",
    "print(25 * 2)\n",
    " \n",
    "# Prints \"2.0\"\n",
    "print(10 / 5)"
   ]
  },
  {
   "cell_type": "code",
   "execution_count": 19,
   "id": "dc2801a2-da0c-4c25-b4e5-299204299f13",
   "metadata": {},
   "outputs": [
    {
     "name": "stdout",
     "output_type": "stream",
     "text": [
      "1700.4642857142858\n"
     ]
    }
   ],
   "source": [
    "print (25 * 68 + 13 /28)"
   ]
  },
  {
   "cell_type": "markdown",
   "id": "a18c7137-30e4-4db0-9567-51107656defd",
   "metadata": {},
   "source": [
    "# Changing Numbers"
   ]
  },
  {
   "cell_type": "code",
   "execution_count": 20,
   "id": "3836ba7d-53bf-4db2-9e72-a9672b736109",
   "metadata": {},
   "outputs": [
    {
     "name": "stdout",
     "output_type": "stream",
     "text": [
      "96\n",
      "8\n",
      "8\n"
     ]
    }
   ],
   "source": [
    "quilt_width = 8\n",
    "quilt_length = 12\n",
    "\n",
    "print(quilt_width * quilt_length)\n",
    "print(quilt_width)\n",
    "quilt_length = 8\n",
    "print(quilt_length)"
   ]
  },
  {
   "cell_type": "markdown",
   "id": "124c60c6-b681-4dc2-9caf-c869e193d48c",
   "metadata": {},
   "source": [
    "# Exponents"
   ]
  },
  {
   "cell_type": "code",
   "execution_count": 24,
   "id": "4323dba0-6ee0-4442-b6ae-8b1fb2ccc3a1",
   "metadata": {},
   "outputs": [
    {
     "name": "stdout",
     "output_type": "stream",
     "text": [
      "1024\n",
      "64\n",
      "729\n",
      "2.0\n"
     ]
    }
   ],
   "source": [
    "# 2 to the 10th power, or 1024\n",
    "print(2 ** 10)\n",
    " \n",
    "# 8 squared, or 64\n",
    "print(8 ** 2)\n",
    " \n",
    "# 9 * 9 * 9, 9 cubed, or 729\n",
    "print(9 ** 3)\n",
    " \n",
    "# We can even perform fractional exponents\n",
    "# 4 to the half power, or 2\n",
    "print(4 ** 0.5)"
   ]
  },
  {
   "cell_type": "markdown",
   "id": "68183b99-1069-4993-aaae-6904796fac45",
   "metadata": {},
   "source": [
    "# Modulo\n",
    "It is indicated by % and gives the remainder of a division calculation. If the number is divisible, then the result of the modulo operator will be 0."
   ]
  },
  {
   "cell_type": "code",
   "execution_count": 27,
   "id": "06e65ee3-4e31-439f-ad4e-803c03d8345d",
   "metadata": {},
   "outputs": [
    {
     "name": "stdout",
     "output_type": "stream",
     "text": [
      "4\n",
      "2\n",
      "0\n"
     ]
    }
   ],
   "source": [
    "# Prints 4 because 29 / 5 is 5 with a remainder of 4\n",
    "print(29 % 5)\n",
    " \n",
    "# Prints 2 because 32 / 3 is 10 with a remainder of 2\n",
    "print(32 % 3)\n",
    " \n",
    "# Modulo by 2 returns 0 for even numbers and 1 for odd numbers\n",
    "# Prints 0\n",
    "print(44 % 2)"
   ]
  },
  {
   "cell_type": "markdown",
   "id": "1fc6ff55-46ee-4a50-8392-041c2cf248f7",
   "metadata": {},
   "source": [
    "# Concatenation\n",
    "\n",
    "The + operator doesn’t just add two numbers, it can also “add” two strings! "
   ]
  },
  {
   "cell_type": "code",
   "execution_count": 28,
   "id": "671f8a44-19b9-485c-8971-7e80f976e1b2",
   "metadata": {},
   "outputs": [
    {
     "name": "stdout",
     "output_type": "stream",
     "text": [
      "Hey there!How are you doing?\n"
     ]
    }
   ],
   "source": [
    "greeting_text = \"Hey there!\"\n",
    "question_text = \"How are you doing?\"\n",
    "full_text = greeting_text + question_text\n",
    " \n",
    "# Prints \"Hey there!How are you doing?\"\n",
    "print(full_text)"
   ]
  },
  {
   "cell_type": "code",
   "execution_count": 29,
   "id": "1925ae0c-dd89-4276-9bfc-c53babd7bc6c",
   "metadata": {},
   "outputs": [
    {
     "name": "stdout",
     "output_type": "stream",
     "text": [
      "Hey there! How are you doing?\n"
     ]
    }
   ],
   "source": [
    "full_text = greeting_text + \" \" + question_text\n",
    " \n",
    "# Prints \"Hey there! How are you doing?\"\n",
    "print(full_text)"
   ]
  },
  {
   "cell_type": "markdown",
   "id": "253059a0-5b63-4816-81eb-ef9886510361",
   "metadata": {},
   "source": [
    "# Plus Equals"
   ]
  },
  {
   "cell_type": "code",
   "execution_count": 32,
   "id": "90a3c316-8605-4c05-a4e0-b89c0ca49542",
   "metadata": {},
   "outputs": [
    {
     "name": "stdout",
     "output_type": "stream",
     "text": [
      "14\n"
     ]
    }
   ],
   "source": [
    "# First we have a variable with a number saved\n",
    "number_of_miles_hiked = 12\n",
    " \n",
    "# Then we need to update that variable\n",
    "# Let's say we hike another two miles today\n",
    "number_of_miles_hiked += 2\n",
    " \n",
    "# The new value is the old value\n",
    "# Plus the number after the plus-equals\n",
    "print(number_of_miles_hiked)\n",
    "# Prints 14"
   ]
  },
  {
   "cell_type": "markdown",
   "id": "0aeb65fe-6633-43fc-94cd-9e2dd87bc33e",
   "metadata": {},
   "source": [
    "# Multi-line Strings"
   ]
  },
  {
   "cell_type": "code",
   "execution_count": 33,
   "id": "0933016e-be05-432c-99f6-dd8381e4f641",
   "metadata": {},
   "outputs": [],
   "source": [
    "leaves_of_grass = \"\"\"\n",
    "Poets to come! orators, singers, musicians to come!\n",
    "Not to-day is to justify me and answer what I am for,\n",
    "But you, a new brood, native, athletic, continental, greater than\n",
    "  before known,\n",
    "Arouse! for you must justify me.\n",
    "\"\"\""
   ]
  },
  {
   "cell_type": "code",
   "execution_count": 34,
   "id": "bc9165bb-7be6-462e-bc89-096c7172d408",
   "metadata": {},
   "outputs": [
    {
     "name": "stdout",
     "output_type": "stream",
     "text": [
      "\n",
      "Poets to come! orators, singers, musicians to come!\n",
      "Not to-day is to justify me and answer what I am for,\n",
      "But you, a new brood, native, athletic, continental, greater than\n",
      "  before known,\n",
      "Arouse! for you must justify me.\n",
      "\n"
     ]
    }
   ],
   "source": [
    "print(leaves_of_grass)"
   ]
  },
  {
   "cell_type": "code",
   "execution_count": null,
   "id": "225793b1-180d-41c4-8505-50084644f906",
   "metadata": {},
   "outputs": [],
   "source": []
  }
 ],
 "metadata": {
  "kernelspec": {
   "display_name": "Python 3 (ipykernel)",
   "language": "python",
   "name": "python3"
  },
  "language_info": {
   "codemirror_mode": {
    "name": "ipython",
    "version": 3
   },
   "file_extension": ".py",
   "mimetype": "text/x-python",
   "name": "python",
   "nbconvert_exporter": "python",
   "pygments_lexer": "ipython3",
   "version": "3.10.9"
  }
 },
 "nbformat": 4,
 "nbformat_minor": 5
}
