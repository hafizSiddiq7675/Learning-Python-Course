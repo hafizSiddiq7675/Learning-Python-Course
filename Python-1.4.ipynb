{
 "cells": [
  {
   "cell_type": "markdown",
   "id": "7178e55b",
   "metadata": {},
   "source": [
    "# Loop"
   ]
  },
  {
   "cell_type": "markdown",
   "id": "0deb9bd5",
   "metadata": {},
   "source": [
    "## What are Loops?\n",
    "\n",
    "In our everyday lives, we tend to repeat a lot of processes without noticing.\n",
    "\n",
    "For instance, if we want to cook a delicious recipe, we might have to prepare our ingredients by chopping them up. We chop and chop and chop until all of our ingredients are the right size. At this point, we stop chopping."
   ]
  },
  {
   "cell_type": "markdown",
   "id": "b113f42e",
   "metadata": {},
   "source": [
    "If we break down our chopping task into a series of three smaller steps, we have:\n",
    "\n",
    "- An initialization: We’re ready to cook and have a collection of ingredients we want to chop. We will start at the first ingredient.\n",
    "\n",
    "- A repetition: We’re chopping away. We are performing the action of chopping over and over on each of our ingredients, one ingredient at a time.\n",
    "\n",
    "- An end condition: We see that we have run out of ingredients to chop and so we stop.\n",
    "\n",
    "In programming, this process of using an initialization, repetitions, and an ending condition is called a loop. "
   ]
  },
  {
   "cell_type": "markdown",
   "id": "2ee1a550",
   "metadata": {},
   "source": [
    "## Why Loops?\n",
    "\n",
    "Before we get to writing our own loops, let’s explore what programming would be like if we couldn’t use loops.\n",
    "\n",
    "Let’s say we have a list of ingredients and we want to print every element in the list:"
   ]
  },
  {
   "cell_type": "code",
   "execution_count": 1,
   "id": "8239829d",
   "metadata": {},
   "outputs": [],
   "source": [
    "ingredients = [\"milk\", \"sugar\", \"vanilla extract\", \"dough\", \"chocolate\"]"
   ]
  },
  {
   "cell_type": "markdown",
   "id": "09b0144a",
   "metadata": {},
   "source": [
    "If we only use print(), our program might look like this:"
   ]
  },
  {
   "cell_type": "code",
   "execution_count": 2,
   "id": "c91cb7d5",
   "metadata": {},
   "outputs": [
    {
     "name": "stdout",
     "output_type": "stream",
     "text": [
      "milk\n",
      "sugar\n",
      "vanilla extract\n",
      "dough\n",
      "chocolate\n"
     ]
    }
   ],
   "source": [
    "print(ingredients[0])\n",
    "print(ingredients[1])\n",
    "print(ingredients[2])\n",
    "print(ingredients[3])\n",
    "print(ingredients[4])"
   ]
  },
  {
   "cell_type": "markdown",
   "id": "72fc2e22",
   "metadata": {},
   "source": [
    "That’s still manageable, We’re writing 5 print() statements (or copying and pasting a few times). Now imagine if we come back to this program and our list had 10, or 24601, or … 100,000,000 elements? It would take an extremely long time and by the end, we could still end up with inconsistencies and mistakes."
   ]
  },
  {
   "cell_type": "markdown",
   "id": "b9bc0a9e",
   "metadata": {},
   "source": [
    "## For Loops: Introduction\n",
    "\n",
    "In a for loop, we will know in advance how many times the loop will need to iterate because we will be working on a collection with a predefined length. In our examples, we will be using Python lists as our collection of elements.\n",
    "\n"
   ]
  },
  {
   "cell_type": "markdown",
   "id": "01c759eb",
   "metadata": {},
   "source": [
    "for {temporary variable} in {collection}:\n",
    "\n",
    "      {action}"
   ]
  },
  {
   "cell_type": "markdown",
   "id": "8cb426ca",
   "metadata": {},
   "source": [
    "Let’s break down each of these components:\n",
    "\n",
    "- A \"for\" keyword indicates the start of a \"for\" loop.\n",
    "- A \"temporary variable\" that is used to represent the value of the element in the collection the loop is currently on.\n",
    "- An \"in\" keyword separates the temporary variable from the collection used for iteration.\n",
    "- A \"collection\" to loop over. In our examples, we will be using a list.\n",
    "- An \"action\" to do anything on each iteration of the loop."
   ]
  },
  {
   "cell_type": "code",
   "execution_count": 3,
   "id": "1eba4fe5",
   "metadata": {},
   "outputs": [
    {
     "name": "stdout",
     "output_type": "stream",
     "text": [
      "milk\n",
      "sugar\n",
      "vanilla extract\n",
      "dough\n",
      "chocolate\n"
     ]
    }
   ],
   "source": [
    "ingredients = [\"milk\", \"sugar\", \"vanilla extract\", \"dough\", \"chocolate\"]\n",
    " \n",
    "for ingredient in ingredients:\n",
    "  print(ingredient)"
   ]
  },
  {
   "cell_type": "markdown",
   "id": "68475519",
   "metadata": {},
   "source": [
    "In this example:\n",
    "\n",
    "- ingredient is the {temporary variable}.\n",
    "- ingredients is our {collection}.\n",
    "- print(ingredient) was the {action} performed on every iteration using the temporary variable of ingredient."
   ]
  },
  {
   "cell_type": "markdown",
   "id": "93232b45",
   "metadata": {},
   "source": [
    "## For Loops: Using Range\n",
    "\n",
    "Often we won’t be iterating through a specific list (or any collection), but rather only want to perform a certain action multiple times.\n",
    "\n",
    "For example, if we wanted to print out a \"Learning Loops!\" message six times using a for loop, we would follow this structure:"
   ]
  },
  {
   "cell_type": "code",
   "execution_count": 4,
   "id": "6bb31e21",
   "metadata": {},
   "outputs": [
    {
     "name": "stdout",
     "output_type": "stream",
     "text": [
      "Learning Loops!\n",
      "Learning Loops!\n",
      "Learning Loops!\n",
      "Learning Loops!\n",
      "Learning Loops!\n",
      "Learning Loops!\n"
     ]
    }
   ],
   "source": [
    "for temp in range(6):\n",
    "  print(\"Learning Loops!\")"
   ]
  },
  {
   "cell_type": "markdown",
   "id": "7ef6c2e4",
   "metadata": {},
   "source": [
    "we can use temp to track it. Since our range starts at 0, we will add + 1 to our temp to represent how many iterations (steps) our loop takes more accurately."
   ]
  },
  {
   "cell_type": "code",
   "execution_count": 5,
   "id": "be405529",
   "metadata": {},
   "outputs": [
    {
     "name": "stdout",
     "output_type": "stream",
     "text": [
      "Loop is on iteration number 1\n",
      "Loop is on iteration number 2\n",
      "Loop is on iteration number 3\n",
      "Loop is on iteration number 4\n",
      "Loop is on iteration number 5\n",
      "Loop is on iteration number 6\n"
     ]
    }
   ],
   "source": [
    "for temp in range(6):\n",
    "  print(\"Loop is on iteration number \" + str(temp + 1))"
   ]
  },
  {
   "cell_type": "markdown",
   "id": "2bdaab15",
   "metadata": {},
   "source": [
    "## While Loops: Introduction\n",
    "\n",
    "A while loop performs a set of instructions as long as a given condition is true.\n",
    "\n",
    "The structure follows this pattern:"
   ]
  },
  {
   "cell_type": "markdown",
   "id": "e4db6b49",
   "metadata": {},
   "source": [
    "while {conditional statement}:\n",
    "\n",
    "      {action}"
   ]
  },
  {
   "cell_type": "markdown",
   "id": "2c357aa4",
   "metadata": {},
   "source": [
    "Let’s examine this example, where we print the integers 0 through 3:"
   ]
  },
  {
   "cell_type": "code",
   "execution_count": 7,
   "id": "43d3bdbd",
   "metadata": {},
   "outputs": [
    {
     "name": "stdout",
     "output_type": "stream",
     "text": [
      "0\n",
      "1\n",
      "2\n",
      "3\n"
     ]
    }
   ],
   "source": [
    "count = 0\n",
    "while count <= 3:\n",
    "  # Loop Body\n",
    "  print(count)\n",
    "  count += 1"
   ]
  },
  {
   "cell_type": "markdown",
   "id": "a21cb0aa",
   "metadata": {},
   "source": [
    "Let’s break the loop down:\n",
    "\n",
    "- {count} is initially defined with the value of 0. The conditional statement in the while loop is count <= 3, which is true at the initial iteration of the loop, so the loop body executes.\n",
    "\n",
    "- Inside the loop body, count is printed and then incremented by 1.\n",
    "\n",
    "- When the first iteration of the loop has finished, Python returns to the top of the loop and checks the conditional again. After the first iteration, count would be equal to 1 so the conditional still evaluates to True and so the loop continues.\n",
    "\n",
    "- This continues until the count variable becomes 4. At that point, when the conditional is tested it will no longer be True and the loop will stop."
   ]
  },
  {
   "cell_type": "markdown",
   "id": "fda435e0",
   "metadata": {},
   "source": [
    "## While Loops: Lists\n",
    "\n",
    "A while loop isn’t only good for counting! Similar to how we saw for loops working with lists, we can use while loops to iterate through a list as well."
   ]
  },
  {
   "cell_type": "code",
   "execution_count": 8,
   "id": "8d95df3b",
   "metadata": {},
   "outputs": [],
   "source": [
    "ingredients = [\"milk\", \"sugar\", \"vanilla extract\", \"dough\", \"chocolate\"]"
   ]
  },
  {
   "cell_type": "code",
   "execution_count": 9,
   "id": "793aa5d3",
   "metadata": {},
   "outputs": [
    {
     "name": "stdout",
     "output_type": "stream",
     "text": [
      "milk\n",
      "sugar\n",
      "vanilla extract\n",
      "dough\n",
      "chocolate\n"
     ]
    }
   ],
   "source": [
    "length = len(ingredients)\n",
    "index = 0\n",
    " \n",
    "while index < length:\n",
    "  print(ingredients[index])\n",
    "  index += 1"
   ]
  },
  {
   "cell_type": "markdown",
   "id": "d30a8047",
   "metadata": {},
   "source": [
    "## Infinite Loops\n",
    "\n",
    "We’ve iterated through lists that have a discrete beginning and end. However, let’s consider this example:"
   ]
  },
  {
   "cell_type": "markdown",
   "id": "42cb62e8",
   "metadata": {},
   "source": [
    "my_favorite_numbers = [4, 8, 15, 16, 42]\n",
    " \n",
    "for number in my_favorite_numbers:\n",
    "\n",
    "    my_favorite_numbers.append(1)"
   ]
  },
  {
   "cell_type": "markdown",
   "id": "7e9f03f3",
   "metadata": {},
   "source": [
    "Every time we enter the loop, we add a 1 to the end of the list that we are iterating through. As a result, we never make it to the end of the list. It keeps growing forever!"
   ]
  },
  {
   "cell_type": "markdown",
   "id": "38e95511",
   "metadata": {},
   "source": [
    "A loop that never terminates is called an infinite loop. These are very dangerous for our code because they will make our program run forever and thus consume all of your computer’s resources.\n",
    "\n",
    "A program that hits an infinite loop often becomes completely unusable. The best course of action is to avoid writing an infinite loop.\n"
   ]
  },
  {
   "cell_type": "markdown",
   "id": "d5108cd8",
   "metadata": {},
   "source": [
    "## Loop Control: Break\n",
    "\n",
    "Loops in Python are very versatile. Python provides a set of control statements that we can use to get even more control out of our loops."
   ]
  },
  {
   "cell_type": "code",
   "execution_count": 11,
   "id": "3103ec42",
   "metadata": {},
   "outputs": [],
   "source": [
    "items_on_sale = [\"blue shirt\", \"striped socks\", \"knit dress\", \"red headband\", \"dinosaur onesie\"]"
   ]
  },
  {
   "cell_type": "markdown",
   "id": "f7295031",
   "metadata": {},
   "source": [
    "It’s often the case that we want to search a list to check if a specific value exists. What does our loop look like if we want to search for the value of \"knit dress\" and print out \"Found it\" if it did exist?"
   ]
  },
  {
   "cell_type": "code",
   "execution_count": 13,
   "id": "dc82e1a9",
   "metadata": {},
   "outputs": [
    {
     "name": "stdout",
     "output_type": "stream",
     "text": [
      "blue shirt\n",
      "striped socks\n",
      "knit dress\n",
      "Found it\n"
     ]
    }
   ],
   "source": [
    "for item in items_on_sale:\n",
    "    print(item)\n",
    "    if item == \"knit dress\":\n",
    "        print(\"Found it\")\n",
    "        break;"
   ]
  },
  {
   "cell_type": "markdown",
   "id": "62c48abf",
   "metadata": {},
   "source": [
    "When the program hits a break statement it immediately terminates a loop.\n",
    "\n",
    "When the loop entered the if statement and saw the break it immediately ended the loop. We didn’t need to check the elements of \"red headband\" or \"dinosaur onesie\" at all."
   ]
  },
  {
   "cell_type": "markdown",
   "id": "0f58aa41",
   "metadata": {},
   "source": [
    "## Loop Control: Continue\n",
    "\n",
    "While the break control statement will come in handy. What if we only want to skip the current iteration of the loop?"
   ]
  },
  {
   "cell_type": "markdown",
   "id": "8f5bcd8c",
   "metadata": {},
   "source": [
    "Let’s take this list of integers as our example:"
   ]
  },
  {
   "cell_type": "code",
   "execution_count": 14,
   "id": "78580cbb",
   "metadata": {},
   "outputs": [],
   "source": [
    "big_number_list = [1, 2, -1, 4, -5, 5, 2, -9]"
   ]
  },
  {
   "cell_type": "markdown",
   "id": "0ec2555c",
   "metadata": {},
   "source": [
    "What if we want to print out all of the numbers in a list, but only if they are positive integers. We can use another common loop control statement called continue."
   ]
  },
  {
   "cell_type": "code",
   "execution_count": 15,
   "id": "4bc11065",
   "metadata": {},
   "outputs": [
    {
     "name": "stdout",
     "output_type": "stream",
     "text": [
      "1\n",
      "2\n",
      "4\n",
      "5\n",
      "2\n"
     ]
    }
   ],
   "source": [
    "for i in big_number_list:\n",
    "  if i <= 0:\n",
    "    continue\n",
    "  print(i)"
   ]
  },
  {
   "cell_type": "markdown",
   "id": "afbe697c",
   "metadata": {},
   "source": [
    "## Nested Loops\n",
    "\n",
    "Loops can be nested in Python, as they can with other programming languages. We will find certain situations that require nested loops.\n",
    "\n",
    "Suppose we are in charge of a science class, that is split into three project teams:"
   ]
  },
  {
   "cell_type": "code",
   "execution_count": 16,
   "id": "d73cf0bb",
   "metadata": {},
   "outputs": [],
   "source": [
    "project_teams = [[\"Ava\", \"Samantha\", \"James\"], [\"Lucille\", \"Zed\"], [\"Edgar\", \"Gabriel\"]]"
   ]
  },
  {
   "cell_type": "markdown",
   "id": "3ad9db2a",
   "metadata": {},
   "source": [
    "Using a for or while loop can be useful here to get each team:"
   ]
  },
  {
   "cell_type": "code",
   "execution_count": 17,
   "id": "0fb9ef80",
   "metadata": {},
   "outputs": [
    {
     "name": "stdout",
     "output_type": "stream",
     "text": [
      "['Ava', 'Samantha', 'James']\n",
      "['Lucille', 'Zed']\n",
      "['Edgar', 'Gabriel']\n"
     ]
    }
   ],
   "source": [
    "for team in project_teams:\n",
    "  print(team)"
   ]
  },
  {
   "cell_type": "markdown",
   "id": "c0e277a4",
   "metadata": {},
   "source": [
    "But what if we wanted to print each individual student? In this case, we would actually need to nest our loops to be able to loop through each sub-list. Here is what it would look like:"
   ]
  },
  {
   "cell_type": "code",
   "execution_count": 18,
   "id": "ec8bbcc8",
   "metadata": {},
   "outputs": [
    {
     "name": "stdout",
     "output_type": "stream",
     "text": [
      "Ava\n",
      "Samantha\n",
      "James\n",
      "Lucille\n",
      "Zed\n",
      "Edgar\n",
      "Gabriel\n"
     ]
    }
   ],
   "source": [
    "# Loop through each list\n",
    "for team in project_teams:\n",
    "  # Loop elements in each sublist\n",
    "  for student in team:\n",
    "    print(student)"
   ]
  },
  {
   "cell_type": "markdown",
   "id": "32c6732d",
   "metadata": {},
   "source": [
    "## List Comprehensions: Introduction\n",
    "\n",
    "To start, let’s say we had a list of integers and wanted to create a list where each element is doubled. We could accomplish this using a for loop and a new list called doubled:"
   ]
  },
  {
   "cell_type": "code",
   "execution_count": 19,
   "id": "24a567fa",
   "metadata": {},
   "outputs": [
    {
     "name": "stdout",
     "output_type": "stream",
     "text": [
      "[4, -2, 158, 66, -90]\n"
     ]
    }
   ],
   "source": [
    "numbers = [2, -1, 79, 33, -45]\n",
    "doubled = []\n",
    " \n",
    "for number in numbers:\n",
    "  doubled.append(number * 2)\n",
    " \n",
    "print(doubled)"
   ]
  },
  {
   "cell_type": "markdown",
   "id": "868c7dee",
   "metadata": {},
   "source": [
    "Let’s see how we can use the power of list comprehensions to solve these types of problems in one line. Here is our same problem but now written as a list comprehension:"
   ]
  },
  {
   "cell_type": "code",
   "execution_count": 20,
   "id": "590cb93e",
   "metadata": {},
   "outputs": [
    {
     "name": "stdout",
     "output_type": "stream",
     "text": [
      "[4, -2, 158, 66, -90]\n"
     ]
    }
   ],
   "source": [
    "numbers = [2, -1, 79, 33, -45]\n",
    "doubled = [num * 2 for num in numbers]\n",
    "print(doubled)"
   ]
  },
  {
   "cell_type": "markdown",
   "id": "a9da2c51",
   "metadata": {},
   "source": [
    "Let’s break down our example in a more general way:"
   ]
  },
  {
   "cell_type": "markdown",
   "id": "ad942795",
   "metadata": {},
   "source": [
    "new_list = [expression for element in collection]"
   ]
  },
  {
   "cell_type": "markdown",
   "id": "fcf6067d",
   "metadata": {},
   "source": [
    "our list comprehension:\n",
    "\n",
    "- Takes an element in the list numbers\n",
    "- Assigns that \"element\" to a variable called num (our element)\n",
    "- Applies the \"expression\" on the element stored in num and adds the result to a new list called doubled\n",
    "- Repeats steps 1-3 for every other element in the numbers list (our \"collection\")"
   ]
  },
  {
   "cell_type": "markdown",
   "id": "f16ec2f0",
   "metadata": {},
   "source": [
    "## List Comprehensions: Conditionals\n",
    "\n",
    "List Comprehensions are very flexible. We even can expand our examples to incorporate conditional logic.\n",
    "\n",
    "Suppose we wanted to double only our negative numbers from our previous numbers list."
   ]
  },
  {
   "cell_type": "code",
   "execution_count": 21,
   "id": "f6ab0470",
   "metadata": {},
   "outputs": [
    {
     "name": "stdout",
     "output_type": "stream",
     "text": [
      "[-2, -90]\n"
     ]
    }
   ],
   "source": [
    "numbers = [2, -1, 79, 33, -45]\n",
    "only_negative_doubled = []\n",
    " \n",
    "for num in numbers:\n",
    "  if num < 0: \n",
    "    only_negative_doubled.append(num * 2)\n",
    " \n",
    "print(only_negative_doubled) "
   ]
  },
  {
   "cell_type": "code",
   "execution_count": null,
   "id": "27631c0c",
   "metadata": {},
   "outputs": [],
   "source": []
  }
 ],
 "metadata": {
  "kernelspec": {
   "display_name": "Python 3 (ipykernel)",
   "language": "python",
   "name": "python3"
  },
  "language_info": {
   "codemirror_mode": {
    "name": "ipython",
    "version": 3
   },
   "file_extension": ".py",
   "mimetype": "text/x-python",
   "name": "python",
   "nbconvert_exporter": "python",
   "pygments_lexer": "ipython3",
   "version": "3.10.9"
  }
 },
 "nbformat": 4,
 "nbformat_minor": 5
}
