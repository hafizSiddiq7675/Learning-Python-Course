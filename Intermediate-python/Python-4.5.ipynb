{
 "cells": [
  {
   "cell_type": "code",
   "execution_count": 5,
   "id": "c5c9d4ea-e29c-4222-bf88-10b3bea99887",
   "metadata": {},
   "outputs": [],
   "source": [
    "### `@property` Decorator - A More Pythonic Way to Use Getters and Setters in Our Object-Oriented Programs"
   ]
  },
  {
   "cell_type": "code",
   "execution_count": 6,
   "id": "b946c508-22b4-476f-bc03-b364ec9cbea7",
   "metadata": {},
   "outputs": [],
   "source": [
    "class Box:\n",
    "  def __init__(self, weight):\n",
    "    self.__weight = weight\n",
    " \n",
    "  def getWeight(self):\n",
    "    return self.__weight\n",
    " \n",
    "  def setWeight(self, weight):\n",
    "    if weight >= 0:\n",
    "      self.__weight = weight"
   ]
  },
  {
   "cell_type": "code",
   "execution_count": 7,
   "id": "5c78ce31-89a3-454f-8c86-4c1083b18e50",
   "metadata": {},
   "outputs": [
    {
     "name": "stdout",
     "output_type": "stream",
     "text": [
      "10\n",
      "5\n"
     ]
    }
   ],
   "source": [
    "box = Box(10)\n",
    " \n",
    "box.setWeight(-5) \n",
    "print(box.getWeight())\n",
    " \n",
    "box.setWeight(5)\n",
    "print(box.getWeight())"
   ]
  },
  {
   "cell_type": "code",
   "execution_count": 8,
   "id": "e66cedd3-6cac-4006-8f2b-c72380cafd01",
   "metadata": {},
   "outputs": [],
   "source": [
    "class Box:\n",
    "  def __init__(self, weight):\n",
    "    self.__weight = weight\n",
    " \n",
    "  def getWeight(self):\n",
    "    return self.__weight\n",
    " \n",
    "  def setWeight(self, weight):\n",
    "    if weight >= 0:\n",
    "      self.__weight = weight\n",
    " \n",
    "  def delWeight(self):\n",
    "    del self.__weight\n",
    " \n",
    "  weight = property(getWeight, setWeight, delWeight, \"Docstring for the 'weight' property\")"
   ]
  },
  {
   "cell_type": "code",
   "execution_count": 9,
   "id": "5dff1495-7fb9-4f2d-9609-5acdb9158f35",
   "metadata": {},
   "outputs": [
    {
     "name": "stdout",
     "output_type": "stream",
     "text": [
      "10\n"
     ]
    }
   ],
   "source": [
    "box = Box(10)\n",
    " \n",
    "print(box.weight) #this calls .getWeight()\n",
    " \n",
    "box.weight = 5 #this called .setWeight()\n",
    " \n",
    "del box.weight #this calls .delWeight()\n",
    " \n",
    "box.weight = -5 #box.__weight is unchanged "
   ]
  },
  {
   "cell_type": "code",
   "execution_count": 10,
   "id": "70b3f29e-206b-4b06-ad9e-fa273dc98414",
   "metadata": {},
   "outputs": [],
   "source": [
    "class Box:\n",
    " def __init__(self, weight):\n",
    "   self.__weight = weight\n",
    " \n",
    " @property\n",
    " def weight(self):\n",
    "   \"\"\"Docstring for the 'weight' property\"\"\"\n",
    "   return self.__weight\n",
    " \n",
    " \n",
    " @weight.setter\n",
    " def weight(self, weight):\n",
    "   if weight >= 0:\n",
    "     self.__weight = weight\n",
    " \n",
    " @weight.deleter\n",
    " def weight(self):\n",
    "   del self.__weight\n"
   ]
  },
  {
   "cell_type": "code",
   "execution_count": 11,
   "id": "0275603c-fc27-4479-91da-4a49f7098d1b",
   "metadata": {},
   "outputs": [],
   "source": [
    "box = Box(10)\n",
    " \n",
    "box.weight = 5\n",
    " \n",
    "del box.weight"
   ]
  },
  {
   "cell_type": "code",
   "execution_count": null,
   "id": "ce822d59-cc19-4b53-a568-d2831dd7ed7b",
   "metadata": {},
   "outputs": [],
   "source": []
  }
 ],
 "metadata": {
  "kernelspec": {
   "display_name": "Python 3 (ipykernel)",
   "language": "python",
   "name": "python3"
  },
  "language_info": {
   "codemirror_mode": {
    "name": "ipython",
    "version": 3
   },
   "file_extension": ".py",
   "mimetype": "text/x-python",
   "name": "python",
   "nbconvert_exporter": "python",
   "pygments_lexer": "ipython3",
   "version": "3.10.9"
  }
 },
 "nbformat": 4,
 "nbformat_minor": 5
}
