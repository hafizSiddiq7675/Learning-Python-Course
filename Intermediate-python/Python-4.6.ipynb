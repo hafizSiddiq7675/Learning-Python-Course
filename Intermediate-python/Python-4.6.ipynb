{
 "cells": [
  {
   "cell_type": "markdown",
   "id": "eef57c2b-1da4-423f-a84b-7600391359ed",
   "metadata": {},
   "source": [
    "# Introduction to Exceptions\n",
    "\n",
    "**Syntax Error**: Syntax errors are mistakes in the structure of Python code. They are caught during a special parsing stage before a program is executed."
   ]
  },
  {
   "cell_type": "code",
   "execution_count": 2,
   "id": "53c72e59-eb35-454a-93b8-6d1f6814a00a",
   "metadata": {},
   "outputs": [
    {
     "ename": "SyntaxError",
     "evalue": "unmatched ')' (1422584965.py, line 3)",
     "output_type": "error",
     "traceback": [
      "\u001b[0;36m  Cell \u001b[0;32mIn[2], line 3\u001b[0;36m\u001b[0m\n\u001b[0;31m    print(stor))\u001b[0m\n\u001b[0m               ^\u001b[0m\n\u001b[0;31mSyntaxError\u001b[0m\u001b[0;31m:\u001b[0m unmatched ')'\n"
     ]
    }
   ],
   "source": [
    "print('Welcome to')\n",
    "store = 'Instrument World!'\n",
    "print(stor))"
   ]
  },
  {
   "cell_type": "code",
   "execution_count": 6,
   "id": "ccde2573-3090-4da1-ae40-cddbb6e569da",
   "metadata": {},
   "outputs": [
    {
     "ename": "ZeroDivisionError",
     "evalue": "division by zero",
     "output_type": "error",
     "traceback": [
      "\u001b[0;31m---------------------------------------------------------------------------\u001b[0m",
      "\u001b[0;31mZeroDivisionError\u001b[0m                         Traceback (most recent call last)",
      "Cell \u001b[0;32mIn[6], line 2\u001b[0m\n\u001b[1;32m      1\u001b[0m \u001b[38;5;66;03m# Imaginary file script.py\u001b[39;00m\n\u001b[0;32m----> 2\u001b[0m \u001b[38;5;28mprint\u001b[39m(\u001b[38;5;241;43m1\u001b[39;49m\u001b[38;5;241;43m/\u001b[39;49m\u001b[38;5;241;43m0\u001b[39;49m)\n",
      "\u001b[0;31mZeroDivisionError\u001b[0m: division by zero"
     ]
    }
   ],
   "source": [
    "# Imaginary file script.py\n",
    "print(1/0)"
   ]
  },
  {
   "cell_type": "markdown",
   "id": "3185bea0-f271-492f-b85a-184009ca49bb",
   "metadata": {},
   "source": [
    "# Built-in Exceptions\n",
    "**Built-in Exceptions**: Exceptions that are built into the Python language."
   ]
  },
  {
   "cell_type": "code",
   "execution_count": 6,
   "id": "04971a85-fa09-428d-ae9e-d6a910edf87c",
   "metadata": {},
   "outputs": [
    {
     "name": "stdout",
     "output_type": "stream",
     "text": [
      "(<class 'Exception'>,)\n"
     ]
    }
   ],
   "source": [
    "print(NameError.__bases__)"
   ]
  },
  {
   "cell_type": "code",
   "execution_count": 7,
   "id": "91e60cc1-d451-4d76-a2b8-1f7b8f6dcc05",
   "metadata": {},
   "outputs": [
    {
     "name": "stdout",
     "output_type": "stream",
     "text": [
      "(<class 'BaseException'>,)\n"
     ]
    }
   ],
   "source": [
    "print(Exception.__bases__)"
   ]
  },
  {
   "cell_type": "code",
   "execution_count": 7,
   "id": "3d89bb0e-15e6-472b-a5b2-7e46d00cbc11",
   "metadata": {},
   "outputs": [
    {
     "name": "stdout",
     "output_type": "stream",
     "text": [
      "The following 3 instruments are on sale:\n",
      "Violin\n",
      "Conga\n"
     ]
    },
    {
     "ename": "IndexError",
     "evalue": "list index out of range",
     "output_type": "error",
     "traceback": [
      "\u001b[0;31m---------------------------------------------------------------------------\u001b[0m",
      "\u001b[0;31mIndexError\u001b[0m                                Traceback (most recent call last)",
      "Cell \u001b[0;32mIn[7], line 6\u001b[0m\n\u001b[1;32m      4\u001b[0m \u001b[38;5;28mprint\u001b[39m(sale_instruments[\u001b[38;5;241m0\u001b[39m])\n\u001b[1;32m      5\u001b[0m \u001b[38;5;28mprint\u001b[39m(sale_instruments[\u001b[38;5;241m1\u001b[39m])\n\u001b[0;32m----> 6\u001b[0m \u001b[38;5;28mprint\u001b[39m(\u001b[43msale_instruments\u001b[49m\u001b[43m[\u001b[49m\u001b[38;5;241;43m3\u001b[39;49m\u001b[43m]\u001b[49m)\n",
      "\u001b[0;31mIndexError\u001b[0m: list index out of range"
     ]
    }
   ],
   "source": [
    "sale_instruments = ['Violin', 'Conga', 'Clavinet']\n",
    "\n",
    "print('The following ' + str(len(sale_instruments)) + ' instruments are on sale:')\n",
    "print(sale_instruments[0])\n",
    "print(sale_instruments[1])\n",
    "print(sale_instruments[3])"
   ]
  },
  {
   "cell_type": "markdown",
   "id": "5021a66f-e598-4a46-b3d8-e005fbe5aba2",
   "metadata": {},
   "source": [
    "# Raising Exceptions"
   ]
  },
  {
   "cell_type": "code",
   "execution_count": 11,
   "id": "a8153e53-c0b3-4fe4-b60c-f60468922f1a",
   "metadata": {},
   "outputs": [],
   "source": [
    "def open_register(employee_status):\n",
    "  if employee_status == 'Authorized':\n",
    "    print('Successfully opened cash register')\n",
    "  else:\n",
    "    raise Exception('Employee does not have access!')"
   ]
  },
  {
   "cell_type": "code",
   "execution_count": 12,
   "id": "be4d9e1f-573d-40b9-bc04-dfdfad9e4bc0",
   "metadata": {},
   "outputs": [
    {
     "ename": "Exception",
     "evalue": "Employee does not have access!",
     "output_type": "error",
     "traceback": [
      "\u001b[0;31m---------------------------------------------------------------------------\u001b[0m",
      "\u001b[0;31mException\u001b[0m                                 Traceback (most recent call last)",
      "Cell \u001b[0;32mIn[12], line 1\u001b[0m\n\u001b[0;32m----> 1\u001b[0m \u001b[43mopen_register\u001b[49m\u001b[43m(\u001b[49m\u001b[38;5;124;43m'\u001b[39;49m\u001b[38;5;124;43mbac\u001b[39;49m\u001b[38;5;124;43m'\u001b[39;49m\u001b[43m)\u001b[49m\n",
      "Cell \u001b[0;32mIn[11], line 5\u001b[0m, in \u001b[0;36mopen_register\u001b[0;34m(employee_status)\u001b[0m\n\u001b[1;32m      3\u001b[0m   \u001b[38;5;28mprint\u001b[39m(\u001b[38;5;124m'\u001b[39m\u001b[38;5;124mSuccessfully opened cash register\u001b[39m\u001b[38;5;124m'\u001b[39m)\n\u001b[1;32m      4\u001b[0m \u001b[38;5;28;01melse\u001b[39;00m:\n\u001b[0;32m----> 5\u001b[0m   \u001b[38;5;28;01mraise\u001b[39;00m \u001b[38;5;167;01mException\u001b[39;00m(\u001b[38;5;124m'\u001b[39m\u001b[38;5;124mEmployee does not have access!\u001b[39m\u001b[38;5;124m'\u001b[39m)\n",
      "\u001b[0;31mException\u001b[0m: Employee does not have access!"
     ]
    }
   ],
   "source": [
    "open_register('bac')"
   ]
  },
  {
   "cell_type": "code",
   "execution_count": 9,
   "id": "6146fa6e-fbbe-4920-985a-6e051c256971",
   "metadata": {},
   "outputs": [
    {
     "name": "stdout",
     "output_type": "stream",
     "text": [
      "The price of a Marimba is 1999\n",
      "The price of a Flute is 899\n"
     ]
    },
    {
     "ename": "Exception",
     "evalue": "Piano is not found in instrument catalog!",
     "output_type": "error",
     "traceback": [
      "\u001b[0;31m---------------------------------------------------------------------------\u001b[0m",
      "\u001b[0;31mException\u001b[0m                                 Traceback (most recent call last)",
      "Cell \u001b[0;32mIn[9], line 16\u001b[0m\n\u001b[1;32m     14\u001b[0m print_instrument_price(\u001b[38;5;124m'\u001b[39m\u001b[38;5;124mMarimba\u001b[39m\u001b[38;5;124m'\u001b[39m)\n\u001b[1;32m     15\u001b[0m print_instrument_price(\u001b[38;5;124m'\u001b[39m\u001b[38;5;124mFlute\u001b[39m\u001b[38;5;124m'\u001b[39m)\n\u001b[0;32m---> 16\u001b[0m \u001b[43mprint_instrument_price\u001b[49m\u001b[43m(\u001b[49m\u001b[38;5;124;43m'\u001b[39;49m\u001b[38;5;124;43mPiano\u001b[39;49m\u001b[38;5;124;43m'\u001b[39;49m\u001b[43m)\u001b[49m\n",
      "Cell \u001b[0;32mIn[9], line 12\u001b[0m, in \u001b[0;36mprint_instrument_price\u001b[0;34m(instrument)\u001b[0m\n\u001b[1;32m     10\u001b[0m   \u001b[38;5;28mprint\u001b[39m(\u001b[38;5;124m'\u001b[39m\u001b[38;5;124mThe price of a \u001b[39m\u001b[38;5;124m'\u001b[39m \u001b[38;5;241m+\u001b[39m instrument \u001b[38;5;241m+\u001b[39m \u001b[38;5;124m'\u001b[39m\u001b[38;5;124m is \u001b[39m\u001b[38;5;124m'\u001b[39m \u001b[38;5;241m+\u001b[39m \u001b[38;5;28mstr\u001b[39m(instrument_catalog[instrument]))\n\u001b[1;32m     11\u001b[0m \u001b[38;5;28;01melse\u001b[39;00m:\n\u001b[0;32m---> 12\u001b[0m   \u001b[38;5;28;01mraise\u001b[39;00m \u001b[38;5;167;01mException\u001b[39;00m(instrument \u001b[38;5;241m+\u001b[39m \u001b[38;5;124m'\u001b[39m\u001b[38;5;124m is not found in instrument catalog!\u001b[39m\u001b[38;5;124m'\u001b[39m)\n",
      "\u001b[0;31mException\u001b[0m: Piano is not found in instrument catalog!"
     ]
    }
   ],
   "source": [
    "instrument_catalog = {\n",
    "  'Marimba': 1999,\n",
    "  'Kora': 499,\n",
    "  'Flute': 899\n",
    "}\n",
    "\n",
    "def print_instrument_price(instrument):\n",
    "  # Write your code below:\n",
    "  if instrument in instrument_catalog:\n",
    "    print('The price of a ' + instrument + ' is ' + str(instrument_catalog[instrument]))\n",
    "  else:\n",
    "    raise Exception(instrument + ' is not found in instrument catalog!')\n",
    "\n",
    "print_instrument_price('Marimba')\n",
    "print_instrument_price('Flute')\n",
    "print_instrument_price('Piano')\n"
   ]
  },
  {
   "cell_type": "markdown",
   "id": "6018c431-7327-42ec-9c45-11c66875b4c3",
   "metadata": {},
   "source": [
    "# Try / Except\n",
    "The exceptions we’ve encountered have caused our programs to **stop executing**. However, it is possible for programs to continue executing even after encountering an exception. This process is known as **exception handling** and is accomplished using the Python `try/except` clauses.\n"
   ]
  },
  {
   "cell_type": "code",
   "execution_count": 15,
   "id": "a4bd6d97-4664-43cb-8413-0f1226900394",
   "metadata": {},
   "outputs": [
    {
     "name": "stdout",
     "output_type": "stream",
     "text": [
      "The hex value of red is #FF0000\n",
      "Loop continues...\n",
      "An exception occurred! Color does not exist.\n",
      "Loop continues...\n",
      "The hex value of yellow is #FFFF00\n",
      "Loop continues...\n"
     ]
    }
   ],
   "source": [
    "colors = {\n",
    "    'red': '#FF0000',\n",
    "    'blue': '#0000FF',\n",
    "    'yellow': '#FFFF00',\n",
    "}\n",
    " \n",
    "for color in ('red', 'green', 'yellow'):\n",
    "  try:\n",
    "    print('The hex value of ' + color + ' is ' + colors[color])\n",
    "  except:\n",
    "    print('An exception occurred! Color does not exist.')\n",
    "  print('Loop continues...')"
   ]
  },
  {
   "cell_type": "code",
   "execution_count": 11,
   "id": "2f1257ee-48b7-4133-b5fa-7c998f7f852e",
   "metadata": {},
   "outputs": [
    {
     "name": "stdout",
     "output_type": "stream",
     "text": [
      "Instrument World Austin has:\n",
      "5 sales employees\n",
      "1 floor managers\n",
      "The ratio of sales people to managers is 5.0\n",
      "\n",
      "Could not print sales report for Melbourne\n",
      "Instrument World Beijing has:\n",
      "5 sales employees\n",
      "2 floor managers\n",
      "The ratio of sales people to managers is 2.5\n",
      "\n"
     ]
    }
   ],
   "source": [
    "staff = {\n",
    "  'Austin': {\n",
    "      'floor managers': 1,\n",
    "      'sales associates': 5\n",
    "  },\n",
    "  'Melbourne': {\n",
    "      'floor managers': 0,\n",
    "      'sales associates': 8\n",
    "  },\n",
    "  'Beijing': {\n",
    "      'floor managers': 2,\n",
    "      'sales associates': 5\n",
    "  },\n",
    "}\n",
    "\n",
    "def print_staff_report(location, staff_dict):\n",
    "  managers = staff_dict['floor managers']\n",
    "  sales_people = staff_dict['sales associates']\n",
    "  ratio = sales_people / managers\n",
    "  print('Instrument World ' + location + ' has:')\n",
    "  print(str(sales_people) + ' sales employees')\n",
    "  print(str(managers) + ' floor managers')\n",
    "  print('The ratio of sales people to managers is ' + str(ratio))\n",
    "  print()\n",
    "\n",
    "for location, staff in staff.items():\n",
    "  # Write your code below:\n",
    "  try:\n",
    "    print_staff_report(location, staff)\n",
    "  except:\n",
    "    print('Could not print sales report for ' + location)\n"
   ]
  },
  {
   "cell_type": "markdown",
   "id": "bcc8dddb-a0db-4008-b6e1-7a4233b2df16",
   "metadata": {},
   "source": [
    "# Catching Specific Exceptions"
   ]
  },
  {
   "cell_type": "code",
   "execution_count": 14,
   "id": "eca688d9-255d-4992-b2f1-1afeebb0b951",
   "metadata": {},
   "outputs": [
    {
     "name": "stdout",
     "output_type": "stream",
     "text": [
      "We hit a NameError\n"
     ]
    }
   ],
   "source": [
    "try:\n",
    "    print(undefined_var)\n",
    "except (NameError, KeyError):\n",
    "    print('We hit a NameError')"
   ]
  },
  {
   "cell_type": "code",
   "execution_count": 18,
   "id": "4fba388e-5ba7-431f-9282-bbe1d0cff4c6",
   "metadata": {},
   "outputs": [
    {
     "name": "stdout",
     "output_type": "stream",
     "text": [
      "We hit a NameError\n",
      "name 'undefined_var' is not defined\n"
     ]
    }
   ],
   "source": [
    "try:\n",
    "    print(undefined_var)\n",
    "except NameError as errorObject:\n",
    "    print('We hit a NameError')\n",
    "    print(errorObject)"
   ]
  },
  {
   "cell_type": "code",
   "execution_count": 19,
   "id": "0ed00e05-ac8e-45fe-8c82-76725cc1b4f2",
   "metadata": {},
   "outputs": [
    {
     "name": "stdout",
     "output_type": "stream",
     "text": [
      "Instrument World Austin has:\n",
      "5 sales employees\n",
      "1 floor managers\n",
      "The ratio of sales people to managers is 5.0\n",
      "\n",
      "Could not print sales report for Melbourne\n",
      "division by zero\n",
      "Instrument World Beijing has:\n",
      "5 sales employees\n",
      "2 floor managers\n",
      "The ratio of sales people to managers is 2.5\n",
      "\n"
     ]
    }
   ],
   "source": [
    "staff = {\n",
    "  'Austin': {\n",
    "    'floor managers': 1,\n",
    "    'sales associates': 5\n",
    "  },\n",
    "  'Melbourne': {\n",
    "    'floor managers': 0,\n",
    "    'sales associates': 8\n",
    "  },\n",
    "  'Beijing': {\n",
    "    'floor managers': 2,\n",
    "    'sales associates': 5\n",
    "  },\n",
    "}\n",
    "\n",
    "def print_staff_report(location, staff_dict):\n",
    "  managers = staff_dict['floor managers']\n",
    "  sales_people = staff_dict['sales associates']\n",
    "  ratio = sales_people / managers\n",
    "  print('Instrument World ' + location + ' has:')\n",
    "  print(str(sales_people) + ' sales employees')\n",
    "  print(str(managers) + ' floor managers')\n",
    "  print('The ratio of sales people to managers is ' + str(ratio))\n",
    "  print()\n",
    "\n",
    "for location, staff in staff.items():\n",
    "  try:\n",
    "      print_staff_report(location, staff)\n",
    "  # Write your code below:\n",
    "  except ZeroDivisionError as e:\n",
    "      print('Could not print sales report for ' + location)\n",
    "      print(e)\n"
   ]
  },
  {
   "cell_type": "markdown",
   "id": "111ac89e-2577-492d-afeb-0faea3b34a16",
   "metadata": {},
   "source": [
    "# Handling Multiple Exceptions"
   ]
  },
  {
   "cell_type": "code",
   "execution_count": 20,
   "id": "67a517d6-f420-4fb4-bcb2-8a73a5c147dc",
   "metadata": {},
   "outputs": [
    {
     "name": "stdout",
     "output_type": "stream",
     "text": [
      "We hit an Exception!\n",
      "division by zero\n"
     ]
    }
   ],
   "source": [
    "try:\n",
    "    # Some code to try!\n",
    "    print(1/0)\n",
    "except (NameError, KeyError, Exception) as e:\n",
    "    print('We hit an Exception!')\n",
    "    print(e)"
   ]
  },
  {
   "cell_type": "code",
   "execution_count": 22,
   "id": "807eaf8b-f8a8-4a03-b88a-e418885d6557",
   "metadata": {},
   "outputs": [],
   "source": [
    "try:\n",
    "    # Some code to try!\n",
    "    pass\n",
    "except NameError:\n",
    "    print('We hit a NameError Exception!')\n",
    "except KeyError:\n",
    "    print('We hit a TypeError Exception!')\n",
    "except Exception:\n",
    "    print('We hit an exception that is not a NameError or TypeError!')"
   ]
  },
  {
   "cell_type": "code",
   "execution_count": 21,
   "id": "66c0b42e-8b6e-45ac-a345-60ebdb7ab873",
   "metadata": {},
   "outputs": [
    {
     "name": "stdout",
     "output_type": "stream",
     "text": [
      "The instrument's discounted price is: 160.0\n"
     ]
    }
   ],
   "source": [
    "instrument_prices = {\n",
    "  'Banjo': 200,\n",
    "  'Cello': 1000,\n",
    "  'Flute': 100,\n",
    "}\n",
    "\n",
    "def display_discounted_price(instrument, discount):\n",
    "  full_price = instrument_prices[instrument]\n",
    "  discount_percentage = discount / 100\n",
    "  discounted_price = full_price - (full_price * discount_percentage)\n",
    "  print(\"The instrument's discounted price is: \" + str(discounted_price))\n",
    "\n",
    "instrument = 'Banjo'\n",
    "discount = '20'\n",
    "\n",
    "# Write your code below:\n",
    "try:\n",
    "  display_discounted_price(instrument, discount)\n",
    "except KeyError:\n",
    "  print('An invalid instrument was entered!')\n",
    "except TypeError:\n",
    "  print('Discount percentage must be a number!')\n",
    "except Exception:\n",
    "  print('Hit an exception other than KeyError or TypeError!')"
   ]
  },
  {
   "cell_type": "markdown",
   "id": "d85f690c-1d85-4ca0-89ec-b2b73ac9113f",
   "metadata": {},
   "source": [
    "# The else Clause\n",
    "We’ve seen how exception handlers get executed when we encounter exceptions during a `try` clause - but what if we want to run some code **only if** we do not encounter an exception? Python provides us a way to do this as well - the `else` clause."
   ]
  },
  {
   "cell_type": "code",
   "execution_count": 25,
   "id": "63f718b6-208f-424e-8a7a-c9787586f7ce",
   "metadata": {},
   "outputs": [],
   "source": [
    "def check_password():\n",
    "    pass\n",
    "\n",
    "def login_user():\n",
    "    pass\n",
    "try:\n",
    "  check_password()\n",
    "except ValueError:\n",
    "  print('Wrong Password! Try again!')\n",
    "else:\n",
    "  login_user()\n",
    "  # 20 other lines of imaginary code"
   ]
  },
  {
   "cell_type": "markdown",
   "id": "efc34050-5cc5-4493-a651-ff2c78c98c0d",
   "metadata": {},
   "source": [
    "The use of the `else` clause is better than adding additional code to the `try` clause because it avoids accidentally catching an exception that wasn’t raised by the code being protected by the `try … except` statement.\n"
   ]
  },
  {
   "cell_type": "markdown",
   "id": "fb8fe122-5ac4-4fa5-be99-ce9ba11edcc2",
   "metadata": {},
   "source": [
    "# The finally Clause"
   ]
  },
  {
   "cell_type": "code",
   "execution_count": 27,
   "id": "21c1d303-a80f-45f3-92d8-13fc002e1c91",
   "metadata": {},
   "outputs": [],
   "source": [
    "def check_password():\n",
    "    pass\n",
    "\n",
    "def login_user():\n",
    "    pass\n",
    "\n",
    "def load_footer():\n",
    "    pass\n",
    "\n",
    "try:\n",
    "  check_password()\n",
    "except ValueError:\n",
    "  print('Wrong Password! Try again!')\n",
    "else:\n",
    "  login_user()\n",
    "  # 20 other lines of imaginary code\n",
    "finally:\n",
    "  load_footer()"
   ]
  },
  {
   "cell_type": "markdown",
   "id": "989f96b7-d4df-4db5-b2c2-1ace805e5f43",
   "metadata": {},
   "source": [
    "In the above program, most of our code stayed the same. The one change we made was we added the `finally` clause to execute no matter if the user fails to login or not. In either case, we use an imaginary function called `load_footer()` to load the page’s footer."
   ]
  },
  {
   "cell_type": "code",
   "execution_count": 30,
   "id": "6144131a-4310-4ee2-a24a-e60131432c89",
   "metadata": {},
   "outputs": [],
   "source": [
    "try:\n",
    "    check_password()\n",
    "finally:\n",
    "    load_footer()\n",
    "    # Other code we always want to run "
   ]
  },
  {
   "cell_type": "markdown",
   "id": "f926178a-71db-4f62-a507-161bf0d60e5d",
   "metadata": {},
   "source": [
    "# User-defined Exceptions\n",
    "So far we have seen how to raise and manage built-in exceptions. In most programs, using built-in exceptions won’t always be the most detailed way to describe an error occurring"
   ]
  },
  {
   "cell_type": "code",
   "execution_count": 23,
   "id": "eaa3d857-7d8a-415f-99cb-926b025fc94b",
   "metadata": {},
   "outputs": [],
   "source": [
    "class LocationTooFarError(Exception):\n",
    "   pass\n",
    " \n",
    "def schedule_delivery(distance_from_store):\n",
    "    if distance_from_store > 10:\n",
    "        raise LocationTooFarError\n",
    "    else:\n",
    "        print('Scheduling the delivery...')"
   ]
  },
  {
   "cell_type": "code",
   "execution_count": 26,
   "id": "e17fcf7b-3887-4ccc-81fc-1ce3398210c7",
   "metadata": {},
   "outputs": [
    {
     "ename": "InventoryError",
     "evalue": "",
     "output_type": "error",
     "traceback": [
      "\u001b[0;31m---------------------------------------------------------------------------\u001b[0m",
      "\u001b[0;31mInventoryError\u001b[0m                            Traceback (most recent call last)",
      "Cell \u001b[0;32mIn[26], line 25\u001b[0m\n\u001b[1;32m     23\u001b[0m instrument \u001b[38;5;241m=\u001b[39m \u001b[38;5;124m'\u001b[39m\u001b[38;5;124mPiano\u001b[39m\u001b[38;5;124m'\u001b[39m\n\u001b[1;32m     24\u001b[0m quantity \u001b[38;5;241m=\u001b[39m \u001b[38;5;241m5\u001b[39m\n\u001b[0;32m---> 25\u001b[0m \u001b[43msubmit_order\u001b[49m\u001b[43m(\u001b[49m\u001b[43minstrument\u001b[49m\u001b[43m,\u001b[49m\u001b[43m \u001b[49m\u001b[43mquantity\u001b[49m\u001b[43m)\u001b[49m\n",
      "Cell \u001b[0;32mIn[26], line 17\u001b[0m, in \u001b[0;36msubmit_order\u001b[0;34m(instrument, quantity)\u001b[0m\n\u001b[1;32m     15\u001b[0m supply \u001b[38;5;241m=\u001b[39m inventory[instrument]\n\u001b[1;32m     16\u001b[0m \u001b[38;5;28;01mif\u001b[39;00m quantity \u001b[38;5;241m>\u001b[39m supply:\n\u001b[0;32m---> 17\u001b[0m   \u001b[38;5;28;01mraise\u001b[39;00m InventoryError()\n\u001b[1;32m     18\u001b[0m \u001b[38;5;28;01melse\u001b[39;00m:\n\u001b[1;32m     19\u001b[0m \u001b[38;5;66;03m# Write your code below (Checkpoint 3 & 4): \u001b[39;00m\n\u001b[1;32m     20\u001b[0m   inventory[instrument] \u001b[38;5;241m-\u001b[39m\u001b[38;5;241m=\u001b[39m quantity\n",
      "\u001b[0;31mInventoryError\u001b[0m: "
     ]
    }
   ],
   "source": [
    "inventory = {\n",
    "  'Piano': 3,\n",
    "  'Lute': 1,\n",
    "  'Sitar': 2\n",
    "}\n",
    "\n",
    "\n",
    "#Write your code below (Checkpoint 2):\n",
    "class InventoryError(Exception):\n",
    "  pass\n",
    "\n",
    "\n",
    "\n",
    "def submit_order(instrument, quantity):\n",
    "  supply = inventory[instrument]\n",
    "  if quantity > supply:\n",
    "    raise InventoryError()\n",
    "  else:\n",
    "  # Write your code below (Checkpoint 3 & 4): \n",
    "    inventory[instrument] -= quantity\n",
    "    print('Successfully placed order! Remaining supply: ' + str(inventory[instrument]))\n",
    "\n",
    "instrument = 'Piano'\n",
    "quantity = 5\n",
    "submit_order(instrument, quantity)"
   ]
  },
  {
   "cell_type": "markdown",
   "id": "4e9e00ba-1ad2-4049-bdf4-e4eb3ee0d6ef",
   "metadata": {},
   "source": [
    "# Customizing User-defined Exceptions"
   ]
  },
  {
   "cell_type": "code",
   "execution_count": 34,
   "id": "e667d4df-0e84-4b8c-9e46-84dd2c92d24b",
   "metadata": {},
   "outputs": [],
   "source": [
    "class LocationTooFarError(Exception):\n",
    "   def __init__(self, distance):\n",
    "       self.distance = distance\n",
    "       \n",
    "   def __str__(self):\n",
    "        return 'Location is not within 10 km: ' + str(self.distance)"
   ]
  },
  {
   "cell_type": "code",
   "execution_count": 35,
   "id": "14bd7196-bf7d-4957-9703-21f6eb3b55ec",
   "metadata": {},
   "outputs": [],
   "source": [
    "def schedule_delivery(distance_from_store):\n",
    "    if distance_from_store > 10:\n",
    "        raise LocationTooFarError(distance_from_store)\n",
    "    else:\n",
    "        print('Scheduling the delivery...')"
   ]
  },
  {
   "cell_type": "code",
   "execution_count": 27,
   "id": "79887131-2e19-4eb9-aaa9-9a83a2d4013a",
   "metadata": {},
   "outputs": [
    {
     "name": "stdout",
     "output_type": "stream",
     "text": [
      "Successfully placed order! Remaining supply: 1\n"
     ]
    }
   ],
   "source": [
    "# Write your code below (Checkpoint 1 & 2)\n",
    "class InventoryError(Exception):\n",
    "  def __init__(self, supply):\n",
    "    self.supply = supply\n",
    "  \n",
    "  def __str__(self):\n",
    "    return 'Available supply is only ' + str(self.supply)\n",
    "\n",
    "inventory = {\n",
    "  'Piano': 3,\n",
    "  'Lute': 1,\n",
    "  'Sitar': 2\n",
    "}\n",
    "\n",
    "def submit_order(instrument, quantity):\n",
    "  supply = inventory[instrument]\n",
    "  # Write your code below (Checkpoint 3)\n",
    "  if quantity > supply:\n",
    "    raise InventoryError(supply)\n",
    "  else:\n",
    "    inventory[instrument] -= quantity\n",
    "    print('Successfully placed order! Remaining supply: ' + str(inventory[instrument]))\n",
    "\n",
    "instrument = 'Piano'\n",
    "quantity = 5\n",
    "submit_order(instrument, quantity)\n"
   ]
  },
  {
   "cell_type": "code",
   "execution_count": 29,
   "id": "03d58242-a09d-4af1-95a9-46b8b926afde",
   "metadata": {},
   "outputs": [
    {
     "ename": "TypeError",
     "evalue": "unsupported operand type(s) for +: 'int' and 'str'",
     "output_type": "error",
     "traceback": [
      "\u001b[0;31m---------------------------------------------------------------------------\u001b[0m",
      "\u001b[0;31mTypeError\u001b[0m                                 Traceback (most recent call last)",
      "Cell \u001b[0;32mIn[29], line 1\u001b[0m\n\u001b[0;32m----> 1\u001b[0m \u001b[38;5;28mprint\u001b[39m(\u001b[38;5;241;43m1\u001b[39;49m\u001b[43m \u001b[49m\u001b[38;5;241;43m+\u001b[39;49m\u001b[43m \u001b[49m\u001b[38;5;124;43m'\u001b[39;49m\u001b[38;5;124;43m2\u001b[39;49m\u001b[38;5;124;43m'\u001b[39;49m)\n",
      "\u001b[0;31mTypeError\u001b[0m: unsupported operand type(s) for +: 'int' and 'str'"
     ]
    }
   ],
   "source": [
    "print(1 + '2')"
   ]
  },
  {
   "cell_type": "code",
   "execution_count": null,
   "id": "afb48dec-e636-49fe-b7df-adb213e79574",
   "metadata": {},
   "outputs": [],
   "source": []
  }
 ],
 "metadata": {
  "kernelspec": {
   "display_name": "Python 3 (ipykernel)",
   "language": "python",
   "name": "python3"
  },
  "language_info": {
   "codemirror_mode": {
    "name": "ipython",
    "version": 3
   },
   "file_extension": ".py",
   "mimetype": "text/x-python",
   "name": "python",
   "nbconvert_exporter": "python",
   "pygments_lexer": "ipython3",
   "version": "3.10.9"
  }
 },
 "nbformat": 4,
 "nbformat_minor": 5
}
