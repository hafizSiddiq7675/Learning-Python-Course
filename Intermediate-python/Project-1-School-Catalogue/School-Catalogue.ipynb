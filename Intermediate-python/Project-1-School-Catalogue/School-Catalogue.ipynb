{
 "cells": [
  {
   "cell_type": "markdown",
   "id": "974b3c99-ab13-4e24-91b6-76b369103ffe",
   "metadata": {},
   "source": [
    "## School Catalogue\n",
    "\n",
    "Let’s put your knowledge of classes to the test by creating a digital school catalog for the **New York City Department of Education**. The Department of Education wants the catalog to hold quick reference material for each school in the city.\n",
    "\n",
    "We need to create classes for primary and high schools. Because these classes share properties and methods, each will inherit from a parent School class. Our parent and three child classes have the following properties, getters, setters, and methods:\n",
    "\n",
    "**School**\n",
    "- Properties: `name` (string), `level` (one of three strings: 'primary', 'middle', or 'high'), and `numberOfStudents` (integer)\n",
    "- Getters: all properties have getters\n",
    "- Setters: the `numberOfStudents` property has a setter\n",
    "- Methods: A `__repr__` method that displays information about the school.\n",
    "\n",
    "**Primary**\n",
    "- Includes everything in the School class, plus one additional property\n",
    "- Properties: `pickupPolicy` (string, like \"Pickup after 3pm\")\n",
    "\n",
    "**Middle**\n",
    "- Does not include any additional properties or methods\n",
    "\n",
    "**High**\n",
    "- Includes everything in the School class, plus one additional property\n",
    "- Properties: `sportsTeams` (list of strings, like ['basketball', 'tennis'])\n"
   ]
  },
  {
   "cell_type": "markdown",
   "id": "ba0dcf06-7ea4-4423-99a4-bb7585c21c9a",
   "metadata": {},
   "source": [
    "## Create the Parent Class\n",
    "\n",
    "Let's begin our journey by setting up the foundational structure. \n",
    "\n",
    "1. Start by defining the overarching class for `Primary`, `Middle`, and `High\n",
    "\n",
    "Create an empty class named `School`."
   ]
  },
  {
   "cell_type": "code",
   "execution_count": null,
   "id": "42f638e8-2043-4de0-b366-d6e374f54490",
   "metadata": {},
   "outputs": [],
   "source": []
  },
  {
   "cell_type": "markdown",
   "id": "6cfac96a-2567-45c9-8d81-accf49925d36",
   "metadata": {},
   "source": [
    "### Inside the `School` Class\n",
    "\n",
    "Inside the `School` class, create a constructor that accepts three parameters in addition to `self`. The names of these parameters should match the properties listed in the narrative above."
   ]
  },
  {
   "cell_type": "code",
   "execution_count": null,
   "id": "ab731f05-f8ee-4c79-9c38-a438b1944328",
   "metadata": {},
   "outputs": [],
   "source": []
  },
  {
   "cell_type": "markdown",
   "id": "34fdeab2-f09c-4457-9f94-77b4815ad8b2",
   "metadata": {},
   "source": [
    "### Setting Properties in the `School` Class Constructor\n",
    "\n",
    "Inside the constructor, set the `School` properties equal to the values passed into the constructor. Remember to use the `self` keyword when setting these properties."
   ]
  },
  {
   "cell_type": "code",
   "execution_count": null,
   "id": "a6159c57-989e-4dea-b6f2-a08a5bad52c1",
   "metadata": {},
   "outputs": [],
   "source": []
  },
  {
   "cell_type": "markdown",
   "id": "10e75b18-f916-4bca-b5d2-2fa749404749",
   "metadata": {},
   "source": [
    "### Create Getters for Properties in the `School` Class\n",
    "\n",
    "Create getters for the `name`, `level`, and `numberOfStudents` properties. Each getter should return the value saved to the property\n"
   ]
  },
  {
   "cell_type": "code",
   "execution_count": null,
   "id": "bb6cf70c-a279-4ebd-9b18-f60dc6501b1c",
   "metadata": {},
   "outputs": [],
   "source": []
  },
  {
   "cell_type": "markdown",
   "id": "7b573c4f-4222-4109-966d-4b62b4911185",
   "metadata": {},
   "source": [
    "### Create a Setter for `numberOfStudents`\n",
    "\n",
    "Create a setter for `numberOfStudents`. This method should take one parameter (in addition to `self`) and set `self.numberOfStudents` equal to the value passed into the method."
   ]
  },
  {
   "cell_type": "code",
   "execution_count": null,
   "id": "f7eb596f-1f0b-48bc-bd82-c30f1e8855d4",
   "metadata": {},
   "outputs": [],
   "source": []
  },
  {
   "cell_type": "markdown",
   "id": "2f54bcc6-47c8-4cfb-b108-13e857c91c84",
   "metadata": {},
   "source": [
    "### Implement the `__repr__()` Method for the `School` Class\n",
    "\n",
    "Create a `__repr__()` method so when a `School` is printed, it displays relevant information about the object. The output format should be: A {level} school named {name} with {numberOfStudents} students\n"
   ]
  },
  {
   "cell_type": "code",
   "execution_count": null,
   "id": "c8726399-b086-4dcc-ba61-7cd3af2da54f",
   "metadata": {},
   "outputs": [],
   "source": []
  },
  {
   "cell_type": "markdown",
   "id": "b998b196-6a12-4ca2-83bf-e1355f2db4b1",
   "metadata": {},
   "source": [
    "### Test Your `School` Class\n",
    "\n",
    "At this point, it’s probably a good idea to test your code if you haven’t already:\n",
    "1. Try creating a `School` object.\n",
    "2. Use the getter and setter methods you created.\n",
    "3. Print that object."
   ]
  },
  {
   "cell_type": "code",
   "execution_count": null,
   "id": "c4426fa9-ce54-463a-8ad6-772bf75d8322",
   "metadata": {},
   "outputs": [],
   "source": []
  },
  {
   "cell_type": "markdown",
   "id": "8eb08703-be65-452e-90e0-415996295411",
   "metadata": {},
   "source": [
    "## Building the `PrimarySchool` Class\n",
    "\n",
    "Next, we’ll build a `PrimarySchool` class that inherits from `School`. \n",
    "\n",
    "- If you feel comfortable building the `PrimarySchool` class on your own, give it a shot. \n",
    "- If not, use the steps below to help you along the way.\n",
    "\n",
    "**Note:** The `PrimarySchool` class only has one additional property, `pickupPolicy`.\n",
    "\n",
    "1. Create an empty `PrimarySchool` class that inherits from `School`.\n"
   ]
  },
  {
   "cell_type": "code",
   "execution_count": null,
   "id": "5a88a848-1031-47dd-8f61-f25353761443",
   "metadata": {},
   "outputs": [],
   "source": []
  },
  {
   "cell_type": "markdown",
   "id": "26064479-934e-4733-9e80-d992d0e6470c",
   "metadata": {},
   "source": [
    "## Modifying the `PrimarySchool` Class\n",
    "\n",
    "Inside the `PrimarySchool` class:\n",
    "\n",
    "1. Create a constructor that accepts three arguments in addition to `self`. \n",
    "    - Think about which three properties we’ll need arguments for.\n"
   ]
  },
  {
   "cell_type": "code",
   "execution_count": null,
   "id": "c725a399-a4f5-4dc7-b61f-1d560a435741",
   "metadata": {},
   "outputs": [],
   "source": []
  },
  {
   "cell_type": "markdown",
   "id": "a62159dd-aa07-4eba-8801-8be7210f06a7",
   "metadata": {},
   "source": [
    "### Implementing the `PrimarySchool` Constructor\n",
    "\n",
    "1. Call `super().__init__()` on the first line of the `PrimarySchool`'s constructor. \n",
    "    - Pass it any arguments that the parent constructor uses.\n",
    "2. For the `PrimarySchool` class, specifically pass `'primary'` as the argument for the `level` parameter in the parent constructor.\n"
   ]
  },
  {
   "cell_type": "code",
   "execution_count": null,
   "id": "912b438f-dcad-49c4-a2dd-4f6429622b17",
   "metadata": {},
   "outputs": [],
   "source": []
  },
  {
   "cell_type": "markdown",
   "id": "f04667a8-95bf-43cb-9081-32af2a8eefb9",
   "metadata": {},
   "source": [
    "### Setting the `pickupPolicy` for `PrimarySchool`\n",
    "\n",
    "3. After calling the parent constructor with `super().__init__()`, use the third argument you've passed to the `PrimarySchool` constructor.\n",
    "    - Assign this argument to a new property named `self.pickupPolicy`."
   ]
  },
  {
   "cell_type": "code",
   "execution_count": null,
   "id": "e0672afd-dda6-4f48-8cbf-ac8d09e413a4",
   "metadata": {},
   "outputs": [],
   "source": []
  },
  {
   "cell_type": "markdown",
   "id": "4e2266a5-6eca-499f-8f67-6d83e167437e",
   "metadata": {},
   "source": [
    "### Adding Getter for `PrimarySchool`\n",
    "\n",
    "Since our `PrimarySchool` class inherits `School`'s properties and getters, we only need to create one new getter in the `PrimarySchool` class. Add this getter to the `PrimarySchool` class. Each getter should return the value saved to that property.\n"
   ]
  },
  {
   "cell_type": "code",
   "execution_count": null,
   "id": "1453b7d8-52a7-4005-9cab-cf1105381d3f",
   "metadata": {},
   "outputs": [],
   "source": []
  },
  {
   "cell_type": "markdown",
   "id": "14d9fde5-3872-4fa1-84b3-4909783f4088",
   "metadata": {},
   "source": [
    "### Overriding the `__repr__()` method for `PrimarySchool`\n",
    "\n",
    "Finally, we probably want the `__repr__()` method for a `PrimarySchool` to display information about the `pickupPolicy` variable. Override the `__repr__()` method so when a `PrimarySchool` is printed, information about the `pickupPolicy` is displayed in addition to the other information about the school.\n",
    "\n",
    "You can call `super().__repr__()` to avoid repeating some code.\n"
   ]
  },
  {
   "cell_type": "code",
   "execution_count": null,
   "id": "d4cd2dec-27df-45eb-9607-a1ebbcc72777",
   "metadata": {},
   "outputs": [],
   "source": []
  },
  {
   "cell_type": "markdown",
   "id": "7c0874a7-91e8-410d-90fc-24345d5ee1e9",
   "metadata": {},
   "source": [
    "### Testing the `PrimarySchool` Class\n",
    "\n",
    "Create a `PrimarySchool` object and verify your new constructor, getter method, and `__repr__()` method work as expected."
   ]
  },
  {
   "cell_type": "code",
   "execution_count": null,
   "id": "cfef2bd7-d139-47c4-8cf9-3934846821c8",
   "metadata": {},
   "outputs": [],
   "source": []
  },
  {
   "cell_type": "markdown",
   "id": "7c9d661f-916b-4445-b683-b74306cddde0",
   "metadata": {},
   "source": [
    "## Creating the `HighSchool` Class\n",
    "\n",
    "In this task, you will create a `HighSchool` class that inherits from the `School` class. In addition to the properties, getters, and methods in `School`, the `HighSchool` includes the following:\n",
    "\n",
    "- **Properties**: \n",
    "  - `sportsTeams` (list of strings)\n",
    "  \n",
    "- **Getters**: \n",
    "  - A getter for the `sportsTeams` array. The getter should return the list of the sports teams.\n",
    "  \n",
    "- **Method**:\n",
    "  - Override the `__repr__()` method to display information about `sportsTeams`.\n",
    "  \n",
    "> **Hint**: Take a look at the detailed step-by-step instructions provided.\n"
   ]
  },
  {
   "cell_type": "code",
   "execution_count": null,
   "id": "fb12e8c5-9c0d-439a-92c0-5ecb7ae8c54f",
   "metadata": {},
   "outputs": [],
   "source": []
  },
  {
   "cell_type": "markdown",
   "id": "b9c2ef21-0f49-4071-9cda-c81bd3c0e8ba",
   "metadata": {},
   "source": [
    "## Testing the `HighSchool` Class\n",
    "\n",
    "Once again, let's test our code to make sure it works correctly. \n",
    "\n",
    "- Create a `HighSchool` object \n",
    "- Verify your new constructor, getter method, and `__repr__()` method work as expected.\n"
   ]
  },
  {
   "cell_type": "code",
   "execution_count": null,
   "id": "f333985c-fe63-4419-825f-3eed4722a269",
   "metadata": {},
   "outputs": [],
   "source": []
  }
 ],
 "metadata": {
  "kernelspec": {
   "display_name": "Python 3 (ipykernel)",
   "language": "python",
   "name": "python3"
  },
  "language_info": {
   "codemirror_mode": {
    "name": "ipython",
    "version": 3
   },
   "file_extension": ".py",
   "mimetype": "text/x-python",
   "name": "python",
   "nbconvert_exporter": "python",
   "pygments_lexer": "ipython3",
   "version": "3.10.9"
  }
 },
 "nbformat": 4,
 "nbformat_minor": 5
}
