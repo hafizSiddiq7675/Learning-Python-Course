{
 "cells": [
  {
   "cell_type": "markdown",
   "id": "ccb11df4-aa89-46f9-808b-5491927948dc",
   "metadata": {},
   "source": [
    "# Data Storage in Python\n",
    "\n",
    "In Python, there are many ways to store and organize data. So far, we have learned about:\n",
    "\n",
    "- **Lists:** Adding elements to a list.\n",
    "- **Dictionaries:** Writing key-value pairs.\n",
    "- **Tuples:** Accessing data within tuples.\n",
    "\n",
    "Any object which stores data in Python is referred to as a **container**.\n"
   ]
  },
  {
   "cell_type": "code",
   "execution_count": 1,
   "id": "c6e16595-d24c-4f24-b490-c0445c17139a",
   "metadata": {},
   "outputs": [],
   "source": [
    "company_name = \"Actyte LLC\"\n",
    "company_location = (2.444, 3.444)\n",
    "company_products = ['Web development', 'mobile app development', 'react development', 'facebook development', 'instagram development']\n",
    "company_data = {'name': company_name, 'location': company_location, 'products': company_products}"
   ]
  },
  {
   "cell_type": "markdown",
   "id": "5f32a910-9a4d-4613-b91b-90ad7996fabd",
   "metadata": {},
   "source": [
    "## Introduction to Specialized Containers\n",
    "\n",
    "In Python, there's a powerful module named `collections` that offers specialized container datatypes. \n",
    "\n",
    "### The `collections` Module\n",
    "\n",
    "The classes from the `collections` module provide alternatives to the built-in containers. These alternatives are not only similar but often:\n",
    "- Have additional methods and utilities.\n",
    "- Optimize performance.\n",
    "- Offer better organization of data.\n",
    "- Reduce the number of steps to perform certain tasks.\n",
    "\n",
    "In essence, the `collections` module enhances our ability to handle and manage data more efficiently.\n",
    "\n",
    "## Advanced Containers in the `collections` Module\n",
    "\n",
    "In this lesson, we'll explore the following specialized containers from the `collections` module:\n",
    "\n",
    "1. `deque`\n",
    "2. `namedtuple`\n",
    "3. `Counter`\n",
    "4. `defaultdict`\n",
    "5. `OrderedDict`\n",
    "6. `ChainMap`\n",
    "\n",
    "### Container Wrappers\n",
    "\n",
    "Additionally, we'll delve into container wrappers which provide a way to customize the built-in containers:\n",
    "\n",
    "1. `UserDict`\n",
    "2. `UserList`\n",
    "3. `UserString`\n"
   ]
  },
  {
   "cell_type": "code",
   "execution_count": 3,
   "id": "7926e3d9-3443-4a40-9839-4ba2f0c6e469",
   "metadata": {},
   "outputs": [
    {
     "name": "stdout",
     "output_type": "stream",
     "text": [
      "OrderedDict([('order_6184', {'type': 'pants', 'size': 'medium', 'price': 14.99}), ('order_2905', {'type': 'shoes', 'size': 12, 'price': 22.5})])\n"
     ]
    }
   ],
   "source": [
    "from collections import OrderedDict\n",
    " \n",
    "orders = OrderedDict({'order_4829': {'type': 't-shirt', 'size': 'large', 'price': 9.99},\n",
    "          'order_6184': {'type': 'pants', 'size': 'medium', 'price': 14.99},\n",
    "          'order_2905': {'type': 'shoes', 'size': 12, 'price': 22.50}})\n",
    " \n",
    "orders.move_to_end('order_4829')\n",
    "orders.popitem()\n",
    "print(orders)"
   ]
  },
  {
   "cell_type": "markdown",
   "id": "933842c1-b062-4af8-9ea4-20d4beb09b8f",
   "metadata": {},
   "source": [
    "### Step-by-Step Explanation\n",
    "\n",
    "#### 1. Importing the `OrderedDict` Class:\n",
    "- The code starts by importing the `OrderedDict` class from the `collections` module.\n",
    "\n",
    "#### 2. Creating an `OrderedDict`:\n",
    "- An instance named `orders` is initialized. This `OrderedDict` has three key-value pairs. Each key represents an order number, and its corresponding value is a dictionary detailing attributes of the order such as type, size, and price.\n",
    "\n",
    "#### 3. Using the `move_to_end` Method:\n",
    "- The `move_to_end` method is used to reposition an existing key within the `OrderedDict` to the end. Here, the key `'order_4829'` is shifted to the end.\n",
    "\n",
    "#### 4. Using the `popitem` Method:\n",
    "- The `popitem` method removes a (key, value) pair from the dictionary. By default, the last item is removed. Given that `'order_4829'` was previously shifted to the end, this key is the one removed.\n",
    "\n",
    "#### 5. Printing the Result:\n",
    "- Lastly, the updated `orders` `OrderedDict` is printed. It no longer includes the `'order_4829'` entry.\n",
    "\n",
    "After walking through the code, we can see that the entry for `'order_4829'` has been removed from the `orders` dictionary due to the operations performed."
   ]
  },
  {
   "cell_type": "markdown",
   "id": "01096691-ba02-481f-ac4f-4c8418f2204a",
   "metadata": {},
   "source": [
    "## Deque\n",
    "\n",
    "In Python, while lists are incredibly versatile and frequently used containers, there are certain scenarios where they might not be the optimal choice in terms of performance.\n",
    "\n",
    "### The Problem with Lists in Some Scenarios\n",
    "\n",
    "Imagine you are dealing with a substantial document containing bug reports for a software application. You want to prioritize these reports. The idea is:\n",
    "\n",
    "- **Normal bug reports**: Appended at the end of the list.\n",
    "- **High-priority bug reports**: Positioned at the beginning of the list. Think of it as a priority list.\n",
    "\n",
    "As you address and resolve these bugs, they should be removed from the front of the list.\n",
    "\n",
    "However, lists in Python aren't necessarily optimized for frequent appending and popping, especially with large datasets. Their strength lies in swift access to data at a given index.\n",
    "\n",
    "### The Solution: Deque\n",
    "\n",
    "To address these performance concerns, Python offers the `deque` (short for \"double-ended queue\") container. A `deque` is optimized for appending and popping from both ends and offers a more efficient way to handle such operations compared to standard lists.\n"
   ]
  },
  {
   "cell_type": "code",
   "execution_count": 4,
   "id": "da4c42b2-e074-4440-b5a8-a33b5333bb33",
   "metadata": {},
   "outputs": [
    {
     "name": "stdout",
     "output_type": "stream",
     "text": [
      "Bug reports (after appending):\n",
      "deque(['High-priority bug 2', 'High-priority bug 1', 'Normal bug 1', 'Normal bug 2'])\n",
      "\n",
      "Resolved: High-priority bug 2\n",
      "\n",
      "Bug reports (after resolving one bug):\n",
      "deque(['High-priority bug 1', 'Normal bug 1', 'Normal bug 2'])\n"
     ]
    }
   ],
   "source": [
    "from collections import deque\n",
    "\n",
    "# Initialize a deque for bug reports\n",
    "bug_reports = deque()\n",
    "\n",
    "# Appending normal bug reports to the end\n",
    "bug_reports.append('Normal bug 1')\n",
    "bug_reports.append('Normal bug 2')\n",
    "\n",
    "# Appending high-priority bug reports to the front\n",
    "bug_reports.appendleft('High-priority bug 1')\n",
    "bug_reports.appendleft('High-priority bug 2')\n",
    "\n",
    "print(\"Bug reports (after appending):\")\n",
    "print(bug_reports)\n",
    "\n",
    "# Resolving bugs (removing from the front)\n",
    "resolved_bug = bug_reports.popleft()\n",
    "print(f\"\\nResolved: {resolved_bug}\")\n",
    "\n",
    "print(\"\\nBug reports (after resolving one bug):\")\n",
    "print(bug_reports)"
   ]
  },
  {
   "cell_type": "markdown",
   "id": "2cb3194b-5cf6-4cbb-a2f0-c7e783fb81cb",
   "metadata": {},
   "source": [
    "## Named Tuple\n",
    "\n",
    "Tuples are a cornerstone of Python's collection of built-in containers. Their primary utility lies in grouping data elements together, especially when the grouped data is not intended for future modification. \n",
    "\n",
    "However, while the immutability of tuples offers certain advantages, there can be challenges. For instance, if a tuple has multiple fields, remembering the index of each field for accessing can be cumbersome. Additionally, the lack of descriptive naming can make the code less readable.\n",
    "\n",
    "## The Challenge with Traditional Tuples\n",
    "\n",
    "With traditional tuples, accessing elements based solely on their position (or index) can sometimes be unintuitive. Let's consider a scenario where we are looking at the third index of a tuple. Without a clear naming convention or comments in the code, deciphering what this third index represents can be challenging. If we were to make it readable, we'd end up creating separate variables for each element in the tuple, which could make our code more cluttered and less efficient.\n",
    "\n",
    "## Introducing `namedtuple`\n",
    "\n",
    "Thankfully, Python's `collections` module offers a neat solution: the `namedtuple`.\n",
    "\n",
    "### Features of `namedtuple`\n",
    "\n",
    "1. **Immutability**: Just like regular tuples, `namedtuple` ensures that the data remains immutable, i.e., it cannot be modified once created.\n",
    "2. **Self-documenting Elements**: The primary advantage of using `namedtuple` is that each element in the tuple is self-documented. Instead of accessing elements by their index, we can use descriptive names, making the code more readable and intuitive.\n",
    "\n",
    "In essence, `namedtuple` strikes a balance between the immutability of tuples and the clarity of named fields, providing an elegant way to structure our data without compromising on readability or efficiency.\n",
    "\n",
    "```python\n",
    "\n",
    "from collections import namedtuple\n",
    "\n",
    "# General Structure: namedtuple(typename, field_names, *, rename=False, defaults=None, module=None)\n",
    "\n",
    "StudentData = namedtuple('StudentData', ['name', 'enrollment_year', 'major', 'graduation_year'])\n",
    "```\n",
    "We are saying we want our namedtuple to be called `StudentData` and for it to have `name`, `enrollment_year`, `major`, and `graduation_year` properties. It’s like creating a label system for the type of data inside of the tuple!\n"
   ]
  },
  {
   "cell_type": "code",
   "execution_count": 6,
   "id": "287c5cd1-fbf6-41c4-84be-a0249efd7b28",
   "metadata": {},
   "outputs": [
    {
     "name": "stdout",
     "output_type": "stream",
     "text": [
      "[ClothingItem(type='t-shirt', color='green', size='large', price=9.99), ClothingItem(type='jeans', color='blue', size='medium', price=14.99), ClothingItem(type='jacket', color='black', size='x-large', price=19.99), ClothingItem(type='t-shirt', color='grey', size='small', price=8.99), ClothingItem(type='shoes', color='white', size='12', price=24.99), ClothingItem(type='t-shirt', color='grey', size='small', price=8.99)]\n"
     ]
    }
   ],
   "source": [
    "clothes = [('t-shirt', 'green', 'large', 9.99),\n",
    "           ('jeans', 'blue', 'medium', 14.99),\n",
    "           ('jacket', 'black', 'x-large', 19.99),\n",
    "           ('t-shirt', 'grey', 'small', 8.99),\n",
    "           ('shoes', 'white', '12', 24.99),\n",
    "           ('t-shirt', 'grey', 'small', 8.99)]\n",
    "\n",
    "# Write your code below!\n",
    "from collections import namedtuple\n",
    "\n",
    "ClothingItem = namedtuple('ClothingItem', ['type', 'color', 'size', 'price'])\n",
    "new_coat = ClothingItem('coat', 'black', 'small', 14.99)\n",
    "\n",
    "coat_cost = new_coat.price\n",
    "\n",
    "updated_clothes_data = []\n",
    "\n",
    "for cloth in clothes:\n",
    "  updated_clothes_data.append(ClothingItem(cloth[0], cloth[1], cloth[2], cloth[3]))\n",
    "\n",
    "print(updated_clothes_data)"
   ]
  },
  {
   "cell_type": "markdown",
   "id": "28c57aa5-42a2-41e5-998d-3ce91153af61",
   "metadata": {},
   "source": [
    "## DefaultDict\n",
    "\n",
    "Dictionaries, denoted as `dict` in Python, are undeniably one of the most flexible and widely used data structures. They allow us to store data as key-value pairs, making data retrieval exceptionally efficient. However, as with many tools, when leveraged heavily, we sometimes run into specific challenges.\n",
    "\n",
    "### The Challenge with Standard Dictionaries\n",
    "\n",
    "One frequent challenge that developers face when working with dictionaries is handling missing keys. When you attempt to access a key that doesn't exist in a standard dictionary, Python raises a `KeyError`. This can lead to additional overhead, as you'd typically need to use the `get` method or incorporate error handling mechanisms to avoid such exceptions.\n",
    "\n",
    "### Enter `defaultdict`\n",
    "\n",
    "The `collections` module in Python offers a solution: the `defaultdict`.\n",
    "\n",
    "The `defaultdict` is a subclass of the built-in `dict` class. It overrides one method to provide a default value for a nonexistent key, thereby addressing the common issue we face with regular dictionaries. This makes the process of working with dictionaries smoother and less error-prone when expecting potential missing keys.\n",
    "\n",
    "#### How `defaultdict` Works:\n",
    "\n",
    "With `defaultdict`, you provide a default factory function (like `list`, `int`, or `set`) when you initialize the dictionary. If a key is missing, the dictionary automatically uses this function to produce a default value.\n",
    "\n",
    "```python\n",
    "from collections import defaultdict\n",
    "\n",
    "# Using list as the default factory function\n",
    "words_by_first_letter = defaultdict(list)\n",
    "words_by_first_letter['a'].append('apple')\n",
    "words_by_first_letter['b'].append('banana')\n",
    "\n",
    "print(words_by_first_letter['c'])  # Outputs: [], instead of raising a KeyError\n",
    "```"
   ]
  },
  {
   "cell_type": "code",
   "execution_count": 2,
   "id": "61203d60-60ea-476e-847e-3a8c0ace6d5b",
   "metadata": {},
   "outputs": [
    {
     "ename": "KeyError",
     "evalue": "'jacket'",
     "output_type": "error",
     "traceback": [
      "\u001b[0;31m---------------------------------------------------------------------------\u001b[0m",
      "\u001b[0;31mKeyError\u001b[0m                                  Traceback (most recent call last)",
      "Cell \u001b[0;32mIn[2], line 3\u001b[0m\n\u001b[1;32m      1\u001b[0m prices \u001b[38;5;241m=\u001b[39m {\u001b[38;5;124m'\u001b[39m\u001b[38;5;124mjeans\u001b[39m\u001b[38;5;124m'\u001b[39m: \u001b[38;5;241m19.99\u001b[39m, \u001b[38;5;124m'\u001b[39m\u001b[38;5;124mshoes\u001b[39m\u001b[38;5;124m'\u001b[39m: \u001b[38;5;241m24.99\u001b[39m, \u001b[38;5;124m'\u001b[39m\u001b[38;5;124mt-shirt\u001b[39m\u001b[38;5;124m'\u001b[39m: \u001b[38;5;241m9.99\u001b[39m, \u001b[38;5;124m'\u001b[39m\u001b[38;5;124mblouse\u001b[39m\u001b[38;5;124m'\u001b[39m: \u001b[38;5;241m19.99\u001b[39m}\n\u001b[0;32m----> 3\u001b[0m \u001b[38;5;28mprint\u001b[39m(\u001b[43mprices\u001b[49m\u001b[43m[\u001b[49m\u001b[38;5;124;43m'\u001b[39;49m\u001b[38;5;124;43mjacket\u001b[39;49m\u001b[38;5;124;43m'\u001b[39;49m\u001b[43m]\u001b[49m)\n",
      "\u001b[0;31mKeyError\u001b[0m: 'jacket'"
     ]
    }
   ],
   "source": [
    "prices = {'jeans': 19.99, 'shoes': 24.99, 't-shirt': 9.99, 'blouse': 19.99}\n",
    "\n",
    "print(prices['jacket'])"
   ]
  },
  {
   "cell_type": "code",
   "execution_count": 3,
   "id": "0c924f82-a078-4136-9315-76276b5ced0a",
   "metadata": {},
   "outputs": [],
   "source": [
    "from collections import defaultdict\n",
    "\n",
    "validate_prices = defaultdict(lambda: 'No Price Assigned')"
   ]
  },
  {
   "cell_type": "code",
   "execution_count": 4,
   "id": "63cfb366-b834-431b-ad53-5f6770315680",
   "metadata": {},
   "outputs": [],
   "source": [
    "validate_prices['jeans'] = 19.99\n",
    "validate_prices['shoes'] = 24.99\n",
    "validate_prices['t-shirt'] = 9.99\n",
    "validate_prices['blouse'] = 19.99"
   ]
  },
  {
   "cell_type": "code",
   "execution_count": 5,
   "id": "ced51be2-309d-4de0-925c-579ba390bb32",
   "metadata": {},
   "outputs": [
    {
     "name": "stdout",
     "output_type": "stream",
     "text": [
      "No Price Assigned\n"
     ]
    }
   ],
   "source": [
    "print(validate_prices['jacket'])"
   ]
  },
  {
   "cell_type": "markdown",
   "id": "91852fe6-dcce-4760-ab17-a08ab8f9f5d7",
   "metadata": {},
   "source": [
    "## OrderedDict\n",
    "\n",
    "Dictionaries in Python, while immensely powerful, do come with a particular set of challenges when dealing with order and indexing. Suppose you need to maintain the order of dictionaries. In that case, one might consider storing multiple dictionaries within a list or perhaps using nested dictionaries. While these methods have their merits, they come with inherent challenges.\n",
    "\n",
    "### The Challenge with Lists and Nested Dictionaries\n",
    "\n",
    "#### Storing dictionaries in a list:\n",
    "- **Order Preservation**: Yes, lists inherently maintain the order of their elements.\n",
    "- **Access Challenge**: However, to access a specific dictionary, you'd first have to know its index in the list. This introduces a level of indirection, which can be inefficient and less intuitive. \n",
    "\n",
    "#### Dictionary of dictionaries:\n",
    "- This method introduces complexity, especially when trying to maintain a consistent order of the outer dictionary keys. \n",
    "\n",
    "### Enter `OrderedDict`\n",
    "\n",
    "The `collections` module offers a specialized dictionary called `OrderedDict` to address this precise challenge.\n",
    "\n",
    "`OrderedDict` is a dictionary subclass that remembers the order in which its contents are added. This means that even if you modify the value of an existing key, its position in the order will not change.\n",
    "\n",
    "#### Advantages:\n",
    "1. **Order Preservation**: The order in which items are inserted is remembered, similar to a list.\n",
    "2. **Key-Value Access**: You can directly access values using keys, just like standard dictionaries, without needing an intermediary index.\n",
    "3. **Extended Functionalities**: It provides additional methods to rearrange the order.\n",
    "\n",
    "#### Example:\n",
    "\n",
    "```python\n",
    "from collections import OrderedDict\n",
    "\n",
    "# Initializing an OrderedDict\n",
    "orders = OrderedDict()\n",
    "\n",
    "orders['order_1'] = {'item': 'book', 'price': 15.99}\n",
    "orders['order_2'] = {'item': 'pen', 'price': 1.49}\n",
    "\n",
    "# The order is preserved\n",
    "print(orders.keys())  # Outputs: odict_keys(['order_1', 'order_2'])\n",
    "```"
   ]
  },
  {
   "cell_type": "code",
   "execution_count": 7,
   "id": "4bc4ca9e-e82d-462a-9452-edb77a551167",
   "metadata": {},
   "outputs": [],
   "source": [
    "first_order = {'order_2905': {'type': 'shoes', 'size': 12, 'price': 22.50}}\n",
    "second_order = {'order_6184': {'type': 'pants', 'size': 'medium', 'price': 14.99}}\n",
    "third_order = {'order_4829': {'type': 't-shirt', 'size': 'large', 'price': 9.99}}\n",
    "\n",
    "list_of_dicts = [first_order, second_order, third_order]"
   ]
  },
  {
   "cell_type": "code",
   "execution_count": 8,
   "id": "ae4bbe9f-9b75-4124-aaef-6ef39c05c1ff",
   "metadata": {},
   "outputs": [
    {
     "name": "stdout",
     "output_type": "stream",
     "text": [
      "14.99\n"
     ]
    }
   ],
   "source": [
    "print(list_of_dicts[1]['order_6184']['price'])"
   ]
  },
  {
   "cell_type": "code",
   "execution_count": 9,
   "id": "eb134af7-e5cd-4023-9cfe-eca317922d50",
   "metadata": {},
   "outputs": [
    {
     "name": "stdout",
     "output_type": "stream",
     "text": [
      "14.99\n"
     ]
    }
   ],
   "source": [
    "dict_of_dicts = {}\n",
    "dict_of_dicts.update(first_order)\n",
    "dict_of_dicts.update(second_order)\n",
    "dict_of_dicts.update(third_order)\n",
    "\n",
    "print(dict_of_dicts['order_6184']['price'])"
   ]
  },
  {
   "cell_type": "code",
   "execution_count": 10,
   "id": "02684897-5350-4b05-a1c2-98d2addaddbd",
   "metadata": {},
   "outputs": [],
   "source": [
    "from collections import OrderedDict\n",
    "\n",
    "orders = OrderedDict()"
   ]
  },
  {
   "cell_type": "code",
   "execution_count": 11,
   "id": "6afe1206-dac3-45a4-8c3d-0a8f84a18162",
   "metadata": {},
   "outputs": [],
   "source": [
    "orders.update({'order_2905': {'type': 'shoes', 'size': 12, 'price': 22.50}})\n",
    "orders.update({'order_6184': {'type': 'pants', 'size': 'medium', 'price': 14.99}})\n",
    "orders.update({'order_4829': {'type': 't-shirt', 'size': 'large', 'price': 9.99}})\n"
   ]
  },
  {
   "cell_type": "code",
   "execution_count": 12,
   "id": "5c14faa0-c7cb-4d5d-9139-54dad02059c0",
   "metadata": {},
   "outputs": [],
   "source": [
    "# Get a specific order\n",
    "find_order = orders['order_2905']"
   ]
  },
  {
   "cell_type": "code",
   "execution_count": 13,
   "id": "3891ff45-abf5-4317-9f6d-ef7bdfd100c6",
   "metadata": {},
   "outputs": [],
   "source": [
    "# Get the data in a list format\n",
    "orders_list = list(orders.items())\n",
    "third_order = orders_list[2]"
   ]
  },
  {
   "cell_type": "code",
   "execution_count": 14,
   "id": "720e02b6-bab4-43cc-b1ed-f8fb71bfc810",
   "metadata": {},
   "outputs": [
    {
     "name": "stdout",
     "output_type": "stream",
     "text": [
      "('order_4829', {'type': 't-shirt', 'size': 'large', 'price': 9.99})\n"
     ]
    }
   ],
   "source": [
    "print(third_order)"
   ]
  },
  {
   "cell_type": "code",
   "execution_count": 15,
   "id": "3c731dcb-6bf7-4a94-9414-00365791d46a",
   "metadata": {},
   "outputs": [],
   "source": [
    "# Move an item to the end of the OrderedDict\n",
    "orders.move_to_end('order_4829')\n",
    "\n",
    "# Pop the last item in the dictionary\n",
    "last_order = orders.popitem()\n"
   ]
  },
  {
   "cell_type": "code",
   "execution_count": 16,
   "id": "b12012f3-ec3a-4f30-ad1a-e5bf49de96bd",
   "metadata": {},
   "outputs": [
    {
     "name": "stdout",
     "output_type": "stream",
     "text": [
      "('order_4829', {'type': 't-shirt', 'size': 'large', 'price': 9.99})\n"
     ]
    }
   ],
   "source": [
    "print(last_order)"
   ]
  },
  {
   "cell_type": "markdown",
   "id": "43fa8c4a-2513-4a77-a84a-fea4517076c8",
   "metadata": {},
   "source": [
    "## ChainMap: A Unique Mapping Container\n",
    "\n",
    "While we have already delved into the usefulness of `defaultdict` and `OrderedDict` for handling various dictionary-related scenarios, there are still some unique challenges that require a different approach. Enter the `ChainMap`.\n",
    "\n",
    "### What is ChainMap?\n",
    "\n",
    "`ChainMap` is a type of data structure included in Python's `collections` module. It encapsulates multiple dictionaries into a single view. The core principle behind it is to allow the chaining of dictionaries (or other mappings) so that they are treated as a unified source.\n",
    "\n",
    "### Key Characteristics of ChainMap:\n",
    "1. **Ordered Group of Mappings**: It keeps multiple dictionaries in an ordered set.\n",
    "2. **Lookup Mechanism**: When performing a lookup, it searches across every dictionary in the order they were added. It stops when a match is found or continues until all dictionaries have been searched.\n",
    "3. **Modifications**: If you try to update or insert a key, only the first dictionary (or mapping) in the chain gets modified. \n",
    "4. **Unified View**: It can be perceived as one cohesive dictionary. In cases of overlapping keys, the value from the first matching key (in the chain order) is returned.\n",
    "\n",
    "### Practical Use-Case: Customer's Clothing Dimensions\n",
    "\n",
    "Imagine a scenario where a customer has stored their clothing dimensions across different platforms or databases. When trying to fetch a particular dimension, you'd want a mechanism that checks each database until it finds the right size. However, when updating any size detail, it should ideally update the most primary or frequently used database. \n",
    "\n",
    "Here's a hypothetical example:\n",
    "\n",
    "```python\n",
    "from collections import ChainMap\n",
    "\n",
    "# Different sources of customer's clothing dimensions\n",
    "platform_A = {'height': '6ft', 'waist': '32in'}\n",
    "platform_B = {'waist': '33in', 'shoe_size': '10US'}\n",
    "platform_C = {'hair_color': 'brown'}\n",
    "\n",
    "# Chain the sources together\n",
    "customer_dimensions = ChainMap(platform_A, platform_B, platform_C)\n",
    "\n",
    "# Fetch waist size - it will return '32in' from platform_A (the first source in the chain)\n",
    "print(customer_dimensions['waist'])\n",
    "\n",
    "# If we update the 'waist' size, it will only change in platform_A (the primary source)\n",
    "customer_dimensions['waist'] = '34in'\n",
    "print(platform_A['waist'])  # Outputs: '34in'\n",
    "```"
   ]
  },
  {
   "cell_type": "code",
   "execution_count": 17,
   "id": "2a9025ae-454b-4833-878b-d1bde1cf9977",
   "metadata": {},
   "outputs": [],
   "source": [
    "from collections import ChainMap\n",
    "\n",
    "customer_info = {'name': 'Dmitri Buyer', 'age': '31', 'address': '123 Python Lane', 'phone_number': '5552930183'}\n",
    "\n",
    "shirt_dimensions = {'shoulder': 20, 'chest': 42, 'torso_length': 29}\n",
    "\n",
    "pants_dimensions = {'waist': 36, 'leg_length': 42.5, 'hip': 21.5, 'thigh': 25, 'bottom': 18}"
   ]
  },
  {
   "cell_type": "code",
   "execution_count": 18,
   "id": "fd9e4704-253d-4adc-a7f0-51f2bcf9e057",
   "metadata": {},
   "outputs": [],
   "source": [
    "customer_data = ChainMap(customer_info, shirt_dimensions, pants_dimensions)"
   ]
  },
  {
   "cell_type": "code",
   "execution_count": 19,
   "id": "4008e9a5-053a-4a64-b3b5-dfca0abd110e",
   "metadata": {},
   "outputs": [],
   "source": [
    "customer_leg_length = customer_data['leg_length']"
   ]
  },
  {
   "cell_type": "code",
   "execution_count": 20,
   "id": "f5dfc285-584a-4ab4-8cd8-8d7d8c7c93a6",
   "metadata": {},
   "outputs": [
    {
     "name": "stdout",
     "output_type": "stream",
     "text": [
      "42.5\n"
     ]
    }
   ],
   "source": [
    "print(customer_leg_length)"
   ]
  },
  {
   "cell_type": "code",
   "execution_count": 21,
   "id": "9701e307-da0e-4eb5-95e5-b5698f6cd8bb",
   "metadata": {},
   "outputs": [],
   "source": [
    "customer_size_data = customer_data.parents"
   ]
  },
  {
   "cell_type": "code",
   "execution_count": 22,
   "id": "26979f15-4046-4fc6-97f4-fdeab38f21a7",
   "metadata": {},
   "outputs": [
    {
     "name": "stdout",
     "output_type": "stream",
     "text": [
      "ChainMap({'shoulder': 20, 'chest': 42, 'torso_length': 29}, {'waist': 36, 'leg_length': 42.5, 'hip': 21.5, 'thigh': 25, 'bottom': 18})\n"
     ]
    }
   ],
   "source": [
    "print(customer_size_data)"
   ]
  },
  {
   "cell_type": "code",
   "execution_count": 24,
   "id": "12ce923c-2d79-4efc-9dce-6a86fbe9edba",
   "metadata": {},
   "outputs": [],
   "source": [
    "customer_data['address'] = '456 ChainMap Drive'"
   ]
  },
  {
   "cell_type": "code",
   "execution_count": 25,
   "id": "ae08e6c5-2e95-4deb-a8da-1e642b440399",
   "metadata": {},
   "outputs": [
    {
     "name": "stdout",
     "output_type": "stream",
     "text": [
      "ChainMap({'name': 'Dmitri Buyer', 'age': '31', 'address': '456 ChainMap Drive', 'phone_number': '5552930183'}, {'shoulder': 20, 'chest': 42, 'torso_length': 29}, {'waist': 36, 'leg_length': 42.5, 'hip': 21.5, 'thigh': 25, 'bottom': 18})\n"
     ]
    }
   ],
   "source": [
    "print(customer_data)"
   ]
  },
  {
   "cell_type": "markdown",
   "id": "0fe615fd-1b49-41d5-843c-22be5ea31cdd",
   "metadata": {},
   "source": [
    "## Counter: Simplifying Element Counting\n",
    "\n",
    "Counting the occurrences of elements in collections is a fundamental operation in various tasks, especially in data analysis. Typically, when working with lists in Python, you might iterate over each item and maintain a count in a dictionary. While this approach works, it can be tedious, especially for larger datasets.\n",
    "\n",
    "### The Power of `Counter`\n",
    "\n",
    "The `collections` module in Python introduces us to a more efficient and intuitive tool for this purpose: the `Counter` class.\n",
    "\n",
    "- **Instant Counting**: Rather than manually iterating over the list and updating a dictionary, `Counter` provides an instant breakdown of the occurrences of each unique element.\n",
    "\n",
    "- **Enhanced Readability**: Using `Counter`, the logic becomes more streamlined, improving code readability and maintenance.\n",
    "  \n",
    "- **Additional Methods**: Beyond just counting, `Counter` provides methods to retrieve the most common items, subtract counts, and more.\n",
    "\n",
    "In essence, if you find yourself counting items in a list or any iterable frequently, leveraging `Counter` can make your code more efficient and readable.\n"
   ]
  },
  {
   "cell_type": "code",
   "execution_count": 26,
   "id": "69981035-db09-4092-b7b3-35f133004dd9",
   "metadata": {},
   "outputs": [],
   "source": [
    "clothes_list = ['skirt', 'hoodie', 'dress', 'blouse', 'jeans', 'shoes', 'skirt', 'skirt', 'jeans', 'hoodie', 'boots', 'jeans', 'jacket', 't-shirt', 'skirt', 'skirt', 'dress', 'shoes', 'blouse', 'hoodie', 'skirt', 'boots', 'shoes', 'boots', 'jeans', 'hoodie', 'blouse', 'hoodie', 'shoes', 'shoes', 'blouse', 'boots', 'blouse', 'hoodie', 't-shirt', 'jeans', 'dress', 'skirt', 'jacket', 'boots', 'skirt', 'dress', 'jeans', 'jeans', 'jacket', 'jeans', 'shoes', 'dress', 'hoodie', 'blouse']"
   ]
  },
  {
   "cell_type": "code",
   "execution_count": 27,
   "id": "cd58dfed-0326-44db-876c-5e8a993cac14",
   "metadata": {},
   "outputs": [
    {
     "name": "stdout",
     "output_type": "stream",
     "text": [
      "{'skirt': 8, 'hoodie': 7, 'dress': 5, 'blouse': 6, 'jeans': 8, 'shoes': 6, 'boots': 5, 'jacket': 3, 't-shirt': 2}\n"
     ]
    }
   ],
   "source": [
    "counted_items = {}\n",
    "for item in clothes_list:\n",
    "   if item not in counted_items:\n",
    "       counted_items[item] = 1\n",
    "   else:\n",
    "       counted_items[item] += 1\n",
    "\n",
    "print(counted_items)"
   ]
  },
  {
   "cell_type": "code",
   "execution_count": 28,
   "id": "909f6ce6-4e79-47dc-9bb4-39ae2576abda",
   "metadata": {},
   "outputs": [
    {
     "name": "stdout",
     "output_type": "stream",
     "text": [
      "Counter({'skirt': 8, 'jeans': 8, 'hoodie': 7, 'blouse': 6, 'shoes': 6, 'dress': 5, 'boots': 5, 'jacket': 3, 't-shirt': 2})\n"
     ]
    }
   ],
   "source": [
    "from collections import Counter\n",
    "\n",
    "counted_items = Counter(clothes_list)\n",
    "print(counted_items)"
   ]
  },
  {
   "cell_type": "code",
   "execution_count": 29,
   "id": "331685fc-6468-4480-8950-80026ee74fb6",
   "metadata": {},
   "outputs": [
    {
     "name": "stdout",
     "output_type": "stream",
     "text": [
      "3\n"
     ]
    }
   ],
   "source": [
    "\n",
    "opening_inventory = ['shoes', 'shoes', 'skirt', 'jeans', 'blouse', 'shoes', 't-shirt', 'dress', 'jeans', 'blouse', 'skirt', 'skirt', 'shorts', 'jeans', 'dress', 't-shirt', 'dress', 'blouse', 't-shirt', 'dress', 'dress', 'dress', 'jeans', 'dress', 'blouse']\n",
    "\n",
    "closing_inventory = ['shoes', 'skirt', 'jeans', 'blouse', 'dress', 'skirt', 'shorts', 'jeans', 'dress', 'dress', 'jeans', 'dress', 'blouse']\n",
    "\n",
    "# Write your code below!\n",
    "from collections import Counter\n",
    "def find_amount_sold(opening, closing, item):\n",
    "  opening_count = Counter(opening)\n",
    "  closing_count = Counter(closing)\n",
    "  opening_count.subtract(closing_count)\n",
    "  return opening_count[item]\n",
    "\n",
    "tshirts_sold = find_amount_sold(opening_inventory, closing_inventory, 't-shirt')\n",
    "print(tshirts_sold)"
   ]
  },
  {
   "cell_type": "markdown",
   "id": "e9354d86-dc4f-4d70-a287-d64db2454e98",
   "metadata": {},
   "source": [
    "## Container Wrappers: Enhancing Behavior\n",
    "\n",
    "In the realm of programming, particularly in Python, there's a concept known as \"wrapping\". It refers to the idea of encapsulating a certain functionality, either to extend its behavior, modify its outcome, or monitor its performance. While this idea is frequently associated with functions, it extends to classes too, especially when we talk about containers.\n",
    "\n",
    "### What are Wrappers?\n",
    "\n",
    "Wrappers, as the name suggests, \"wrap\" around existing code, providing an additional layer of functionality or behavior. \n",
    "\n",
    "- **Function Wrapping**: This is a technique where a function's behavior is augmented without altering its actual code. Decorators in Python are a common example of this.\n",
    "\n",
    "- **Class Wrapping**: Similarly, classes can be wrapped to enhance or alter their behavior. This is often done to modify methods or attributes, or to introduce new ones.\n",
    "\n",
    "### Container Wrappers\n",
    "\n",
    "When it comes to containers, wrappers can provide added functionality or behaviors to existing container classes. This is especially useful when we want to:\n",
    "\n",
    "1. **Modify Data Access**: Alter the way data is accessed or modified in the container.\n",
    "2. **Monitor Interactions**: Track how often certain methods are called or monitor performance.\n",
    "3. **Introduce New Behaviors**: Add methods or attributes which aren't part of the original container class.\n",
    "\n",
    "### Python's `collections` Module and Wrappers\n",
    "\n",
    "Python's `collections` module provides us with a few specialized container wrappers:\n",
    "\n",
    "- **UserDict**: Acts like a dictionary but is designed to be subclassed.\n",
    "- **UserList**: Similar to a list, it's crafted to be more subclass-friendly than the built-in list.\n",
    "- **UserString**: A wrapper around string objects, designed to be easily extended.\n",
    "\n",
    "By using these container wrappers, developers have more flexibility and power in tailoring container behavior to suit specific needs.\n",
    "\n"
   ]
  },
  {
   "cell_type": "code",
   "execution_count": 30,
   "id": "efba151d-3e15-45d9-8567-0cc5e021e87c",
   "metadata": {},
   "outputs": [
    {
     "name": "stdout",
     "output_type": "stream",
     "text": [
      "Name: Dmitri Buyer\n",
      "Age: 38\n",
      "Address: 123 Python Avenue\n",
      "Phone Number: 5557098603\n"
     ]
    }
   ],
   "source": [
    "class Customer:\n",
    " \n",
    "  def __init__(self, name, age, address, phone_number):\n",
    "    self.name = name\n",
    "    self.age = age\n",
    "    self.address = address\n",
    "    self.phone_number = phone_number\n",
    "\n",
    "\n",
    "class CustomerWrap(Customer):\n",
    " \n",
    "  def __init__(self, name, age, address, phone_number):\n",
    "    self.customer = Customer(name, age, address, phone_number)\n",
    " \n",
    "  def display_customer_info(self):\n",
    "    print('Name: ' + self.customer.name)\n",
    "    print('Age: ' + str(self.customer.age))\n",
    "    print('Address: ' + self.customer.address)\n",
    "    print('Phone Number: ' + self.customer.phone_number)\n",
    "\n",
    "\n",
    "customer = CustomerWrap('Dmitri Buyer', 38, '123 Python Avenue', '5557098603')\n",
    "customer.display_customer_info()"
   ]
  },
  {
   "cell_type": "markdown",
   "id": "a16127e8-9c31-4516-84a3-9dc70e457802",
   "metadata": {},
   "source": [
    "## UserDict: Crafting Custom Dictionaries\n",
    "\n",
    "While Python's built-in `dict` is versatile and meets the needs of most scenarios, there are times when we might want to augment its behavior or introduce additional methods. While it's possible to subclass the built-in `dict`, it might not always be straightforward due to its intrinsic methods.\n",
    "\n",
    "### What is UserDict?\n",
    "\n",
    "`UserDict` is a class in Python's `collections` module. It acts like a wrapper around standard dictionaries, making it easier to extend and modify the default behavior.\n",
    "\n",
    "### Key Features of UserDict:\n",
    "\n",
    "- **Familiarity**: `UserDict` provides all the usual dictionary methods. If you know how to work with `dict`, you can work with `UserDict`.\n",
    "\n",
    "- **Customization**: Since it's designed to be subclassed, it's straightforward to add new methods or modify existing ones.\n",
    "\n",
    "- **Data Property**: Unlike the traditional `dict`, the actual data in a `UserDict` is stored in its `data` attribute. This distinction can be beneficial when overriding methods and working with the underlying data.\n",
    "\n",
    "### Why Use UserDict?\n",
    "\n",
    "You might wonder, \"Why not just subclass the built-in `dict`?\" While you can, certain internal methods of the built-in `dict` can pose challenges when subclassing. `UserDict` simplifies this process, making it more transparent and less prone to unexpected behaviors.\n",
    "\n",
    "If you're looking to create a dictionary with specialized behavior, `UserDict` is an excellent place to start!"
   ]
  },
  {
   "cell_type": "code",
   "execution_count": 31,
   "id": "5e4fcd5f-3cd3-4840-9047-120214432229",
   "metadata": {},
   "outputs": [
    {
     "name": "stdout",
     "output_type": "stream",
     "text": [
      "{'order_4829': {'type': 't-shirt', 'size': 'large', 'price': 9.99, 'order_status': 'processing'}, 'order_7378': {'type': 'jacket', 'size': 'large', 'price': 24.99, 'order_status': 'processing'}}\n"
     ]
    }
   ],
   "source": [
    "data = {'order_4829': {'type': 't-shirt', 'size': 'large', 'price': 9.99, 'order_status': 'processing'},\n",
    "        'order_6184': {'type': 'pants', 'size': 'medium', 'price': 14.99, 'order_status': 'complete'},\n",
    "        'order_2905': {'type': 'shoes', 'size': 12, 'price': 22.50, 'order_status': 'complete'},\n",
    "        'order_7378': {'type': 'jacket', 'size': 'large', 'price': 24.99, 'order_status': 'processing'}}\n",
    "\n",
    "# Write your code below!\n",
    "from collections import UserDict\n",
    "class OrderProcessingDict(UserDict):\n",
    "  def clean_orders(self):\n",
    "    to_del = []\n",
    "    for key, val in self.data.items():\n",
    "      if val['order_status'] == 'complete':\n",
    "        to_del.append(key)\n",
    "\n",
    "    for item in to_del:\n",
    "      del self.data[item]\n",
    "\n",
    "process_dict = OrderProcessingDict(data)\n",
    "process_dict.clean_orders()\n",
    "print(process_dict)"
   ]
  },
  {
   "cell_type": "markdown",
   "id": "269035cb-6944-4457-b392-7adf2c7868b7",
   "metadata": {},
   "source": [
    "## UserList: Customizing Lists in Python\n",
    "\n",
    "Lists in Python are incredibly versatile, handling a wide range of tasks with ease. But sometimes, you might want to go a step further and introduce custom behaviors or methods to the standard list. That's where `UserList` comes into play.\n",
    "\n",
    "### What is UserList?\n",
    "\n",
    "`UserList` is a class provided by the Python `collections` module. At its core, it's designed to emulate the behavior of the conventional list, but with a structure that's more amenable to customization and subclassing.\n",
    "\n",
    "### Key Features of UserList:\n",
    "\n",
    "- **Fully Functional**: Just like with `UserDict`, if you're familiar with the standard list operations in Python, you'll feel right at home with `UserList`.\n",
    "\n",
    "- **Designed for Extension**: Want to add a custom method to your list? Or override an existing one? `UserList` is crafted with subclassing in mind, making these tasks intuitive.\n",
    "\n",
    "- **Data Property**: One of the defining features of `UserList` is the `data` property. Instead of directly accessing list contents, they're stored in this `data` attribute. This arrangement can be particularly handy when overriding methods or diving into the underlying list data.\n",
    "\n",
    "### Why Choose UserList?\n",
    "\n",
    "Subclassing Python's built-in list directly can lead to complications due to its internal methods. If you wish to avoid these intricacies and need a more straightforward approach to create a custom list, `UserList` is your answer.\n",
    "\n",
    "In a nutshell, if you're aiming for a specialized list behavior, `UserList` offers an elegant and efficient way to achieve that!"
   ]
  },
  {
   "cell_type": "code",
   "execution_count": 32,
   "id": "8a95a53f-31f7-44bb-bf1e-b839966a0944",
   "metadata": {},
   "outputs": [
    {
     "name": "stdout",
     "output_type": "stream",
     "text": [
      "['t-shirt', 'jeans', 'shoes']\n",
      "Deleting all items from the list!\n"
     ]
    }
   ],
   "source": [
    "from collections import UserList\n",
    "\n",
    "# Create a class which inherits from the UserList class\n",
    "class CondenseList(UserList):\n",
    "\n",
    "    # A new method to remove duplicate items from the list\n",
    "    def condense(self):\n",
    "        self.data = list(set(self.data))\n",
    "        print(self.data)\n",
    "\n",
    "\n",
    "    # We can also overwrite a method from the list class\n",
    "    def clear(self):\n",
    "        print(\"Deleting all items from the list!\")\n",
    "        super().clear()\n",
    "\n",
    "condense_list = CondenseList(['t-shirt', 'jeans', 'jeans', 't-shirt', 'shoes'])\n",
    "\n",
    "condense_list.condense()\n",
    "\n",
    "condense_list.clear()"
   ]
  },
  {
   "cell_type": "code",
   "execution_count": 33,
   "id": "8d376d80-714c-48ae-a8dc-7d048fefb042",
   "metadata": {},
   "outputs": [
    {
     "name": "stdout",
     "output_type": "stream",
     "text": [
      "[0, 1, 2, 3, 4, 5, 6, 7, 8, 9]\n"
     ]
    }
   ],
   "source": [
    "\n",
    "data = [4, 6, 8, 9, 5, 7, 3, 1, 0]\n",
    "\n",
    "# Write your code below!\n",
    "from collections import UserList\n",
    "\n",
    "class ListSorter(UserList):\n",
    "  def append(self, item):\n",
    "    self.data.append(item)\n",
    "    self.data.sort()\n",
    "\n",
    "sorted_list = ListSorter(data)\n",
    "sorted_list.append(2)\n",
    "print(sorted_list)"
   ]
  },
  {
   "cell_type": "markdown",
   "id": "4e0900b4-56f1-4880-a144-b9eb34d7594f",
   "metadata": {},
   "source": [
    "## UserString: Crafting Custom Strings in Python\n",
    "\n",
    "While strings in Python are highly flexible and come with a plethora of built-in methods, there might be situations where you want to introduce additional behaviors or modify the existing ones. Enter `UserString`.\n",
    "\n",
    "### What is UserString?\n",
    "\n",
    "`UserString` is a class offered by Python's `collections` module. It's essentially a wrapper around the conventional string type. It's built to act like a regular string but is designed to be more subclass-friendly, giving developers the ease of customization.\n",
    "\n",
    "### Key Features of UserString:\n",
    "\n",
    "- **Fully Functional**: If you're used to working with Python strings, `UserString` will be familiar territory. It supports all standard string methods and behaviors.\n",
    "\n",
    "- **Designed for Customization**: Whether you wish to introduce new methods, or override the existing ones, `UserString` is primed for subclassing and modifications.\n",
    "\n",
    "- **Data Property**: Unlike standard strings, the content of a `UserString` is stored in its `data` attribute. This structure can be invaluable when you're working with methods that interact with the string content, allowing for clearer overrides and custom behaviors.\n",
    "\n",
    "### Why Opt for UserString?\n",
    "\n",
    "While Python's built-in strings are immutable and come with their own set of behaviors, `UserString` provides a malleable foundation for those looking to venture beyond the basics. If you're contemplating a scenario where you require a string with a twist, `UserString` is your ideal starting point.\n",
    "\n",
    "To sum it up, for a bespoke string experience in Python, `UserString` is a tool worth exploring!\n",
    "\n"
   ]
  },
  {
   "cell_type": "code",
   "execution_count": 34,
   "id": "6837ddb7-5eca-4da8-91f5-3cfa29ff9721",
   "metadata": {},
   "outputs": [
    {
     "name": "stdout",
     "output_type": "stream",
     "text": [
      "PYTHON RULES!!!\n",
      "1\n"
     ]
    }
   ],
   "source": [
    "from collections import UserString\n",
    "\n",
    "# Create a class which inherits from the UserString class\n",
    "class IntenseString(UserString):\n",
    "\n",
    "    # A new method to capitalize and add exclamation points to our string\n",
    "    def exclaim(self):\n",
    "        self.data = self.data.upper() + '!!!'\n",
    "        return self.data\n",
    "\n",
    "\n",
    "    # Overwrite the count method to only count a certain letter\n",
    "    def count(self, sub=None, start=0, end=0):\n",
    "        num = 0\n",
    "        for let in self.data:\n",
    "            if let == 'P':\n",
    "                num+=1\n",
    "        return num\n",
    "\n",
    "\n",
    "intense_string = IntenseString(\"python rules\")\n",
    "\n",
    "print(intense_string.exclaim())\n",
    "print(intense_string.count())"
   ]
  },
  {
   "cell_type": "code",
   "execution_count": 35,
   "id": "d80fc04a-72ad-4d30-9984-f1b6fc1ffa34",
   "metadata": {},
   "outputs": [
    {
     "name": "stdout",
     "output_type": "stream",
     "text": [
      "python powered products\n"
     ]
    }
   ],
   "source": [
    "\n",
    "str_name = 'python powered patterned products'\n",
    "str_word = 'patterned '\n",
    "\n",
    "# Write your code below!\n",
    "from collections import UserString\n",
    "\n",
    "class SubtractString(UserString):\n",
    "  def __sub__(self, other):\n",
    "    if other in self.data:\n",
    "      self.data = self.data.replace(other, '')\n",
    "\n",
    "subtract_string = SubtractString(str_name)\n",
    "subtract_string - str_word\n",
    "print(subtract_string)\n"
   ]
  },
  {
   "cell_type": "code",
   "execution_count": 36,
   "id": "54744189-7013-4e19-b26e-b1eb5c54466d",
   "metadata": {},
   "outputs": [
    {
     "name": "stdout",
     "output_type": "stream",
     "text": [
      "deque([['dress_357896', 29.99], ['pants_086367', 30.99], ['jacket_976535', 26.99], ['dress_976264', 32.99], ['pants_267953', 21.99], ['shoes_948059', 29.99], ['shirt_103985', 15.99], ['pants_906841', 19.99], ['pants_765321', 15.99], ['shoes_356864', 9.99], ['shirt_865327', 10.99], ['shorts_086853', 9.99], ['shoes_135786', 17.99], ['skirt_196543', 12.99], ['shoes_157895', 14.99]])\n",
      "[ClothesBundle(bundle_items=[['shoes_157895', 14.99], ['skirt_196543', 12.99], ['shoes_135786', 17.99], ['dress_357896', 29.99], ['pants_086367', 30.99]], bundle_price=106.94999999999999), ClothesBundle(bundle_items=[['pants_765321', 15.99], ['pants_906841', 19.99], ['shirt_103985', 15.99], ['pants_267953', 21.99], ['shoes_948059', 29.99]], bundle_price=103.94999999999999)]\n"
     ]
    }
   ],
   "source": [
    "\n",
    "\n",
    "overstock_items = [['shirt_103985', 15.99],\n",
    "                    ['pants_906841', 19.99],\n",
    "                    ['pants_765321', 15.99],\n",
    "                    ['shoes_948059', 29.99],\n",
    "                    ['shoes_356864', 9.99],\n",
    "                    ['shirt_865327', 10.99],\n",
    "                    ['shorts_086853', 9.99],\n",
    "                    ['pants_267953', 21.99],\n",
    "                    ['dress_976264', 32.99],\n",
    "                    ['shoes_135786', 17.99],\n",
    "                    ['skirt_196543', 12.99],\n",
    "                    ['jacket_976535', 26.99],\n",
    "                    ['pants_086367', 30.99],\n",
    "                    ['dress_357896', 29.99],\n",
    "                    ['shoes_157895', 14.99]]\n",
    "\n",
    "# Write your code below!\n",
    "from collections import deque, namedtuple\n",
    "\n",
    "split_prices = deque()\n",
    "for item in overstock_items:\n",
    "  if item[1] > 20:\n",
    "    split_prices.appendleft(item)\n",
    "  else:\n",
    "    split_prices.append(item)\n",
    "print(split_prices)\n",
    "\n",
    "ClothesBundle = namedtuple('ClothesBundle', ['bundle_items', 'bundle_price'])\n",
    "\n",
    "bundles = []\n",
    "while len(split_prices) >= 5:\n",
    "  bundle_list = [split_prices.pop(), split_prices.pop(), split_prices.pop(), split_prices.popleft(),split_prices.popleft()]\n",
    "\n",
    "  calc_price = sum(b[1] for b in bundle_list)\n",
    "  bundles.append(ClothesBundle(bundle_list, calc_price))\n",
    "\n",
    "promoted_bundles = []\n",
    "for bundle in bundles:\n",
    "  if bundle[1] > 100:\n",
    "    promoted_bundles.append(bundle)\n",
    "\n",
    "print(promoted_bundles)"
   ]
  },
  {
   "cell_type": "code",
   "execution_count": 37,
   "id": "1f69161b-0994-4542-b107-f3f53bbea622",
   "metadata": {},
   "outputs": [
    {
     "name": "stdout",
     "output_type": "stream",
     "text": [
      "Counter({'b': 4, 'a': 3, 'c': 3})\n"
     ]
    }
   ],
   "source": [
    "from collections import Counter\n",
    "\n",
    "data = ['a', 'b', 'c', 'b', 'b', 'c', 'a', 'b', 'c', 'a']\n",
    "\n",
    "count = Counter(data)\n",
    "\n",
    "print(count)"
   ]
  },
  {
   "cell_type": "markdown",
   "id": "66d41bf7-db99-42b5-b853-3f04cb5c9158",
   "metadata": {},
   "source": [
    "## A Familiar Face: The `with` Statement in Python\n",
    "\n",
    "In the realm of Python programming, resource management holds significant importance. It's especially crucial when we're dealing with external resources, like files, to ensure they're handled gracefully.\n",
    "\n",
    "### Proper Resource Management:\n",
    "\n",
    "Ensuring resources like files are properly closed after their operations are completed is essential. Neglecting this aspect can lead to various issues, such as:\n",
    "- Resource leaks\n",
    "- Potential data corruption\n",
    "- Locking conflicts in environments with multiple threads or users\n",
    "\n",
    "### The Role of the `with` Statement:\n",
    "\n",
    "Many Python developers have encountered the `with` statement during file operations. Its primary purpose is to guarantee that resources are managed with care, providing a setup before entering a block of code and ensuring proper cleanup afterward.\n",
    "\n",
    "### Why is `with` So Special?\n",
    "\n",
    "The beauty of the `with` statement lies in its ability to invoke what's known as a \"context manager.\" It's designed to ensure resources are correctly initialized and, more importantly, finalized after use.\n",
    "\n",
    "### The Pythonic Way:\n",
    "\n",
    "Leveraging the `with` statement isn't just about efficient resource management; it's also the \"Pythonic\" approach. It aligns with Python's philosophy of promoting code that's both readable and elegant, reducing potential errors and making the codebase more maintainable.\n",
    "\n",
    "In a nutshell, the `with` statement in Python is a testament to efficient and effective resource management. It ensures our applications remain both robust and error-free.\n"
   ]
  },
  {
   "cell_type": "code",
   "execution_count": 39,
   "id": "c856b054-f93b-4f7b-a471-bf032a91c058",
   "metadata": {},
   "outputs": [
    {
     "name": "stdout",
     "output_type": "stream",
     "text": [
      "How you gonna win when you aint right within?\n",
      "How you gonna win when you aint right within?\n"
     ]
    }
   ],
   "source": [
    "try:\n",
    "  open_file = open('files/file_name.txt', 'r')\n",
    "  print(open_file.read())\n",
    "finally:\n",
    "  open_file.close()\n",
    "\n",
    "with open(\"files/file_name.txt\", 'r') as open_file:\n",
    "  print(open_file.read())"
   ]
  },
  {
   "cell_type": "markdown",
   "id": "cff65cf6-bd1b-4371-a217-3ff02585bfe8",
   "metadata": {},
   "source": [
    "## Class-Based Context Managers\n",
    "\n",
    "Having explored the utility of context managers and the power vested in the `with` statement, it's crucial to peel back the layers and understand the mechanics at play. By crafting our own context managers, we can gain insight into their inner workings.\n",
    "\n",
    "### Crafting Context Managers: The Class-Based Approach\n",
    "\n",
    "There are a couple of ways to create context managers. One prevalent method is the class-based approach. In this method, you design a class to act as a context manager. Here's what you need:\n",
    "\n",
    "#### 1. The `__enter__` Method:\n",
    "\n",
    "- **Purpose**: Sets up the context manager.\n",
    "- **Common Uses**: Opening resources (like files).\n",
    "- **Runtime Context**: This method initiates the runtime context. It's the time frame during which your script operates within the bounds of the context manager. To illustrate, in our previous `with` statement examples, the runtime context encompasses everything executed within the `with` block.\n",
    "\n",
    "#### 2. The `__exit__` Method:\n",
    "\n",
    "- **Purpose**: Tears down the context manager.\n",
    "- **Common Uses**: Closing any lingering resources.\n",
    "- **Significance**: Ensuring that resources, once done, are promptly released to avoid potential pitfalls like data corruption or resource leaks.\n",
    "\n",
    "### Wrapping Up:\n",
    "\n",
    "The class-based approach offers a structured way to encapsulate resource management logic within a class. It provides both the setup (through `__enter__`) and teardown (through `__exit__`) functionalities, ensuring resources are handled with utmost care. If you're aiming to craft customized resource handling strategies, this approach is worth considering.\n"
   ]
  },
  {
   "cell_type": "code",
   "execution_count": 41,
   "id": "f960a828-f42f-40b4-952c-ea820caa0624",
   "metadata": {},
   "outputs": [
    {
     "name": "stdout",
     "output_type": "stream",
     "text": [
      "Creating Poems!\n",
      "Opening poem file\n",
      "Hope is the thing with feathers\n",
      "Closing poem file\n"
     ]
    }
   ],
   "source": [
    "# Write your code below: \n",
    "class PoemFiles:\n",
    "  def __init__(self):\n",
    "    print('Creating Poems!')\n",
    "\n",
    "\n",
    "  def __enter__(self):\n",
    "    print('Opening poem file')\n",
    "  \n",
    "  def __exit__(self, *exc):\n",
    "    print('Closing poem file')\n",
    "  \n",
    "with PoemFiles() as manager:\n",
    "    print('Hope is the thing with feathers')"
   ]
  },
  {
   "cell_type": "code",
   "execution_count": 42,
   "id": "ea9b4aaa-fcd4-4dbc-a1e2-19cf5d7409d0",
   "metadata": {},
   "outputs": [],
   "source": [
    "class PoemFiles:\n",
    "  def __init__(self, poem_file, mode):\n",
    "    print('Starting up a poem context manager')\n",
    "    self.file = poem_file\n",
    "    self.mode = mode\n",
    "\n",
    "  def __enter__(self):\n",
    "    print('Opening poem file')\n",
    "    self.opened_poem_file = open(self.file, self.mode)\n",
    "    return self.opened_poem_file\n",
    "  \n",
    "  def __exit__(self, *exc):\n",
    "    print('Closing poem file')\n",
    "    self.opened_poem_file.close()"
   ]
  },
  {
   "cell_type": "code",
   "execution_count": 45,
   "id": "50cd9d7a-f066-4823-b432-d992b9997e50",
   "metadata": {},
   "outputs": [
    {
     "name": "stdout",
     "output_type": "stream",
     "text": [
      " \n",
      " -- Starting up a poem context manager -- \n",
      " \n",
      "Opening poem file\n",
      "---- Exception data below ----\n",
      "<class 'AttributeError'>\n",
      "'_io.TextIOWrapper' object has no attribute 'uppercasewords'\n",
      "<traceback object at 0x1078a4080>\n"
     ]
    },
    {
     "ename": "AttributeError",
     "evalue": "'_io.TextIOWrapper' object has no attribute 'uppercasewords'",
     "output_type": "error",
     "traceback": [
      "\u001b[0;31m---------------------------------------------------------------------------\u001b[0m",
      "\u001b[0;31mAttributeError\u001b[0m                            Traceback (most recent call last)",
      "Cell \u001b[0;32mIn[45], line 23\u001b[0m\n\u001b[1;32m     21\u001b[0m \u001b[38;5;28;01mwith\u001b[39;00m PoemFiles(\u001b[38;5;124m'\u001b[39m\u001b[38;5;124mfiles/poem.txt\u001b[39m\u001b[38;5;124m'\u001b[39m, \u001b[38;5;124m'\u001b[39m\u001b[38;5;124mr\u001b[39m\u001b[38;5;124m'\u001b[39m) \u001b[38;5;28;01mas\u001b[39;00m file:\n\u001b[1;32m     22\u001b[0m   \u001b[38;5;28mprint\u001b[39m(\u001b[38;5;124m\"\u001b[39m\u001b[38;5;124m---- Exception data below ----\u001b[39m\u001b[38;5;124m\"\u001b[39m)\n\u001b[0;32m---> 23\u001b[0m   \u001b[38;5;28mprint\u001b[39m(\u001b[43mfile\u001b[49m\u001b[38;5;241;43m.\u001b[39;49m\u001b[43muppercasewords\u001b[49m())\n\u001b[1;32m     25\u001b[0m \u001b[38;5;66;03m# Second\u001b[39;00m\n\u001b[1;32m     26\u001b[0m \u001b[38;5;28;01mwith\u001b[39;00m PoemFiles(\u001b[38;5;124m'\u001b[39m\u001b[38;5;124mfiles/poem.txt\u001b[39m\u001b[38;5;124m'\u001b[39m, \u001b[38;5;124m'\u001b[39m\u001b[38;5;124mr\u001b[39m\u001b[38;5;124m'\u001b[39m) \u001b[38;5;28;01mas\u001b[39;00m file2:\n",
      "\u001b[0;31mAttributeError\u001b[0m: '_io.TextIOWrapper' object has no attribute 'uppercasewords'"
     ]
    }
   ],
   "source": [
    "class PoemFiles:\n",
    "\n",
    "  def __init__(self, poem_file, mode):\n",
    "    print(' \\n -- Starting up a poem context manager -- \\n ')\n",
    "    self.file = poem_file\n",
    "    self.mode = mode\n",
    "\n",
    "  def __enter__(self):\n",
    "    print('Opening poem file')\n",
    "    self.opened_poem_file = open(self.file, self.mode)\n",
    "    return self.opened_poem_file\n",
    "\n",
    "  # Create your __exit__ method here:\n",
    "  def __exit__(self, exc_type, exc_value, traceback):\n",
    "    print(exc_type)\n",
    "    print(exc_value)\n",
    "    print(traceback)\n",
    "    self.opened_poem_file.close()\n",
    "\n",
    "# First\n",
    "# with PoemFiles('files/poem.txt', 'r') as file:\n",
    "#   print(\"---- Exception data below ----\")\n",
    "#   print(file.uppercasewords())\n",
    "\n",
    "# Second\n",
    "with PoemFiles('files/poem.txt', 'r') as file2:\n",
    "  print(file2.read())\n",
    "  print(\"---- Exception data below ----\")"
   ]
  },
  {
   "cell_type": "code",
   "execution_count": 47,
   "id": "9a74d1f6-501e-41bb-bff9-0cd7447276b0",
   "metadata": {},
   "outputs": [
    {
     "name": "stdout",
     "output_type": "stream",
     "text": [
      " \n",
      " -- Starting up a poem context manager -- \n",
      "\n",
      " \n",
      " --  Opening poem file -- \n",
      "\n",
      "---- Exception data below ---- \n",
      " \n",
      "<class 'AttributeError'> '_io.TextIOWrapper' object has no attribute 'uppercasewords' <traceback object at 0x1109f6800> \n",
      "\n",
      " \n",
      " -- Starting up a poem context manager -- \n",
      "\n",
      " \n",
      " --  Opening poem file -- \n",
      "\n",
      "She gives her cloud a shake,\n",
      "And laughs until her belly aches.\n",
      "The only other sound's the break,\n",
      "Of distant waves and birds awake.\n",
      " \n",
      " ---- Exception data below ---- \n",
      " \n",
      "None None None \n",
      "\n"
     ]
    }
   ],
   "source": [
    "class PoemFiles:\n",
    "\n",
    "  def __init__(self, poem_file, mode):\n",
    "    print(' \\n -- Starting up a poem context manager -- \\n')\n",
    "    self.file = poem_file\n",
    "    self.mode = mode\n",
    "\n",
    "  def __enter__(self):\n",
    "    print(' \\n --  Opening poem file -- \\n')\n",
    "    self.opened_poem_file = open(self.file, self.mode)\n",
    "    return self.opened_poem_file\n",
    "\n",
    "  def __exit__(self, exc_type, exc_value, traceback):\n",
    "    print(exc_type, exc_value, traceback, '\\n')\n",
    "    # Write your code below: \n",
    "    self.opened_poem_file.close()\n",
    "    if isinstance(exc_value, AttributeError):\n",
    "      return True\n",
    "\n",
    "with PoemFiles('files/poem.txt', 'r') as file:\n",
    "  print(\"---- Exception data below ---- \\n \")\n",
    "  print(file.uppercasewords())\n",
    "\n",
    "with PoemFiles('files/poem.txt', 'r') as file2:\n",
    "  print(file2.read())\n",
    "  print(\" \\n ---- Exception data below ---- \\n \")\n",
    "\n"
   ]
  },
  {
   "cell_type": "markdown",
   "id": "c39a5613-37ac-4dab-9e9c-3c9173573d92",
   "metadata": {},
   "source": [
    "## Introduction to `contextlib`\n",
    "\n",
    "While the class-based approach gives us a structured way to design context managers, Python, in its quest to keep things simple and effective, provides an even more streamlined approach.\n",
    "\n",
    "### What is `contextlib`?\n",
    "\n",
    "`contextlib` is a standard Python module that offers utilities to assist in the creation of context managers without the need for class-based solutions.\n",
    "\n",
    "### Why Use `contextlib`?\n",
    "\n",
    "- **Simplicity**: Using `contextlib`, you can transform generator functions into context managers. This is a much simpler and direct way compared to the class-based method.\n",
    "- **Brevity**: No need to define two separate methods (`__enter__` and `__exit__`). All the resource setup and teardown can be handled within a single generator function.\n",
    "- **Versatility**: `contextlib` comes with other helpful utilities, like `closing`, to make creating context managers for certain objects even more straightforward.\n",
    "\n",
    "### In Summary:\n",
    "\n",
    "`contextlib` serves as a testament to Python's \"batteries-included\" philosophy. It simplifies the process of creating context managers, making resource management in Python code more efficient and pythonic.\n"
   ]
  },
  {
   "cell_type": "code",
   "execution_count": 48,
   "id": "bc5039b3-ae0b-4995-954c-bc9aac575a96",
   "metadata": {},
   "outputs": [
    {
     "name": "stdout",
     "output_type": "stream",
     "text": [
      "Opening File\n",
      "Inside yield\n",
      "Closing File\n"
     ]
    }
   ],
   "source": [
    "# Write your code below:\n",
    "\n",
    "from contextlib import contextmanager\n",
    "\n",
    "@contextmanager\n",
    "def poem_files(file, mode):\n",
    "  print('Opening File')\n",
    "  open_poem_file = open(file, mode)\n",
    "  try:\n",
    "    yield open_poem_file\n",
    "  finally:\n",
    "    print('Closing File')\n",
    "    open_poem_file.close()\n",
    "\n",
    "\n",
    "with poem_files('poem.txt', 'a') as opened_file:\n",
    " print('Inside yield')\n",
    " opened_file.write('Rose is beautiful, Just like you.')"
   ]
  },
  {
   "cell_type": "markdown",
   "id": "dc2f22ef-5326-4798-89f8-fa2d146ce692",
   "metadata": {},
   "source": [
    "## Error Handling with `contextlib`\n",
    "\n",
    "When working with context managers, especially in resource-sensitive operations, error handling becomes crucial. While the `contextlib` module makes it simpler to create context managers, it doesn't mean we can overlook potential errors.\n",
    "\n",
    "### Handling Errors with `@contextmanager`:\n",
    "\n",
    "When you use the `@contextmanager` decorator to transform a generator function into a context manager, the `yield` statement divides the function into two parts: everything before the `yield` functions as the `__enter__` method, and everything after works as the `__exit__` method. This structure provides a natural way to handle errors:\n",
    "\n",
    "1. **Before the `yield`**:\n",
    "   - This is where you'd set up resources. If there's an error during setup, it will naturally raise an exception and prevent the `with` block from executing.\n",
    "\n",
    "2. **After the `yield`**:\n",
    "   - If an exception occurs inside the `with` block, it will interrupt the generator function. Therefore, the code after the `yield` statement needs to be prepared to handle such exceptions.\n",
    "   - Using a try-except block after the `yield` can allow for graceful error handling and cleanup.\n",
    "\n",
    "### Example:\n",
    "\n",
    "Imagine you're working with a hypothetical database and using a context manager to manage transactions.\n",
    "\n",
    "```python\n",
    "from contextlib import contextmanager\n",
    "\n",
    "@contextmanager\n",
    "def manage_transaction(database):\n",
    "    # Setup: Begin transaction\n",
    "    db_conn = database.connect()\n",
    "    trans = db_conn.begin_transaction()\n",
    "    \n",
    "    try:\n",
    "        yield db_conn\n",
    "    except Exception as e:\n",
    "        # Handle exception: Rollback transaction\n",
    "        trans.rollback()\n",
    "        print(f\"Error occurred: {e}\")\n",
    "    else:\n",
    "        # If no errors: Commit transaction\n",
    "        trans.commit()\n",
    "    finally:\n",
    "        # Always close the database connection\n",
    "        db_conn.close()\n",
    "```"
   ]
  },
  {
   "cell_type": "code",
   "execution_count": 49,
   "id": "8b6f4712-87c3-46f7-88b6-c461cea54149",
   "metadata": {},
   "outputs": [
    {
     "name": "stdout",
     "output_type": "stream",
     "text": [
      "Opening File\n",
      "Inside yield\n",
      "'_io.TextIOWrapper' object has no attribute 'sign'\n",
      "Closing File\n"
     ]
    }
   ],
   "source": [
    "from contextlib import contextmanager\n",
    " \n",
    "@contextmanager\n",
    "def poem_files(file, mode):\n",
    "  print('Opening File')\n",
    "  open_poem_file = open(file, mode)\n",
    "  try:\n",
    "    yield open_poem_file\n",
    "  #Write your code below: \n",
    "  except AttributeError as e:\n",
    "    print(e)\n",
    "  finally:\n",
    "    print('Closing File')\n",
    "    open_poem_file.close()\n",
    "\n",
    "with poem_files('poem.txt', 'a') as opened_file:\n",
    " print('Inside yield')\n",
    " opened_file.sign('Buzz is big city. big city is buzz.')\n"
   ]
  },
  {
   "cell_type": "markdown",
   "id": "966da3d8-2a00-4a34-8367-c6a620f4e87e",
   "metadata": {},
   "source": [
    "## Nested Context Managers\n",
    "\n",
    "In real-world applications, it's often necessary to manage multiple resources at the same time. Python's `with` statement allows for nesting, making it convenient to work with several context managers in one go.\n",
    "\n",
    "### Benefits of Nested Context Managers:\n",
    "\n",
    "1. **Organized Resource Management**: By nesting context managers, resources are managed in an organized, hierarchical manner.\n",
    "2. **Simplicity**: Instead of having multiple separate `with` statements, you can consolidate them into a single block, improving code readability.\n",
    "3. **Safe Cleanup**: Each nested context manager ensures that its resources are cleaned up appropriately, even if an error occurs in one of them.\n",
    "\n",
    "### Common Scenarios:\n",
    "\n",
    "1. **Working with Information from Multiple Files**:\n",
    "   By nesting context managers, you can read from multiple files simultaneously and process their combined data.\n",
    "\n",
    "2. **Copying the Same Information to Multiple Files**:\n",
    "   You can open several files for writing within nested context managers and write the same data to each.\n",
    "\n",
    "3. **Copying Information from One File to Another**:\n",
    "   By using nested context managers, you can read from one file and write to another in a seamless manner.\n",
    "\n",
    "### Example:\n",
    "\n",
    "```python\n",
    "with open('file1.txt', 'r') as source, open('file2.txt', 'w') as destination:\n",
    "    for line in source:\n",
    "        destination.write(line)\n",
    "```"
   ]
  },
  {
   "cell_type": "code",
   "execution_count": 51,
   "id": "aff073b7-4d81-4ee6-a1ac-d17c1653a4e7",
   "metadata": {},
   "outputs": [
    {
     "name": "stdout",
     "output_type": "stream",
     "text": [
      "Opening File\n",
      "Opening File\n",
      "Closing File\n",
      "Closing File\n"
     ]
    }
   ],
   "source": [
    "from contextlib import contextmanager\n",
    " \n",
    "@contextmanager\n",
    "def poem_files(file, mode):\n",
    "  print('Opening File')\n",
    "  open_poem_file = open(file, mode)\n",
    "  try:\n",
    "    yield open_poem_file\n",
    "  finally:\n",
    "    print('Closing File')\n",
    "    open_poem_file.close()\n",
    "\n",
    "\n",
    "@contextmanager\n",
    "def card_files(file, mode):\n",
    "  print('Opening File')\n",
    "  open_card_file = open(file, mode)\n",
    "  try:\n",
    "    yield open_card_file\n",
    "  finally:\n",
    "    print('Closing File')\n",
    "    open_card_file.close()\n",
    "\n",
    "# Write your code below: \n",
    "with poem_files('poem.txt', 'r') as poem:\n",
    "  with card_files('card.txt', 'w') as card:\n",
    "    card.write(poem.read())"
   ]
  },
  {
   "cell_type": "code",
   "execution_count": null,
   "id": "a7e9bce8-ecc9-468d-9f9e-0909843078fb",
   "metadata": {},
   "outputs": [],
   "source": []
  }
 ],
 "metadata": {
  "kernelspec": {
   "display_name": "Python 3 (ipykernel)",
   "language": "python",
   "name": "python3"
  },
  "language_info": {
   "codemirror_mode": {
    "name": "ipython",
    "version": 3
   },
   "file_extension": ".py",
   "mimetype": "text/x-python",
   "name": "python",
   "nbconvert_exporter": "python",
   "pygments_lexer": "ipython3",
   "version": "3.10.9"
  }
 },
 "nbformat": 4,
 "nbformat_minor": 5
}
