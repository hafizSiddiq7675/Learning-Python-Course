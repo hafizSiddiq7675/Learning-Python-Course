{
 "cells": [
  {
   "cell_type": "markdown",
   "id": "fc9d0948-80fa-4a51-9bbe-da9c40470e4d",
   "metadata": {},
   "source": [
    "In Python, there are three common types of function arguments:\n",
    "\n",
    "1. **Positional arguments**: arguments that are called by their position in the function definition.\n",
    "2. **Keyword arguments**: arguments that are called by their name.\n",
    "3. **Default arguments**: arguments that are given default values.\n"
   ]
  },
  {
   "cell_type": "markdown",
   "id": "f14b104b-6205-48e9-b942-0c8ef9e5c04a",
   "metadata": {},
   "source": [
    "# Variable number of arguments: *args\n",
    "how the print() function does not care how many arguments we pass to it."
   ]
  },
  {
   "cell_type": "code",
   "execution_count": 1,
   "id": "fec88cf9-75be-4eca-bb75-1bfee584c40c",
   "metadata": {},
   "outputs": [
    {
     "name": "stdout",
     "output_type": "stream",
     "text": [
      "('Orange Juice', 'Apple Juice', 'Scrambled Eggs', 'Pancakes')\n"
     ]
    }
   ],
   "source": [
    "def print_order(*order_items):\n",
    "  print(order_items)\n",
    "\n",
    "print_order('Orange Juice', 'Apple Juice', 'Scrambled Eggs', 'Pancakes')"
   ]
  },
  {
   "cell_type": "code",
   "execution_count": 2,
   "id": "41ad9ab5-0be4-465d-9a29-a5a8340f9d05",
   "metadata": {},
   "outputs": [
    {
     "name": "stdout",
     "output_type": "stream",
     "text": [
      "{1: {'name': 'Jiho', 'vip_status': False, 'order': 'Orange Juice, Apple Juice'}, 2: {}, 3: {}, 4: {}, 5: {}, 6: {}, 7: {}}\n",
      "order Steak\n",
      "order Seabass\n",
      "order Wine Bottle\n",
      "{1: {'name': 'Jiho', 'vip_status': False, 'order': 'Orange Juice, Apple Juice'}, 2: {'name': 'Arwa', 'vip_status': True, 'order': ('Steak', 'Seabass', 'Wine Bottle')}, 3: {}, 4: {}, 5: {}, 6: {}, 7: {}}\n"
     ]
    }
   ],
   "source": [
    "tables = {\n",
    "  1: {\n",
    "    'name': 'Jiho',\n",
    "    'vip_status': False,\n",
    "    'order': 'Orange Juice, Apple Juice'\n",
    "  },\n",
    "  2: {},\n",
    "  3: {},\n",
    "  4: {},\n",
    "  5: {},\n",
    "  6: {},\n",
    "  7: {},\n",
    "}\n",
    "print(tables)\n",
    "\n",
    "def assign_table(table_number, name, vip_status=False): \n",
    "  tables[table_number]['name'] = name\n",
    "  tables[table_number]['vip_status'] = vip_status\n",
    "  tables[table_number]['order'] = ''\n",
    "\n",
    "def assign_and_print_order(table_number, *order_items):\n",
    "  for order in order_items:\n",
    "    print('order', order)\n",
    "  tables[table_number]['order'] = order_items\n",
    "# Write your code below: \n",
    "assign_table(2,'Arwa', True)\n",
    "\n",
    "assign_and_print_order(2, 'Steak', 'Seabass', 'Wine Bottle')\n",
    "print(tables)"
   ]
  },
  {
   "cell_type": "markdown",
   "id": "cf214367-f5f6-43df-9fc9-6b0b605bbb8a",
   "metadata": {},
   "source": [
    "# Variable number of arguments: **kwargs"
   ]
  },
  {
   "cell_type": "code",
   "execution_count": 6,
   "id": "81f2054d-cef1-4b37-bea7-a2f68d55e8c9",
   "metadata": {},
   "outputs": [
    {
     "name": "stdout",
     "output_type": "stream",
     "text": [
      "{1: {'name': 'Chioma', 'vip_status': False, 'order': {'drinks': 'Orange Juice, Apple Juice', 'food_items': 'Pancakes'}}, 2: {}, 3: {}, 4: {}, 5: {}, 6: {}, 7: {}}\n",
      "{'food': 'Pancakes, Poached Egg', 'drinks': 'Water'}\n",
      "Pancakes, Poached Egg\n",
      "Water\n"
     ]
    }
   ],
   "source": [
    "# Checkpoint 1 \n",
    "# Example Structure\n",
    "tables = {\n",
    "  1: {\n",
    "    'name': 'Chioma',\n",
    "    'vip_status': False,\n",
    "    'order': {\n",
    "      'drinks': 'Orange Juice, Apple Juice',\n",
    "      'food_items': 'Pancakes'\n",
    "    }\n",
    "  },\n",
    "  2: {},\n",
    "  3: {},\n",
    "  4: {},\n",
    "  5: {},\n",
    "  6: {},\n",
    "  7: {},\n",
    "}\n",
    "print(tables)\n",
    "\n",
    "#Checkpoint 2\n",
    "def assign_food_items(**order_items):\n",
    "  print(order_items)\n",
    "  # Checkpoint 3\n",
    "  food = order_items.get('food')\n",
    "  drinks = order_items.get('drinks')\n",
    "  # Checkpoint 4\n",
    "  print(food)\n",
    "  print(drinks)\n",
    "  \n",
    "# Checkpoint 5\n",
    "# Example Call\n",
    "assign_food_items(food='Pancakes, Poached Egg', drinks='Water')"
   ]
  },
  {
   "cell_type": "markdown",
   "id": "9d143650-f7bd-4ae4-9c5d-bf9f2f9b1f0f",
   "metadata": {},
   "source": [
    "# Working with **kwargs"
   ]
  },
  {
   "cell_type": "code",
   "execution_count": 7,
   "id": "f79acd55-9caa-44f7-8c99-4fad2b4bf850",
   "metadata": {},
   "outputs": [
    {
     "name": "stdout",
     "output_type": "stream",
     "text": [
      "arg1\n",
      "True\n",
      "100\n"
     ]
    }
   ],
   "source": [
    "def print_data(**data):\n",
    "  for arg in data.values():\n",
    "    print(arg)\n",
    " \n",
    "print_data(a='arg1', b=True, c=100)"
   ]
  },
  {
   "cell_type": "code",
   "execution_count": 10,
   "id": "1136a376-8ec7-4ace-bbf2-6fe39d964901",
   "metadata": {},
   "outputs": [
    {
     "name": "stdout",
     "output_type": "stream",
     "text": [
      "position 1\n",
      "arg1\n",
      "True\n",
      "100\n"
     ]
    }
   ],
   "source": [
    "def print_data(positional_arg, **data):\n",
    "  print(positional_arg)\n",
    "  for arg in data.values():\n",
    "    print(arg)\n",
    " \n",
    "print_data('position 1', a='arg1', b=True, c=100)"
   ]
  },
  {
   "cell_type": "code",
   "execution_count": null,
   "id": "d3561067-d2ee-4225-b4cf-0f5368d1f01f",
   "metadata": {},
   "outputs": [],
   "source": []
  }
 ],
 "metadata": {
  "kernelspec": {
   "display_name": "Python 3 (ipykernel)",
   "language": "python",
   "name": "python3"
  },
  "language_info": {
   "codemirror_mode": {
    "name": "ipython",
    "version": 3
   },
   "file_extension": ".py",
   "mimetype": "text/x-python",
   "name": "python",
   "nbconvert_exporter": "python",
   "pygments_lexer": "ipython3",
   "version": "3.10.9"
  }
 },
 "nbformat": 4,
 "nbformat_minor": 5
}
