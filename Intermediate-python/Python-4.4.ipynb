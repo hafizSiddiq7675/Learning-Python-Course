{
 "cells": [
  {
   "cell_type": "markdown",
   "id": "652a7bf3-77fd-4458-a9ad-cf794c9e9e36",
   "metadata": {},
   "source": [
    "# More On Object Oriented Programing"
   ]
  },
  {
   "cell_type": "markdown",
   "id": "6f1db0e7-faca-4449-93f8-84474cdf1177",
   "metadata": {},
   "source": [
    "## Inheritence"
   ]
  },
  {
   "cell_type": "code",
   "execution_count": 1,
   "id": "b78ab1ce-6ece-44cb-9233-56e693d5213f",
   "metadata": {},
   "outputs": [],
   "source": [
    "class Dog:\n",
    " \n",
    "  def bark(self):\n",
    "    print('Woof!')\n",
    " \n",
    "class Cat:\n",
    " \n",
    "  def meow(self):\n",
    "    print('Meow!')"
   ]
  },
  {
   "cell_type": "code",
   "execution_count": 5,
   "id": "84d8c1f9-e59e-4669-babc-3880e74ff5a2",
   "metadata": {},
   "outputs": [],
   "source": [
    "class Animal: \n",
    "  def eat(self): \n",
    "    print(\"Nom Nom Nom...eating food!\")"
   ]
  },
  {
   "cell_type": "code",
   "execution_count": 6,
   "id": "ea300b6c-e464-4ce7-9fa1-96b8f73176e0",
   "metadata": {},
   "outputs": [],
   "source": [
    "class ParentClass:\n",
    "    pass\n",
    "  #class methods/properties...\n",
    " \n",
    "class ChildClass(ParentClass):\n",
    "    pass\n",
    "  #class methods/properties..."
   ]
  },
  {
   "cell_type": "code",
   "execution_count": 7,
   "id": "7217d291-1db9-40a9-9d02-8292da91cede",
   "metadata": {},
   "outputs": [],
   "source": [
    "class Dog(Animal):\n",
    "  def bark(self):\n",
    "    print('Bark!')\n",
    " \n",
    "class Cat(Animal):\n",
    "  def meow(self):\n",
    "    print('Meow!')"
   ]
  },
  {
   "cell_type": "code",
   "execution_count": 8,
   "id": "d33b7ccb-1334-4502-9dcc-176d61d33d87",
   "metadata": {},
   "outputs": [
    {
     "name": "stdout",
     "output_type": "stream",
     "text": [
      "Nom Nom Nom...eating food!\n",
      "Nom Nom Nom...eating food!\n"
     ]
    }
   ],
   "source": [
    "fluffy = Dog()\n",
    "zoomie = Cat()\n",
    " \n",
    "fluffy.eat() # Nom Nom Nom...eating food!\n",
    "zoomie.eat() # Nom Nom Nom...eating food!"
   ]
  },
  {
   "cell_type": "code",
   "execution_count": 9,
   "id": "9937f0d3-59bd-4005-9b72-feb521ddbd81",
   "metadata": {},
   "outputs": [
    {
     "name": "stdout",
     "output_type": "stream",
     "text": [
      "My id is 3.\n"
     ]
    }
   ],
   "source": [
    "class Employee():\n",
    "  new_id = 1\n",
    "  def __init__(self):\n",
    "    self.id = Employee.new_id\n",
    "    Employee.new_id += 1\n",
    "\n",
    "  def say_id(self):\n",
    "    print(\"My id is {}.\".format(self.id))\n",
    "\n",
    "# Write your code below\n",
    "class Admin(Employee):\n",
    "  pass\n",
    "\n",
    "e1 = Employee()\n",
    "e2 = Employee()\n",
    "e3 = Admin()\n",
    "e3.say_id()"
   ]
  },
  {
   "cell_type": "markdown",
   "id": "160c941d-a02b-4519-972d-babbd84060c1",
   "metadata": {},
   "source": [
    "## Inheritence Implementation (Overriding)"
   ]
  },
  {
   "cell_type": "markdown",
   "id": "c8c94241-f7c1-4295-9581-7142d3840501",
   "metadata": {},
   "source": [
    "When implementing **inheritance**, a _child class_ may want to change the behavior of a method from its _parent class_. In Python, all we have to do is **override** a method definition.\n",
    "\n",
    "An _overriding method_ in a subclass is one that:\n",
    "\n",
    "- Has the same definition as the parent class.\n",
    "- Contains different behavior.\n"
   ]
  },
  {
   "cell_type": "code",
   "execution_count": 11,
   "id": "44af7e3b-b8d9-405e-aa74-9aa3c72d7d85",
   "metadata": {},
   "outputs": [
    {
     "name": "stdout",
     "output_type": "stream",
     "text": [
      "Rex says, Grrrr\n"
     ]
    }
   ],
   "source": [
    "class Animal:\n",
    "  def __init__(self, name):\n",
    "    self.name = name\n",
    " \n",
    "  def make_noise(self):\n",
    "    print(\"{} says, Grrrr\".format(self.name))\n",
    " \n",
    "pet1 = Animal(\"Rex\")\n",
    "pet1.make_noise() # Rex says, Grrrr"
   ]
  },
  {
   "cell_type": "code",
   "execution_count": 13,
   "id": "f969798f-5c41-4c99-b217-442d0e291656",
   "metadata": {},
   "outputs": [
    {
     "name": "stdout",
     "output_type": "stream",
     "text": [
      "Maisy says, Meow!\n",
      "Cheetah says, Grrrr\n"
     ]
    }
   ],
   "source": [
    "class Cat(Animal):\n",
    " \n",
    "  def make_noise(self):\n",
    "    print(\"{} says, Meow!\".format(self.name))\n",
    " \n",
    "class Lion(Animal):\n",
    "    pass\n",
    "\n",
    "pet2 = Cat(\"Maisy\")\n",
    "pet2.make_noise() # Maisy says, Meow!\n",
    "\n",
    "pet3 = Lion(\"Cheetah\")\n",
    "\n",
    "pet3.make_noise()"
   ]
  },
  {
   "cell_type": "code",
   "execution_count": 14,
   "id": "5036edce-ea91-4150-a0f7-742aca06d31e",
   "metadata": {},
   "outputs": [],
   "source": [
    "class Admin(Employee):\n",
    "  # Write your code below\n",
    "  def say_id(self):\n",
    "    print(\"I am an Admin\")"
   ]
  },
  {
   "cell_type": "code",
   "execution_count": 15,
   "id": "1ceab97a-815e-422f-9fde-69570a04abaa",
   "metadata": {},
   "outputs": [
    {
     "name": "stdout",
     "output_type": "stream",
     "text": [
      "I am an Admin\n"
     ]
    }
   ],
   "source": [
    "e4 = Admin()\n",
    "e4.say_id()"
   ]
  },
  {
   "cell_type": "markdown",
   "id": "a2d7d189-c72b-4eb3-91ff-f14e76541584",
   "metadata": {},
   "source": [
    "## super()"
   ]
  },
  {
   "cell_type": "markdown",
   "id": "20882737-f402-4680-ad4a-ed5ddf5959e3",
   "metadata": {},
   "source": [
    "When **overriding methods** we sometimes want to still access the behavior of the parent method. In order to do that we need a way to _call the method of the parent class_.\n",
    "\n",
    "`super()` gives us a proxy object. With this proxy object, we can invoke the method of an object’s **parent class** (also called its **superclass**)."
   ]
  },
  {
   "cell_type": "code",
   "execution_count": 18,
   "id": "3e1820fa-43fe-4373-b79d-a536a99dd096",
   "metadata": {},
   "outputs": [
    {
     "name": "stdout",
     "output_type": "stream",
     "text": [
      "Rachel says, Meow!\n",
      "Dog says, Bark!\n"
     ]
    }
   ],
   "source": [
    "class Animal:\n",
    "  def __init__(self, name, sound=\"Grrrr\"):\n",
    "    self.name = name\n",
    "    self.sound = sound\n",
    " \n",
    "  def make_noise(self):\n",
    "    print(\"{} says, {}\".format(self.name, self.sound))\n",
    " \n",
    "class Cat(Animal):\n",
    "  def __init__(self, name):\n",
    "    super().__init__(name, \"Meow!\") \n",
    "\n",
    "class Dog(Animal):\n",
    "    def __init__(self, name):\n",
    "        super().__init__(name, \"Bark!\")\n",
    " \n",
    "pet_cat = Cat(\"Rachel\")\n",
    "pet_cat.make_noise() # Rachel says, Meow!\n",
    "\n",
    "pet_dog = Dog(\"Dog\")\n",
    "pet_dog.make_noise()"
   ]
  },
  {
   "cell_type": "code",
   "execution_count": 19,
   "id": "ad305bc2-8b13-4beb-9e9e-c10593255882",
   "metadata": {},
   "outputs": [],
   "source": [
    "class Admin(Employee):\n",
    "  def say_id(self):\n",
    "    super().say_id()\n",
    "    print(\"I am an admin.\")"
   ]
  },
  {
   "cell_type": "code",
   "execution_count": 20,
   "id": "c6e511fd-938a-43da-9af4-996298abd68b",
   "metadata": {},
   "outputs": [
    {
     "name": "stdout",
     "output_type": "stream",
     "text": [
      "My id is 5.\n",
      "I am an admin.\n"
     ]
    }
   ],
   "source": [
    "e4 = Admin()\n",
    "e4.say_id()"
   ]
  },
  {
   "cell_type": "markdown",
   "id": "732564d1-e202-4eca-98bf-ff38c7180aa1",
   "metadata": {},
   "source": [
    "## Multiple Inheritance: Part 1"
   ]
  },
  {
   "cell_type": "markdown",
   "id": "f06e30cf-aece-4b1e-a409-e62e761f83c4",
   "metadata": {},
   "source": [
    "Let’s now look at a feature allowed by Python called **multiple inheritance**. As you may have guessed from the name, this is when a subclass inherits from more than one superclass.\n"
   ]
  },
  {
   "cell_type": "code",
   "execution_count": 21,
   "id": "09de56a4-85a9-4fcb-a6c4-e837e9abcb4f",
   "metadata": {},
   "outputs": [
    {
     "name": "stdout",
     "output_type": "stream",
     "text": [
      "Mr. Cranky says, Hi!\n"
     ]
    }
   ],
   "source": [
    "class Animal:\n",
    "  def __init__(self, name):\n",
    "    self.name = name\n",
    " \n",
    "  def say_hi(self):\n",
    "    print(\"{} says, Hi!\".format(self.name))\n",
    " \n",
    "class Cat(Animal):\n",
    "  pass\n",
    " \n",
    "class Angry_Cat(Cat):\n",
    "  pass\n",
    " \n",
    "my_pet = Angry_Cat(\"Mr. Cranky\")\n",
    "my_pet.say_hi() # Mr. Cranky says, Hi!"
   ]
  },
  {
   "cell_type": "code",
   "execution_count": 22,
   "id": "3e94fe4f-2b01-41b4-a685-4b9c79a5dd27",
   "metadata": {},
   "outputs": [],
   "source": [
    "# Write your code below\n",
    "class Manager(Admin):\n",
    "  def say_id(self): # Overriding\n",
    "    super().say_id()\n",
    "    print(\"In charge\")"
   ]
  },
  {
   "cell_type": "code",
   "execution_count": 23,
   "id": "b8410a4f-68f4-4baf-8216-a449d6e9076a",
   "metadata": {},
   "outputs": [
    {
     "name": "stdout",
     "output_type": "stream",
     "text": [
      "My id is 6.\n",
      "I am an admin.\n",
      "In charge\n"
     ]
    }
   ],
   "source": [
    "e4 = Manager()\n",
    "e4.say_id()"
   ]
  },
  {
   "cell_type": "markdown",
   "id": "b026f019-9dca-41a3-8ea7-d07655572f6d",
   "metadata": {},
   "source": [
    "## Multiple Inheritance: Part 2"
   ]
  },
  {
   "cell_type": "markdown",
   "id": "f80ecc31-171c-4784-96c0-48fd01a3ab09",
   "metadata": {},
   "source": [
    "Another form of **multiple inheritance** involves a subclass that inherits directly from two classes and can use the attributes and methods of both."
   ]
  },
  {
   "cell_type": "code",
   "execution_count": 24,
   "id": "07125a07-114d-422a-a679-08713bd8f360",
   "metadata": {},
   "outputs": [
    {
     "name": "stdout",
     "output_type": "stream",
     "text": [
      "Fluffy wags tail. Awwww\n",
      "Fluffy bites. OUCH!\n"
     ]
    }
   ],
   "source": [
    "class Animal:\n",
    "  def __init__(self, name):\n",
    "    self.name = name\n",
    " \n",
    "class Dog(Animal):\n",
    "  def action(self):\n",
    "    print(\"{} wags tail. Awwww\".format(self.name))\n",
    " \n",
    "class Wolf(Animal):\n",
    "  def action(self):\n",
    "    print(\"{} bites. OUCH!\".format(self.name))\n",
    " \n",
    "class Hybrid(Dog, Wolf):\n",
    "  def action(self):\n",
    "    super().action()\n",
    "    Wolf.action(self)\n",
    " \n",
    "my_pet = Hybrid(\"Fluffy\")\n",
    "my_pet.action()"
   ]
  },
  {
   "cell_type": "code",
   "execution_count": 25,
   "id": "d5eb8327-f2bf-489b-bb1a-26393e19fc85",
   "metadata": {},
   "outputs": [
    {
     "name": "stdout",
     "output_type": "stream",
     "text": [
      "My username is Admin\n",
      "My role is Customer\n"
     ]
    }
   ],
   "source": [
    "class Employee():\n",
    "  new_id = 1\n",
    "  def __init__(self):\n",
    "    self.id = Employee.new_id\n",
    "    Employee.new_id += 1\n",
    "\n",
    "  def say_id(self):\n",
    "    print(\"My id is {}.\".format(self.id))\n",
    "\n",
    "class User:\n",
    "  def __init__(self, username, role=\"Customer\"):\n",
    "    self.username = username\n",
    "    self.role = role\n",
    "\n",
    "  def say_user_info(self):\n",
    "    print(\"My username is {}\".format(self.username))\n",
    "    print(\"My role is {}\".format(self.role))\n",
    "\n",
    "# Write your code below\n",
    "class Admin(Employee, User):\n",
    "  def __init__(self):\n",
    "    User.__init__(self, \"Admin\")\n",
    "    super().__init__()\n",
    "    \n",
    "\n",
    "  def say_id(self):\n",
    "    super().say_id()\n",
    "    print(\"I am an admin.\")\n",
    "\n",
    "e1 = Employee()\n",
    "e2 = Employee()\n",
    "e3 = Admin()\n",
    "e3.say_user_info()\n"
   ]
  },
  {
   "cell_type": "markdown",
   "id": "95520919-2e87-4ea6-9109-723783bca1c9",
   "metadata": {},
   "source": [
    "## Polymorphism\n",
    "**Polymorphism** is the ability to apply an identical operation onto different types of objects."
   ]
  },
  {
   "cell_type": "code",
   "execution_count": 34,
   "id": "b469ce47-ccac-4264-a8db-270b73dcc357",
   "metadata": {},
   "outputs": [],
   "source": [
    "class Animal:\n",
    "  def __init__(self, name):\n",
    "    self.name = name\n",
    " \n",
    "  def make_noise(self):\n",
    "    print(\"{} says, Grrrr\".format(self.name))\n",
    " \n",
    "class Cat(Animal):\n",
    " \n",
    "  def make_noise(self):\n",
    "    print(\"{} says, Meow!\".format(self.name))\n",
    " \n",
    "class Robot:\n",
    "  \n",
    "  def make_noise(self):\n",
    "    print(\"{} beep.boop...BEEEEP!!!\")"
   ]
  },
  {
   "cell_type": "code",
   "execution_count": 35,
   "id": "0f082626-f707-4f7e-a422-f4fe72a23a31",
   "metadata": {},
   "outputs": [
    {
     "name": "stdout",
     "output_type": "stream",
     "text": [
      "Bear says, Grrrr\n",
      "Maisy says, Meow!\n",
      "{} beep.boop...BEEEEP!!!\n"
     ]
    }
   ],
   "source": [
    "an_animal = Animal(\"Bear\")\n",
    "my_pet = Cat(\"Maisy\")\n",
    "my_vacuum = Robot()\n",
    "objects = [an_animal, my_pet, my_vacuum]\n",
    "for o in objects:\n",
    "  o.make_noise()"
   ]
  },
  {
   "cell_type": "markdown",
   "id": "506dab05-f496-494e-aaa3-f6183daa39ee",
   "metadata": {},
   "source": [
    "## Dunder Methods\n",
    "The code below shows that when working with different object types like, `int`, `str` or `list`, the `+` operator performs different functions. This is known as **operator overloading** and is another form of **polymorphism**."
   ]
  },
  {
   "cell_type": "code",
   "execution_count": 31,
   "id": "a8f51eea-f7fa-4d82-895b-0db90384791c",
   "metadata": {},
   "outputs": [
    {
     "data": {
      "text/plain": [
       "True"
      ]
     },
     "execution_count": 31,
     "metadata": {},
     "output_type": "execute_result"
    }
   ],
   "source": [
    "# For an int and an int, + returns an int\n",
    "2 + 4 == 6\n",
    " \n",
    "# For a string and a string, + returns a string\n",
    "\"Is this \" + \"addition?\" == \"Is this addition?\"\n",
    " \n",
    "# For a list and a list, + returns a list\n",
    "[1, 2] + [3, 4] == [1, 2, 3, 4]"
   ]
  },
  {
   "cell_type": "markdown",
   "id": "55a4f2be-e3ed-4549-9ba1-3d2d1a002e0a",
   "metadata": {},
   "source": [
    "To implement this behavior, we must first discuss **dunder methods**. Every defined class in Python has access to a group of these special methods. We’ve explored a few already, the constructor `__init__()` and the string representation method `__repr__()`. The name _dunder method_ is derived from the **Double UNDERscores** that surround the name of each method.\n"
   ]
  },
  {
   "cell_type": "code",
   "execution_count": 38,
   "id": "bb6b8122-4054-4586-a886-91e37a8fc236",
   "metadata": {},
   "outputs": [
    {
     "name": "stdout",
     "output_type": "stream",
     "text": [
      "Horse\n",
      "Penguin\n",
      "HorsePenguin\n"
     ]
    }
   ],
   "source": [
    "class Animal:\n",
    "  def __init__(self, name):\n",
    "    self.name = name\n",
    " \n",
    "  def __repr__(self):\n",
    "    return self.name\n",
    " \n",
    "  def __add__(self, another_animal):\n",
    "    return Animal(self.name + another_animal.name)\n",
    " \n",
    "a1 = Animal(\"Horse\")\n",
    "a2 = Animal(\"Penguin\")\n",
    "a3 = a1 + a2\n",
    "print(a1) # Prints \"Horse\"\n",
    "print(a2) # Prints \"Penguin\"\n",
    "print(a3) # Prints \"HorsePenguin\""
   ]
  },
  {
   "cell_type": "markdown",
   "id": "01773646-9c55-4c11-9c54-643acade1b99",
   "metadata": {},
   "source": [
    "The above code has the class `Animal` with a dunder method, `.__add__()`. This defines the `+` operator behavior when used on objects of this class type. The method returns a new `Animal` object with the names of the operand objects concatenated. In this example, we have created a _\"HorsePenguin\"_!"
   ]
  },
  {
   "cell_type": "markdown",
   "id": "55f97428-7d4f-4cee-9246-4aec082cf1e4",
   "metadata": {},
   "source": [
    "## Abstraction"
   ]
  },
  {
   "cell_type": "code",
   "execution_count": 39,
   "id": "3c1530be-583f-42fb-ba7f-91b59e9b4b73",
   "metadata": {},
   "outputs": [
    {
     "ename": "TypeError",
     "evalue": "Can't instantiate abstract class Employee with abstract method say_id",
     "output_type": "error",
     "traceback": [
      "\u001b[0;31m---------------------------------------------------------------------------\u001b[0m",
      "\u001b[0;31mTypeError\u001b[0m                                 Traceback (most recent call last)",
      "Cell \u001b[0;32mIn[39], line 17\u001b[0m\n\u001b[1;32m     14\u001b[0m \u001b[38;5;28;01mclass\u001b[39;00m \u001b[38;5;21;01mEmployee\u001b[39;00m(AbstractEmployee):\n\u001b[1;32m     15\u001b[0m     \u001b[38;5;28;01mpass\u001b[39;00m\n\u001b[0;32m---> 17\u001b[0m e1 \u001b[38;5;241m=\u001b[39m \u001b[43mEmployee\u001b[49m\u001b[43m(\u001b[49m\u001b[43m)\u001b[49m\n\u001b[1;32m     18\u001b[0m e1\u001b[38;5;241m.\u001b[39msay_id()\n",
      "\u001b[0;31mTypeError\u001b[0m: Can't instantiate abstract class Employee with abstract method say_id"
     ]
    }
   ],
   "source": [
    "from abc import ABC, abstractmethod\n",
    "\n",
    "class AbstractEmployee(ABC):\n",
    "  new_id = 1\n",
    "  def __init__(self):\n",
    "    self.id = AbstractEmployee.new_id\n",
    "    AbstractEmployee.new_id += 1\n",
    "\n",
    "  @abstractmethod\n",
    "  def say_id(self):\n",
    "    pass\n",
    "\n",
    "# Write your code below\n",
    "class Employee(AbstractEmployee):\n",
    "    pass\n",
    "\n",
    "e1 = Employee()\n",
    "e1.say_id()"
   ]
  },
  {
   "cell_type": "code",
   "execution_count": 41,
   "id": "b0c9a2ac-57b8-43f7-a402-a1df69c8dd1c",
   "metadata": {},
   "outputs": [
    {
     "data": {
      "text/plain": [
       "1"
      ]
     },
     "execution_count": 41,
     "metadata": {},
     "output_type": "execute_result"
    }
   ],
   "source": [
    "from abc import ABC, abstractmethod\n",
    "\n",
    "class AbstractEmployee(ABC):\n",
    "  new_id = 1\n",
    "  def __init__(self):\n",
    "    self.id = AbstractEmployee.new_id\n",
    "    AbstractEmployee.new_id += 1\n",
    "\n",
    "  @abstractmethod\n",
    "  def say_id(self):\n",
    "    pass\n",
    "\n",
    "# Write your code below\n",
    "class Employee(AbstractEmployee):\n",
    "    def say_id(self):\n",
    "      return self.id\n",
    "\n",
    "e1 = Employee()\n",
    "e1.say_id()"
   ]
  },
  {
   "cell_type": "markdown",
   "id": "a047530c-315a-4184-8469-171ebbcc0bc0",
   "metadata": {},
   "source": [
    "## Encapsulation"
   ]
  },
  {
   "cell_type": "markdown",
   "id": "f206da8d-e39a-4ab3-8ad9-f16c6be460f1",
   "metadata": {},
   "source": [
    "**Encapsulation** is the process of making methods and data hidden inside the object they relate to. Languages accomplish this with what are called **access modifiers** like:\n",
    "\n",
    "- **Public**\n",
    "- **Protected**\n",
    "- **Private**\n",
    "\n",
    "Python doesn’t have any inbuilt mechanism to prevent access from any member (i.e. all members are **public** in Python). However, there is a common convention amongst developers to use a single underscore `self._x` to indicate that a member is **protected**.\n",
    "\n",
    "This is more than just a convention in Python because of a mechanism called **name mangling**."
   ]
  },
  {
   "cell_type": "markdown",
   "id": "5cceffdd-b71a-455e-9de8-cd92d7782596",
   "metadata": {},
   "source": [
    "## Encapsulation Implementation Getters, Setters and Deleters"
   ]
  },
  {
   "cell_type": "code",
   "execution_count": 50,
   "id": "f702569f-9f52-4823-8d9b-31b36cc411d6",
   "metadata": {},
   "outputs": [],
   "source": [
    "class Animal:\n",
    "  def __init__(self, name):\n",
    "    self._name = name\n",
    "    self._age = None\n",
    " \n",
    "  def get_age(self):\n",
    "    return self._age\n",
    " \n",
    "  def set_age(self, new_age):\n",
    "    if isinstance(new_age, int):\n",
    "      self._age = new_age\n",
    "    else:\n",
    "      raise TypeError\n",
    " \n",
    "  def delete_age(self):\n",
    "    print(\"_age Deleted\")\n",
    "    del self._age"
   ]
  },
  {
   "cell_type": "code",
   "execution_count": 51,
   "id": "29a866bf-e8b6-4da8-a56f-e5c5d0901755",
   "metadata": {},
   "outputs": [
    {
     "name": "stdout",
     "output_type": "stream",
     "text": [
      "None\n",
      "10\n",
      "_age Deleted\n"
     ]
    },
    {
     "ename": "AttributeError",
     "evalue": "'Animal' object has no attribute '_age'",
     "output_type": "error",
     "traceback": [
      "\u001b[0;31m---------------------------------------------------------------------------\u001b[0m",
      "\u001b[0;31mAttributeError\u001b[0m                            Traceback (most recent call last)",
      "Cell \u001b[0;32mIn[51], line 10\u001b[0m\n\u001b[1;32m      7\u001b[0m a\u001b[38;5;241m.\u001b[39mset_age(\u001b[38;5;241m20\u001b[39m) \u001b[38;5;66;03m# Raises a TypeError\u001b[39;00m\n\u001b[1;32m      9\u001b[0m a\u001b[38;5;241m.\u001b[39mdelete_age() \u001b[38;5;66;03m# \"_age Deleted\"\u001b[39;00m\n\u001b[0;32m---> 10\u001b[0m \u001b[38;5;28mprint\u001b[39m(\u001b[43ma\u001b[49m\u001b[38;5;241;43m.\u001b[39;49m\u001b[43mget_age\u001b[49m\u001b[43m(\u001b[49m\u001b[43m)\u001b[49m)\n",
      "Cell \u001b[0;32mIn[50], line 7\u001b[0m, in \u001b[0;36mAnimal.get_age\u001b[0;34m(self)\u001b[0m\n\u001b[1;32m      6\u001b[0m \u001b[38;5;28;01mdef\u001b[39;00m \u001b[38;5;21mget_age\u001b[39m(\u001b[38;5;28mself\u001b[39m):\n\u001b[0;32m----> 7\u001b[0m   \u001b[38;5;28;01mreturn\u001b[39;00m \u001b[38;5;28;43mself\u001b[39;49m\u001b[38;5;241;43m.\u001b[39;49m\u001b[43m_age\u001b[49m\n",
      "\u001b[0;31mAttributeError\u001b[0m: 'Animal' object has no attribute '_age'"
     ]
    }
   ],
   "source": [
    "a = Animal(\"Rufus\")\n",
    "print(a.get_age()) # None\n",
    " \n",
    "a.set_age(10)\n",
    "print(a.get_age()) # 10\n",
    " \n",
    "a.set_age(20) # Raises a TypeError\n",
    " \n",
    "a.delete_age() # \"_age Deleted\"\n",
    "print(a.get_age()) # Raises a AttributeError"
   ]
  },
  {
   "cell_type": "code",
   "execution_count": 40,
   "id": "64e65892-de53-4d98-b9e8-e9731dd2d58e",
   "metadata": {},
   "outputs": [],
   "source": [
    "from abc import ABC, abstractmethod\n",
    "\n",
    "class AbstractEmployee(ABC):\n",
    "  new_id = 1\n",
    "  def __init__(self):\n",
    "    self.id = AbstractEmployee.new_id\n",
    "    AbstractEmployee.new_id += 1\n",
    "\n",
    "  @abstractmethod\n",
    "  def say_id(self):\n",
    "    pass\n",
    "\n",
    "class User:\n",
    "  def __init__(self):\n",
    "    self._username = None\n",
    "\n",
    "  @property\n",
    "  def username(self):\n",
    "    return self._username\n",
    "\n",
    "  @username.setter\n",
    "  def username(self, new_name):\n",
    "    self._username = new_name\n",
    "\n",
    "class Meeting:\n",
    "  def __init__(self):\n",
    "    self.attendees = []\n",
    "  \n",
    "  def __add__(self, employee):\n",
    "    print(\"{} added.\".format(employee.username))\n",
    "    self.attendees.append(employee.username)\n",
    "\n",
    "  def __len__(self):\n",
    "    return len(self.attendees)\n",
    "\n",
    "class Employee(AbstractEmployee, User):\n",
    "    def __init__(self, username):\n",
    "      super().__init__()\n",
    "      User.__init__(self)\n",
    "      self.username = username\n",
    "\n",
    "    def say_id(self):\n",
    "      print(\"My id is {}\".format(self.id))\n",
    " \n",
    "    def say_username(self):\n",
    "      print(\"My username is {}\".format(self.username))"
   ]
  },
  {
   "cell_type": "code",
   "execution_count": null,
   "id": "b9c38277-0eb0-49ea-992d-d695a55132d2",
   "metadata": {},
   "outputs": [],
   "source": []
  }
 ],
 "metadata": {
  "kernelspec": {
   "display_name": "Python 3 (ipykernel)",
   "language": "python",
   "name": "python3"
  },
  "language_info": {
   "codemirror_mode": {
    "name": "ipython",
    "version": 3
   },
   "file_extension": ".py",
   "mimetype": "text/x-python",
   "name": "python",
   "nbconvert_exporter": "python",
   "pygments_lexer": "ipython3",
   "version": "3.10.9"
  }
 },
 "nbformat": 4,
 "nbformat_minor": 5
}
