{
 "cells": [
  {
   "cell_type": "markdown",
   "id": "18d4cee9-449f-4620-93da-29371f9d8d76",
   "metadata": {},
   "source": [
    "# Built in namespaces\n",
    "\n",
    "A **namespace** in Python is a space where names (identifiers like variables, functions, classes, etc.) are mapped to their corresponding objects. This allows us to differentiate between the same name used in different scopes or parts of the program, thereby preventing naming conflicts.\n"
   ]
  },
  {
   "cell_type": "code",
   "execution_count": 1,
   "id": "cfe3a64a-4447-4b6b-a78d-9115acfb972c",
   "metadata": {},
   "outputs": [
    {
     "name": "stdout",
     "output_type": "stream",
     "text": [
      "['ArithmeticError', 'AssertionError', 'AttributeError', 'BaseException', 'BlockingIOError', 'BrokenPipeError', 'BufferError', 'BytesWarning', 'ChildProcessError', 'ConnectionAbortedError', 'ConnectionError', 'ConnectionRefusedError', 'ConnectionResetError', 'DeprecationWarning', 'EOFError', 'Ellipsis', 'EncodingWarning', 'EnvironmentError', 'Exception', 'False', 'FileExistsError', 'FileNotFoundError', 'FloatingPointError', 'FutureWarning', 'GeneratorExit', 'IOError', 'ImportError', 'ImportWarning', 'IndentationError', 'IndexError', 'InterruptedError', 'IsADirectoryError', 'KeyError', 'KeyboardInterrupt', 'LookupError', 'MemoryError', 'ModuleNotFoundError', 'NameError', 'None', 'NotADirectoryError', 'NotImplemented', 'NotImplementedError', 'OSError', 'OverflowError', 'PendingDeprecationWarning', 'PermissionError', 'ProcessLookupError', 'RecursionError', 'ReferenceError', 'ResourceWarning', 'RuntimeError', 'RuntimeWarning', 'StopAsyncIteration', 'StopIteration', 'SyntaxError', 'SyntaxWarning', 'SystemError', 'SystemExit', 'TabError', 'TimeoutError', 'True', 'TypeError', 'UnboundLocalError', 'UnicodeDecodeError', 'UnicodeEncodeError', 'UnicodeError', 'UnicodeTranslateError', 'UnicodeWarning', 'UserWarning', 'ValueError', 'Warning', 'ZeroDivisionError', '__IPYTHON__', '__build_class__', '__debug__', '__doc__', '__import__', '__loader__', '__name__', '__package__', '__spec__', 'abs', 'aiter', 'all', 'anext', 'any', 'ascii', 'bin', 'bool', 'breakpoint', 'bytearray', 'bytes', 'callable', 'chr', 'classmethod', 'compile', 'complex', 'copyright', 'credits', 'delattr', 'dict', 'dir', 'display', 'divmod', 'enumerate', 'eval', 'exec', 'execfile', 'filter', 'float', 'format', 'frozenset', 'get_ipython', 'getattr', 'globals', 'hasattr', 'hash', 'help', 'hex', 'id', 'input', 'int', 'isinstance', 'issubclass', 'iter', 'len', 'license', 'list', 'locals', 'map', 'max', 'memoryview', 'min', 'next', 'object', 'oct', 'open', 'ord', 'pow', 'print', 'property', 'range', 'repr', 'reversed', 'round', 'runfile', 'set', 'setattr', 'slice', 'sorted', 'staticmethod', 'str', 'sum', 'super', 'tuple', 'type', 'vars', 'zip']\n"
     ]
    }
   ],
   "source": [
    "print(dir(__builtins__))"
   ]
  },
  {
   "cell_type": "markdown",
   "id": "1acb6fd9-ab52-4515-9ffe-5568d04f3bf5",
   "metadata": {},
   "source": [
    "# Global namespace\n",
    "\n",
    "The **global namespace** in Python refers to the namespace where your script lives. All variables, functions, and classes defined outside of any function or class are in the global namespace. These global names are accessible from any part of your code, including inside functions and methods, although care should be taken when manipulating them to avoid potential bugs or confusion."
   ]
  },
  {
   "cell_type": "code",
   "execution_count": 3,
   "id": "5d0f3557-e162-49eb-9d65-c27ecab69624",
   "metadata": {},
   "outputs": [
    {
     "name": "stdout",
     "output_type": "stream",
     "text": [
      "{'__name__': '__main__', '__doc__': 'Automatically created module for IPython interactive environment', '__package__': None, '__loader__': None, '__spec__': None, '__builtin__': <module 'builtins' (built-in)>, '__builtins__': <module 'builtins' (built-in)>, '_ih': ['', 'print(dir(__builtins__))', 'def str():\\n    pass', 'print(globals())'], '_oh': {}, '_dh': [PosixPath('/Users/hafiz/Learning-Python-Course/Intermediate-python')], 'In': ['', 'print(dir(__builtins__))', 'def str():\\n    pass', 'print(globals())'], 'Out': {}, 'get_ipython': <bound method InteractiveShell.get_ipython of <ipykernel.zmqshell.ZMQInteractiveShell object at 0x10587e1d0>>, 'exit': <IPython.core.autocall.ZMQExitAutocall object at 0x10587c3d0>, 'quit': <IPython.core.autocall.ZMQExitAutocall object at 0x10587c3d0>, 'open': <function open at 0x104490160>, '_': '', '__': '', '___': '', '_i': 'def str():\\n    pass', '_ii': 'print(dir(__builtins__))', '_iii': '', '_i1': 'print(dir(__builtins__))', '_i2': 'def str():\\n    pass', 'str': <function str at 0x105272c20>, '_i3': 'print(globals())'}\n"
     ]
    }
   ],
   "source": [
    "print(globals())"
   ]
  },
  {
   "cell_type": "code",
   "execution_count": 4,
   "id": "490f182b-0520-40cb-92a1-5aa10745437e",
   "metadata": {},
   "outputs": [
    {
     "name": "stdout",
     "output_type": "stream",
     "text": [
      " -- Globals Namespace with empty script -- \n",
      "\n",
      "{'__name__': '__main__', '__doc__': 'Automatically created module for IPython interactive environment', '__package__': None, '__loader__': None, '__spec__': None, '__builtin__': <module 'builtins' (built-in)>, '__builtins__': <module 'builtins' (built-in)>, '_ih': ['', 'print(dir(__builtins__))', 'def str():\\n    pass', 'print(globals())', \"print(' -- Globals Namespace with empty script -- \\\\n')\\n# Write Checkpoint 1 here: \\nprint(globals())\\n\\n\\n# Write Checkpoint 2 here: \\n\\nglobal_variable = 'global'\\n\\n\\n# Write Checkpoint 3 here: \\n\\n\\n\\n\\nprint(' \\\\n -- Globals Namespace non-empty script -- \\\\n')\\n# Write Checkpoint 4 here: \\n\\ndef print_global():\\n  global_variable = 'nested global'\\n  nested_variable = 'nested value'\\n\\nprint(globals())\"], '_oh': {}, '_dh': [PosixPath('/Users/hafiz/Learning-Python-Course/Intermediate-python')], 'In': ['', 'print(dir(__builtins__))', 'def str():\\n    pass', 'print(globals())', \"print(' -- Globals Namespace with empty script -- \\\\n')\\n# Write Checkpoint 1 here: \\nprint(globals())\\n\\n\\n# Write Checkpoint 2 here: \\n\\nglobal_variable = 'global'\\n\\n\\n# Write Checkpoint 3 here: \\n\\n\\n\\n\\nprint(' \\\\n -- Globals Namespace non-empty script -- \\\\n')\\n# Write Checkpoint 4 here: \\n\\ndef print_global():\\n  global_variable = 'nested global'\\n  nested_variable = 'nested value'\\n\\nprint(globals())\"], 'Out': {}, 'get_ipython': <bound method InteractiveShell.get_ipython of <ipykernel.zmqshell.ZMQInteractiveShell object at 0x10587e1d0>>, 'exit': <IPython.core.autocall.ZMQExitAutocall object at 0x10587c3d0>, 'quit': <IPython.core.autocall.ZMQExitAutocall object at 0x10587c3d0>, 'open': <function open at 0x104490160>, '_': '', '__': '', '___': '', '_i': 'print(globals())', '_ii': 'def str():\\n    pass', '_iii': 'print(dir(__builtins__))', '_i1': 'print(dir(__builtins__))', '_i2': 'def str():\\n    pass', 'str': <function str at 0x105272c20>, '_i3': 'print(globals())', '_i4': \"print(' -- Globals Namespace with empty script -- \\\\n')\\n# Write Checkpoint 1 here: \\nprint(globals())\\n\\n\\n# Write Checkpoint 2 here: \\n\\nglobal_variable = 'global'\\n\\n\\n# Write Checkpoint 3 here: \\n\\n\\n\\n\\nprint(' \\\\n -- Globals Namespace non-empty script -- \\\\n')\\n# Write Checkpoint 4 here: \\n\\ndef print_global():\\n  global_variable = 'nested global'\\n  nested_variable = 'nested value'\\n\\nprint(globals())\"}\n",
      " \n",
      " -- Globals Namespace non-empty script -- \n",
      "\n",
      "{'__name__': '__main__', '__doc__': 'Automatically created module for IPython interactive environment', '__package__': None, '__loader__': None, '__spec__': None, '__builtin__': <module 'builtins' (built-in)>, '__builtins__': <module 'builtins' (built-in)>, '_ih': ['', 'print(dir(__builtins__))', 'def str():\\n    pass', 'print(globals())', \"print(' -- Globals Namespace with empty script -- \\\\n')\\n# Write Checkpoint 1 here: \\nprint(globals())\\n\\n\\n# Write Checkpoint 2 here: \\n\\nglobal_variable = 'global'\\n\\n\\n# Write Checkpoint 3 here: \\n\\n\\n\\n\\nprint(' \\\\n -- Globals Namespace non-empty script -- \\\\n')\\n# Write Checkpoint 4 here: \\n\\ndef print_global():\\n  global_variable = 'nested global'\\n  nested_variable = 'nested value'\\n\\nprint(globals())\"], '_oh': {}, '_dh': [PosixPath('/Users/hafiz/Learning-Python-Course/Intermediate-python')], 'In': ['', 'print(dir(__builtins__))', 'def str():\\n    pass', 'print(globals())', \"print(' -- Globals Namespace with empty script -- \\\\n')\\n# Write Checkpoint 1 here: \\nprint(globals())\\n\\n\\n# Write Checkpoint 2 here: \\n\\nglobal_variable = 'global'\\n\\n\\n# Write Checkpoint 3 here: \\n\\n\\n\\n\\nprint(' \\\\n -- Globals Namespace non-empty script -- \\\\n')\\n# Write Checkpoint 4 here: \\n\\ndef print_global():\\n  global_variable = 'nested global'\\n  nested_variable = 'nested value'\\n\\nprint(globals())\"], 'Out': {}, 'get_ipython': <bound method InteractiveShell.get_ipython of <ipykernel.zmqshell.ZMQInteractiveShell object at 0x10587e1d0>>, 'exit': <IPython.core.autocall.ZMQExitAutocall object at 0x10587c3d0>, 'quit': <IPython.core.autocall.ZMQExitAutocall object at 0x10587c3d0>, 'open': <function open at 0x104490160>, '_': '', '__': '', '___': '', '_i': 'print(globals())', '_ii': 'def str():\\n    pass', '_iii': 'print(dir(__builtins__))', '_i1': 'print(dir(__builtins__))', '_i2': 'def str():\\n    pass', 'str': <function str at 0x105272c20>, '_i3': 'print(globals())', '_i4': \"print(' -- Globals Namespace with empty script -- \\\\n')\\n# Write Checkpoint 1 here: \\nprint(globals())\\n\\n\\n# Write Checkpoint 2 here: \\n\\nglobal_variable = 'global'\\n\\n\\n# Write Checkpoint 3 here: \\n\\n\\n\\n\\nprint(' \\\\n -- Globals Namespace non-empty script -- \\\\n')\\n# Write Checkpoint 4 here: \\n\\ndef print_global():\\n  global_variable = 'nested global'\\n  nested_variable = 'nested value'\\n\\nprint(globals())\", 'global_variable': 'global', 'print_global': <function print_global at 0x105b8b520>}\n"
     ]
    }
   ],
   "source": [
    "print(' -- Globals Namespace with empty script -- \\n')\n",
    "# Write Checkpoint 1 here: \n",
    "print(globals())\n",
    "\n",
    "\n",
    "# Write Checkpoint 2 here: \n",
    "\n",
    "global_variable = 'global'\n",
    "\n",
    "\n",
    "# Write Checkpoint 3 here: \n",
    "\n",
    "\n",
    "\n",
    "\n",
    "print(' \\n -- Globals Namespace non-empty script -- \\n')\n",
    "# Write Checkpoint 4 here: \n",
    "\n",
    "def print_global():\n",
    "  global_variable = 'nested global'\n",
    "  nested_variable = 'nested value'\n",
    "\n",
    "print(globals())"
   ]
  },
  {
   "cell_type": "markdown",
   "id": "e0ecac7f-e7fb-4f80-859d-9bde468c3ba5",
   "metadata": {},
   "source": [
    "# Local Namespace"
   ]
  },
  {
   "cell_type": "code",
   "execution_count": 5,
   "id": "87ebb56f-d9a9-4840-a848-2f0f5034e986",
   "metadata": {},
   "outputs": [
    {
     "name": "stdout",
     "output_type": "stream",
     "text": [
      "15\n"
     ]
    }
   ],
   "source": [
    "global_variable = 'global'\n",
    " \n",
    "def add(num1, num2):\n",
    "  nested_value = 'Inside Function'   \n",
    "  print(num1 + num2)\n",
    " \n",
    "add(5, 10) "
   ]
  },
  {
   "cell_type": "markdown",
   "id": "992a6a51-5ad3-46cf-9fcc-99438daa9f4a",
   "metadata": {},
   "source": [
    "In Python, whenever the interpreter executes a function, it will generate a **local namespace** for that specific function. This namespace only exists inside of the function and\n"
   ]
  },
  {
   "cell_type": "code",
   "execution_count": 6,
   "id": "9a0280aa-e3d4-4020-8ccd-75988e3b8c88",
   "metadata": {},
   "outputs": [
    {
     "name": "stdout",
     "output_type": "stream",
     "text": [
      " -- Local and global Namespaces with empty script -- \n",
      "\n",
      "{'__name__': '__main__', '__doc__': 'Automatically created module for IPython interactive environment', '__package__': None, '__loader__': None, '__spec__': None, '__builtin__': <module 'builtins' (built-in)>, '__builtins__': <module 'builtins' (built-in)>, '_ih': ['', 'print(dir(__builtins__))', 'def str():\\n    pass', 'print(globals())', \"print(' -- Globals Namespace with empty script -- \\\\n')\\n# Write Checkpoint 1 here: \\nprint(globals())\\n\\n\\n# Write Checkpoint 2 here: \\n\\nglobal_variable = 'global'\\n\\n\\n# Write Checkpoint 3 here: \\n\\n\\n\\n\\nprint(' \\\\n -- Globals Namespace non-empty script -- \\\\n')\\n# Write Checkpoint 4 here: \\n\\ndef print_global():\\n  global_variable = 'nested global'\\n  nested_variable = 'nested value'\\n\\nprint(globals())\", \"global_variable = 'global'\\n \\ndef add(num1, num2):\\n  nested_value = 'Inside Function'   \\n  print(num1 + num2)\\n \\nadd(5, 10) \", \"global_variable = 'global'\\n\\n\\n\\nprint(' -- Local and global Namespaces with empty script -- \\\\n')\\n# Write Checkpoint 1 here:\\nprint(locals())\\n\\nprint(globals())\\n# Write Checkpoint 2 here:\\n\\ndef divide(num1, num2):\\n  result = num1 / num2\\n  print(locals())\\n\\n# Write Checkpoint 3 here:\\n\\ndef multiply(num1, num2):\\n  product = num1 * num2\\n  print(locals())\\n\\n\\nprint(' \\\\n -- Local Namespace for divide -- \\\\n')\\n# Write Checkpoint 4 here:\\ndivide(3, 4)\\n\\nprint(' \\\\n -- Local Namespace for multiply -- \\\\n')\\n# Write Checkpoint 5 here:\\nmultiply(4, 50)\\n\\nprint(' \\\\n -- Local Namespace final -- \\\\n')\\n# Write Checkpoint 6 here:\\nprint(locals())\"], '_oh': {}, '_dh': [PosixPath('/Users/hafiz/Learning-Python-Course/Intermediate-python')], 'In': ['', 'print(dir(__builtins__))', 'def str():\\n    pass', 'print(globals())', \"print(' -- Globals Namespace with empty script -- \\\\n')\\n# Write Checkpoint 1 here: \\nprint(globals())\\n\\n\\n# Write Checkpoint 2 here: \\n\\nglobal_variable = 'global'\\n\\n\\n# Write Checkpoint 3 here: \\n\\n\\n\\n\\nprint(' \\\\n -- Globals Namespace non-empty script -- \\\\n')\\n# Write Checkpoint 4 here: \\n\\ndef print_global():\\n  global_variable = 'nested global'\\n  nested_variable = 'nested value'\\n\\nprint(globals())\", \"global_variable = 'global'\\n \\ndef add(num1, num2):\\n  nested_value = 'Inside Function'   \\n  print(num1 + num2)\\n \\nadd(5, 10) \", \"global_variable = 'global'\\n\\n\\n\\nprint(' -- Local and global Namespaces with empty script -- \\\\n')\\n# Write Checkpoint 1 here:\\nprint(locals())\\n\\nprint(globals())\\n# Write Checkpoint 2 here:\\n\\ndef divide(num1, num2):\\n  result = num1 / num2\\n  print(locals())\\n\\n# Write Checkpoint 3 here:\\n\\ndef multiply(num1, num2):\\n  product = num1 * num2\\n  print(locals())\\n\\n\\nprint(' \\\\n -- Local Namespace for divide -- \\\\n')\\n# Write Checkpoint 4 here:\\ndivide(3, 4)\\n\\nprint(' \\\\n -- Local Namespace for multiply -- \\\\n')\\n# Write Checkpoint 5 here:\\nmultiply(4, 50)\\n\\nprint(' \\\\n -- Local Namespace final -- \\\\n')\\n# Write Checkpoint 6 here:\\nprint(locals())\"], 'Out': {}, 'get_ipython': <bound method InteractiveShell.get_ipython of <ipykernel.zmqshell.ZMQInteractiveShell object at 0x10587e1d0>>, 'exit': <IPython.core.autocall.ZMQExitAutocall object at 0x10587c3d0>, 'quit': <IPython.core.autocall.ZMQExitAutocall object at 0x10587c3d0>, 'open': <function open at 0x104490160>, '_': '', '__': '', '___': '', '_i': \"global_variable = 'global'\\n \\ndef add(num1, num2):\\n  nested_value = 'Inside Function'   \\n  print(num1 + num2)\\n \\nadd(5, 10) \", '_ii': \"print(' -- Globals Namespace with empty script -- \\\\n')\\n# Write Checkpoint 1 here: \\nprint(globals())\\n\\n\\n# Write Checkpoint 2 here: \\n\\nglobal_variable = 'global'\\n\\n\\n# Write Checkpoint 3 here: \\n\\n\\n\\n\\nprint(' \\\\n -- Globals Namespace non-empty script -- \\\\n')\\n# Write Checkpoint 4 here: \\n\\ndef print_global():\\n  global_variable = 'nested global'\\n  nested_variable = 'nested value'\\n\\nprint(globals())\", '_iii': 'print(globals())', '_i1': 'print(dir(__builtins__))', '_i2': 'def str():\\n    pass', 'str': <function str at 0x105272c20>, '_i3': 'print(globals())', '_i4': \"print(' -- Globals Namespace with empty script -- \\\\n')\\n# Write Checkpoint 1 here: \\nprint(globals())\\n\\n\\n# Write Checkpoint 2 here: \\n\\nglobal_variable = 'global'\\n\\n\\n# Write Checkpoint 3 here: \\n\\n\\n\\n\\nprint(' \\\\n -- Globals Namespace non-empty script -- \\\\n')\\n# Write Checkpoint 4 here: \\n\\ndef print_global():\\n  global_variable = 'nested global'\\n  nested_variable = 'nested value'\\n\\nprint(globals())\", 'global_variable': 'global', 'print_global': <function print_global at 0x105b8b520>, '_i5': \"global_variable = 'global'\\n \\ndef add(num1, num2):\\n  nested_value = 'Inside Function'   \\n  print(num1 + num2)\\n \\nadd(5, 10) \", 'add': <function add at 0x1055797e0>, '_i6': \"global_variable = 'global'\\n\\n\\n\\nprint(' -- Local and global Namespaces with empty script -- \\\\n')\\n# Write Checkpoint 1 here:\\nprint(locals())\\n\\nprint(globals())\\n# Write Checkpoint 2 here:\\n\\ndef divide(num1, num2):\\n  result = num1 / num2\\n  print(locals())\\n\\n# Write Checkpoint 3 here:\\n\\ndef multiply(num1, num2):\\n  product = num1 * num2\\n  print(locals())\\n\\n\\nprint(' \\\\n -- Local Namespace for divide -- \\\\n')\\n# Write Checkpoint 4 here:\\ndivide(3, 4)\\n\\nprint(' \\\\n -- Local Namespace for multiply -- \\\\n')\\n# Write Checkpoint 5 here:\\nmultiply(4, 50)\\n\\nprint(' \\\\n -- Local Namespace final -- \\\\n')\\n# Write Checkpoint 6 here:\\nprint(locals())\"}\n",
      "{'__name__': '__main__', '__doc__': 'Automatically created module for IPython interactive environment', '__package__': None, '__loader__': None, '__spec__': None, '__builtin__': <module 'builtins' (built-in)>, '__builtins__': <module 'builtins' (built-in)>, '_ih': ['', 'print(dir(__builtins__))', 'def str():\\n    pass', 'print(globals())', \"print(' -- Globals Namespace with empty script -- \\\\n')\\n# Write Checkpoint 1 here: \\nprint(globals())\\n\\n\\n# Write Checkpoint 2 here: \\n\\nglobal_variable = 'global'\\n\\n\\n# Write Checkpoint 3 here: \\n\\n\\n\\n\\nprint(' \\\\n -- Globals Namespace non-empty script -- \\\\n')\\n# Write Checkpoint 4 here: \\n\\ndef print_global():\\n  global_variable = 'nested global'\\n  nested_variable = 'nested value'\\n\\nprint(globals())\", \"global_variable = 'global'\\n \\ndef add(num1, num2):\\n  nested_value = 'Inside Function'   \\n  print(num1 + num2)\\n \\nadd(5, 10) \", \"global_variable = 'global'\\n\\n\\n\\nprint(' -- Local and global Namespaces with empty script -- \\\\n')\\n# Write Checkpoint 1 here:\\nprint(locals())\\n\\nprint(globals())\\n# Write Checkpoint 2 here:\\n\\ndef divide(num1, num2):\\n  result = num1 / num2\\n  print(locals())\\n\\n# Write Checkpoint 3 here:\\n\\ndef multiply(num1, num2):\\n  product = num1 * num2\\n  print(locals())\\n\\n\\nprint(' \\\\n -- Local Namespace for divide -- \\\\n')\\n# Write Checkpoint 4 here:\\ndivide(3, 4)\\n\\nprint(' \\\\n -- Local Namespace for multiply -- \\\\n')\\n# Write Checkpoint 5 here:\\nmultiply(4, 50)\\n\\nprint(' \\\\n -- Local Namespace final -- \\\\n')\\n# Write Checkpoint 6 here:\\nprint(locals())\"], '_oh': {}, '_dh': [PosixPath('/Users/hafiz/Learning-Python-Course/Intermediate-python')], 'In': ['', 'print(dir(__builtins__))', 'def str():\\n    pass', 'print(globals())', \"print(' -- Globals Namespace with empty script -- \\\\n')\\n# Write Checkpoint 1 here: \\nprint(globals())\\n\\n\\n# Write Checkpoint 2 here: \\n\\nglobal_variable = 'global'\\n\\n\\n# Write Checkpoint 3 here: \\n\\n\\n\\n\\nprint(' \\\\n -- Globals Namespace non-empty script -- \\\\n')\\n# Write Checkpoint 4 here: \\n\\ndef print_global():\\n  global_variable = 'nested global'\\n  nested_variable = 'nested value'\\n\\nprint(globals())\", \"global_variable = 'global'\\n \\ndef add(num1, num2):\\n  nested_value = 'Inside Function'   \\n  print(num1 + num2)\\n \\nadd(5, 10) \", \"global_variable = 'global'\\n\\n\\n\\nprint(' -- Local and global Namespaces with empty script -- \\\\n')\\n# Write Checkpoint 1 here:\\nprint(locals())\\n\\nprint(globals())\\n# Write Checkpoint 2 here:\\n\\ndef divide(num1, num2):\\n  result = num1 / num2\\n  print(locals())\\n\\n# Write Checkpoint 3 here:\\n\\ndef multiply(num1, num2):\\n  product = num1 * num2\\n  print(locals())\\n\\n\\nprint(' \\\\n -- Local Namespace for divide -- \\\\n')\\n# Write Checkpoint 4 here:\\ndivide(3, 4)\\n\\nprint(' \\\\n -- Local Namespace for multiply -- \\\\n')\\n# Write Checkpoint 5 here:\\nmultiply(4, 50)\\n\\nprint(' \\\\n -- Local Namespace final -- \\\\n')\\n# Write Checkpoint 6 here:\\nprint(locals())\"], 'Out': {}, 'get_ipython': <bound method InteractiveShell.get_ipython of <ipykernel.zmqshell.ZMQInteractiveShell object at 0x10587e1d0>>, 'exit': <IPython.core.autocall.ZMQExitAutocall object at 0x10587c3d0>, 'quit': <IPython.core.autocall.ZMQExitAutocall object at 0x10587c3d0>, 'open': <function open at 0x104490160>, '_': '', '__': '', '___': '', '_i': \"global_variable = 'global'\\n \\ndef add(num1, num2):\\n  nested_value = 'Inside Function'   \\n  print(num1 + num2)\\n \\nadd(5, 10) \", '_ii': \"print(' -- Globals Namespace with empty script -- \\\\n')\\n# Write Checkpoint 1 here: \\nprint(globals())\\n\\n\\n# Write Checkpoint 2 here: \\n\\nglobal_variable = 'global'\\n\\n\\n# Write Checkpoint 3 here: \\n\\n\\n\\n\\nprint(' \\\\n -- Globals Namespace non-empty script -- \\\\n')\\n# Write Checkpoint 4 here: \\n\\ndef print_global():\\n  global_variable = 'nested global'\\n  nested_variable = 'nested value'\\n\\nprint(globals())\", '_iii': 'print(globals())', '_i1': 'print(dir(__builtins__))', '_i2': 'def str():\\n    pass', 'str': <function str at 0x105272c20>, '_i3': 'print(globals())', '_i4': \"print(' -- Globals Namespace with empty script -- \\\\n')\\n# Write Checkpoint 1 here: \\nprint(globals())\\n\\n\\n# Write Checkpoint 2 here: \\n\\nglobal_variable = 'global'\\n\\n\\n# Write Checkpoint 3 here: \\n\\n\\n\\n\\nprint(' \\\\n -- Globals Namespace non-empty script -- \\\\n')\\n# Write Checkpoint 4 here: \\n\\ndef print_global():\\n  global_variable = 'nested global'\\n  nested_variable = 'nested value'\\n\\nprint(globals())\", 'global_variable': 'global', 'print_global': <function print_global at 0x105b8b520>, '_i5': \"global_variable = 'global'\\n \\ndef add(num1, num2):\\n  nested_value = 'Inside Function'   \\n  print(num1 + num2)\\n \\nadd(5, 10) \", 'add': <function add at 0x1055797e0>, '_i6': \"global_variable = 'global'\\n\\n\\n\\nprint(' -- Local and global Namespaces with empty script -- \\\\n')\\n# Write Checkpoint 1 here:\\nprint(locals())\\n\\nprint(globals())\\n# Write Checkpoint 2 here:\\n\\ndef divide(num1, num2):\\n  result = num1 / num2\\n  print(locals())\\n\\n# Write Checkpoint 3 here:\\n\\ndef multiply(num1, num2):\\n  product = num1 * num2\\n  print(locals())\\n\\n\\nprint(' \\\\n -- Local Namespace for divide -- \\\\n')\\n# Write Checkpoint 4 here:\\ndivide(3, 4)\\n\\nprint(' \\\\n -- Local Namespace for multiply -- \\\\n')\\n# Write Checkpoint 5 here:\\nmultiply(4, 50)\\n\\nprint(' \\\\n -- Local Namespace final -- \\\\n')\\n# Write Checkpoint 6 here:\\nprint(locals())\"}\n",
      " \n",
      " -- Local Namespace for divide -- \n",
      "\n",
      "{'num1': 3, 'num2': 4, 'result': 0.75}\n",
      " \n",
      " -- Local Namespace for multiply -- \n",
      "\n",
      "{'num1': 4, 'num2': 50, 'product': 200}\n",
      " \n",
      " -- Local Namespace final -- \n",
      "\n",
      "{'__name__': '__main__', '__doc__': 'Automatically created module for IPython interactive environment', '__package__': None, '__loader__': None, '__spec__': None, '__builtin__': <module 'builtins' (built-in)>, '__builtins__': <module 'builtins' (built-in)>, '_ih': ['', 'print(dir(__builtins__))', 'def str():\\n    pass', 'print(globals())', \"print(' -- Globals Namespace with empty script -- \\\\n')\\n# Write Checkpoint 1 here: \\nprint(globals())\\n\\n\\n# Write Checkpoint 2 here: \\n\\nglobal_variable = 'global'\\n\\n\\n# Write Checkpoint 3 here: \\n\\n\\n\\n\\nprint(' \\\\n -- Globals Namespace non-empty script -- \\\\n')\\n# Write Checkpoint 4 here: \\n\\ndef print_global():\\n  global_variable = 'nested global'\\n  nested_variable = 'nested value'\\n\\nprint(globals())\", \"global_variable = 'global'\\n \\ndef add(num1, num2):\\n  nested_value = 'Inside Function'   \\n  print(num1 + num2)\\n \\nadd(5, 10) \", \"global_variable = 'global'\\n\\n\\n\\nprint(' -- Local and global Namespaces with empty script -- \\\\n')\\n# Write Checkpoint 1 here:\\nprint(locals())\\n\\nprint(globals())\\n# Write Checkpoint 2 here:\\n\\ndef divide(num1, num2):\\n  result = num1 / num2\\n  print(locals())\\n\\n# Write Checkpoint 3 here:\\n\\ndef multiply(num1, num2):\\n  product = num1 * num2\\n  print(locals())\\n\\n\\nprint(' \\\\n -- Local Namespace for divide -- \\\\n')\\n# Write Checkpoint 4 here:\\ndivide(3, 4)\\n\\nprint(' \\\\n -- Local Namespace for multiply -- \\\\n')\\n# Write Checkpoint 5 here:\\nmultiply(4, 50)\\n\\nprint(' \\\\n -- Local Namespace final -- \\\\n')\\n# Write Checkpoint 6 here:\\nprint(locals())\"], '_oh': {}, '_dh': [PosixPath('/Users/hafiz/Learning-Python-Course/Intermediate-python')], 'In': ['', 'print(dir(__builtins__))', 'def str():\\n    pass', 'print(globals())', \"print(' -- Globals Namespace with empty script -- \\\\n')\\n# Write Checkpoint 1 here: \\nprint(globals())\\n\\n\\n# Write Checkpoint 2 here: \\n\\nglobal_variable = 'global'\\n\\n\\n# Write Checkpoint 3 here: \\n\\n\\n\\n\\nprint(' \\\\n -- Globals Namespace non-empty script -- \\\\n')\\n# Write Checkpoint 4 here: \\n\\ndef print_global():\\n  global_variable = 'nested global'\\n  nested_variable = 'nested value'\\n\\nprint(globals())\", \"global_variable = 'global'\\n \\ndef add(num1, num2):\\n  nested_value = 'Inside Function'   \\n  print(num1 + num2)\\n \\nadd(5, 10) \", \"global_variable = 'global'\\n\\n\\n\\nprint(' -- Local and global Namespaces with empty script -- \\\\n')\\n# Write Checkpoint 1 here:\\nprint(locals())\\n\\nprint(globals())\\n# Write Checkpoint 2 here:\\n\\ndef divide(num1, num2):\\n  result = num1 / num2\\n  print(locals())\\n\\n# Write Checkpoint 3 here:\\n\\ndef multiply(num1, num2):\\n  product = num1 * num2\\n  print(locals())\\n\\n\\nprint(' \\\\n -- Local Namespace for divide -- \\\\n')\\n# Write Checkpoint 4 here:\\ndivide(3, 4)\\n\\nprint(' \\\\n -- Local Namespace for multiply -- \\\\n')\\n# Write Checkpoint 5 here:\\nmultiply(4, 50)\\n\\nprint(' \\\\n -- Local Namespace final -- \\\\n')\\n# Write Checkpoint 6 here:\\nprint(locals())\"], 'Out': {}, 'get_ipython': <bound method InteractiveShell.get_ipython of <ipykernel.zmqshell.ZMQInteractiveShell object at 0x10587e1d0>>, 'exit': <IPython.core.autocall.ZMQExitAutocall object at 0x10587c3d0>, 'quit': <IPython.core.autocall.ZMQExitAutocall object at 0x10587c3d0>, 'open': <function open at 0x104490160>, '_': '', '__': '', '___': '', '_i': \"global_variable = 'global'\\n \\ndef add(num1, num2):\\n  nested_value = 'Inside Function'   \\n  print(num1 + num2)\\n \\nadd(5, 10) \", '_ii': \"print(' -- Globals Namespace with empty script -- \\\\n')\\n# Write Checkpoint 1 here: \\nprint(globals())\\n\\n\\n# Write Checkpoint 2 here: \\n\\nglobal_variable = 'global'\\n\\n\\n# Write Checkpoint 3 here: \\n\\n\\n\\n\\nprint(' \\\\n -- Globals Namespace non-empty script -- \\\\n')\\n# Write Checkpoint 4 here: \\n\\ndef print_global():\\n  global_variable = 'nested global'\\n  nested_variable = 'nested value'\\n\\nprint(globals())\", '_iii': 'print(globals())', '_i1': 'print(dir(__builtins__))', '_i2': 'def str():\\n    pass', 'str': <function str at 0x105272c20>, '_i3': 'print(globals())', '_i4': \"print(' -- Globals Namespace with empty script -- \\\\n')\\n# Write Checkpoint 1 here: \\nprint(globals())\\n\\n\\n# Write Checkpoint 2 here: \\n\\nglobal_variable = 'global'\\n\\n\\n# Write Checkpoint 3 here: \\n\\n\\n\\n\\nprint(' \\\\n -- Globals Namespace non-empty script -- \\\\n')\\n# Write Checkpoint 4 here: \\n\\ndef print_global():\\n  global_variable = 'nested global'\\n  nested_variable = 'nested value'\\n\\nprint(globals())\", 'global_variable': 'global', 'print_global': <function print_global at 0x105b8b520>, '_i5': \"global_variable = 'global'\\n \\ndef add(num1, num2):\\n  nested_value = 'Inside Function'   \\n  print(num1 + num2)\\n \\nadd(5, 10) \", 'add': <function add at 0x1055797e0>, '_i6': \"global_variable = 'global'\\n\\n\\n\\nprint(' -- Local and global Namespaces with empty script -- \\\\n')\\n# Write Checkpoint 1 here:\\nprint(locals())\\n\\nprint(globals())\\n# Write Checkpoint 2 here:\\n\\ndef divide(num1, num2):\\n  result = num1 / num2\\n  print(locals())\\n\\n# Write Checkpoint 3 here:\\n\\ndef multiply(num1, num2):\\n  product = num1 * num2\\n  print(locals())\\n\\n\\nprint(' \\\\n -- Local Namespace for divide -- \\\\n')\\n# Write Checkpoint 4 here:\\ndivide(3, 4)\\n\\nprint(' \\\\n -- Local Namespace for multiply -- \\\\n')\\n# Write Checkpoint 5 here:\\nmultiply(4, 50)\\n\\nprint(' \\\\n -- Local Namespace final -- \\\\n')\\n# Write Checkpoint 6 here:\\nprint(locals())\", 'divide': <function divide at 0x10529b370>, 'multiply': <function multiply at 0x1061d04c0>}\n"
     ]
    }
   ],
   "source": [
    "global_variable = 'global'\n",
    "\n",
    "\n",
    "\n",
    "print(' -- Local and global Namespaces with empty script -- \\n')\n",
    "# Write Checkpoint 1 here:\n",
    "print(locals())\n",
    "\n",
    "print(globals())\n",
    "# Write Checkpoint 2 here:\n",
    "\n",
    "def divide(num1, num2):\n",
    "  result = num1 / num2\n",
    "  print(locals())\n",
    "\n",
    "# Write Checkpoint 3 here:\n",
    "\n",
    "def multiply(num1, num2):\n",
    "  product = num1 * num2\n",
    "  print(locals())\n",
    "\n",
    "\n",
    "print(' \\n -- Local Namespace for divide -- \\n')\n",
    "# Write Checkpoint 4 here:\n",
    "divide(3, 4)\n",
    "\n",
    "print(' \\n -- Local Namespace for multiply -- \\n')\n",
    "# Write Checkpoint 5 here:\n",
    "multiply(4, 50)\n",
    "\n",
    "print(' \\n -- Local Namespace final -- \\n')\n",
    "# Write Checkpoint 6 here:\n",
    "print(locals())"
   ]
  },
  {
   "cell_type": "markdown",
   "id": "74df11dd-7d13-42a3-a962-b4f82adf43f6",
   "metadata": {},
   "source": [
    "# Enclosing Namespace\n",
    "This particular namespace is a special type of local namespace called the enclosing namespace."
   ]
  },
  {
   "cell_type": "code",
   "execution_count": 10,
   "id": "ac72dd5e-e4a8-4dbd-831b-cefe891bedea",
   "metadata": {},
   "outputs": [
    {
     "name": "stdout",
     "output_type": "stream",
     "text": [
      "{'outer_value': 'outer', 'inner_function': <function outer_function.<locals>.inner_function at 0x105578430>}\n"
     ]
    }
   ],
   "source": [
    "global_variable = 'global'\n",
    " \n",
    "def outer_function():\n",
    "  outer_value = \"outer\"\n",
    " \n",
    "  def inner_function():\n",
    "    inner_value = \"inner\"\n",
    "  inner_function()\n",
    "  # Added locals output\n",
    "  print(locals())\n",
    " \n",
    "outer_function()"
   ]
  },
  {
   "cell_type": "markdown",
   "id": "e4e94d13-f132-4267-9510-2ac587c9b5bb",
   "metadata": {},
   "source": [
    "# Scope"
   ]
  },
  {
   "cell_type": "markdown",
   "id": "88f425f7-b98f-4f20-b943-dbf67d130e31",
   "metadata": {},
   "source": [
    "# Local Scope"
   ]
  },
  {
   "cell_type": "code",
   "execution_count": 11,
   "id": "96e806af-498a-4224-8d7e-a90dc43da219",
   "metadata": {},
   "outputs": [
    {
     "ename": "NameError",
     "evalue": "name 'color' is not defined",
     "output_type": "error",
     "traceback": [
      "\u001b[0;31m---------------------------------------------------------------------------\u001b[0m",
      "\u001b[0;31mNameError\u001b[0m                                 Traceback (most recent call last)",
      "Cell \u001b[0;32mIn[11], line 4\u001b[0m\n\u001b[1;32m      1\u001b[0m \u001b[38;5;28;01mdef\u001b[39;00m \u001b[38;5;21mfavorite_color\u001b[39m(): \n\u001b[1;32m      2\u001b[0m   color \u001b[38;5;241m=\u001b[39m \u001b[38;5;124m'\u001b[39m\u001b[38;5;124mRed\u001b[39m\u001b[38;5;124m'\u001b[39m\n\u001b[0;32m----> 4\u001b[0m \u001b[38;5;28mprint\u001b[39m(\u001b[43mcolor\u001b[49m)\n",
      "\u001b[0;31mNameError\u001b[0m: name 'color' is not defined"
     ]
    }
   ],
   "source": [
    "def favorite_color(): \n",
    "  color = 'Red'\n",
    " \n",
    "print(color) "
   ]
  },
  {
   "cell_type": "code",
   "execution_count": 12,
   "id": "d12b6ce9-d630-4d27-86ac-e54dfbb796e7",
   "metadata": {},
   "outputs": [
    {
     "name": "stdout",
     "output_type": "stream",
     "text": [
      "Red\n"
     ]
    }
   ],
   "source": [
    "def favorite_color(): \n",
    "  color = 'Red'\n",
    "  print(color) \n",
    " \n",
    "favorite_color()"
   ]
  },
  {
   "cell_type": "markdown",
   "id": "b3f84d61-309b-4c08-ae7e-0652461a21b4",
   "metadata": {},
   "source": [
    "# Enclosing/Nonlocal Scope"
   ]
  },
  {
   "cell_type": "code",
   "execution_count": 13,
   "id": "5503e075-d17c-43eb-9a5a-63f48def2594",
   "metadata": {},
   "outputs": [
    {
     "name": "stdout",
     "output_type": "stream",
     "text": [
      "Enclosing Value\n"
     ]
    }
   ],
   "source": [
    "def outer_function():\n",
    "  enclosing_value = 'Enclosing Value'\n",
    " \n",
    "  def nested_function():\n",
    "    nested_value = 'Nested Value'\n",
    "    print(enclosing_value)\n",
    "  \n",
    "  nested_function()\n",
    " \n",
    "outer_function()"
   ]
  },
  {
   "cell_type": "code",
   "execution_count": 20,
   "id": "286b6cae-b208-4a0f-b856-4fb328d551ac",
   "metadata": {},
   "outputs": [
    {
     "name": "stdout",
     "output_type": "stream",
     "text": [
      "Enclosing Value\n",
      "Nested Value\n"
     ]
    }
   ],
   "source": [
    "def outer_function():\n",
    "  enclosing_value = 'Enclosing Value'\n",
    "\n",
    "  def nested_function():\n",
    "    nested_value = 'Nested Value'\n",
    " \n",
    "    def second_nested():\n",
    "       print(enclosing_value)\n",
    "       print(nested_value)\n",
    " \n",
    "    second_nested() \n",
    "  \n",
    "  nested_function()\n",
    " \n",
    "outer_function()"
   ]
  },
  {
   "cell_type": "code",
   "execution_count": 22,
   "id": "6be1f0af-d943-4490-a5de-b2f5d6ee8bc6",
   "metadata": {},
   "outputs": [
    {
     "ename": "UnboundLocalError",
     "evalue": "local variable 'enclosing_value' referenced before assignment",
     "output_type": "error",
     "traceback": [
      "\u001b[0;31m---------------------------------------------------------------------------\u001b[0m",
      "\u001b[0;31mUnboundLocalError\u001b[0m                         Traceback (most recent call last)",
      "Cell \u001b[0;32mIn[22], line 10\u001b[0m\n\u001b[1;32m      7\u001b[0m   nested_function()\n\u001b[1;32m      8\u001b[0m   \u001b[38;5;28mprint\u001b[39m(enclosing_value)\n\u001b[0;32m---> 10\u001b[0m \u001b[43mouter_function\u001b[49m\u001b[43m(\u001b[49m\u001b[43m)\u001b[49m\n",
      "Cell \u001b[0;32mIn[22], line 7\u001b[0m, in \u001b[0;36mouter_function\u001b[0;34m()\u001b[0m\n\u001b[1;32m      4\u001b[0m \u001b[38;5;28;01mdef\u001b[39;00m \u001b[38;5;21mnested_function\u001b[39m():\n\u001b[1;32m      5\u001b[0m   enclosing_value \u001b[38;5;241m+\u001b[39m\u001b[38;5;241m=\u001b[39m \u001b[38;5;124m'\u001b[39m\u001b[38;5;124mchanged\u001b[39m\u001b[38;5;124m'\u001b[39m\n\u001b[0;32m----> 7\u001b[0m \u001b[43mnested_function\u001b[49m\u001b[43m(\u001b[49m\u001b[43m)\u001b[49m\n\u001b[1;32m      8\u001b[0m \u001b[38;5;28mprint\u001b[39m(enclosing_value)\n",
      "Cell \u001b[0;32mIn[22], line 5\u001b[0m, in \u001b[0;36mouter_function.<locals>.nested_function\u001b[0;34m()\u001b[0m\n\u001b[1;32m      4\u001b[0m \u001b[38;5;28;01mdef\u001b[39;00m \u001b[38;5;21mnested_function\u001b[39m():\n\u001b[0;32m----> 5\u001b[0m   enclosing_value \u001b[38;5;241m+\u001b[39m\u001b[38;5;241m=\u001b[39m \u001b[38;5;124m'\u001b[39m\u001b[38;5;124mchanged\u001b[39m\u001b[38;5;124m'\u001b[39m\n",
      "\u001b[0;31mUnboundLocalError\u001b[0m: local variable 'enclosing_value' referenced before assignment"
     ]
    }
   ],
   "source": [
    "def outer_function():\n",
    "  enclosing_value = 'Enclosing Value'\n",
    "  \n",
    "  def nested_function():\n",
    "    enclosing_value += 'changed'\n",
    "  \n",
    "  nested_function()\n",
    "  print(enclosing_value)\n",
    " \n",
    "outer_function()"
   ]
  },
  {
   "cell_type": "markdown",
   "id": "d771d5bf-728b-420c-823c-f55abdcb82f6",
   "metadata": {},
   "source": [
    "# Changing the default behaviour nonlocal"
   ]
  },
  {
   "cell_type": "code",
   "execution_count": 24,
   "id": "2edc2e75-0db3-4c90-9d07-94d6ebe85d5d",
   "metadata": {},
   "outputs": [
    {
     "name": "stdout",
     "output_type": "stream",
     "text": [
      "Enclosing Valuechanged\n"
     ]
    }
   ],
   "source": [
    "def outer_function():\n",
    "  enclosing_value = 'Enclosing Value'\n",
    "  \n",
    "  def nested_function():\n",
    "    nonlocal enclosing_value\n",
    "    enclosing_value += 'changed'\n",
    "  \n",
    "  nested_function()\n",
    "  print(enclosing_value)\n",
    " \n",
    "outer_function()"
   ]
  },
  {
   "cell_type": "markdown",
   "id": "265a4284-7143-4592-82c6-16a5c206b232",
   "metadata": {},
   "source": [
    "# Global Scope\n",
    "At the highest level of access, we have the global scope. Names defined in the global namespace will automatically be globally scoped and can be accessed anywhere in our program."
   ]
  },
  {
   "cell_type": "code",
   "execution_count": 25,
   "id": "0e2ec551-d249-48e4-b316-52763c517d18",
   "metadata": {},
   "outputs": [
    {
     "name": "stdout",
     "output_type": "stream",
     "text": [
      "588.0\n"
     ]
    }
   ],
   "source": [
    "# global scope variable\n",
    "gravity = 9.8\n",
    " \n",
    "def get_force(mass):\n",
    "  return mass * gravity\n",
    " \n",
    "print(get_force(60))"
   ]
  },
  {
   "cell_type": "code",
   "execution_count": 26,
   "id": "7c369a7b-3a12-4bdc-a136-9694c4b032d7",
   "metadata": {},
   "outputs": [
    {
     "ename": "UnboundLocalError",
     "evalue": "local variable 'gravity' referenced before assignment",
     "output_type": "error",
     "traceback": [
      "\u001b[0;31m---------------------------------------------------------------------------\u001b[0m",
      "\u001b[0;31mUnboundLocalError\u001b[0m                         Traceback (most recent call last)",
      "Cell \u001b[0;32mIn[26], line 8\u001b[0m\n\u001b[1;32m      5\u001b[0m   gravity \u001b[38;5;241m+\u001b[39m\u001b[38;5;241m=\u001b[39m \u001b[38;5;241m100\u001b[39m\n\u001b[1;32m      6\u001b[0m   \u001b[38;5;28;01mreturn\u001b[39;00m mass \u001b[38;5;241m*\u001b[39m gravity\n\u001b[0;32m----> 8\u001b[0m \u001b[38;5;28mprint\u001b[39m(\u001b[43mget_force\u001b[49m\u001b[43m(\u001b[49m\u001b[38;5;241;43m60\u001b[39;49m\u001b[43m)\u001b[49m)\n",
      "Cell \u001b[0;32mIn[26], line 5\u001b[0m, in \u001b[0;36mget_force\u001b[0;34m(mass)\u001b[0m\n\u001b[1;32m      4\u001b[0m \u001b[38;5;28;01mdef\u001b[39;00m \u001b[38;5;21mget_force\u001b[39m(mass):\n\u001b[0;32m----> 5\u001b[0m   gravity \u001b[38;5;241m+\u001b[39m\u001b[38;5;241m=\u001b[39m \u001b[38;5;241m100\u001b[39m\n\u001b[1;32m      6\u001b[0m   \u001b[38;5;28;01mreturn\u001b[39;00m mass \u001b[38;5;241m*\u001b[39m gravity\n",
      "\u001b[0;31mUnboundLocalError\u001b[0m: local variable 'gravity' referenced before assignment"
     ]
    }
   ],
   "source": [
    "# global scope variable\n",
    "gravity = 9.8\n",
    " \n",
    "def get_force(mass):\n",
    "  gravity += 100\n",
    "  return mass * gravity\n",
    " \n",
    "print(get_force(60))"
   ]
  },
  {
   "cell_type": "markdown",
   "id": "697afcd4-9f18-4b6a-9747-b426e2506973",
   "metadata": {},
   "source": [
    "# Modifying Scope Behavior: global Statement"
   ]
  },
  {
   "cell_type": "code",
   "execution_count": 27,
   "id": "9f7d3b24-7882-44d2-a681-8a2dac7e2081",
   "metadata": {},
   "outputs": [
    {
     "name": "stdout",
     "output_type": "stream",
     "text": [
      "10\n"
     ]
    }
   ],
   "source": [
    "global_var = 10\n",
    " \n",
    "def some_function():\n",
    "  global_var = 20\n",
    " \n",
    "some_function()\n",
    " \n",
    "print(global_var)"
   ]
  },
  {
   "cell_type": "code",
   "execution_count": 28,
   "id": "fb6d668c-b8ea-4037-9dfd-16efc5061058",
   "metadata": {},
   "outputs": [
    {
     "name": "stdout",
     "output_type": "stream",
     "text": [
      "20\n"
     ]
    }
   ],
   "source": [
    "global_var = 10\n",
    " \n",
    "def some_function():\n",
    "  global global_var\n",
    "  global_var = 20\n",
    " \n",
    "some_function()\n",
    " \n",
    "print(global_var)"
   ]
  },
  {
   "cell_type": "markdown",
   "id": "61c14666-79b7-4a96-9869-f279dc886632",
   "metadata": {},
   "source": [
    "# Scope Resolution: The LEGB Rule\n",
    "LEGB stands for Local, Enclosing, Global, and Built-in. These four letters represent the order of namespaces Python will check to see if a name exists"
   ]
  },
  {
   "cell_type": "code",
   "execution_count": 29,
   "id": "6e7a7158-6c88-4ef1-aa94-00d286bb1cfc",
   "metadata": {},
   "outputs": [
    {
     "name": "stdout",
     "output_type": "stream",
     "text": [
      "27\n"
     ]
    }
   ],
   "source": [
    "age = 27 \n",
    " \n",
    "def func(): \n",
    " \n",
    "  def inner_func():\n",
    "    print(age)\n",
    "  inner_func()\n",
    " \n",
    "func()"
   ]
  },
  {
   "cell_type": "markdown",
   "id": "0992a35b-9b7a-4822-a409-6768e99e77a5",
   "metadata": {},
   "source": [
    "In the given code, a variable `age` is defined in the **global** scope. Then a function `func()` is defined and within it, another function `inner_func()` is defined. \n",
    "\n",
    "When `inner_func()` is called, it tries to print the variable `age`. Python first looks for `age` in the **local** scope (the scope of `inner_func()`), but it's not there. Then Python looks in the **enclosing** scope (the scope of `func()`), but again, it's not there. Finally, Python looks in the **global** scope and finds `age`. Therefore, it prints the value of `age` from the global scope, which is `27`.\n",
    "\n",
    "This process demonstrates how Python uses the LEGB (Local, Enclosing, Global, Built-in) rule to resolve names. It starts searching from the local scope and moves upwards to higher scopes until it finds the variable or reaches the highest scope level.\n"
   ]
  },
  {
   "cell_type": "code",
   "execution_count": 35,
   "id": "6d5e5266-9fc9-43c8-972d-3a0a2d1783d5",
   "metadata": {},
   "outputs": [
    {
     "name": "stdout",
     "output_type": "stream",
     "text": [
      "42\n"
     ]
    }
   ],
   "source": [
    "age = 27 \n",
    " \n",
    "def func(): \n",
    "  age = 42\n",
    " \n",
    "  def inner_func():\n",
    "    print(age)\n",
    "  \n",
    "  inner_func() \n",
    " \n",
    "func()"
   ]
  },
  {
   "cell_type": "markdown",
   "id": "8ab69fd7-5a51-4fc1-b2b0-2a8557ab8c44",
   "metadata": {},
   "source": [
    "In the given code, a variable `age` is defined in the **global** scope with a value of `27`. Then a function `func()` is defined. Inside `func()`, another variable `age` is defined in the **enclosing** scope with a value of `42`.\n",
    "\n",
    "Inside `func()`, another function `inner_func()` is defined and called. `inner_func()` tries to print the variable `age`. Python first looks for `age` in the **local** scope (the scope of `inner_func()`), but it's not there. Then Python looks in the **enclosing** scope (the scope of `func()`), and finds `age` there. \n",
    "\n",
    "Therefore, it prints the value of `age` from the enclosing scope, which is `42`. This demonstrates the LEGB (Local, Enclosing, Global, Built-in) rule in action. Python starts the search from the local scope, moving upwards to higher scopes until it finds the variable.\n"
   ]
  }
 ],
 "metadata": {
  "kernelspec": {
   "display_name": "Python 3 (ipykernel)",
   "language": "python",
   "name": "python3"
  },
  "language_info": {
   "codemirror_mode": {
    "name": "ipython",
    "version": 3
   },
   "file_extension": ".py",
   "mimetype": "text/x-python",
   "name": "python",
   "nbconvert_exporter": "python",
   "pygments_lexer": "ipython3",
   "version": "3.10.9"
  }
 },
 "nbformat": 4,
 "nbformat_minor": 5
}
