{
 "cells": [
  {
   "cell_type": "markdown",
   "id": "d8262cfa-2231-4582-89a3-f230df8a2e63",
   "metadata": {},
   "source": [
    "# Introduction to Testing\n",
    "There are syntax errors and exceptions, but there are also mistakes in the program logic which cause it to behave in unexpected ways.\n",
    "\n",
    "## The world of testing can generally be divided into two categories:\n",
    "\n",
    "### Manual Testing:\n",
    "With manual testing, a physical person interacts with software much as a user would. In fact, we have been manually testing our code any time we run it and observe the results! QA specialist jobs. penetration testing\n",
    "\n",
    "### Automated Testing:\n",
    "With automated testing, tests are performed with code. Generally, automated testing is faster and less prone to human error.\n",
    "\n"
   ]
  },
  {
   "cell_type": "markdown",
   "id": "3af6a671-8249-42ac-b4b0-79aca45b5827",
   "metadata": {},
   "source": [
    "# The assert Statement"
   ]
  },
  {
   "cell_type": "code",
   "execution_count": 3,
   "id": "c34f2269-c1e5-4f1a-8e2d-80568ae85324",
   "metadata": {},
   "outputs": [],
   "source": [
    "def times_ten(number):\n",
    "    return number * 10\n",
    " \n",
    "result = times_ten(20)\n",
    "assert result == 200, 'Expected times_ten(20) to return 200, instead got ' + str(result)"
   ]
  },
  {
   "cell_type": "code",
   "execution_count": 4,
   "id": "29bafdeb-5321-4d9e-b671-872a362c476a",
   "metadata": {},
   "outputs": [
    {
     "name": "stdout",
     "output_type": "stream",
     "text": [
      "Welcome to Small World Airlines!\n",
      "What is the airport code of your travel destination?\n",
      "Great! Retrieving information for your flight to ...Budapest\n"
     ]
    }
   ],
   "source": [
    "destinations = {\n",
    "  'BUD': 'Budapest',\n",
    "  'CMN': 'Casablanca',\n",
    "  'IST': 'Istanbul'\n",
    "}\n",
    "print('Welcome to Small World Airlines!')\n",
    "print('What is the airport code of your travel destination?')\n",
    "destination = 'HND'\n",
    "\n",
    "\n",
    "# Write your code below:\n",
    "\n",
    "assert destination in destinations, \"Sorry, Small World currently does not fly to this destination!\"\n",
    "\n",
    "city_name = destinations[destination]\n",
    "print('Great! Retrieving information for your flight to ...' + city_name)"
   ]
  },
  {
   "cell_type": "markdown",
   "id": "ad19fc04-2b70-4bf6-a860-124f658882fe",
   "metadata": {},
   "source": [
    "# Unit Testing in Programming\n",
    "\n",
    "In software development, we can start by testing the smallest unit of a program.\n",
    "\n",
    "For example, in the real world, if we were testing the functionality of a door, we could test a multitude of units. The handle could be an example of a single unit that we must check to make sure a door functions, followed by the hinges and maybe even the lock.\n",
    "\n",
    "In programming, these types of individual tests are called **unit tests**. Like our door handle, we can test a single unit of a program, such as a function, loop, or variable. A unit test validates a single behavior and will make sure all of the units of a program are functioning properly.\n",
    "\n",
    "## Testing a Single Function\n",
    "\n",
    "Let’s say we wanted to test a single function (a single unit). To test a single function, we might create several test cases. A **test case** validates that a specific set of inputs produces an expected output for the unit we are trying to test.\n"
   ]
  },
  {
   "cell_type": "code",
   "execution_count": 6,
   "id": "811f0f98-0177-437e-a308-7f8e4d47cf30",
   "metadata": {},
   "outputs": [],
   "source": [
    "# The unit we want to test\n",
    "def times_ten(number):\n",
    "    return number * 10\n",
    " \n",
    "# A unit test function with a single test case\n",
    "def test_multiply_ten_by_zero():\n",
    "    assert times_ten(0) == 0, 'Expected times_ten(0) to return 0'"
   ]
  },
  {
   "cell_type": "code",
   "execution_count": 6,
   "id": "3113b62d-38b1-4296-9615-b076a3f501cc",
   "metadata": {},
   "outputs": [],
   "source": [
    "def test_multiply_ten_by_one_million():\n",
    "    assert times_ten(1000000) == 10000000, 'Expected times_ten(1000000) to return 10000000'\n",
    " \n",
    "def test_multiply_ten_by_negative_number():\n",
    "    assert times_ten(-10) == -100, 'Expected times_ten(-10) to return -100'"
   ]
  },
  {
   "cell_type": "code",
   "execution_count": 7,
   "id": "170bd677-b1fa-4857-ad6e-f1b46c307b27",
   "metadata": {},
   "outputs": [],
   "source": [
    "def get_nearest_exit(row_number):\n",
    "  if row_number < 15:\n",
    "    location = 'front'\n",
    "  elif row_number < 30:\n",
    "    location = 'middle'\n",
    "  else:\n",
    "    location = 'back'\n",
    "  return location\n",
    "\n",
    "# Write your code below:\n",
    "\n",
    "def test_row_1():\n",
    "  assert get_nearest_exit(1) == 'front', 'The nearest exit to row 1 is in the front!'\n",
    "\n",
    "def test_row_20():\n",
    "  assert get_nearest_exit(20) == 'middle', 'The nearest exit to row 20 is in the middle!'\n",
    "\n",
    "def test_row_40():\n",
    "  assert get_nearest_exit(40) == 'back', 'The nearest exit to row 40 is in the back!'\n",
    "\n",
    "test_row_1()\n",
    "test_row_20()\n",
    "test_row_40()"
   ]
  },
  {
   "cell_type": "markdown",
   "id": "6d363b12-51b4-41e2-83df-c13227bee79b",
   "metadata": {},
   "source": [
    "# Python's unittest Framework"
   ]
  },
  {
   "cell_type": "code",
   "execution_count": 9,
   "id": "625bfee8-8322-41b9-a7c1-07abf2c229be",
   "metadata": {},
   "outputs": [],
   "source": [
    "import unittest"
   ]
  },
  {
   "cell_type": "code",
   "execution_count": 10,
   "id": "1a36445a-94c7-4eb7-91e8-8335a1a5ae93",
   "metadata": {},
   "outputs": [],
   "source": [
    "import unittest \n",
    " \n",
    "class TestTimesTen(unittest.TestCase):\n",
    "    pass"
   ]
  },
  {
   "cell_type": "code",
   "execution_count": 11,
   "id": "485d46fd-5822-4d7e-9a50-2a141a8aa614",
   "metadata": {},
   "outputs": [],
   "source": [
    "import unittest\n",
    " \n",
    "class TestTimesTen(unittest.TestCase):\n",
    "    def test_multiply_ten_by_zero(self):\n",
    "        pass\n",
    " \n",
    "    def test_multiply_ten_by_one_million(self):\n",
    "        pass\n",
    " \n",
    "    def test_multiply_ten_by_negative_number(self):\n",
    "        pass\n"
   ]
  },
  {
   "cell_type": "code",
   "execution_count": 12,
   "id": "521285ec-fb6b-4abf-baf7-0f0e90be57d9",
   "metadata": {},
   "outputs": [],
   "source": [
    "import unittest\n",
    " \n",
    "class TestTimesTen(unittest.TestCase):\n",
    "    def test_multiply_ten_by_zero(self):\n",
    "        self.assertEqual(times_ten(0), 0, 'Expected times_ten(0) to return 0')\n",
    " \n",
    "    def test_multiply_ten_by_one_million(self):\n",
    "        self.assertEqual(times_ten(1000000), 10000000, 'Expected times_ten(1000000) to return 10000000')\n",
    " \n",
    "    def test_multiply_ten_by_negative_number(self):\n",
    "        self.assertEqual(times_ten(-10), -100, 'Expected add_times_ten(-10) to return -100')"
   ]
  },
  {
   "cell_type": "code",
   "execution_count": 8,
   "id": "2c499bb3-7510-406e-a147-5f9f5aa395a8",
   "metadata": {},
   "outputs": [
    {
     "name": "stderr",
     "output_type": "stream",
     "text": [
      "FF.\n",
      "======================================================================\n",
      "FAIL: test_multiply_ten_by_negative_number (__main__.TestTimesTen)\n",
      "----------------------------------------------------------------------\n",
      "Traceback (most recent call last):\n",
      "  File \"/var/folders/w8/dwzx6j3d3tv1vkqcprqjx_mh0000gn/T/ipykernel_6174/1493287983.py\", line 17, in test_multiply_ten_by_negative_number\n",
      "    self.assertEqual(times_ten(-10), -100, 'Expected add_times_ten(-10) to return -100')\n",
      "AssertionError: -1000 != -100 : Expected add_times_ten(-10) to return -100\n",
      "\n",
      "======================================================================\n",
      "FAIL: test_multiply_ten_by_one_million (__main__.TestTimesTen)\n",
      "----------------------------------------------------------------------\n",
      "Traceback (most recent call last):\n",
      "  File \"/var/folders/w8/dwzx6j3d3tv1vkqcprqjx_mh0000gn/T/ipykernel_6174/1493287983.py\", line 14, in test_multiply_ten_by_one_million\n",
      "    self.assertEqual(times_ten(1000000), 10000000, 'Expected times_ten(1000000) to return 10000000')\n",
      "AssertionError: 100000000 != 10000000 : Expected times_ten(1000000) to return 10000000\n",
      "\n",
      "----------------------------------------------------------------------\n",
      "Ran 3 tests in 0.002s\n",
      "\n",
      "FAILED (failures=2)\n"
     ]
    },
    {
     "data": {
      "text/plain": [
       "<unittest.runner.TextTestResult run=3 errors=0 failures=2>"
      ]
     },
     "execution_count": 8,
     "metadata": {},
     "output_type": "execute_result"
    }
   ],
   "source": [
    "# Importing unittest framework\n",
    "import unittest\n",
    " \n",
    "# Function that gets tested\n",
    "def times_ten(number):\n",
    "    return number * 100\n",
    " \n",
    "# Test class\n",
    "class TestTimesTen(unittest.TestCase):\n",
    "    def test_multiply_ten_by_zero(self):\n",
    "        self.assertEqual(times_ten(0), 0, 'Expected times_ten(0) to return 0')\n",
    " \n",
    "    def test_multiply_ten_by_one_million(self):\n",
    "        self.assertEqual(times_ten(1000000), 10000000, 'Expected times_ten(1000000) to return 10000000')\n",
    " \n",
    "    def test_multiply_ten_by_negative_number(self):\n",
    "        self.assertEqual(times_ten(-10), -100, 'Expected add_times_ten(-10) to return -100')\n",
    " \n",
    "# Run the tests\n",
    "unittest.TextTestRunner().run(unittest.TestLoader().loadTestsFromTestCase(TestTimesTen))"
   ]
  },
  {
   "cell_type": "markdown",
   "id": "81b5ca9a-4fab-41d0-b11c-30a07626cb3f",
   "metadata": {},
   "source": [
    "## `unittest` Module\n",
    "\n",
    "The `unittest` module provides us with a test runner. A **test runner** is a component that collects and executes tests and then provides results to the user. The framework also provides many other tools for test grouping, setup, teardown, skipping, and other features that we’ll soon learn about."
   ]
  },
  {
   "cell_type": "code",
   "execution_count": 9,
   "id": "0caa38f3-77a0-4e56-ab1f-0827ebfd0255",
   "metadata": {},
   "outputs": [
    {
     "name": "stderr",
     "output_type": "stream",
     "text": [
      "...\n",
      "----------------------------------------------------------------------\n",
      "Ran 3 tests in 0.003s\n",
      "\n",
      "OK\n"
     ]
    },
    {
     "data": {
      "text/plain": [
       "<unittest.runner.TextTestResult run=3 errors=0 failures=0>"
      ]
     },
     "execution_count": 9,
     "metadata": {},
     "output_type": "execute_result"
    }
   ],
   "source": [
    "# your code below:\n",
    "import unittest\n",
    "\n",
    "def get_nearest_exit(row_number):\n",
    "  if row_number < 15:\n",
    "    location = 'front'\n",
    "  elif row_number < 30:\n",
    "    location = 'middle'\n",
    "  else:\n",
    "    location = 'back'\n",
    "  return location\n",
    "\n",
    "# Write your code below:\n",
    "class NearestExitTests(unittest.TestCase):\n",
    "  def test_row_1(self):\n",
    "    self.assertEqual(get_nearest_exit(1), 'front', 'The nearest exit to row 1 is in the front!') \n",
    "\n",
    "  def test_row_20(self):\n",
    "    self.assertEqual(get_nearest_exit(20), 'middle', 'The nearest exit to row 20 is in the middle!')\n",
    "\n",
    "  def test_row_40(self):\n",
    "    self.assertEqual(get_nearest_exit(40), 'back', 'The nearest exit to row 40 is in the back!')\n",
    "\n",
    "unittest.TextTestRunner().run(unittest.TestLoader().loadTestsFromTestCase(NearestExitTests))"
   ]
  },
  {
   "cell_type": "markdown",
   "id": "91fd019f-5bb1-4077-9df2-c5017e97bef6",
   "metadata": {},
   "source": [
    "# Assert Methods I: Equality and Membership"
   ]
  },
  {
   "cell_type": "markdown",
   "id": "11410176-3e7a-40ba-9696-6534c88bd786",
   "metadata": {},
   "source": [
    "### assertEqual\n",
    "The `assertEqual()` method takes two values as arguments and checks that they are equal. If they are not, the test fails.\n",
    "```python\n",
    "self.assertEqual(value1, value2)\n",
    "```\n",
    "### assertIn\n",
    "The `assertIn()` method takes two arguments. It checks that the first argument is found in the second argument, which should be a container. If it is not found in the container, the test fails.\n",
    "\n",
    "```python\n",
    "self.assertIn(value, container)\n",
    "```\n",
    "### assertTrue\n",
    "The `assertTrue()` method takes a single argument and checks that the argument evaluates to True. If it does not evaluate to True, the test fails.\n",
    "\n",
    "```python\n",
    "self.assertTrue(value)\n",
    "```"
   ]
  },
  {
   "cell_type": "code",
   "execution_count": 10,
   "id": "5f8a4c73-1e89-4c73-84e2-c6749e1cc540",
   "metadata": {},
   "outputs": [],
   "source": [
    "def get_daily_movie():\n",
    "    print('Retrieving the movie set to play on today\\'s flight...')\n",
    "    return 'Parasite'\n",
    "\n",
    "\n",
    "def get_licensed_movies():\n",
    "    print('Retrieving the list of licensed movies from the database...')\n",
    "    licensed_movies = ['Parasite', 'Nomadland', 'Roma']\n",
    "    return licensed_movies\n",
    "\n",
    "\n",
    "def get_wifi_status():\n",
    "    print('Checking WiFi signal...')\n",
    "    print('WiFi is inactive')\n",
    "    return False"
   ]
  },
  {
   "cell_type": "code",
   "execution_count": 22,
   "id": "1e5173fb-a425-4775-95d0-14e2cd3e71f6",
   "metadata": {},
   "outputs": [
    {
     "name": "stderr",
     "output_type": "stream",
     "text": [
      ".F\n",
      "======================================================================\n",
      "FAIL: test_wifi_status (__main__.EntertainmentSystemTests)\n",
      "----------------------------------------------------------------------\n",
      "Traceback (most recent call last):\n",
      "  File \"/var/folders/w8/dwzx6j3d3tv1vkqcprqjx_mh0000gn/T/ipykernel_38837/2534379205.py\", line 13, in test_wifi_status\n",
      "    self.assertTrue(wifi_enabled)\n",
      "AssertionError: False is not true\n",
      "\n",
      "----------------------------------------------------------------------\n",
      "Ran 2 tests in 0.007s\n",
      "\n",
      "FAILED (failures=1)\n"
     ]
    },
    {
     "name": "stdout",
     "output_type": "stream",
     "text": [
      "Retrieving the movie set to play on today's flight...\n",
      "Retrieving the list of licensed movies from the database...\n",
      "Checking WiFi signal...\n",
      "WiFi is inactive\n"
     ]
    },
    {
     "data": {
      "text/plain": [
       "<unittest.runner.TextTestResult run=2 errors=0 failures=1>"
      ]
     },
     "execution_count": 22,
     "metadata": {},
     "output_type": "execute_result"
    }
   ],
   "source": [
    "import unittest\n",
    "# Write your code below: \n",
    "class EntertainmentSystemTests(unittest.TestCase):\n",
    "\n",
    "  def test_movie_license(self):\n",
    "    daily_movie = get_daily_movie()\n",
    "    licensed_movies = get_licensed_movies()\n",
    "    self.assertIn(daily_movie, licensed_movies)\n",
    "\n",
    "\n",
    "  def test_wifi_status(self):\n",
    "    wifi_enabled = get_wifi_status()\n",
    "    self.assertTrue(wifi_enabled)\n",
    "\n",
    "\n",
    "unittest.TextTestRunner().run(unittest.TestLoader().loadTestsFromTestCase(EntertainmentSystemTests))"
   ]
  },
  {
   "cell_type": "markdown",
   "id": "ee90a29c-3d7b-4fde-90b7-035ca97f5994",
   "metadata": {},
   "source": [
    "# Assert Methods II: Quantitative Methods\n",
    "\n",
    "### assertLess\n",
    "The `assertLess()` method takes two arguments and checks that the first argument is less than the second one. If it is not, the test will fail.\n",
    "```python\n",
    "self.assertLess(value1, value2)\n",
    "```\n",
    "### assertAlmostEqual\n",
    "The `assertAlmostEqual()` method takes two arguments and checks that their difference, when rounded to 7 decimal places, is 0. In other words, if they are almost equal. If the values are not close enough to equality, the test will fail.\n",
    "```python\n",
    "self.assertAlmostEqual(value1, value2)\n",
    "```"
   ]
  },
  {
   "cell_type": "code",
   "execution_count": 11,
   "id": "dff3ec11-959f-4776-9d9b-63313d3c62d7",
   "metadata": {},
   "outputs": [
    {
     "name": "stderr",
     "output_type": "stream",
     "text": [
      "....\n",
      "----------------------------------------------------------------------\n",
      "Ran 4 tests in 0.010s\n",
      "\n",
      "OK\n"
     ]
    },
    {
     "name": "stdout",
     "output_type": "stream",
     "text": [
      "Reading the temperature of the entertainment system device...\n",
      "Calculating maximum display brightness in nits...\n",
      "Retrieving the movie set to play on today's flight...\n",
      "Retrieving the list of licenses movies from the database...\n",
      "Checking WiFi signal...\n",
      "WiFi is active\n"
     ]
    },
    {
     "data": {
      "text/plain": [
       "<unittest.runner.TextTestResult run=4 errors=0 failures=0>"
      ]
     },
     "execution_count": 12,
     "metadata": {},
     "output_type": "execute_result"
    }
   ],
   "source": [
    "import unittest\n",
    "def get_daily_movie():\n",
    "    print('Retrieving the movie set to play on today\\'s flight...')\n",
    "    return 'Parasite'\n",
    "\n",
    "\n",
    "def get_licensed_movies():\n",
    "    print('Retrieving the list of licenses movies from the database...')\n",
    "    licensed_movies = ['Parasite', 'Nomadland', 'Roma']\n",
    "    return licensed_movies\n",
    "\n",
    "\n",
    "def get_wifi_status():\n",
    "    print('Checking WiFi signal...')\n",
    "    print('WiFi is active')\n",
    "    return True\n",
    "\n",
    "def get_device_temp():\n",
    "    print('Reading the temperature of the entertainment system device...')\n",
    "    return 40\n",
    "\n",
    "def get_maximum_display_brightness():\n",
    "    print('Calculating maximum display brightness in nits...')\n",
    "    return 399.99999999\n",
    "\n",
    "class EntertainmentSystemTests(unittest.TestCase):\n",
    "\n",
    "  def test_movie_license(self):\n",
    "    daily_movie = get_daily_movie()\n",
    "    licensed_movies = get_licensed_movies()\n",
    "    self.assertIn(daily_movie, licensed_movies)\n",
    "\n",
    "  def test_wifi_status(self):\n",
    "    wifi_enabled = get_wifi_status()\n",
    "    self.assertTrue(wifi_enabled)\n",
    "\n",
    "  # Write your code below:\n",
    "  def test_maximum_display_brightness(self):\n",
    "    brightness = get_maximum_display_brightness()\n",
    "    self.assertAlmostEqual(brightness, 400)\n",
    "\n",
    "  def test_device_temperature(self):\n",
    "    device_temp = get_device_temp()\n",
    "    self.assertLess(device_temp, 35)\n",
    "  \n",
    "\n",
    "unittest.TextTestRunner().run(unittest.TestLoader().loadTestsFromTestCase(EntertainmentSystemTests))"
   ]
  },
  {
   "cell_type": "markdown",
   "id": "88564ef2-9080-4ccc-be78-c7b16d4cb0e8",
   "metadata": {},
   "source": [
    "# Assert Methods III: Exception and Warning Methods"
   ]
  },
  {
   "cell_type": "markdown",
   "id": "8f82817f-e3a3-4cce-bb3c-6fb2113bedb1",
   "metadata": {},
   "source": [
    "### assertRaises\n",
    "\n",
    "The `assertRaises()` method is used to test if an exception gets raised. It takes the following arguments:\n",
    "\n",
    "- **Exception type**: This is the type of exception you expect the function to raise.\n",
    "- **Function reference**: This is a reference to the function that you expect to raise the exception.\n",
    "- **Arguments**: These are any additional arguments that you want to pass to the function.\n",
    "\n",
    "Usage:\n",
    "\n",
    "```python\n",
    "with self.assertRaises(ExpectedException):\n",
    "    function_that_should_raise_the_exception(arguments)\n",
    "```\n",
    "\n",
    "### assertWarns\n",
    "\n",
    "The `assertWarns()` method is used to test if a specific warning gets issued. It takes the following arguments:\n",
    "\n",
    "- **Warning type**: This is the type of warning you expect the function to trigger.\n",
    "- **Function reference**: This is a reference to the function that you expect to trigger the warning.\n",
    "- **Arguments**: These are any additional arguments that you want to pass to the function.\n",
    "\n",
    "The method calls the function and checks if the specified warning occurs. The test will pass if the warning is triggered and will fail if it isn't.\n",
    "\n",
    "Usage:\n",
    "\n",
    "```python\n",
    "with self.assertWarns(ExpectedWarning):\n",
    "    function_that_should_trigger_the_warning(arguments)\n",
    "```"
   ]
  },
  {
   "cell_type": "code",
   "execution_count": 37,
   "id": "733ff6eb-9306-4637-8f19-50ea2bdbf60f",
   "metadata": {},
   "outputs": [
    {
     "name": "stderr",
     "output_type": "stream",
     "text": [
      "..\n",
      "----------------------------------------------------------------------\n",
      "Ran 2 tests in 0.009s\n",
      "\n",
      "OK\n"
     ]
    },
    {
     "data": {
      "text/plain": [
       "<unittest.runner.TextTestResult run=2 errors=0 failures=0>"
      ]
     },
     "execution_count": 37,
     "metadata": {},
     "output_type": "execute_result"
    }
   ],
   "source": [
    "import warnings\n",
    "import unittest\n",
    "\n",
    "class PowerError(Exception):\n",
    "    pass\n",
    "\n",
    "class WaterLevelWarning(Warning):\n",
    "    pass\n",
    "\n",
    "def power_outage_detected(outage_detected):\n",
    "    if outage_detected:\n",
    "        raise PowerError('A power outage has been detected somewhere in the system')\n",
    "    else:\n",
    "        print('All systems receiving power')\n",
    "\n",
    "def water_levels_check(liters):\n",
    "    if liters < 200:\n",
    "        warnings.warn('Water levels have fallen below 200 liters', WaterLevelWarning)\n",
    "    else:\n",
    "        print('Water levels are adequate')\n",
    "\n",
    "# Checkpoint 1\n",
    "class SystemAlertTests(unittest.TestCase):\n",
    "    \n",
    "  # Checkpoint 2\n",
    "  def test_power_outage_alert(self):\n",
    "    self.assertRaises(PowerError, power_outage_detected, True)\n",
    "    \n",
    "  # Checkpoint 3\n",
    "  def test_water_levels_warning(self):\n",
    "    self.assertWarns(WaterLevelWarning, water_levels_check, 150)\n",
    "\n",
    "unittest.TextTestRunner().run(unittest.TestLoader().loadTestsFromTestCase(SystemAlertTests))"
   ]
  },
  {
   "cell_type": "markdown",
   "id": "778ba793-b2f3-47d5-8d0d-c99baee11348",
   "metadata": {},
   "source": [
    "# Parameterizing Tests"
   ]
  },
  {
   "cell_type": "markdown",
   "id": "681ee8c4-01cb-4cc8-a19f-2de19fda66de",
   "metadata": {},
   "source": [
    "## Test Parameterization in Python with `unittest`\n",
    "\n",
    "In previous examples, we created test cases for the `times_ten()` function with various inputs. However, the actual logic of our tests really didn’t change. To decrease repetition, Python provides us a specific toolset for tests with only minor differences. This is known as **test parameterization**. By parameterizing tests, we can leverage the functionality of a single test to get a large amount of coverage of different inputs.\n",
    "\n",
    "To accomplish test parameterization, the `unittest` framework provides us with the `subTest` context manager. Let’s refactor our previous test class to utilize it and see it in action:\n"
   ]
  },
  {
   "cell_type": "code",
   "execution_count": 14,
   "id": "c994a075-15a1-4377-b21d-d4a402f69420",
   "metadata": {},
   "outputs": [
    {
     "name": "stderr",
     "output_type": "stream",
     "text": [
      "\n",
      "======================================================================\n",
      "FAIL: test_times_ten (__main__.TestTimesTen) (<subtest>)\n",
      "----------------------------------------------------------------------\n",
      "Traceback (most recent call last):\n",
      "  File \"/var/folders/w8/dwzx6j3d3tv1vkqcprqjx_mh0000gn/T/ipykernel_6174/502619155.py\", line 16, in test_times_ten\n",
      "    self.assertEqual(times_ten(num), expected_result, message)\n",
      "AssertionError: 100000000 != 10000000 : Expected times_ten(1000000) to return 10000000\n",
      "\n",
      "======================================================================\n",
      "FAIL: test_times_ten (__main__.TestTimesTen) (<subtest>)\n",
      "----------------------------------------------------------------------\n",
      "Traceback (most recent call last):\n",
      "  File \"/var/folders/w8/dwzx6j3d3tv1vkqcprqjx_mh0000gn/T/ipykernel_6174/502619155.py\", line 16, in test_times_ten\n",
      "    self.assertEqual(times_ten(num), expected_result, message)\n",
      "AssertionError: -1000 != -100 : Expected times_ten(-10) to return -100\n",
      "\n",
      "----------------------------------------------------------------------\n",
      "Ran 1 test in 0.001s\n",
      "\n",
      "FAILED (failures=2)\n"
     ]
    },
    {
     "data": {
      "text/plain": [
       "<unittest.runner.TextTestResult run=1 errors=0 failures=2>"
      ]
     },
     "execution_count": 14,
     "metadata": {},
     "output_type": "execute_result"
    }
   ],
   "source": [
    "import unittest\n",
    " \n",
    "# The function we want to test\n",
    "def times_ten(number):\n",
    "    return number * 100\n",
    " \n",
    "# Our test class\n",
    "class TestTimesTen(unittest.TestCase):\n",
    "    \n",
    "    # A test method\n",
    "    def test_times_ten(self):\n",
    "        for num in [0, 1000000, -10]:\n",
    "            with self.subTest():\n",
    "                expected_result = num * 10\n",
    "                message = 'Expected times_ten(' + str(num) + ') to return ' + str(expected_result)\n",
    "                self.assertEqual(times_ten(num), expected_result, message)\n",
    "\n",
    "unittest.TextTestRunner().run(unittest.TestLoader().loadTestsFromTestCase(TestTimesTen))"
   ]
  },
  {
   "cell_type": "markdown",
   "id": "fa39ec88-9c73-4766-8d2a-cf471bd7185a",
   "metadata": {},
   "source": [
    "# Test Fixtures\n",
    "## The Importance of Test Environments in Testing\n",
    "\n",
    "One of the most important principles of testing is that tests need to occur in a known state. If the conditions in which a test runs are not controlled, then our results could contain **false negatives** (invalid failed results) or **false positives** (invalid passed results).\n",
    "\n",
    "## Test Fixtures in Testing\n",
    "\n",
    "This is where test fixtures come in. A **test fixture** is a mechanism for ensuring proper test setup (putting tests into a known state) and test teardown (restoring the state prior to the test running). Test fixtures guarantee that our tests are running in predictable conditions, and thus the results are reliable.\n",
    "\n",
    "## Testing a Bluetooth Device with Test Fixtures\n",
    "\n",
    "Let’s say we are testing a Bluetooth device. The device’s Bluetooth module can sometimes fail. When this happens, the device needs to be power cycled (shut off and then on) to restore Bluetooth functionality. \n",
    "\n",
    "We would not want tests to run if the device was already in a failed state because these results would not be valid. Furthermore, if our tests cause the Bluetooth module to fail, we want to restore it to a working state after the tests run. \n",
    "\n",
    "So, we add a test fixture to power cycle the device before and after each test. Below is a representation of how we might do it:\n",
    "\n",
    "```python\n",
    "def setUp(self):\n",
    "    # Power cycle the device to ensure it starts fresh\n",
    "    self.device.power_cycle()\n",
    "\n",
    "def test_bluetooth_functionality(self):\n",
    "    # Your test code here\n",
    "\n",
    "def tearDown(self):\n",
    "    # Power cycle the device to ensure it's reset\n",
    "    self.device.power_cycle()\n",
    "```"
   ]
  },
  {
   "cell_type": "code",
   "execution_count": 39,
   "id": "f448863d-a741-4e49-a0e0-9d698722c6d6",
   "metadata": {},
   "outputs": [],
   "source": [
    "def power_cycle_device():\n",
    "  print('Power cycling bluetooth device...')\n",
    " \n",
    "class BluetoothDeviceTests(unittest.TestCase):\n",
    "  def setUp(self):\n",
    "    power_cycle_device()\n",
    " \n",
    "  def test_feature_a(self):\n",
    "    print('Testing Feature A')\n",
    " \n",
    "  def test_feature_b(self):\n",
    "    print('Testing Feature B')\n",
    " \n",
    "  def tearDown(self):\n",
    "    power_cycle_device()"
   ]
  },
  {
   "cell_type": "code",
   "execution_count": 40,
   "id": "329cb85f-61ad-457f-bc50-e2bd192d9d7a",
   "metadata": {},
   "outputs": [
    {
     "name": "stderr",
     "output_type": "stream",
     "text": [
      "..\n",
      "----------------------------------------------------------------------\n",
      "Ran 2 tests in 0.003s\n",
      "\n",
      "OK\n"
     ]
    },
    {
     "name": "stdout",
     "output_type": "stream",
     "text": [
      "Powering on the check-in kiosk...\n",
      "Returning check-in kiosk to Welcome Page\n",
      "Testing the check-in process based on flight number\n",
      "Returning check-in kiosk to Welcome Page\n",
      "Testing the check-in process based on passport\n",
      "Powering off the check-in kiosk...\n"
     ]
    },
    {
     "data": {
      "text/plain": [
       "<unittest.runner.TextTestResult run=2 errors=0 failures=0>"
      ]
     },
     "execution_count": 40,
     "metadata": {},
     "output_type": "execute_result"
    }
   ],
   "source": [
    "import unittest\n",
    "\n",
    "def power_on_kiosk():\n",
    "    print('Powering on the check-in kiosk...')\n",
    "\n",
    "\n",
    "def return_to_welcome_page():\n",
    "    print('Returning check-in kiosk to Welcome Page')\n",
    "\n",
    "\n",
    "def power_off_kiosk():\n",
    "    print('Powering off the check-in kiosk...')\n",
    "\n",
    "\n",
    "class CheckInKioskTests(unittest.TestCase):\n",
    "\n",
    "  def test_check_in_with_flight_number(self):\n",
    "    print('Testing the check-in process based on flight number')\n",
    "\n",
    "  def test_check_in_with_passport(self):\n",
    "    print('Testing the check-in process based on passport')\n",
    "\n",
    "  # Write your code below:\n",
    "  @classmethod\n",
    "  def setUpClass(cls):\n",
    "    power_on_kiosk()\n",
    "\n",
    "  @classmethod\n",
    "  def tearDownClass(cls):\n",
    "    power_off_kiosk()\n",
    "  \n",
    "  def setUp(self):\n",
    "    return_to_welcome_page()\n",
    "unittest.TextTestRunner().run(unittest.TestLoader().loadTestsFromTestCase(CheckInKioskTests))"
   ]
  },
  {
   "cell_type": "markdown",
   "id": "3161b4ee-463b-48e9-a227-18280f80a437",
   "metadata": {},
   "source": [
    "# Skipping tests\n",
    "\n",
    "## Skipping Tests Based on Context\n",
    "\n",
    "Sometimes we have tests that should only run in a particular context. For example, we might have a group of tests that only runs on the Windows operating system but not Linux or macOS. For these situations, it’s helpful to be able to skip tests.\n",
    "\n",
    "In Python's `unittest` framework, you can use decorators like `@unittest.skip` or `@unittest.skipIf` to conditionally skip tests. Here's an example:\n",
    "\n",
    "```python\n",
    "import unittest\n",
    "import sys\n",
    "\n",
    "class WindowsOnlyTests(unittest.TestCase):\n",
    "\n",
    "    @unittest.skipUnless(sys.platform.startswith(\"win\"), \"Requires Windows\")\n",
    "    def test_windows_feature(self):\n",
    "        # Test code that's specific to Windows functionality\n",
    "```"
   ]
  },
  {
   "cell_type": "markdown",
   "id": "49026fe7-a6b0-453d-a3c9-2dd009414aca",
   "metadata": {},
   "source": [
    "# Expected Failures"
   ]
  },
  {
   "cell_type": "markdown",
   "id": "74bd8232-53ff-48e3-a94c-182144c5bcec",
   "metadata": {},
   "source": [
    "## Handling Known Failures in Tests\n",
    "\n",
    "Sometimes we have a test that we know will fail. This could be because a feature has a known bug, is not yet implemented, or is designed to fail under certain conditions. Instead of receiving false negatives from our test suite, we'd like to acknowledge that we expect a particular test to fail.\n",
    "\n",
    "In Python's `unittest` framework, you can use the `@unittest.expectedFailure` decorator to mark such tests. Here's an example:\n",
    "\n",
    "```python\n",
    "import unittest\n",
    "\n",
    "class KnownFailures(unittest.TestCase):\n",
    "\n",
    "    @unittest.expectedFailure\n",
    "    def test_known_bug(self):\n",
    "        # Test code for a feature with a known bug\n",
    "        self.assertEqual(1 + 1, 3)  # This will obviously fail\n",
    "```"
   ]
  },
  {
   "cell_type": "code",
   "execution_count": null,
   "id": "23e7d305-0596-4ba2-9b8f-c85ece7813b7",
   "metadata": {},
   "outputs": [],
   "source": []
  }
 ],
 "metadata": {
  "kernelspec": {
   "display_name": "Python 3 (ipykernel)",
   "language": "python",
   "name": "python3"
  },
  "language_info": {
   "codemirror_mode": {
    "name": "ipython",
    "version": 3
   },
   "file_extension": ".py",
   "mimetype": "text/x-python",
   "name": "python",
   "nbconvert_exporter": "python",
   "pygments_lexer": "ipython3",
   "version": "3.10.9"
  }
 },
 "nbformat": 4,
 "nbformat_minor": 5
}
