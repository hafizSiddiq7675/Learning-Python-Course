{
 "cells": [
  {
   "cell_type": "markdown",
   "id": "2a21b2bb-460f-4d9b-8ece-c6a0f6cff113",
   "metadata": {},
   "source": [
    "# Introduction to Python Sets\n",
    "\n",
    "In Python, a **set** is a group of elements that are unordered and do not contain duplicates. Although it may seem that the usefulness of this data structure is limited, it can actually be very helpful for organizing items and performing set mathematics.\n",
    "\n",
    "## Creating a Set\n",
    "\n",
    "In Python, sets can be created in a couple of ways:\n",
    "\n",
    "1. **Using Curly Braces `{ }`**: \n",
    "   - Example: \n",
    "     ```python\n",
    "     fruits = {\"apple\", \"banana\", \"cherry\"}\n",
    "     ```\n",
    "\n",
    "2. **Using the `set()` Constructor**: \n",
    "   - Example:\n",
    "     ```python\n",
    "     colors = set([\"red\", \"green\", \"blue\"])\n",
    "     ```\n",
    "\n",
    "Note: While the curly braces method is more concise, the `set()` constructor is useful when converting other data types to a set.\n",
    "\n",
    "## Removing Duplicates with Sets\n",
    "\n",
    "A significant feature of sets in Python is their ability to remove duplicates. When you create a set from a list containing duplicate elements, the resulting set will have those duplicates removed.\n",
    "\n",
    "### Example:\n",
    "```python\n",
    "# A list with duplicate elements\n",
    "fruits_list = [\"apple\", \"banana\", \"cherry\", \"apple\", \"banana\"]\n",
    "# Convert the list to a set\n",
    "fruits_set = set(fruits_list)\n",
    "print(fruits_set)  # Outputs: {\"apple\", \"banana\", \"cherry\"}\n",
    "\n",
    "```"
   ]
  },
  {
   "cell_type": "code",
   "execution_count": 1,
   "id": "1480fa2a-fff3-46d9-b517-4653924d455e",
   "metadata": {},
   "outputs": [
    {
     "name": "stdout",
     "output_type": "stream",
     "text": [
      "{'roc', 'pop', 'rap', 'cou', 'cla', 'lat', 'k-p'}\n"
     ]
    }
   ],
   "source": [
    "genre_results = ['rap', 'classical', 'rock', 'rock', 'country', 'rap', 'rock', 'latin', 'country', 'k-pop', 'pop', 'rap', 'rock', 'k-pop',  'rap', 'k-pop', 'rock', 'rap', 'latin', 'pop', 'pop', 'classical', 'pop', 'country', 'rock', 'classical', 'country', 'pop', 'rap', 'latin']\n",
    "\n",
    "# Write your code below!\n",
    "survey_genres = set(genre_results)\n",
    "\n",
    "survey_abbreviated = {genre[0:3] for genre in genre_results}\n",
    "\n",
    "print(survey_abbreviated)"
   ]
  },
  {
   "cell_type": "markdown",
   "id": "554df9e8-4399-4d86-883b-a526df614345",
   "metadata": {},
   "source": [
    "## Creating a Frozenset\n",
    "\n",
    "A **frozenset** is similar to a regular set in Python but, as its name suggests, it's frozen. This means once you create a frozenset, you cannot modify its contents (add or remove elements). Unlike regular sets, you cannot use curly braces `{}` to define a frozenset. Instead, you have to use the `frozenset()` constructor.\n",
    "\n",
    "### Example:\n",
    "```python\n",
    "# Regular set\n",
    "regular_set = {1, 2, 3, 4}\n",
    "\n",
    "# Frozenset from a regular set\n",
    "frozen = frozenset(regular_set)\n",
    "print(frozen)  # Outputs: frozenset({1, 2, 3, 4})\n"
   ]
  },
  {
   "cell_type": "markdown",
   "id": "5b7c55f6-fabc-42a8-8659-b9ae4ca512ec",
   "metadata": {},
   "source": [
    "## Adding to a Set\n",
    "\n",
    "In Python, once a set is created, you can add elements to it. However, remember that sets do not allow duplicate values, so adding an already present value will have no effect.\n",
    "\n",
    "### 1. Using the `.add()` method:\n",
    "\n",
    "The `.add()` method allows you to add a single element to the set.\n",
    "\n",
    "```python\n",
    "# Example:\n",
    "my_set = {1, 2, 3}\n",
    "my_set.add(4)\n",
    "print(my_set)  # Outputs: {1, 2, 3, 4}\n",
    "\n",
    "# If you try to add an existing element:\n",
    "my_set.add(3)\n",
    "print(my_set)  # Outputs: {1, 2, 3, 4} (no change)\n",
    "```\n",
    "\n",
    "### 2. Using the `.update()` method:\n",
    "\n",
    "The `.update()` method is used when you want to add multiple elements to the set. You can pass any iterable (like list, tuple, another set) to the `.update()` method.\n",
    "\n",
    "```python\n",
    "# Example:\n",
    "my_set = {1, 2, 3}\n",
    "my_set.update([3, 4, 5])\n",
    "print(my_set)  # Outputs: {1, 2, 3, 4, 5}\n",
    "\n",
    "# Combining two sets:\n",
    "another_set = {5, 6, 7}\n",
    "my_set.update(another_set)\n",
    "print(my_set)  # Outputs: {1, 2, 3, 4, 5, 6, 7}\n"
   ]
  },
  {
   "cell_type": "code",
   "execution_count": 4,
   "id": "d9e34ab6-d058-448d-9b73-1dc7645de826",
   "metadata": {},
   "outputs": [],
   "source": [
    "song_data = {'Retro Words': ['pop', 'warm', 'happy', 'electric']}\n",
    "\n",
    "user_tag_1 = 'warm'\n",
    "user_tag_2 = 'exciting'\n",
    "user_tag_3 = 'electric'\n",
    "\n",
    "# Write your code below!\n",
    "tag_set = set(song_data['Retro Words'])\n",
    "\n",
    "tag_set.add(user_tag_1)\n",
    "tag_set.add(user_tag_2)\n",
    "tag_set.add(user_tag_3)\n",
    "\n",
    "song_data['Retro Words'] = tag_set"
   ]
  },
  {
   "cell_type": "markdown",
   "id": "c05b7179-05d0-4999-8354-8581269488fb",
   "metadata": {},
   "source": [
    "### Removing Elements from a Set\n",
    "\n",
    "There are multiple ways to remove elements from a set:\n",
    "\n",
    "#### 1. Using the `.remove()` method:\n",
    "\n",
    "The `.remove()` method searches for a specified element in the set and removes it. If the element is not found, it raises a `KeyError`.\n",
    "\n",
    "```python\n",
    "# Example:\n",
    "my_set = {1, 2, 3, 4, 5}\n",
    "my_set.remove(3)\n",
    "print(my_set)  # Outputs: {1, 2, 4, 5}\n",
    "\n",
    "# Trying to remove an element that doesn't exist:\n",
    "# my_set.remove(10)  # This will raise a KeyError\n",
    "```\n",
    "#### Using the `.discard()` method:\n",
    "\n",
    "The `.discard()` method also removes a specified element from the set, similar to the `.remove()` method. The main difference is that if the element is not found in the set, `.discard()` does not raise a `KeyError`.\n",
    "\n",
    "```python\n",
    "# Example:\n",
    "my_set = {1, 2, 3, 4, 5}\n",
    "my_set.discard(3)\n",
    "print(my_set)  # Outputs: {1, 2, 4, 5}\n",
    "\n",
    "# Using .discard() on an element that doesn't exist:\n",
    "my_set.discard(10)  # No error raised, just does nothing.\n",
    "```\n"
   ]
  },
  {
   "cell_type": "code",
   "execution_count": 6,
   "id": "f283f0e0-5f7f-4a0e-b12d-d4989fc2a62a",
   "metadata": {},
   "outputs": [],
   "source": [
    "song_data_users = {'Retro Words': ['pop', 'onion', 'warm', 'helloworld', 'happy', 'spam', 'electric']}\n",
    "\n",
    "# Write your code below!\n",
    "tag_set = set(song_data_users['Retro Words'])\n",
    "\n",
    "tag_set.remove('onion')\n",
    "tag_set.remove('helloworld')\n",
    "tag_set.remove('spam')\n",
    "\n",
    "song_data_users['Retro Words'] = tag_set"
   ]
  },
  {
   "cell_type": "markdown",
   "id": "0fcaad7d-307e-4cc5-9079-2a4e9522951d",
   "metadata": {},
   "source": [
    "### Finding Elements in a Set\n",
    "\n",
    "In Python, both `set` and `frozenset` data structures do not support indexing, as they are unordered collections of items. This means you cannot access individual elements using an index like you would in a list or tuple.\n",
    "\n",
    "However, you can still check if an element exists in the set using the `in` keyword:\n",
    "\n",
    "```python\n",
    "# Example:\n",
    "my_set = {1, 2, 3, 4, 5}\n",
    "\n",
    "# Check if 3 is in the set\n",
    "if 3 in my_set:\n",
    "    print(\"3 is in the set!\")  # Outputs: \"3 is in the set!\"\n",
    "```"
   ]
  },
  {
   "cell_type": "markdown",
   "id": "f3928548-60aa-4458-a692-42dd4ac4737d",
   "metadata": {},
   "source": [
    "## Introduction to Set Operations\n",
    "\n",
    "In Python, the `set` data structure offers a range of operations that allow for the manipulation and combination of multiple sets. These operations mirror many of the fundamental operations available in mathematical set theory, and they can be immensely useful in a wide array of programming tasks—from filtering data to categorizing items and more.\n",
    "\n",
    "Below are the primary set operations available in Python:\n",
    "\n",
    "### 1. Unions\n",
    "A union operation combines the elements of two sets, creating a new set that contains all the unique elements from both of the original sets.\n",
    "\n",
    "### 2. Intersections (and Intersection Updates)\n",
    "\n",
    "The intersection operation identifies common elements between two or more sets. In Python, you can determine the intersection of sets using the `intersection()` method or the `&` operator.\n",
    "\n",
    "\n",
    "### 3. Differences (and Difference Updates)\n",
    "\n",
    "The difference operation identifies elements that are present in one set but not in another. In Python, you can determine the difference of sets using the `difference()` method or the `-` operator.\n",
    "\n",
    "### 4. Symmetric Differences (and Symmetric Difference Updates)\n",
    "\n",
    "Symmetric differences determine the set of elements that are in either of the sets, but not in their intersection. In simpler terms, it retrieves all unique elements between two sets.\n"
   ]
  },
  {
   "cell_type": "markdown",
   "id": "610c83d9-e218-4e2b-a1d4-504326f9a47d",
   "metadata": {},
   "source": [
    "## Set Union\n",
    "\n",
    "When working with a `set` or `frozenset` container, one of the most foundational operations is merging the contents of multiple sets. This is known as the **union** operation. A union operation combines the elements of two sets, excluding any duplicates.\n",
    "\n",
    "### Using the `union()` method:\n",
    "\n",
    "```python\n",
    "set1 = {1, 2, 3, 4}\n",
    "set2 = {3, 4, 5, 6}\n",
    "result = set1.union(set2)\n",
    "print(result)  # Outputs: {1, 2, 3, 4, 5, 6}\n",
    "\n",
    "```\n",
    "### Using the `|` operator:\n",
    "\n",
    "```python\n",
    "result = set1 | set2\n",
    "print(result)  # Outputs: {1, 2, 3, 4, 5, 6}\n",
    "```"
   ]
  },
  {
   "cell_type": "code",
   "execution_count": 10,
   "id": "38360204-d282-4cb0-9e47-5638a9efed1e",
   "metadata": {},
   "outputs": [
    {
     "name": "stdout",
     "output_type": "stream",
     "text": [
      "{'Retro Words': {'happy', 'exciting', 'electronic', 'warm', 'pop', 'fun'}, 'Wait For Limit': {'rhythmic', 'chill', 'rap', 'romance', 'upbeat'}, 'Stomping Cue': {'party', 'country', 'instrumental', 'swing', 'fiddle'}, 'Lowkey Space': {'party', 'synth', 'fast', 'dance', 'electronic', 'upbeat'}}\n"
     ]
    }
   ],
   "source": [
    "song_data = {'Retro Words': ['pop', 'warm', 'happy', 'electronic'],\n",
    "             'Wait For Limit': ['rap', 'upbeat', 'romance'],\n",
    "             'Stomping Cue': ['country', 'fiddle', 'party'],\n",
    "             'Lowkey Space': ['electronic', 'dance', 'synth']}\n",
    "\n",
    "user_tag_data = {'Lowkey Space': ['party', 'synth', 'fast', 'upbeat'],\n",
    "                 'Retro Words': ['happy', 'electronic', 'fun', 'exciting'],\n",
    "                 'Wait For Limit': ['romance', 'chill', 'rap', 'rhythmic'], \n",
    "                 'Stomping Cue': ['country', 'swing', 'party', 'instrumental']}\n",
    "\n",
    "# Write your code below!\n",
    "new_song_data = {}\n",
    "\n",
    "for key, val in song_data.items():\n",
    "    song_tag_set = set(val)\n",
    "    user_tag_set = set(user_tag_data[key])\n",
    "    new_song_data[key] = song_tag_set | user_tag_set\n",
    "\n",
    "print(new_song_data)"
   ]
  },
  {
   "cell_type": "markdown",
   "id": "9f531090-478a-4ddf-b848-49bc412108e2",
   "metadata": {},
   "source": [
    "## Set Intersection\n",
    "\n",
    "If we possess multiple `set` or `frozenset` containers and wish to identify the common elements between them, we turn to the **intersection** operation. This operation extracts and returns the elements which are present in all participating sets.\n",
    "\n",
    "### Using the `intersection()` method:\n",
    "\n",
    "```python\n",
    "set1 = {1, 2, 3, 4}\n",
    "set2 = {3, 4, 5, 6}\n",
    "result = set1.intersection(set2)\n",
    "print(result)  # Outputs: {3, 4}\n",
    "```\n",
    "### Using the `&` operator:\n",
    "result = set1 & set2\n",
    "print(result)  # Outputs: {3, 4}"
   ]
  },
  {
   "cell_type": "code",
   "execution_count": 12,
   "id": "d2527aa6-9051-4cf0-bdaa-bbb8374d14da",
   "metadata": {},
   "outputs": [
    {
     "name": "stdout",
     "output_type": "stream",
     "text": [
      "{'Double Lights': ['electronic', 'chill', 'relaxing', 'piano', 'synth']}\n"
     ]
    }
   ],
   "source": [
    "song_data = {'Retro Words': ['pop', 'warm', 'happy', 'electronic', 'synth'],\n",
    "             'Wait For Limit': ['rap', 'upbeat', 'romance'],\n",
    "             'Stomping Cue': ['country', 'fiddle', 'party'],\n",
    "             'Lowkey Space': ['electronic', 'dance', 'synth', 'upbeat'],\n",
    "             'Back To Art': ['pop', 'sad', 'emotional', 'relationship'],\n",
    "             'Blinding Era': ['rap', 'intense', 'moving', 'fast'],\n",
    "             'Down To Green Hills': ['country', 'relaxing', 'vocal', 'emotional'],\n",
    "             'Double Lights': ['electronic', 'chill', 'relaxing', 'piano', 'synth']}\n",
    "\n",
    "user_recent_songs = {'Retro Words': ['pop', 'warm', 'happy', 'electronic', 'synth'],\n",
    "                     'Lowkey Space': ['electronic', 'dance', 'synth', 'upbeat']}\n",
    "\n",
    "# Write your code below!\n",
    "\n",
    "tags_int = set(user_recent_songs['Retro Words']) & set(user_recent_songs['Lowkey Space'])\n",
    "\n",
    "recommended_songs = {}\n",
    "for key, val in song_data.items():\n",
    "    for tag in val:\n",
    "        if tag in tags_int:\n",
    "            if key not in user_recent_songs:\n",
    "                recommended_songs[key] = val\n",
    "\n",
    "print(recommended_songs)"
   ]
  },
  {
   "cell_type": "markdown",
   "id": "d60444b4-32b5-4128-9591-f523808d0087",
   "metadata": {},
   "source": [
    "## Set Difference\n",
    "\n",
    "The **difference** operation in sets lets us identify elements that are unique to one set, excluding those found in another. It essentially retrieves items from the first set that aren't present in the second set. \n",
    "\n",
    "### Using the `difference()` method:\n",
    "\n",
    "```python\n",
    "set1 = {1, 2, 3, 4}\n",
    "set2 = {3, 4, 5, 6}\n",
    "result = set1.difference(set2)\n",
    "print(result)  # Outputs: {1, 2}\n",
    "```\n",
    "### Using the `-` operator:\n",
    "```python\n",
    "result = set1 - set2\n",
    "print(result)  # Outputs: {1, 2}\n",
    "```"
   ]
  },
  {
   "cell_type": "code",
   "execution_count": 14,
   "id": "3395f09a-a0b8-44fb-963e-5baf82bc1aec",
   "metadata": {},
   "outputs": [
    {
     "name": "stdout",
     "output_type": "stream",
     "text": [
      "{'Wait For Limit': ['rap', 'upbeat', 'romance', 'relationship'], 'Down To Green Hills': ['country', 'relaxing', 'vocal', 'emotional']}\n"
     ]
    }
   ],
   "source": [
    "song_data = {'Retro Words': ['pop', 'warm', 'happy', 'electronic', 'synth'],\n",
    "             'Wait For Limit': ['rap', 'upbeat', 'romance', 'relationship'],\n",
    "             'Stomping Cue': ['country', 'fiddle', 'party'],\n",
    "             'Lowkey Space': ['electronic', 'dance', 'synth', 'upbeat'],\n",
    "             'Back To Art': ['pop', 'sad', 'emotional', 'relationship'],\n",
    "             'Blinding Era': ['rap', 'intense', 'moving', 'fast'],\n",
    "             'Down To Green Hills': ['country', 'relaxing', 'vocal', 'emotional'],\n",
    "             'Double Lights': ['electronic', 'chill', 'relaxing', 'piano', 'synth']}\n",
    "\n",
    "user_liked_song = {'Back To Art': ['pop', 'sad', 'emotional', 'relationship']}\n",
    "user_disliked_song = {'Retro Words': ['pop', 'warm', 'happy', 'electronic', 'synth']}\n",
    "\n",
    "# Checkpoint 1\n",
    "tag_diff = set(user_liked_song['Back To Art']) - set(user_disliked_song['Retro Words'])\n",
    "\n",
    "# Checkpoint 2\n",
    "recommended_songs = {}\n",
    "for key, val in song_data.items():\n",
    "    for tag in val:\n",
    "        if tag in tag_diff:\n",
    "            if key not in user_liked_song and key not in user_disliked_song:\n",
    "                recommended_songs[key] = val\n",
    "\n",
    "print(recommended_songs)"
   ]
  },
  {
   "cell_type": "markdown",
   "id": "7200b342-d44a-48d8-8ef6-39d36100cc15",
   "metadata": {},
   "source": [
    "## Symmetric Difference\n",
    "\n",
    "**Symmetric difference** is an interesting set operation that gives us the elements which are in either of the two sets, but not in both. Essentially, it retrieves items that are unique to each individual set.\n",
    "\n",
    "### Using the `symmetric_difference()` method:\n",
    "\n",
    "```python\n",
    "set1 = {1, 2, 3, 4}\n",
    "set2 = {3, 4, 5, 6}\n",
    "result = set1.symmetric_difference(set2)\n",
    "print(result)  # Outputs: {1, 2, 5, 6}\n",
    "```\n",
    "### Using the `^` operator:\n",
    "```python\n",
    "\n",
    "result = set1 ^ set2\n",
    "print(result)  # Outputs: {1, 2, 5, 6}\n",
    "\n",
    "```"
   ]
  },
  {
   "cell_type": "code",
   "execution_count": 16,
   "id": "b416ac3b-8945-467f-8ba8-98042009f7c0",
   "metadata": {},
   "outputs": [
    {
     "name": "stdout",
     "output_type": "stream",
     "text": [
      "{'moving', 'emotional', 'intense', 'fiddle', 'upbeat', 'warm', 'pop', 'party', 'dance', 'romance', 'country', 'happy', 'fast', 'sad', 'rap'}\n"
     ]
    }
   ],
   "source": [
    "user_song_history = {'Retro Words': ['pop', 'warm', 'happy', 'electronic', 'synth'],\n",
    "                     'Stomping Cue': ['country', 'fiddle', 'party'],\n",
    "                     'Back To Art': ['pop', 'sad', 'emotional', 'relationship'],\n",
    "                     'Double Lights': ['electronic', 'chill', 'relaxing', 'piano', 'synth']}\n",
    "\n",
    "friend_song_history = {'Lowkey Space': ['electronic', 'dance', 'synth', 'upbeat'],\n",
    "                     'Blinding Era': ['rap', 'intense', 'moving', 'fast'],\n",
    "                     'Wait For Limit': ['rap', 'upbeat', 'romance', 'relationship'],\n",
    "                     'Double Lights': ['electronic', 'chill', 'relaxing', 'piano', 'synth']}\n",
    "\n",
    "# Checkpoint 1\n",
    "user_tags = set()\n",
    "for key, val in user_song_history.items():\n",
    "    user_tags.update(set(val))\n",
    "\n",
    "# Checkpoint 2\n",
    "friend_tags = set()\n",
    "for key, val in friend_song_history.items():\n",
    "    friend_tags.update(set(val))\n",
    "\n",
    "# Checkpoint 3\n",
    "unique_tags = user_tags ^ friend_tags\n",
    "print(unique_tags)"
   ]
  },
  {
   "cell_type": "code",
   "execution_count": 17,
   "id": "82042189-6798-4ed1-a8c1-eda92deda073",
   "metadata": {},
   "outputs": [
    {
     "name": "stdout",
     "output_type": "stream",
     "text": [
      "frozenset({'relaxing', 'synth', 'slow', 'happy', 'electronic', 'upbeat', 'warm', 'pop', 'dance'})\n",
      "{'pop', 'synth', 'electronic'}\n",
      "frozenset({'relaxing', 'slow'})\n",
      "{'relaxing', 'slow', 'happy', 'upbeat', 'warm', 'dance'}\n"
     ]
    }
   ],
   "source": [
    "music_tags = {'pop', 'warm', 'happy', 'electronic', 'synth', 'dance', 'upbeat'}\n",
    "\n",
    "# Checkpoint 1\n",
    "my_tags = frozenset(['pop', 'electronic', 'relaxing', 'slow', 'synth'])\n",
    "\n",
    "# Checkpoint 2\n",
    "frozen_tag_union = my_tags | music_tags\n",
    "print(frozen_tag_union)\n",
    "\n",
    "# Checkpoint 3\n",
    "regular_tag_intersect = music_tags & my_tags\n",
    "print(regular_tag_intersect)\n",
    "\n",
    "# Checkpoint 4\n",
    "frozen_tag_difference = my_tags - music_tags\n",
    "print(frozen_tag_difference)\n",
    "\n",
    "# Checkpoint 5\n",
    "regular_tag_sd = music_tags ^ my_tags\n",
    "print(regular_tag_sd)"
   ]
  },
  {
   "cell_type": "code",
   "execution_count": null,
   "id": "535f970c-cbf7-458a-8595-e13a7ee0d2c7",
   "metadata": {},
   "outputs": [],
   "source": []
  }
 ],
 "metadata": {
  "kernelspec": {
   "display_name": "Python 3 (ipykernel)",
   "language": "python",
   "name": "python3"
  },
  "language_info": {
   "codemirror_mode": {
    "name": "ipython",
    "version": 3
   },
   "file_extension": ".py",
   "mimetype": "text/x-python",
   "name": "python",
   "nbconvert_exporter": "python",
   "pygments_lexer": "ipython3",
   "version": "3.10.9"
  }
 },
 "nbformat": 4,
 "nbformat_minor": 5
}
