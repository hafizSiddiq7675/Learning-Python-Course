{
 "cells": [
  {
   "cell_type": "markdown",
   "id": "55f34a86-7954-49f6-a4e1-1c57f2362b2b",
   "metadata": {},
   "source": [
    "# Lambda Functions\n",
    "a lambda function (also commonly called an anonymous function) is a one-line shorthand for function."
   ]
  },
  {
   "cell_type": "code",
   "execution_count": 1,
   "id": "c5493529-6bc0-4bca-a568-a45ec410ca2a",
   "metadata": {},
   "outputs": [],
   "source": [
    "def add_two(my_input):\n",
    "  return my_input + 2"
   ]
  },
  {
   "cell_type": "code",
   "execution_count": 1,
   "id": "4b03e472-bf7a-4aab-8c83-83c3d8193b32",
   "metadata": {},
   "outputs": [],
   "source": [
    "add_two = lambda my_input: my_input + 2"
   ]
  },
  {
   "cell_type": "markdown",
   "id": "41a1a7d4-a6d0-44fa-9093-9c5172cef671",
   "metadata": {},
   "source": [
    "- The function is stored in a variable called `add_two`.\n",
    "- The `lambda` keyword declares that this is a lambda function (similar to how we use `def` to declare a normal function).\n",
    "- `my_input` is a parameter used to hold the value passed to `add_two`.\n",
    "- In the lambda function version, we are returning `my_input + 2` without the use of a `return` keyword (the normal Python function explicitly uses the keyword `return`).\n"
   ]
  },
  {
   "cell_type": "code",
   "execution_count": 3,
   "id": "49ee68c9-8976-4b71-9240-ca3d4d65bd97",
   "metadata": {},
   "outputs": [],
   "source": [
    "check_if_A_grade = lambda grade: 'Got an A!' if grade >= 90 else 'Did not get an A.'"
   ]
  },
  {
   "cell_type": "code",
   "execution_count": 4,
   "id": "10e803b4-420d-43cb-ba94-f6e0b59f6842",
   "metadata": {},
   "outputs": [
    {
     "name": "stdout",
     "output_type": "stream",
     "text": [
      "Got an A!\n"
     ]
    }
   ],
   "source": [
    "print(check_if_A_grade(91))"
   ]
  },
  {
   "cell_type": "markdown",
   "id": "d2b453b2-9c87-469e-882d-b902fc02fb9e",
   "metadata": {},
   "source": [
    "# Short Ex # 1\n",
    "\n",
    "Complete a lambda function named `double_or_zero` that takes an integer named `num`. If `num` is greater than 10, return double the value of `num`. Otherwise, return `0`."
   ]
  },
  {
   "cell_type": "code",
   "execution_count": 2,
   "id": "ab5d70b8-7183-43df-bd6f-30abab5af90b",
   "metadata": {},
   "outputs": [],
   "source": [
    "double_or_zero = lambda num: num*2 if num > 10 else 0"
   ]
  },
  {
   "cell_type": "markdown",
   "id": "d0dc0dee-6928-4f2d-805c-692be72d7524",
   "metadata": {},
   "source": [
    "# Introduction to Higher-Order Functions\n",
    "\n",
    "## Functions as First-Class Objects"
   ]
  },
  {
   "cell_type": "code",
   "execution_count": 8,
   "id": "5069f435-2ddf-4326-8a57-6e9bbb8dde11",
   "metadata": {},
   "outputs": [
    {
     "name": "stdout",
     "output_type": "stream",
     "text": [
      "ASSALAM O ALAIKUM\n",
      "PUMPKINPIE\n"
     ]
    }
   ],
   "source": [
    "greetings = 'Assalam o alaikum'\n",
    "\n",
    "upper_case = greetings.upper()\n",
    "\n",
    "print(upper_case)\n",
    "\n",
    "# Here, we assign a function to a variable\n",
    "uppercase = str.upper\n",
    " \n",
    "# And then call it \n",
    "big_pie = uppercase(\"pumpkinpie\")\n",
    "\n",
    "print(big_pie)"
   ]
  },
  {
   "cell_type": "markdown",
   "id": "acf4c0d0-f7ca-4699-9fb6-be451d1a9212",
   "metadata": {},
   "source": [
    "## Functions as Arguments\n",
    "\n",
    "That take another function as an argument. "
   ]
  },
  {
   "cell_type": "code",
   "execution_count": 14,
   "id": "9fc479f9-711a-4ad6-88f8-f90ee05f5364",
   "metadata": {},
   "outputs": [],
   "source": [
    "def total_bill(func, value):\n",
    "  total = func(value)\n",
    "  return total"
   ]
  },
  {
   "cell_type": "code",
   "execution_count": 13,
   "id": "b52d4e5a-87ae-42a4-92f5-68acc60a01b0",
   "metadata": {},
   "outputs": [
    {
     "data": {
      "text/plain": [
       "'The total amount owed is $106.00. Thank you! :)'"
      ]
     },
     "execution_count": 13,
     "metadata": {},
     "output_type": "execute_result"
    }
   ],
   "source": [
    "def add_tax(total):\n",
    "  tax = total * 0.06\n",
    "  new_total = total + tax\n",
    "  return new_total\n",
    " \n",
    "total_bill(add_tax, 100)"
   ]
  },
  {
   "cell_type": "code",
   "execution_count": 11,
   "id": "09110d59-24b4-4268-8325-75a7e08f4fe6",
   "metadata": {},
   "outputs": [
    {
     "data": {
      "text/plain": [
       "'The total amount owed is $120.00. Thank you! :)'"
      ]
     },
     "execution_count": 11,
     "metadata": {},
     "output_type": "execute_result"
    }
   ],
   "source": [
    "def add_tip(total):\n",
    "  tip = total * .2\n",
    "  new_total = total + tip\n",
    "  return new_total\n",
    " \n",
    "total_bill(add_tip, 100)"
   ]
  },
  {
   "cell_type": "code",
   "execution_count": 15,
   "id": "50b24873-3368-49f2-9d32-9c9ec94ee438",
   "metadata": {},
   "outputs": [
    {
     "name": "stdout",
     "output_type": "stream",
     "text": [
      "The total amount owed is $106.00. Thank you! :)\n",
      "The total amount owed is $120.00. Thank you! :)\n"
     ]
    }
   ],
   "source": [
    "def total_bill(func, value):\n",
    "  total = func(value)\n",
    "  return (\"The total amount owed is $\" + \"{:.2f}\".format(total) + \". Thank you! :)\")\n",
    " \n",
    " \n",
    "print(total_bill(add_tax, 100))\n",
    "print(total_bill(add_tip, 100))"
   ]
  },
  {
   "cell_type": "markdown",
   "id": "33bddd71-6f6e-47a8-a35c-c82c9932e833",
   "metadata": {},
   "source": [
    "## Functions as Arguments - Iteration"
   ]
  },
  {
   "cell_type": "code",
   "execution_count": 16,
   "id": "1984e4ac-1285-4eb8-b250-11bfeeafc79b",
   "metadata": {},
   "outputs": [
    {
     "name": "stdout",
     "output_type": "stream",
     "text": [
      "['Total amount owed is $121.90. Thank you! :)', 'Total amount owed is $127.20. Thank you! :)', 'Total amount owed is $44.52. Thank you! :)']\n"
     ]
    }
   ],
   "source": [
    "bills = [115, 120, 42]\n",
    " \n",
    "new_bills = []\n",
    " \n",
    "for i in range(len(bills)):\n",
    "  total = add_tax(bills[i])\n",
    "  new_bills.append(\"Total amount owed is $\" + \"{:.2f}\".format(total) + \". Thank you! :)\")\n",
    " \n",
    "print(new_bills)"
   ]
  },
  {
   "cell_type": "code",
   "execution_count": 17,
   "id": "c2a34244-6931-4c64-9b95-b2e4aa039ef8",
   "metadata": {},
   "outputs": [],
   "source": [
    "def total_bills(func, list):\n",
    "  # This list will store all the new bill values\n",
    "  new_bills = []\n",
    " \n",
    "  # This loop will iterate through our bills\n",
    "  for i in range(len(list)):\n",
    " \n",
    "    # Here we apply the function to each element of the list!\n",
    "    total = func(list[i])\n",
    "    new_bills.append(\"Total amount owed is $\" + \"{:.2f}\".format(total) + \". Thank you! :)\")\n",
    " \n",
    "  return new_bills"
   ]
  },
  {
   "cell_type": "code",
   "execution_count": 18,
   "id": "916859d1-8fd6-4ae9-9bf8-f3662f551741",
   "metadata": {},
   "outputs": [
    {
     "name": "stdout",
     "output_type": "stream",
     "text": [
      "['Total amount owed is $121.90. Thank you! :)', 'Total amount owed is $127.20. Thank you! :)', 'Total amount owed is $44.52. Thank you! :)']\n"
     ]
    }
   ],
   "source": [
    "bills = [115, 120, 42]\n",
    " \n",
    "bills_w_tax = total_bills(add_tax, bills)\n",
    " \n",
    "print(bills_w_tax)"
   ]
  },
  {
   "cell_type": "code",
   "execution_count": 19,
   "id": "844aa47a-492f-47d9-87cb-f258c7717168",
   "metadata": {},
   "outputs": [
    {
     "name": "stdout",
     "output_type": "stream",
     "text": [
      "['Total amount owed is $138.00. Thank you! :)', 'Total amount owed is $144.00. Thank you! :)', 'Total amount owed is $50.40. Thank you! :)']\n"
     ]
    }
   ],
   "source": [
    "bills_w_tip = total_bills(add_tip, bills)\n",
    " \n",
    "print(bills_w_tip)"
   ]
  },
  {
   "cell_type": "markdown",
   "id": "607f1a4e-0e5c-47cc-84a1-38beb9aa4e61",
   "metadata": {},
   "source": [
    "## Functions as Return Values"
   ]
  },
  {
   "cell_type": "code",
   "execution_count": 20,
   "id": "7eab0d4a-5e66-49d0-a5ea-95714cae8e3f",
   "metadata": {},
   "outputs": [
    {
     "name": "stdout",
     "output_type": "stream",
     "text": [
      "90\n"
     ]
    }
   ],
   "source": [
    "def make_box_volume_function(height):\n",
    "    # defines and returns a function that takes two numeric arguments,        \n",
    "    # length &  width, and returns the volume given the input height\n",
    "    def volume(length, width):\n",
    "        return length*width*height\n",
    " \n",
    "    return volume\n",
    " \n",
    "box_volume_height15 = make_box_volume_function(15)\n",
    " \n",
    "print(box_volume_height15(3,2))"
   ]
  },
  {
   "cell_type": "code",
   "execution_count": 17,
   "id": "73f7a8e1-9bf1-4e20-adad-36e7ba1897f6",
   "metadata": {},
   "outputs": [
    {
     "name": "stdout",
     "output_type": "stream",
     "text": [
      "60\n"
     ]
    }
   ],
   "source": [
    "box_volume_height10 = make_box_volume_function(10)\n",
    " \n",
    "print(box_volume_height10(3,2))"
   ]
  },
  {
   "cell_type": "markdown",
   "id": "da25e248-dc04-4f3c-b04e-bb9dd7f3eafe",
   "metadata": {},
   "source": [
    "# Built-In Higher-Order Functions"
   ]
  },
  {
   "cell_type": "markdown",
   "id": "b467e1d3-22ba-4488-b1a5-e9690ec94b6d",
   "metadata": {},
   "source": [
    "## Map"
   ]
  },
  {
   "cell_type": "markdown",
   "id": "560c5f73-f837-445d-9174-8fd608670b28",
   "metadata": {},
   "source": [
    "The `map()` higher-order function has the following base structure:\n",
    "\n",
    "```python\n",
    "returned_map_object = map(function, iterable)\n"
   ]
  },
  {
   "cell_type": "code",
   "execution_count": 23,
   "id": "1f386dc6-e164-41fe-89c2-782cae346859",
   "metadata": {},
   "outputs": [
    {
     "name": "stdout",
     "output_type": "stream",
     "text": [
      "<map object at 0x106dcf430>\n"
     ]
    }
   ],
   "source": [
    "def double(x):\n",
    " return x*2\n",
    " \n",
    "int_list = [3, 6, 9]\n",
    " \n",
    "doubled = map(double, int_list)\n",
    " \n",
    "print(doubled)"
   ]
  },
  {
   "cell_type": "markdown",
   "id": "d88a4520-a504-4009-a089-215daea3aaf8",
   "metadata": {},
   "source": [
    "In our example:\n",
    "\n",
    "- We defined a function called `double()` that takes in a value and returns the value doubled. This function can be used anywhere in our program—not only with `map()`.\n",
    "- We also defined an iterable (`int_list`) that we wanted to apply the function to.\n",
    "- We then passed the function reference `double` as the function argument and `int_list` as the iterable to `map()`.\n",
    "- The `map()` function proceeded to apply `double()` onto each element in `int_list`.\n",
    "- When we printed the result, we could see that the output of the `map()` function was a specific type of object called a map object.\n"
   ]
  },
  {
   "cell_type": "code",
   "execution_count": 22,
   "id": "794bfe99-646c-4cd0-8c2e-5bd91a56f50c",
   "metadata": {},
   "outputs": [
    {
     "name": "stdout",
     "output_type": "stream",
     "text": [
      "[6, 12, 18]\n"
     ]
    }
   ],
   "source": [
    "print(list(doubled))"
   ]
  },
  {
   "cell_type": "markdown",
   "id": "b2226c50-bb05-4302-b7e3-e04f53215cc6",
   "metadata": {},
   "source": [
    "## Map working with the lambda function"
   ]
  },
  {
   "cell_type": "code",
   "execution_count": 24,
   "id": "3167e170-b442-4729-91bb-ee3280da0098",
   "metadata": {},
   "outputs": [
    {
     "name": "stdout",
     "output_type": "stream",
     "text": [
      "[6, 12, 18]\n"
     ]
    }
   ],
   "source": [
    "doubled = map(lambda input: input*2, int_list)\n",
    " \n",
    "print(list(doubled))"
   ]
  },
  {
   "cell_type": "markdown",
   "id": "77cb75e0-5c6c-432e-9b79-b2c35800643f",
   "metadata": {},
   "source": [
    "## Example\n",
    "Say we stored our course grades in a list, but some of the grades were on a four-point scale (where students score between 0.0 and 4.0) and others were on a 100-point scale (where students score between a 0 and 100).\n",
    "\n",
    "To get all the grades on the same scale, try using a lambda function inside of the map() function. Multiply the grades on the four-point scale by 25 to convert the grades to a 100-point-scale."
   ]
  },
  {
   "cell_type": "code",
   "execution_count": 26,
   "id": "73593d63-1243-40a6-b068-0bf83a3ac5fd",
   "metadata": {},
   "outputs": [
    {
     "name": "stdout",
     "output_type": "stream",
     "text": [
      "[87.5, 92.5, 65.0, 95, 87]\n"
     ]
    }
   ],
   "source": [
    "grade_list = [3.5, 3.7, 2.6, 95, 87]\n",
    "\n",
    "# Your code below:\n",
    "updated_grade_list = list(map(lambda grade: grade*25 if grade <= 4 else grade, grade_list))\n",
    "\n",
    "print(updated_grade_list)"
   ]
  },
  {
   "cell_type": "markdown",
   "id": "9f388dd5-6dff-41ac-95d2-7305c6c04c32",
   "metadata": {},
   "source": [
    "## Filter function"
   ]
  },
  {
   "cell_type": "code",
   "execution_count": 27,
   "id": "3a8700e7-be3f-403a-95cd-eddee40723c0",
   "metadata": {},
   "outputs": [
    {
     "name": "stdout",
     "output_type": "stream",
     "text": [
      "['margarita', 'Masako', 'Maki']\n"
     ]
    }
   ],
   "source": [
    "names = [\"margarita\", \"Linda\", \"Masako\", \"Maki\", \"Angela\"]\n",
    " \n",
    "M_names = filter(lambda name: name[0] == \"M\" or name[0] == \"m\", names) \n",
    " \n",
    "print(list(M_names))"
   ]
  },
  {
   "cell_type": "markdown",
   "id": "a799be9a-a33f-436a-8885-8d6ac0ed284a",
   "metadata": {},
   "source": [
    "In this example:\n",
    "\n",
    "- `filter()` takes two parameters: the lambda filtering function and the list, `names`.\n",
    "- The `filter()` function then iterates through `names` and applies the lambda function to each item in the list.\n",
    "- For each item in the list, if the condition in the lambda function evaluates to `True`, the item is added to a filter object.\n",
    "- The filter object is returned and when converted to a list and printed, we saw that it contained `['margarita', 'Masako', 'Maki']`—only M-names!\n",
    "\n",
    "Let’s get some more practice using `filter()` with a lambda function.\n"
   ]
  },
  {
   "cell_type": "markdown",
   "id": "f9e94bf2-f067-4baf-a22c-17e79d80532f",
   "metadata": {},
   "source": [
    "# Decorators"
   ]
  },
  {
   "cell_type": "markdown",
   "id": "b5eeb7ba-5757-48c4-ae11-5a8c6468b3ea",
   "metadata": {},
   "source": [
    "## Functions are objects"
   ]
  },
  {
   "cell_type": "code",
   "execution_count": 29,
   "id": "f595728b-6cc5-4044-9c0f-58c2c7a29ad7",
   "metadata": {},
   "outputs": [],
   "source": [
    "def add_five(num):\n",
    "    return num + 5"
   ]
  },
  {
   "cell_type": "code",
   "execution_count": 30,
   "id": "29ade009-f949-41f6-a118-0788e497ce70",
   "metadata": {},
   "outputs": [
    {
     "data": {
      "text/plain": [
       "7"
      ]
     },
     "execution_count": 30,
     "metadata": {},
     "output_type": "execute_result"
    }
   ],
   "source": [
    "add_five(2)"
   ]
  },
  {
   "cell_type": "markdown",
   "id": "4dd5238b-0fdf-4a3e-87c9-6dd27fc9c2b5",
   "metadata": {},
   "source": [
    "## Opening and closing braces are used to call the function"
   ]
  },
  {
   "cell_type": "code",
   "execution_count": 31,
   "id": "1e937070-5afc-4cd7-bd1b-1fb1c2c5f41f",
   "metadata": {},
   "outputs": [
    {
     "name": "stdout",
     "output_type": "stream",
     "text": [
      "<function add_five at 0x107935c60>\n"
     ]
    }
   ],
   "source": [
    "print(add_five)"
   ]
  },
  {
   "cell_type": "markdown",
   "id": "29605392-d903-4b9d-ae97-92e16c4069a4",
   "metadata": {},
   "source": [
    "## Functions within the function"
   ]
  },
  {
   "cell_type": "code",
   "execution_count": 32,
   "id": "ec7bf79b-4a07-4b73-899b-33d1b58800c8",
   "metadata": {},
   "outputs": [],
   "source": [
    "def add_five(num):\n",
    "    def add_two(num):\n",
    "        return num + 2\n",
    "    num_plus_two = add_two(num)\n",
    "    print(num_plus_two + 3)"
   ]
  },
  {
   "cell_type": "code",
   "execution_count": 34,
   "id": "b59b12f6-6ec0-4a06-9e8b-b4245bae9be6",
   "metadata": {},
   "outputs": [
    {
     "name": "stdout",
     "output_type": "stream",
     "text": [
      "15\n"
     ]
    }
   ],
   "source": [
    "add_five(10)"
   ]
  },
  {
   "cell_type": "markdown",
   "id": "f6123344-0379-4ced-b0a0-d6b8e3ea486f",
   "metadata": {},
   "source": [
    "## Returning functions from functions"
   ]
  },
  {
   "cell_type": "code",
   "execution_count": 37,
   "id": "3146e299-a41d-47b2-8bb7-442052365d55",
   "metadata": {},
   "outputs": [],
   "source": [
    "def get_math_function(operation):\n",
    "    def add(n1, n2):\n",
    "        return n1+n2\n",
    "    def sub(n1, n2):\n",
    "        return n1 - n2\n",
    "    if operation == '+':\n",
    "        return add\n",
    "    elif operation == '-':\n",
    "        return sub"
   ]
  },
  {
   "cell_type": "code",
   "execution_count": 38,
   "id": "4fb9f2a4-6efb-42d6-8d6d-1f67d5bd33d5",
   "metadata": {},
   "outputs": [],
   "source": [
    "add_function = get_math_function('+')"
   ]
  },
  {
   "cell_type": "code",
   "execution_count": 39,
   "id": "04f31981-9bea-48e8-8146-3d50afe4f198",
   "metadata": {},
   "outputs": [
    {
     "name": "stdout",
     "output_type": "stream",
     "text": [
      "<function get_math_function.<locals>.add at 0x1065e5090>\n"
     ]
    }
   ],
   "source": [
    "print(add_function)"
   ]
  },
  {
   "cell_type": "markdown",
   "id": "9288aec9-b491-43d2-9edc-52c33b0c256d",
   "metadata": {},
   "source": [
    "## Decorating a function"
   ]
  },
  {
   "cell_type": "code",
   "execution_count": 34,
   "id": "ea247497-757b-4a8d-acb3-cac3c3900056",
   "metadata": {},
   "outputs": [],
   "source": [
    "def title_decorator(print_name_function):\n",
    "    def wrapper():\n",
    "        print(\"DR. \")\n",
    "        print_name_function()\n",
    "    return wrapper\n",
    "\n",
    "def print_my_name():\n",
    "    print('hafiz')"
   ]
  },
  {
   "cell_type": "code",
   "execution_count": 35,
   "id": "cbff4cdd-03f6-42fb-a9ca-fb38a5b0471c",
   "metadata": {},
   "outputs": [
    {
     "name": "stdout",
     "output_type": "stream",
     "text": [
      "hafiz\n"
     ]
    }
   ],
   "source": [
    "print_my_name()"
   ]
  },
  {
   "cell_type": "code",
   "execution_count": 36,
   "id": "3e27c952-32a2-4370-959e-863265b721b5",
   "metadata": {},
   "outputs": [],
   "source": [
    "decorated_function = title_decorator(print_my_name)"
   ]
  },
  {
   "cell_type": "code",
   "execution_count": 37,
   "id": "fa1b218c-28b6-4514-aec0-2aa6f000fb01",
   "metadata": {},
   "outputs": [
    {
     "name": "stdout",
     "output_type": "stream",
     "text": [
      "DR. \n",
      "hafiz\n"
     ]
    }
   ],
   "source": [
    "decorated_function()"
   ]
  },
  {
   "cell_type": "markdown",
   "id": "181a0c58-2482-4836-8e18-b50b30563f36",
   "metadata": {},
   "source": [
    "- basically return a new function, add some additional functionality to existing output"
   ]
  },
  {
   "cell_type": "code",
   "execution_count": 38,
   "id": "72170ca2-e31d-4988-9b04-7803bce8ffee",
   "metadata": {},
   "outputs": [],
   "source": [
    "def print_hammad_name():\n",
    "    print('Hammad')"
   ]
  },
  {
   "cell_type": "code",
   "execution_count": 39,
   "id": "34f1a413-4e6d-4542-9a6d-a9747ea954df",
   "metadata": {},
   "outputs": [],
   "source": [
    "decorated_hammad_name = title_decorator(print_hammad_name)"
   ]
  },
  {
   "cell_type": "code",
   "execution_count": 40,
   "id": "a5b5f4b7-9b78-4996-9604-d04f5d3b365d",
   "metadata": {},
   "outputs": [
    {
     "name": "stdout",
     "output_type": "stream",
     "text": [
      "DR. \n",
      "Hammad\n",
      "None\n"
     ]
    }
   ],
   "source": [
    "print(decorated_hammad_name())"
   ]
  },
  {
   "cell_type": "code",
   "execution_count": 41,
   "id": "d8089796-0e42-4e3b-aa1c-79c54a169524",
   "metadata": {},
   "outputs": [],
   "source": [
    "@title_decorator\n",
    "def print_my_name_with_decorator():\n",
    "    print(\"hafiz\")"
   ]
  },
  {
   "cell_type": "code",
   "execution_count": 43,
   "id": "7c81a65f-3d88-4938-8e41-9971933ab75c",
   "metadata": {},
   "outputs": [
    {
     "name": "stdout",
     "output_type": "stream",
     "text": [
      "DR. \n",
      "hafiz\n"
     ]
    }
   ],
   "source": [
    "print_my_name_with_decorator()"
   ]
  },
  {
   "cell_type": "markdown",
   "id": "57135b29-263c-4216-89cb-7d36d20cd80a",
   "metadata": {},
   "source": [
    "## decorator with Parameter"
   ]
  },
  {
   "cell_type": "code",
   "execution_count": 44,
   "id": "2ab30430-2317-4f4f-9f63-4ec4fd3f4bc0",
   "metadata": {},
   "outputs": [],
   "source": [
    "def title_decorator(print_name_function):\n",
    "    def wrapper():\n",
    "        print(\"DR. \")\n",
    "        print_name_function()\n",
    "    return wrapper"
   ]
  },
  {
   "cell_type": "code",
   "execution_count": 45,
   "id": "6324e2c3-5727-4f5e-bc56-593cf69636a9",
   "metadata": {},
   "outputs": [
    {
     "ename": "TypeError",
     "evalue": "title_decorator.<locals>.wrapper() takes 0 positional arguments but 1 was given",
     "output_type": "error",
     "traceback": [
      "\u001b[0;31m---------------------------------------------------------------------------\u001b[0m",
      "\u001b[0;31mTypeError\u001b[0m                                 Traceback (most recent call last)",
      "Cell \u001b[0;32mIn[45], line 5\u001b[0m\n\u001b[1;32m      1\u001b[0m \u001b[38;5;129m@title_decorator\u001b[39m\n\u001b[1;32m      2\u001b[0m \u001b[38;5;28;01mdef\u001b[39;00m \u001b[38;5;21mprint_my_name\u001b[39m(name):\n\u001b[1;32m      3\u001b[0m     \u001b[38;5;28mprint\u001b[39m(name)\n\u001b[0;32m----> 5\u001b[0m \u001b[43mprint_my_name\u001b[49m\u001b[43m(\u001b[49m\u001b[38;5;124;43m\"\u001b[39;49m\u001b[38;5;124;43mhafiz\u001b[39;49m\u001b[38;5;124;43m\"\u001b[39;49m\u001b[43m)\u001b[49m\n",
      "\u001b[0;31mTypeError\u001b[0m: title_decorator.<locals>.wrapper() takes 0 positional arguments but 1 was given"
     ]
    }
   ],
   "source": [
    "@title_decorator\n",
    "def print_my_name(name):\n",
    "    print(name)\n",
    "    \n",
    "print_my_name(\"hafiz\")"
   ]
  },
  {
   "cell_type": "code",
   "execution_count": 47,
   "id": "d4df0b23-2439-4530-a142-5631487f07bb",
   "metadata": {},
   "outputs": [],
   "source": [
    "def title_decorator(print_name_function):\n",
    "    def wrapper(*args, **kwargs):\n",
    "        print(\"DR. \")\n",
    "        print_name_function(*args, **kwargs)\n",
    "    return wrapper"
   ]
  },
  {
   "cell_type": "code",
   "execution_count": 49,
   "id": "8c03bfa1-1345-4be9-8a3c-25bcf2807878",
   "metadata": {},
   "outputs": [
    {
     "name": "stdout",
     "output_type": "stream",
     "text": [
      "DR. \n",
      "Husnain\n"
     ]
    }
   ],
   "source": [
    "@title_decorator\n",
    "def print_my_name(name):\n",
    "    print(name)\n",
    "    \n",
    "print_my_name(\"Husnain\")"
   ]
  },
  {
   "cell_type": "code",
   "execution_count": null,
   "id": "9914b725-a980-483d-ad95-63c09ec9f4f2",
   "metadata": {},
   "outputs": [],
   "source": []
  }
 ],
 "metadata": {
  "kernelspec": {
   "display_name": "Python 3 (ipykernel)",
   "language": "python",
   "name": "python3"
  },
  "language_info": {
   "codemirror_mode": {
    "name": "ipython",
    "version": 3
   },
   "file_extension": ".py",
   "mimetype": "text/x-python",
   "name": "python",
   "nbconvert_exporter": "python",
   "pygments_lexer": "ipython3",
   "version": "3.10.9"
  }
 },
 "nbformat": 4,
 "nbformat_minor": 5
}
