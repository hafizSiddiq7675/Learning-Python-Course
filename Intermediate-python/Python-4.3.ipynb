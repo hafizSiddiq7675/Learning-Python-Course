{
 "cells": [
  {
   "cell_type": "markdown",
   "id": "6b45ed41-7761-427e-8943-edcdf5f46058",
   "metadata": {},
   "source": [
    "# why oop"
   ]
  },
  {
   "cell_type": "markdown",
   "id": "09fa5068-8370-4bfe-a877-c992caf46dc4",
   "metadata": {},
   "source": [
    "## Programming Paradigm\n",
    "A programming paradigm is a style or \"way\" of programming. It's a set of principles, methods, or concepts that guide how we structure and design our code.\n",
    "\n",
    "### Goals of Paradigm\n",
    "- Increased organization\n",
    "- Less code bugs\n",
    "- Better maintainability"
   ]
  },
  {
   "cell_type": "markdown",
   "id": "e342014f-8b03-4ac9-b81c-182465492ce6",
   "metadata": {},
   "source": [
    "## What every program has?\n",
    "Consider the example of a simple task management app, in which we define task, mark task as complete and every task has a deadline on it.\n",
    "### Data\n",
    "- task_description\n",
    "- is_completed\n",
    "\n",
    "### Behaviour\n",
    "- taskIsCompleted()"
   ]
  },
  {
   "cell_type": "markdown",
   "id": "62eed88e-d6c7-4269-894e-3ede8bd66ff3",
   "metadata": {},
   "source": [
    "### Procedural Programing paradigm\n",
    "In the Procedural Programming paradigm, a program is conceived as a sequence of operations (procedures, routines, or subroutines) that act on data. It is based on the concept of the procedure call, where data is passed into a procedure (or function), which then performs some action and possibly returns some data. Procedural programming structures the code into procedures that are often highly reusable, and the state of the program is determined by global data that are accessible to all procedures. Examples of procedural languages include C, Pascal, and Fortran."
   ]
  },
  {
   "cell_type": "code",
   "execution_count": 3,
   "id": "e45cb627-6581-4cbd-a389-655aeda146e9",
   "metadata": {},
   "outputs": [],
   "source": [
    "# Defining data\n",
    "task_description = \"Buy groceries\"\n",
    "is_completed = False\n",
    "\n",
    "# Defining behavior\n",
    "def taskIsCompleted(is_completed):\n",
    "    if is_completed:\n",
    "        return \"Task is completed.\"\n",
    "    else:\n",
    "        return \"Task is not completed.\""
   ]
  },
  {
   "cell_type": "markdown",
   "id": "85d05e27-fa88-409d-a96c-4a5ac7c3eb5a",
   "metadata": {},
   "source": [
    "In this example, `task_description` and `is_completed` are data, and `taskIsCompleted()` is a function (behavior) acting upon the data."
   ]
  },
  {
   "cell_type": "markdown",
   "id": "8d797a30-7968-4b1f-947d-6aa8ae0ad730",
   "metadata": {},
   "source": [
    "- Data and behaviour are into the same set of instructions\n",
    "- Can manipulate the data directly\n",
    "- Order of the code matters very much"
   ]
  },
  {
   "cell_type": "markdown",
   "id": "5f8d9779-c973-486f-9c4b-79901c2fd2d2",
   "metadata": {},
   "source": [
    "## Functional Programing Paradigm\n",
    "Functional programming is a programming paradigm where programs are constructed by applying and composing functions. It emphasizes the application of functions, in contrast to the procedural programming style, which emphasizes changes in state. In Functional Programming, data and functions are separate, and we can't modify data."
   ]
  },
  {
   "cell_type": "code",
   "execution_count": 4,
   "id": "fe29cba2-1415-4cc5-b2d7-56663e94644c",
   "metadata": {},
   "outputs": [],
   "source": [
    "# Defining data\n",
    "task = {\n",
    "    'description': 'Buy groceries',\n",
    "    'is_completed': False\n",
    "}\n",
    "\n",
    "# Defining pure function\n",
    "def task_is_completed(task):\n",
    "    return \"Task is completed.\" if task['is_completed'] else \"Task is not completed.\"\n"
   ]
  },
  {
   "cell_type": "markdown",
   "id": "7b1d305c-1b74-41e2-90f8-83c200bfe810",
   "metadata": {},
   "source": [
    "In this example, `task` is an immutable data structure, and `task_is_completed` is a pure function that takes this data structure as input and returns a new result, without changing the original data structure.\n"
   ]
  },
  {
   "cell_type": "markdown",
   "id": "1f77116a-9df5-46f5-866d-a24fcc959b0e",
   "metadata": {},
   "source": [
    "## Object Oriented Programing Paradigm\n",
    "Object-oriented programming (OOP) is a programming paradigm that uses \"objects\" — data structures consisting of data fields and methods together with their interactions — to design applications and computer programs. It is centered around the concepts of objects and classes, allowing for abstraction, encapsulation, inheritance, and polymorphism.\n",
    "\n",
    "- Class is a container to hold data and its behaviour\n"
   ]
  },
  {
   "cell_type": "markdown",
   "id": "8b21cdc0-4215-4834-9341-d1f97ae831e3",
   "metadata": {},
   "source": [
    "### Abstraction\n",
    "In object-oriented programming, abstraction is a process of hiding the implementation details from the user, only the functionality will be provided to the user. It allows the programmer to hide all but the relevant data about an object in order to reduce complexity and increase efficiency."
   ]
  },
  {
   "cell_type": "code",
   "execution_count": 6,
   "id": "6dc3b7af-35d4-42aa-bec9-e30644fa3e1c",
   "metadata": {},
   "outputs": [],
   "source": [
    "class Task:\n",
    "    def __init__(self, description, is_completed):\n",
    "        self.description = description\n",
    "        self.is_completed = is_completed\n",
    "\n",
    "    def task_is_completed(self):\n",
    "        return \"Task is completed.\" if self.is_completed else \"Task is not completed.\"\n"
   ]
  },
  {
   "cell_type": "markdown",
   "id": "e4cdd147-d514-462a-9137-3804f0057810",
   "metadata": {},
   "source": [
    "In this example, `Task` is a class representing a task abstraction, which hides the complexity of maintaining and manipulating task-related data. The user doesn't need to know how the `task_is_completed()` method works internally; they just need to know that it will return a string stating whether the task is completed. This is an example of abstraction.\n"
   ]
  },
  {
   "cell_type": "markdown",
   "id": "e9bb7d38-8b6b-44cb-8f9b-b02fb39c2ceb",
   "metadata": {},
   "source": [
    "### Encapsulation\n",
    "\n",
    "Encapsulation in object-oriented programming is the concept of bundling the data (attributes) and the methods (behaviors) that manipulate the data into a single unit called a 'class'. This allows the data to be hidden and accessed only through the methods, providing a way to protect it from accidental corruption."
   ]
  },
  {
   "cell_type": "code",
   "execution_count": 7,
   "id": "9f5660d9-665b-43b3-a824-241b217eac51",
   "metadata": {},
   "outputs": [],
   "source": [
    "class Task:\n",
    "    def __init__(self, description, is_completed):\n",
    "        self._description = description\n",
    "        self._is_completed = is_completed\n",
    "\n",
    "    def task_is_completed(self):\n",
    "        return \"Task is completed.\" if self._is_completed else \"Task is not completed.\"\n"
   ]
  },
  {
   "cell_type": "markdown",
   "id": "67b36088-81e6-4567-87a4-e47cf31e32cc",
   "metadata": {},
   "source": [
    "\n",
    "In this example, the class `Task` encapsulates the attributes `_description` and `_is_completed`, as well as the method `task_is_completed()`. These are bundled together in a single unit, the `Task` class. The attributes are marked with a single underscore, a convention indicating they should not be accessed directly (though Python still technically allows it). Instead, any interaction with the `Task` object should be through its methods, thus encapsulating its data and behaviors into a single entity."
   ]
  },
  {
   "cell_type": "code",
   "execution_count": 9,
   "id": "ddc2867c-f9ff-4cfa-908c-48182e810196",
   "metadata": {},
   "outputs": [
    {
     "name": "stdout",
     "output_type": "stream",
     "text": [
      "Task is completed.\n"
     ]
    }
   ],
   "source": [
    "task = Task(\"Buy groceries\", True)\n",
    "\n",
    "# Checking if task is completed\n",
    "print(task.task_is_completed())"
   ]
  },
  {
   "cell_type": "markdown",
   "id": "d9371d97-3fed-4f09-abe1-9597d5b58050",
   "metadata": {},
   "source": [
    "### Inheritence\n",
    "Inheritance in object-oriented programming allows us to define a class that inherits all the methods and properties from another class. The class being inherited from is called the 'parent' or 'base' class, while the class that inherits is called the 'child' or 'derived' class.\n",
    "\n",
    "Let's consider an example where we add a new TaskWithDeadline class that inherits from the Task class, with an additional deadline attribute and an is_overdue method:"
   ]
  },
  {
   "cell_type": "code",
   "execution_count": 11,
   "id": "7c22c8b4-7500-4e17-af32-28f704711826",
   "metadata": {},
   "outputs": [],
   "source": [
    "from datetime import datetime\n",
    "\n",
    "class Task:\n",
    "    def __init__(self, description, is_completed):\n",
    "        self._description = description\n",
    "        self._is_completed = is_completed\n",
    "\n",
    "    def task_is_completed(self):\n",
    "        return \"Task is completed.\" if self._is_completed else \"Task is not completed.\"\n",
    "\n",
    "\n",
    "class TaskWithDeadline(Task):\n",
    "    def __init__(self, description, is_completed, deadline):\n",
    "        super().__init__(description, is_completed)\n",
    "        self._deadline = deadline\n",
    "\n",
    "    def is_overdue(self):\n",
    "        return datetime.now() > self._deadline\n"
   ]
  },
  {
   "cell_type": "markdown",
   "id": "6fe5dc8e-209e-4b94-93ba-fa1701b66ced",
   "metadata": {},
   "source": [
    "\n",
    "In this example, `TaskWithDeadline` is a child class of `Task` and inherits all its attributes and methods. We use the `super().__init__(description, is_completed)` function to call the `__init__` method of the `Task` parent class, allowing us to initialize the `description` and `is_completed` attributes in the child class.\n",
    "\n",
    "Additionally, the child class `TaskWithDeadline` introduces a new attribute `_deadline` and a new method `is_overdue()`. Thus, it provides additional functionality on top of the inherited attributes and methods from the parent `Task` class. This is an example of inheritance.\n"
   ]
  },
  {
   "cell_type": "code",
   "execution_count": 13,
   "id": "a06cadcc-18c9-4434-b1d8-80cd200c7e87",
   "metadata": {},
   "outputs": [
    {
     "name": "stdout",
     "output_type": "stream",
     "text": [
      "Task is completed.\n"
     ]
    }
   ],
   "source": [
    "from datetime import datetime, timedelta\n",
    "\n",
    "# Creating a TaskWithDeadline object\n",
    "task_with_deadline = TaskWithDeadline(\"Buy groceries\", True, datetime.now() + timedelta(days=2))\n",
    "\n",
    "# Checking if task is completed\n",
    "print(task_with_deadline.task_is_completed())"
   ]
  },
  {
   "cell_type": "markdown",
   "id": "7b8db132-d794-4f10-8c5f-02b842aed41a",
   "metadata": {},
   "source": [
    "In this example, we create an instance of the `TaskWithDeadline` class. The task description is \"Buy groceries\", its `is_completed` status is `False`, and the `deadline` is set to two days from the current date and time. We then call the `task_is_completed()` method on this object, which returns the string \"Task is not completed.\" because the task is not yet completed."
   ]
  },
  {
   "cell_type": "markdown",
   "id": "c6502387-7ba0-4bd1-ba21-3da30742c744",
   "metadata": {},
   "source": [
    "### Polymorphism\n",
    "Polymorphism in object-oriented programming is the ability to use a single type entity (method, operator or object) to represent different types in different scenarios. It provides a way to perform a single action in different forms."
   ]
  },
  {
   "cell_type": "code",
   "execution_count": 14,
   "id": "28ad345d-e7c1-4983-8688-2e1dd6ceda5f",
   "metadata": {},
   "outputs": [],
   "source": [
    "class Task:\n",
    "    def __init__(self, description, is_completed):\n",
    "        self._description = description\n",
    "        self._is_completed = is_completed\n",
    "\n",
    "    def task_status(self):\n",
    "        return \"Task is completed.\" if self._is_completed else \"Task is not completed.\"\n",
    "\n",
    "\n",
    "class TaskWithDeadline(Task):\n",
    "    def __init__(self, description, is_completed, deadline):\n",
    "        super().__init__(description, is_completed)\n",
    "        self._deadline = deadline\n",
    "\n",
    "    def task_status(self):\n",
    "        base_status = super().task_status()\n",
    "        if datetime.now() > self._deadline:\n",
    "            return base_status + \" And it's overdue!\"\n",
    "        else:\n",
    "            return base_status"
   ]
  },
  {
   "cell_type": "markdown",
   "id": "5c721a79-4411-4b33-a058-0c895baa790f",
   "metadata": {},
   "source": [
    "\n",
    "Here, both `Task` and `TaskWithDeadline` have a method `task_status()`. This demonstrates polymorphism as the `task_status()` method will perform differently depending on whether it's called on an instance of the `Task` class or the `TaskWithDeadline` class.\n",
    "\n",
    "If it's called on a `Task` instance, it simply reports whether the task is completed or not. But if it's called on a `TaskWithDeadline` instance, it not only reports the completion status of the task, but also checks if the task is overdue.\n",
    "\n",
    "We can use these classes like so:\n",
    "\n",
    "```markdown\n",
    "```python\n",
    "# Creating objects\n",
    "task = Task(\"Buy groceries\", False)\n",
    "task_with_deadline = TaskWithDeadline(\"Buy groceries\", False, datetime.now() - timedelta(days=1))\n",
    "\n",
    "# Checking task status\n",
    "print(task.task_status())  # Output: \"Task is not completed.\"\n",
    "print(task_with_deadline.task_status())  # Output: \"Task is not completed. And it's overdue!\"\n"
   ]
  },
  {
   "cell_type": "code",
   "execution_count": 16,
   "id": "07db4e3d-0731-4d0d-b227-6e92c8bdef12",
   "metadata": {},
   "outputs": [],
   "source": [
    "task = Task(\"Buy groceries\", False)\n",
    "task_with_deadline = TaskWithDeadline(\"Buy groceries\", False, datetime.now() - timedelta(days=1))"
   ]
  },
  {
   "cell_type": "code",
   "execution_count": 17,
   "id": "dbdbb8d5-d89d-40e5-bba8-2835685a668e",
   "metadata": {},
   "outputs": [
    {
     "name": "stdout",
     "output_type": "stream",
     "text": [
      "Task is not completed.\n",
      "Task is not completed. And it's overdue!\n"
     ]
    }
   ],
   "source": [
    "print(task.task_status())  # Output: \"Task is not completed.\"\n",
    "print(task_with_deadline.task_status()) "
   ]
  },
  {
   "cell_type": "markdown",
   "id": "bd1ee92f-2114-49f4-974e-08378587f5b9",
   "metadata": {},
   "source": [
    "\n",
    "This ability to use the same method name to perform different implementations depending on the class of the object is a form of polymorphism."
   ]
  },
  {
   "cell_type": "code",
   "execution_count": null,
   "id": "ff832590-4697-4868-b355-55c55e39ac6a",
   "metadata": {},
   "outputs": [],
   "source": []
  }
 ],
 "metadata": {
  "kernelspec": {
   "display_name": "Python 3 (ipykernel)",
   "language": "python",
   "name": "python3"
  },
  "language_info": {
   "codemirror_mode": {
    "name": "ipython",
    "version": 3
   },
   "file_extension": ".py",
   "mimetype": "text/x-python",
   "name": "python",
   "nbconvert_exporter": "python",
   "pygments_lexer": "ipython3",
   "version": "3.10.9"
  }
 },
 "nbformat": 4,
 "nbformat_minor": 5
}
