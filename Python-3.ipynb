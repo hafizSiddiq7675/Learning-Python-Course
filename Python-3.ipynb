{
 "cells": [
  {
   "cell_type": "markdown",
   "id": "45fed514",
   "metadata": {},
   "source": [
    "# Tuple\n",
    "\n",
    "Tuples are used to store multiple items in a single variable.\n",
    "\n",
    "Tuple is one of 4 built-in data types in Python used to store collections of data, the other 3 are List, Set, and Dictionary, all with different qualities and usage.\n",
    "\n",
    "A tuple is a collection which is ordered and unchangeable.\n",
    "\n",
    "Tuples are written with round brackets."
   ]
  },
  {
   "cell_type": "code",
   "execution_count": 1,
   "id": "887eefca",
   "metadata": {},
   "outputs": [],
   "source": [
    "fruits = (\"apple\", \"banana\", \"cherry\")"
   ]
  },
  {
   "cell_type": "code",
   "execution_count": 9,
   "id": "615f4a09",
   "metadata": {},
   "outputs": [
    {
     "name": "stdout",
     "output_type": "stream",
     "text": [
      "('apple', 'banana', 'cherry')\n",
      "<class 'tuple'>\n"
     ]
    }
   ],
   "source": [
    "print(fruits)\n",
    "\n",
    "print(type(fruits))"
   ]
  },
  {
   "cell_type": "markdown",
   "id": "5dd749af",
   "metadata": {},
   "source": [
    "Tuple items are ordered, unchangeable, and allow duplicate values.\n",
    "\n",
    "Tuple items are indexed, the first item has index [0], the second item has index [1] etc."
   ]
  },
  {
   "cell_type": "code",
   "execution_count": 6,
   "id": "35e32161",
   "metadata": {},
   "outputs": [
    {
     "data": {
      "text/plain": [
       "'apple'"
      ]
     },
     "execution_count": 6,
     "metadata": {},
     "output_type": "execute_result"
    }
   ],
   "source": [
    "fruits[0]"
   ]
  },
  {
   "cell_type": "code",
   "execution_count": 7,
   "id": "dfa979ec",
   "metadata": {},
   "outputs": [
    {
     "data": {
      "text/plain": [
       "'cherry'"
      ]
     },
     "execution_count": 7,
     "metadata": {},
     "output_type": "execute_result"
    }
   ],
   "source": [
    "fruits[-1]"
   ]
  },
  {
   "cell_type": "markdown",
   "id": "002f106e",
   "metadata": {},
   "source": [
    "To determine how many items a tuple has, use the len() function:"
   ]
  },
  {
   "cell_type": "code",
   "execution_count": 8,
   "id": "3e8e540e",
   "metadata": {},
   "outputs": [
    {
     "name": "stdout",
     "output_type": "stream",
     "text": [
      "3\n"
     ]
    }
   ],
   "source": [
    "print(len(thistuple))"
   ]
  },
  {
   "cell_type": "markdown",
   "id": "6f0242b7",
   "metadata": {},
   "source": [
    "Now we are creating a one element tuple."
   ]
  },
  {
   "cell_type": "code",
   "execution_count": 7,
   "id": "0c65b09c",
   "metadata": {},
   "outputs": [
    {
     "name": "stdout",
     "output_type": "stream",
     "text": [
      "<class 'int'>\n"
     ]
    }
   ],
   "source": [
    "one_element_tuple = (4)\n",
    "print(type(one_element_tuple))"
   ]
  },
  {
   "cell_type": "markdown",
   "id": "6f379737",
   "metadata": {},
   "source": [
    "Now you can see above, python consider this as a number not tuple. So when we creating a one element tuple then we need to add a comma before closing round bracket"
   ]
  },
  {
   "cell_type": "code",
   "execution_count": 11,
   "id": "9798840c",
   "metadata": {},
   "outputs": [
    {
     "name": "stdout",
     "output_type": "stream",
     "text": [
      "<class 'tuple'>\n"
     ]
    }
   ],
   "source": [
    "one_element_tuple = (4,)\n",
    "print(type(one_element_tuple))"
   ]
  },
  {
   "cell_type": "markdown",
   "id": "8a38e0e4",
   "metadata": {},
   "source": [
    "# Types\n",
    "\n",
    "The type() function returns the type of the specified object"
   ]
  },
  {
   "cell_type": "code",
   "execution_count": 19,
   "id": "16bdd352",
   "metadata": {},
   "outputs": [
    {
     "name": "stdout",
     "output_type": "stream",
     "text": [
      "<class 'str'>\n"
     ]
    }
   ],
   "source": [
    "a_string = \"Cool String\"\n",
    "print(type(a_string))"
   ]
  },
  {
   "cell_type": "code",
   "execution_count": 20,
   "id": "ccc2e852",
   "metadata": {},
   "outputs": [
    {
     "name": "stdout",
     "output_type": "stream",
     "text": [
      "<class 'int'>\n"
     ]
    }
   ],
   "source": [
    "an_int = 12\n",
    "print(type(an_int))"
   ]
  },
  {
   "cell_type": "code",
   "execution_count": 21,
   "id": "2a428ceb",
   "metadata": {},
   "outputs": [
    {
     "name": "stdout",
     "output_type": "stream",
     "text": [
      "<class 'dict'>\n"
     ]
    }
   ],
   "source": [
    "my_dict = {}\n",
    "print(type(my_dict))"
   ]
  },
  {
   "cell_type": "code",
   "execution_count": 22,
   "id": "d4c7a5ea",
   "metadata": {},
   "outputs": [
    {
     "name": "stdout",
     "output_type": "stream",
     "text": [
      "<class 'list'>\n"
     ]
    }
   ],
   "source": [
    "my_list = []\n",
    "print(type(my_list))"
   ]
  },
  {
   "cell_type": "markdown",
   "id": "5c388f7e",
   "metadata": {},
   "source": [
    "# Class\n",
    "\n",
    "Python is an object oriented programming language.\n",
    "Almost everything in Python is an object, with its properties and methods."
   ]
  },
  {
   "cell_type": "markdown",
   "id": "bec94fd5",
   "metadata": {},
   "source": [
    "## Create a Class\n",
    "\n",
    "To create a class, use the keyword class:"
   ]
  },
  {
   "cell_type": "code",
   "execution_count": 15,
   "id": "2c058765",
   "metadata": {},
   "outputs": [],
   "source": [
    "class CoolClass:\n",
    "  pass"
   ]
  },
  {
   "cell_type": "markdown",
   "id": "afecda0c",
   "metadata": {},
   "source": [
    "In the above example we created a class and named it CoolClass. We used the pass keyword in Python to indicate that the body of the class was intentionally left blank so we don’t cause an IndentationError."
   ]
  },
  {
   "cell_type": "markdown",
   "id": "714545fa",
   "metadata": {},
   "source": [
    "## Create Object\n",
    "\n",
    "Now we can use the class named CoolClass to create objects:"
   ]
  },
  {
   "cell_type": "code",
   "execution_count": 13,
   "id": "e6e3641c",
   "metadata": {},
   "outputs": [],
   "source": [
    "cool_instance = CoolClass()"
   ]
  },
  {
   "cell_type": "markdown",
   "id": "39feb645",
   "metadata": {},
   "source": [
    "Above, we created an object by adding parentheses to the name of the class. We then assigned that new instance to the variable cool_instance for safe-keeping so we can access our instance of CoolClass at a later time."
   ]
  },
  {
   "cell_type": "markdown",
   "id": "7c0d16ba",
   "metadata": {},
   "source": [
    "## Check type"
   ]
  },
  {
   "cell_type": "code",
   "execution_count": 26,
   "id": "238e34b5",
   "metadata": {},
   "outputs": [
    {
     "name": "stdout",
     "output_type": "stream",
     "text": [
      "<class '__main__.CoolClass'>\n"
     ]
    }
   ],
   "source": [
    "print(type(cool_instance))"
   ]
  },
  {
   "cell_type": "markdown",
   "id": "695b57d2",
   "metadata": {},
   "source": [
    "## Class Variables\n",
    "\n",
    "When we want the same data to be available to every instance of a class we use a class variable. A class variable is a variable that’s the same for every instance of the class."
   ]
  },
  {
   "cell_type": "code",
   "execution_count": 16,
   "id": "3e9059db",
   "metadata": {},
   "outputs": [
    {
     "name": "stdout",
     "output_type": "stream",
     "text": [
      "Rockstar\n"
     ]
    }
   ],
   "source": [
    "class Musician:\n",
    "  title = \"Rockstar\"\n",
    " \n",
    "drummer = Musician()\n",
    "print(drummer.title)"
   ]
  },
  {
   "cell_type": "markdown",
   "id": "b1b7a5bc",
   "metadata": {},
   "source": [
    "Above we defined the class Musician, then instantiated drummer to be an object of type Musician. We then printed out the drummer’s .title attribute, which is a class variable that we defined as the string “Rockstar”."
   ]
  },
  {
   "cell_type": "markdown",
   "id": "63375b6c",
   "metadata": {},
   "source": [
    "## Methods\n",
    "\n",
    "Objects can also contain methods. Methods in objects are functions that belong to the object.\n",
    "\n",
    "Let us create a method in the Rules class:\n"
   ]
  },
  {
   "cell_type": "code",
   "execution_count": 20,
   "id": "468661d9",
   "metadata": {},
   "outputs": [
    {
     "name": "stdout",
     "output_type": "stream",
     "text": [
      "Point bristles towards the basin while washing your brushes.\n"
     ]
    }
   ],
   "source": [
    "class Rules:\n",
    "  def washing_brushes(self):\n",
    "    return \"Point bristles towards the basin while washing your brushes.\"\n",
    "\n",
    "rule = Rules();\n",
    "print(rule.washing_brushes());"
   ]
  },
  {
   "cell_type": "markdown",
   "id": "61717165",
   "metadata": {},
   "source": [
    "Method takes one argument, self, which refers to the object calling the function. "
   ]
  },
  {
   "cell_type": "markdown",
   "id": "9e7ea2b0",
   "metadata": {},
   "source": [
    "## Methods with Arguments\n",
    "\n",
    "Methods can also take more arguments than just self:"
   ]
  },
  {
   "cell_type": "code",
   "execution_count": 24,
   "id": "08e0f406",
   "metadata": {},
   "outputs": [
    {
     "name": "stdout",
     "output_type": "stream",
     "text": [
      "radius 6.0\n",
      "radius 18.0\n",
      "radius 5730.0\n",
      "113.04\n",
      "1017.36\n",
      "103095306.0\n"
     ]
    }
   ],
   "source": [
    "class Circle:\n",
    "  PI = 3.14\n",
    "  def area(self, radius):\n",
    "    print(\"radius\", radius)\n",
    "    return self.PI * radius ** 2\n",
    "\n",
    "circle = Circle()\n",
    "\n",
    "pizza_area = circle.area(12/2)\n",
    "teaching_table_area = circle.area(36/2)\n",
    "round_room_area = circle.area(11460/2)\n",
    "\n",
    "print(pizza_area)\n",
    "print(teaching_table_area)\n",
    "print(round_room_area)"
   ]
  },
  {
   "cell_type": "markdown",
   "id": "25c07880",
   "metadata": {},
   "source": [
    "## Constructors\n",
    "\n",
    "There are several methods that we can define in a Python class that have special behavior. These methods are sometimes called “magic,” because they behave differently from regular methods. Another popular term is dunder methods, so-named because they have two underscores (double-underscore abbreviated to “dunder”) on either side of them.\n",
    "\n",
    "The first dunder method we’re going to use is the __init__() method (note the two underscores before and after the word “init”). This method is used to initialize a newly created object. It is called every time the class is instantiated."
   ]
  },
  {
   "cell_type": "code",
   "execution_count": 26,
   "id": "b7ce6d97",
   "metadata": {},
   "outputs": [
    {
     "name": "stdout",
     "output_type": "stream",
     "text": [
      "HELLO?!\n",
      "HELLO?!\n"
     ]
    }
   ],
   "source": [
    "class Shouter:\n",
    "  def __init__(self):\n",
    "    print(\"HELLO?!\")\n",
    " \n",
    "shout1 = Shouter()\n",
    "shout2 = Shouter()"
   ]
  },
  {
   "cell_type": "markdown",
   "id": "b1f3c243",
   "metadata": {},
   "source": [
    "Another example"
   ]
  },
  {
   "cell_type": "code",
   "execution_count": 29,
   "id": "5d083c46",
   "metadata": {},
   "outputs": [
    {
     "name": "stdout",
     "output_type": "stream",
     "text": [
      "New circle with diameter: 36\n"
     ]
    }
   ],
   "source": [
    "class Circle:\n",
    "  pi = 3.14\n",
    "\n",
    "  def __init__(self, diameter):\n",
    "    print(\"New circle with diameter: {}\".format(diameter))\n",
    "  \n",
    "teaching_table = Circle(36)"
   ]
  },
  {
   "cell_type": "markdown",
   "id": "3e2c70d0",
   "metadata": {},
   "source": [
    "## Instance Variables\n",
    "\n",
    "We can instantiate two different objects from FakeDict class, fake_dict1 and fake_dict2, and assign instance variables to these objects using the same attribute notation that was used for accessing class variables."
   ]
  },
  {
   "cell_type": "code",
   "execution_count": 31,
   "id": "e53ec758",
   "metadata": {},
   "outputs": [],
   "source": [
    "class FakeDict:\n",
    "  pass"
   ]
  },
  {
   "cell_type": "code",
   "execution_count": 32,
   "id": "dc599a69",
   "metadata": {},
   "outputs": [
    {
     "name": "stdout",
     "output_type": "stream",
     "text": [
      "This works! This too!\n"
     ]
    }
   ],
   "source": [
    "fake_dict1 = FakeDict()\n",
    "fake_dict2 = FakeDict()\n",
    " \n",
    "fake_dict1.fake_key = \"This works!\"\n",
    "fake_dict2.fake_key = \"This too!\"\n",
    " \n",
    "working_string = \"{} {}\".format(fake_dict1.fake_key, fake_dict2.fake_key)\n",
    "print(working_string)"
   ]
  },
  {
   "cell_type": "markdown",
   "id": "8ec0d90c",
   "metadata": {},
   "source": [
    "## Attribute Functions\n",
    "\n",
    "If we attempt to access an attribute that is neither a class variable nor an instance variable of the object Python will throw an AttributeError."
   ]
  },
  {
   "cell_type": "code",
   "execution_count": 38,
   "id": "fd887ff9",
   "metadata": {},
   "outputs": [
    {
     "name": "stdout",
     "output_type": "stream",
     "text": [
      "This text gets printed!\n"
     ]
    }
   ],
   "source": [
    "class NoCustomAttributes:\n",
    "  pass\n",
    " \n",
    "attributeless = NoCustomAttributes()\n",
    " \n",
    "try:\n",
    "  attributeless.fake_attribute\n",
    "except AttributeError:\n",
    "  print(\"This text gets printed!\")"
   ]
  },
  {
   "cell_type": "markdown",
   "id": "5dc2f2e5",
   "metadata": {},
   "source": [
    "What if we aren’t sure if an object has an attribute or not?\n",
    "\n",
    "The syntax and parameters for these functions look like this:\n"
   ]
  },
  {
   "cell_type": "markdown",
   "id": "ebb93e90",
   "metadata": {},
   "source": [
    "hasattr(object, “attribute”) has two parameters:\n",
    "\n",
    "- object : the object we are testing to see if it has a certain attribute\n",
    "- attribute : name of attribute we want to see if it exists\n",
    "\n",
    "getattr(object, “attribute”, default) has three parameters (one of which is optional):\n",
    "\n",
    "- object : the object whose attribute we want to evaluate\n",
    "- attribute : name of attribute we want to evaluate\n",
    "- default : the value that is returned if the attribute does not exist (note: this parameter is optional)"
   ]
  },
  {
   "cell_type": "code",
   "execution_count": 40,
   "id": "afcf7f7c",
   "metadata": {},
   "outputs": [
    {
     "name": "stdout",
     "output_type": "stream",
     "text": [
      "False\n"
     ]
    },
    {
     "data": {
      "text/plain": [
       "800"
      ]
     },
     "execution_count": 40,
     "metadata": {},
     "output_type": "execute_result"
    }
   ],
   "source": [
    "has = hasattr(attributeless, \"fake_attribute\")\n",
    "\n",
    "print(has)\n",
    "\n",
    "getattr(attributeless, \"other_fake_attribute\", 800)"
   ]
  },
  {
   "cell_type": "markdown",
   "id": "281289e4",
   "metadata": {},
   "source": [
    "## Everything is an Object\n",
    "\n",
    "Attributes can be added to user-defined objects after instantiation, so it’s possible for an object to have some attributes that are not explicitly defined in an object’s constructor. We can use the dir() function to investigate an object’s attributes at runtime. \n",
    "\n",
    "dir() is short for directory and offers an organized presentation of object attributes."
   ]
  },
  {
   "cell_type": "code",
   "execution_count": 41,
   "id": "96ceef7b",
   "metadata": {},
   "outputs": [
    {
     "name": "stdout",
     "output_type": "stream",
     "text": [
      "['__class__', '__delattr__', '__dict__', '__dir__', '__doc__', '__eq__', '__format__', '__ge__', '__getattribute__', '__gt__', '__hash__', '__init__', '__init_subclass__', '__le__', '__lt__', '__module__', '__ne__', '__new__', '__reduce__', '__reduce_ex__', '__repr__', '__setattr__', '__sizeof__', '__str__', '__subclasshook__', '__weakref__', 'attribute']\n"
     ]
    }
   ],
   "source": [
    "class FakeDict:\n",
    "  pass\n",
    " \n",
    "fake_dict = FakeDict()\n",
    "fake_dict.attribute = \"Cool\"\n",
    " \n",
    "print(dir(fake_dict))"
   ]
  },
  {
   "cell_type": "markdown",
   "id": "6b9fdb03",
   "metadata": {},
   "source": [
    "Another example for using list"
   ]
  },
  {
   "cell_type": "code",
   "execution_count": 42,
   "id": "154f52fa",
   "metadata": {},
   "outputs": [
    {
     "name": "stdout",
     "output_type": "stream",
     "text": [
      "['__add__', '__class__', '__class_getitem__', '__contains__', '__delattr__', '__delitem__', '__dir__', '__doc__', '__eq__', '__format__', '__ge__', '__getattribute__', '__getitem__', '__gt__', '__hash__', '__iadd__', '__imul__', '__init__', '__init_subclass__', '__iter__', '__le__', '__len__', '__lt__', '__mul__', '__ne__', '__new__', '__reduce__', '__reduce_ex__', '__repr__', '__reversed__', '__rmul__', '__setattr__', '__setitem__', '__sizeof__', '__str__', '__subclasshook__', 'append', 'clear', 'copy', 'count', 'extend', 'index', 'insert', 'pop', 'remove', 'reverse', 'sort']\n"
     ]
    }
   ],
   "source": [
    "fun_list = [10, \"string\", {'abc': True}]\n",
    " \n",
    "type(fun_list)\n",
    "# Prints <class 'list'>\n",
    " \n",
    "print(dir(fun_list))"
   ]
  },
  {
   "cell_type": "markdown",
   "id": "f1208c9e",
   "metadata": {},
   "source": [
    "We use dir() to explore its attributes, and it gives us a large number of internal Python dunder attributes, but afterward, we get the usual list methods."
   ]
  },
  {
   "cell_type": "markdown",
   "id": "63c116f8",
   "metadata": {},
   "source": [
    "## String Representation\n",
    "\n",
    "One of the first things we learn as programmers is how to print out information that we need for debugging. Unfortunately, when we print out an object we get a default representation that seems fairly useless."
   ]
  },
  {
   "cell_type": "code",
   "execution_count": 46,
   "id": "fe9a16b3",
   "metadata": {},
   "outputs": [
    {
     "name": "stdout",
     "output_type": "stream",
     "text": [
      "<__main__.Employee object at 0x1118d8640>\n"
     ]
    }
   ],
   "source": [
    "class Employee():\n",
    "  def __init__(self, name):\n",
    "    self.name = name\n",
    " \n",
    "argus = Employee(\"Argus Filch\")\n",
    "print(argus)"
   ]
  },
  {
   "cell_type": "markdown",
   "id": "51105b0c",
   "metadata": {},
   "source": [
    "We learned about the dunder method __init__(). Now, we will learn another dunder method called __repr__(). This is a method we can use to tell Python what we want the string representation of the class to be. __repr__() can only have one parameter, self, and must return a string."
   ]
  },
  {
   "cell_type": "code",
   "execution_count": 52,
   "id": "ace9a2ce",
   "metadata": {},
   "outputs": [
    {
     "name": "stdout",
     "output_type": "stream",
     "text": [
      "Argus Filch 1\n"
     ]
    }
   ],
   "source": [
    "class Employee():\n",
    "  def __init__(self, name):\n",
    "    self.name = name\n",
    " \n",
    "  def __repr__(self):\n",
    "    return self.name\n",
    " \n",
    "argus = Employee(\"Argus Filch 1\")\n",
    "\n",
    "print(argus)"
   ]
  },
  {
   "cell_type": "markdown",
   "id": "7800fcf1",
   "metadata": {},
   "source": [
    "We implemented the __repr__() method and had it return the .name attribute of the object."
   ]
  },
  {
   "cell_type": "markdown",
   "id": "59ec4813",
   "metadata": {},
   "source": [
    "# Modules Python Introduction"
   ]
  },
  {
   "cell_type": "markdown",
   "id": "705499f2",
   "metadata": {},
   "source": [
    "A module is a collection of Python declarations intended broadly to be used as a tool. Modules are also often referred to as “libraries” or “packages” — a package is really a directory that holds a collection of modules.\n",
    "\n",
    "Usually, to use a module in a file, the basic syntax you need at the top of that file is:"
   ]
  },
  {
   "cell_type": "code",
   "execution_count": 53,
   "id": "65ec41c6",
   "metadata": {},
   "outputs": [],
   "source": [
    "from datetime import datetime"
   ]
  },
  {
   "cell_type": "markdown",
   "id": "084da033",
   "metadata": {},
   "source": [
    "Often, a library will include a lot of code that you don’t need that may slow down your program or conflict with existing code. Because of this, it makes sense to only import what you need."
   ]
  },
  {
   "cell_type": "code",
   "execution_count": 54,
   "id": "eea3bded",
   "metadata": {},
   "outputs": [],
   "source": [
    "current_time = datetime.now()"
   ]
  },
  {
   "cell_type": "code",
   "execution_count": 55,
   "id": "0a1b96a0",
   "metadata": {},
   "outputs": [
    {
     "name": "stdout",
     "output_type": "stream",
     "text": [
      "2023-07-22 13:20:16.719158\n"
     ]
    }
   ],
   "source": [
    "print(current_time)"
   ]
  },
  {
   "cell_type": "markdown",
   "id": "bef0f266",
   "metadata": {},
   "source": [
    "## Modules Python Random"
   ]
  },
  {
   "cell_type": "markdown",
   "id": "cebf3db1",
   "metadata": {},
   "source": [
    "datetime is just the beginning. There are hundreds of Python modules that you can use. Another one of the most commonly used is random which allows you to generate numbers or select items at random.\n",
    "\n",
    "With random, we’ll be using more than one piece of the module’s functionality, so the import syntax will look like:"
   ]
  },
  {
   "cell_type": "code",
   "execution_count": 46,
   "id": "63f5107b",
   "metadata": {},
   "outputs": [],
   "source": [
    "import random"
   ]
  },
  {
   "cell_type": "markdown",
   "id": "980fd4fd",
   "metadata": {},
   "source": [
    "We’ll work with two common random functions:"
   ]
  },
  {
   "cell_type": "markdown",
   "id": "9cfe5d00",
   "metadata": {},
   "source": [
    "random.choice() which takes a list as an argument and returns a number from the list"
   ]
  },
  {
   "cell_type": "code",
   "execution_count": 47,
   "id": "3e02ed9e",
   "metadata": {},
   "outputs": [
    {
     "name": "stdout",
     "output_type": "stream",
     "text": [
      "31\n"
     ]
    }
   ],
   "source": [
    "# Create random_list below:\n",
    "random_list = [random.randint(1,100) for i in range(101)]\n",
    "\n",
    "# Create randomer_number below:\n",
    "\n",
    "randomer_number = random.choice(random_list)\n",
    "\n",
    "# Print randomer_number below:\n",
    "\n",
    "print(randomer_number)"
   ]
  },
  {
   "cell_type": "markdown",
   "id": "3c8d98e1",
   "metadata": {},
   "source": [
    "random.randint() which takes two numbers as arguments and generates a random number between the two numbers you passed in"
   ]
  },
  {
   "cell_type": "code",
   "execution_count": 48,
   "id": "345f2aa5",
   "metadata": {},
   "outputs": [
    {
     "name": "stdout",
     "output_type": "stream",
     "text": [
      "17\n"
     ]
    }
   ],
   "source": [
    "print(random.randint(1, 50))"
   ]
  },
  {
   "cell_type": "markdown",
   "id": "cc0440ca",
   "metadata": {},
   "source": [
    "## Modules Python Namespaces\n",
    "\n",
    "Python defaults to naming the namespace after the module being imported, but sometimes this name could be ambiguous or lengthy. Sometimes, the module’s name could also conflict with an object you have defined within your local namespace.\n",
    "\n",
    "Fortunately, this name can be altered by aliasing using the as keyword:\n",
    "\n",
    "import module_name as name_you_pick_for_the_module"
   ]
  },
  {
   "cell_type": "code",
   "execution_count": 56,
   "id": "4cc07b70",
   "metadata": {},
   "outputs": [
    {
     "name": "stdout",
     "output_type": "stream",
     "text": [
      "[577, 25, 266, 172, 838, 667, 43, 787, 59, 613, 815, 42]\n"
     ]
    }
   ],
   "source": [
    "from matplotlib import pyplot as plt\n",
    "import random\n",
    "numbers_a = range(1, 13)\n",
    "\n",
    "numbers_b = random.sample(range(1000), 12)\n",
    "\n",
    "print(numbers_b)"
   ]
  },
  {
   "cell_type": "markdown",
   "id": "344508af",
   "metadata": {},
   "source": [
    "## Modules Python Decimals\n",
    "\n",
    "If you used Python’s built-in floating-point arithmetic to calculate a sum, it would result in a weirdly formatted number."
   ]
  },
  {
   "cell_type": "code",
   "execution_count": 57,
   "id": "7cd72257",
   "metadata": {},
   "outputs": [
    {
     "name": "stdout",
     "output_type": "stream",
     "text": [
      "0.44999999999999996\n"
     ]
    }
   ],
   "source": [
    "cost_of_gum = 0.10\n",
    "cost_of_gumdrop = 0.35\n",
    " \n",
    "cost_of_transaction = cost_of_gum + cost_of_gumdrop\n",
    "print(cost_of_transaction)"
   ]
  },
  {
   "cell_type": "markdown",
   "id": "1ef13ef1",
   "metadata": {},
   "source": [
    "Being familiar with rounding errors in floating-point arithmetic you want to use a data type that performs decimal arithmetic more accurately. You could do the following:"
   ]
  },
  {
   "cell_type": "code",
   "execution_count": 55,
   "id": "07d9c8c6",
   "metadata": {},
   "outputs": [
    {
     "name": "stdout",
     "output_type": "stream",
     "text": [
      "0.45\n"
     ]
    }
   ],
   "source": [
    "from decimal import Decimal\n",
    " \n",
    "cost_of_gum = Decimal('0.10')\n",
    "cost_of_gumdrop = Decimal('0.35')\n",
    " \n",
    "cost_of_transaction = cost_of_gum + cost_of_gumdrop\n",
    "print(cost_of_transaction)"
   ]
  },
  {
   "cell_type": "markdown",
   "id": "d9f5ad55",
   "metadata": {},
   "source": [
    "Above, we use the decimal module’s Decimal data type to add 0.10 with 0.35. Since we used the Decimal type the arithmetic acts much more as expected."
   ]
  },
  {
   "cell_type": "markdown",
   "id": "212fda88",
   "metadata": {},
   "source": [
    "## Modules Python Files and Scope\n",
    "\n",
    "files inside the same directory do not have access to each other’s variables, functions, classes, or any other code. So if I have a file library.py and another file script.py, how do I give my always_three access to the script file ?"
   ]
  },
  {
   "cell_type": "markdown",
   "id": "3b3347a5",
   "metadata": {},
   "source": [
    "========== library.py ============\n",
    "\n",
    "\n",
    "def always_three():\n",
    "\n",
    "      return 3"
   ]
  },
  {
   "cell_type": "markdown",
   "id": "667465b4",
   "metadata": {},
   "source": [
    "========== scripts.py ==========\n",
    "\n",
    "from library import always_three\n",
    "\n",
    "\n",
    "always_three()"
   ]
  },
  {
   "cell_type": "code",
   "execution_count": null,
   "id": "c3e6b7b7",
   "metadata": {},
   "outputs": [],
   "source": []
  }
 ],
 "metadata": {
  "kernelspec": {
   "display_name": "Python 3 (ipykernel)",
   "language": "python",
   "name": "python3"
  },
  "language_info": {
   "codemirror_mode": {
    "name": "ipython",
    "version": 3
   },
   "file_extension": ".py",
   "mimetype": "text/x-python",
   "name": "python",
   "nbconvert_exporter": "python",
   "pygments_lexer": "ipython3",
   "version": "3.10.9"
  }
 },
 "nbformat": 4,
 "nbformat_minor": 5
}
