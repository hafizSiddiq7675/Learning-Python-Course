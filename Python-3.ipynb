{
 "cells": [
  {
   "cell_type": "markdown",
   "id": "16663352",
   "metadata": {},
   "source": [
    "# Python: Tuples"
   ]
  },
  {
   "cell_type": "markdown",
   "id": "74ca73c6",
   "metadata": {},
   "source": [
    "## Types\n",
    "\n",
    "Python equips us with many different ways to store data. A float is a different kind of number from an int, and we store different data in a list than we do in a dict. These are known as different types. We can check the type of a Python variable using the type() function."
   ]
  },
  {
   "cell_type": "code",
   "execution_count": 1,
   "id": "df505aef",
   "metadata": {},
   "outputs": [
    {
     "name": "stdout",
     "output_type": "stream",
     "text": [
      "<class 'int'>\n"
     ]
    }
   ],
   "source": [
    "x = 5\n",
    "\n",
    "print(type(x))"
   ]
  },
  {
   "cell_type": "code",
   "execution_count": 2,
   "id": "6cb19421",
   "metadata": {},
   "outputs": [
    {
     "name": "stdout",
     "output_type": "stream",
     "text": [
      "<class 'dict'>\n"
     ]
    }
   ],
   "source": [
    "my_dict = {}\n",
    "\n",
    "print(type(my_dict))"
   ]
  },
  {
   "cell_type": "code",
   "execution_count": 3,
   "id": "6bf23dca",
   "metadata": {},
   "outputs": [
    {
     "name": "stdout",
     "output_type": "stream",
     "text": [
      "<class 'list'>\n"
     ]
    }
   ],
   "source": [
    "my_list = []\n",
    "\n",
    "print(type(my_list))"
   ]
  },
  {
   "cell_type": "markdown",
   "id": "64d2e5a0",
   "metadata": {},
   "source": [
    "## INTRODUCTION TO CLASSES\n",
    "\n",
    "A class is a template for a data type. It describes the kinds of information that class will hold and how a programmer will interact with that data. \n",
    "Define a class using the class keyword. PEP 8 Style Guide for Python Code recommends capitalizing the names of classes to make them easier to identify."
   ]
  },
  {
   "cell_type": "code",
   "execution_count": 5,
   "id": "64f0ec5f",
   "metadata": {},
   "outputs": [],
   "source": [
    "class Facade:\n",
    "  pass"
   ]
  },
  {
   "cell_type": "markdown",
   "id": "f6bdeb2a",
   "metadata": {},
   "source": [
    "In the above example we created a class and named it Facade. We used the pass keyword in Python to indicate that the body of the class was intentionally left blank so we don’t cause an IndentationError."
   ]
  },
  {
   "cell_type": "markdown",
   "id": "faa75d4c",
   "metadata": {},
   "source": [
    "### Instantiation\n",
    "\n",
    "A class doesn’t accomplish anything simply by being defined. A class must be instantiated. In other words, we must create an instance of the class, in order to breathe life into the schematic.\n",
    "\n"
   ]
  },
  {
   "cell_type": "markdown",
   "id": "63a30030",
   "metadata": {},
   "source": [
    "Instantiating a class looks a lot like calling a function. We would be able to create an instance of our defined Facade as follows:"
   ]
  },
  {
   "cell_type": "code",
   "execution_count": 7,
   "id": "7424d39c",
   "metadata": {},
   "outputs": [],
   "source": [
    "facade_1 = Facade()"
   ]
  },
  {
   "cell_type": "markdown",
   "id": "aa5e6b22",
   "metadata": {},
   "source": [
    "Above, we created an object by adding parentheses to the name of the class. We then assigned that new instance to the variable facade_1 for safe-keeping so we can access our instance of Facade at a later time."
   ]
  },
  {
   "cell_type": "markdown",
   "id": "09bbffd2",
   "metadata": {},
   "source": [
    "## Object-Oriented Programming\n",
    "\n",
    "A class instance is also called an object. The pattern of defining classes and creating objects to represent the responsibilities of a program is known as Object Oriented Programming or OOP.\n",
    "\n",
    "Instantiation takes a class and turns it into an object, the type() function does the opposite of that. When called with an object, it returns the class that the object is an instance of."
   ]
  },
  {
   "cell_type": "code",
   "execution_count": 9,
   "id": "49a4b631",
   "metadata": {},
   "outputs": [
    {
     "name": "stdout",
     "output_type": "stream",
     "text": [
      "<class '__main__.Facade'>\n"
     ]
    }
   ],
   "source": [
    "print(type(facade_1))"
   ]
  },
  {
   "cell_type": "markdown",
   "id": "aefe3a33",
   "metadata": {},
   "source": [
    "## Class Variables\n",
    "\n",
    "When we want the same data to be available to every instance of a class we use a class variable. A class variable is a variable that’s the same for every instance of the class.\n",
    "\n"
   ]
  },
  {
   "cell_type": "code",
   "execution_count": 10,
   "id": "b9f5f602",
   "metadata": {},
   "outputs": [
    {
     "name": "stdout",
     "output_type": "stream",
     "text": [
      "Rockstar\n"
     ]
    }
   ],
   "source": [
    "class Musician:\n",
    "  title = \"Rockstar\"\n",
    " \n",
    "drummer = Musician()\n",
    "print(drummer.title)"
   ]
  },
  {
   "cell_type": "markdown",
   "id": "c81a8739",
   "metadata": {},
   "source": [
    "Above we defined the class Musician, then instantiated drummer to be an object of type Musician. We then printed out the drummer’s .title attribute, which is a class variable that we defined as the string “Rockstar”.\n",
    "\n",
    "If we defined another musician, like guitarist = Musician() they would have the same .title attribute."
   ]
  },
  {
   "cell_type": "markdown",
   "id": "59054138",
   "metadata": {},
   "source": [
    "## Methods\n",
    "\n",
    "Methods are functions that are defined as part of a class. The first argument in a method is always the object that is calling the method. Convention recommends that we name this first argument self. Methods always have at least this one argument.\n",
    "\n",
    "We define methods similarly to functions, except that they are indented to be part of the class."
   ]
  },
  {
   "cell_type": "code",
   "execution_count": 11,
   "id": "7d075f51",
   "metadata": {},
   "outputs": [
    {
     "name": "stdout",
     "output_type": "stream",
     "text": [
      "Dogs experience 7 years for every 1 human year.\n"
     ]
    }
   ],
   "source": [
    "class Dog:\n",
    "  dog_time_dilation = 7\n",
    " \n",
    "  def time_explanation(self):\n",
    "    print(\"Dogs experience {} years for every 1 human year.\".format(self.dog_time_dilation))\n",
    " \n",
    "pipi_pitbull = Dog()\n",
    "pipi_pitbull.time_explanation()"
   ]
  },
  {
   "cell_type": "markdown",
   "id": "361d4a5e",
   "metadata": {},
   "source": [
    "Above we created a Dog class with a .time_explanation() method that takes one argument, self, which refers to the object calling the function. We created a Dog named pipi_pitbull and called the .time_explanation() method on our new object for Pipi.\n",
    "\n",
    "Notice we didn’t pass any arguments when we called .time_explanation(), but were able to refer to self in the function body. When you call a method it automatically passes the object calling the method as the first argument."
   ]
  },
  {
   "cell_type": "markdown",
   "id": "59593022",
   "metadata": {},
   "source": [
    "## Methods with Arguments\n",
    "\n",
    "Methods can also take more arguments than just self:"
   ]
  },
  {
   "cell_type": "code",
   "execution_count": 12,
   "id": "7af6cace",
   "metadata": {},
   "outputs": [
    {
     "name": "stdout",
     "output_type": "stream",
     "text": [
      "8.045\n"
     ]
    }
   ],
   "source": [
    "class DistanceConverter:\n",
    "  kms_in_a_mile = 1.609\n",
    "  def how_many_kms(self, miles):\n",
    "    return miles * self.kms_in_a_mile\n",
    " \n",
    "converter = DistanceConverter()\n",
    "kms_in_5_miles = converter.how_many_kms(5)\n",
    "print(kms_in_5_miles)"
   ]
  },
  {
   "cell_type": "markdown",
   "id": "9c200f67",
   "metadata": {},
   "source": [
    "Above we defined a DistanceConverter class, instantiated it, and used it to convert 5 miles into kilometers. Notice again that even though .how_many_kms() takes two arguments in its definition, we only pass miles, because self is implicitly passed (and refers to the object converter)."
   ]
  },
  {
   "cell_type": "markdown",
   "id": "c4699dbc",
   "metadata": {},
   "source": [
    "## Constructors\n",
    "\n",
    "Methods that are used to prepare an object being instantiated are called constructors. The word “constructor” is used to describe similar features in other object-oriented programming languages, but programmers who refer to a constructor in Python are usually talking about the __init__() method."
   ]
  },
  {
   "cell_type": "code",
   "execution_count": 13,
   "id": "d4121055",
   "metadata": {},
   "outputs": [
    {
     "name": "stdout",
     "output_type": "stream",
     "text": [
      "HELLO?!\n",
      "HELLO?!\n"
     ]
    }
   ],
   "source": [
    "class Shouter:\n",
    "  def __init__(self):\n",
    "    print(\"HELLO?!\")\n",
    " \n",
    "shout1 = Shouter()\n",
    " \n",
    "shout2 = Shouter()"
   ]
  },
  {
   "cell_type": "markdown",
   "id": "69663196",
   "metadata": {},
   "source": [
    "## Instance Variables\n",
    "\n",
    "The data held by an object is referred to as an instance variable. Instance variables aren’t shared by all instances of a class — they are variables that are specific to the object they are attached to."
   ]
  },
  {
   "cell_type": "code",
   "execution_count": 14,
   "id": "584cadaa",
   "metadata": {},
   "outputs": [],
   "source": [
    "class FakeDict:\n",
    "  pass"
   ]
  },
  {
   "cell_type": "markdown",
   "id": "036a5d77",
   "metadata": {},
   "source": [
    "We can instantiate two different objects from this class, fake_dict1 and fake_dict2, and assign instance variables to these objects using the same attribute notation that was used for accessing class variables."
   ]
  },
  {
   "cell_type": "code",
   "execution_count": 16,
   "id": "c8f1347a",
   "metadata": {},
   "outputs": [
    {
     "name": "stdout",
     "output_type": "stream",
     "text": [
      "This works! This too!\n"
     ]
    }
   ],
   "source": [
    "fake_dict1 = FakeDict()\n",
    "fake_dict2 = FakeDict()\n",
    " \n",
    "fake_dict1.fake_key = \"This works!\"\n",
    "fake_dict2.fake_key = \"This too!\"\n",
    " \n",
    "# Let's join the two strings together!\n",
    "working_string = \"{} {}\".format(fake_dict1.fake_key, fake_dict2.fake_key)\n",
    "print(working_string)"
   ]
  },
  {
   "cell_type": "markdown",
   "id": "79966768",
   "metadata": {},
   "source": [
    "## Attribute Functions\n",
    "\n",
    "Instance variables and class variables are both accessed similarly in Python. This is no mistake, they are both considered attributes of an object. If we attempt to access an attribute that is neither a class variable nor an instance variable of the object Python will throw an AttributeError."
   ]
  },
  {
   "cell_type": "code",
   "execution_count": 17,
   "id": "30916253",
   "metadata": {},
   "outputs": [
    {
     "name": "stdout",
     "output_type": "stream",
     "text": [
      "This text gets printed!\n"
     ]
    }
   ],
   "source": [
    "class NoCustomAttributes:\n",
    "  pass\n",
    " \n",
    "attributeless = NoCustomAttributes()\n",
    " \n",
    "try:\n",
    "  attributeless.fake_attribute\n",
    "except AttributeError:\n",
    "  print(\"This text gets printed!\")"
   ]
  },
  {
   "cell_type": "markdown",
   "id": "c6661754",
   "metadata": {},
   "source": [
    "What if we aren’t sure if an object has an attribute or not? hasattr() will return True if an object has a given attribute and False otherwise. If we want to get the actual value of the attribute, getattr() is a Python function that will return the value of a given object and attribute. In this function, we can also supply a third argument that will be the default if the object does not have the given attribute."
   ]
  },
  {
   "cell_type": "markdown",
   "id": "b65fd68c",
   "metadata": {},
   "source": [
    "The syntax and parameters for these functions look like this:\n",
    "\n",
    "hasattr(object, “attribute”) has two parameters:\n",
    "\n",
    "- object : the object we are testing to see if it has a certain attribute\n",
    "- attribute : name of attribute we want to see if it exists\n",
    "\n",
    "getattr(object, “attribute”, default) has three parameters (one of which is optional):\n",
    "\n",
    "- object : the object whose attribute we want to evaluate\n",
    "- attribute : name of attribute we want to evaluate\n",
    "- default : the value that is returned if the attribute does not exist (note: this parameter is optional)"
   ]
  },
  {
   "cell_type": "code",
   "execution_count": 18,
   "id": "48634e2c",
   "metadata": {},
   "outputs": [
    {
     "data": {
      "text/plain": [
       "800"
      ]
     },
     "execution_count": 18,
     "metadata": {},
     "output_type": "execute_result"
    }
   ],
   "source": [
    "hasattr(attributeless, \"fake_attribute\")\n",
    " \n",
    "getattr(attributeless, \"other_fake_attribute\", 800)"
   ]
  },
  {
   "cell_type": "markdown",
   "id": "a12c25d7",
   "metadata": {},
   "source": [
    "## Self\n",
    "\n",
    "This convenience is most apparent when the constructor creates the instance variables using the arguments passed into it. If we were creating a search engine and wanted to create a class to hold each search entry, we could do so like this:"
   ]
  },
  {
   "cell_type": "code",
   "execution_count": 20,
   "id": "bb223e5f",
   "metadata": {},
   "outputs": [
    {
     "name": "stdout",
     "output_type": "stream",
     "text": [
      "www.google.com\n",
      "www.wikipedia.org\n"
     ]
    }
   ],
   "source": [
    "class SearchEngineEntry:\n",
    "  def __init__(self, url):\n",
    "    self.url = url\n",
    " \n",
    "codecademy = SearchEngineEntry(\"www.google.com\")\n",
    "wikipedia = SearchEngineEntry(\"www.wikipedia.org\")\n",
    " \n",
    "print(codecademy.url)\n",
    " \n",
    "print(wikipedia.url)"
   ]
  },
  {
   "cell_type": "markdown",
   "id": "358e2307",
   "metadata": {},
   "source": [
    "In the preceding code sample, we define a SearchEngineEntry class, which contains a constructor with two parameters, self and url. Inside the constructor body, we create an instance variable named self.url and assign it the value of the url parameter that is passed into the constructor."
   ]
  },
  {
   "cell_type": "markdown",
   "id": "1e76e27e",
   "metadata": {},
   "source": [
    "## Everything is an Object\n",
    "\n",
    "Attributes can be added to user-defined objects after instantiation, so it’s possible for an object to have some attributes that are not explicitly defined in an object’s constructor. We can use the dir() function to investigate an object’s attributes at runtime. dir() is short for directory and offers an organized presentation of object attributes."
   ]
  },
  {
   "cell_type": "code",
   "execution_count": 21,
   "id": "0558c231",
   "metadata": {},
   "outputs": [
    {
     "name": "stdout",
     "output_type": "stream",
     "text": [
      "['__class__', '__delattr__', '__dict__', '__dir__', '__doc__', '__eq__', '__format__', '__ge__', '__getattribute__', '__gt__', '__hash__', '__init__', '__init_subclass__', '__le__', '__lt__', '__module__', '__ne__', '__new__', '__reduce__', '__reduce_ex__', '__repr__', '__setattr__', '__sizeof__', '__str__', '__subclasshook__', '__weakref__', 'attribute']\n"
     ]
    }
   ],
   "source": [
    "class FakeDict:\n",
    "  pass\n",
    " \n",
    "fake_dict = FakeDict()\n",
    "fake_dict.attribute = \"Cool\"\n",
    " \n",
    "print(dir(fake_dict))"
   ]
  },
  {
   "cell_type": "markdown",
   "id": "58e6433d",
   "metadata": {},
   "source": [
    "## String Representation\n",
    "\n",
    "One of the first things we learn as programmers is how to print out information that we need for debugging. Unfortunately, when we print out an object we get a default representation that seems fairly useless."
   ]
  },
  {
   "cell_type": "code",
   "execution_count": 23,
   "id": "889b7913",
   "metadata": {},
   "outputs": [
    {
     "name": "stdout",
     "output_type": "stream",
     "text": [
      "<__main__.Employee object at 0x7fddf5ad2980>\n"
     ]
    }
   ],
   "source": [
    "class Employee():\n",
    "  def __init__(self, name):\n",
    "    self.name = name\n",
    " \n",
    "argus = Employee(\"Argus Filch\")\n",
    "print(argus)"
   ]
  },
  {
   "cell_type": "markdown",
   "id": "f0d4dcea",
   "metadata": {},
   "source": [
    "We learned about the dunder method __init__(). Now, we will learn another dunder method called __repr__(). This is a method we can use to tell Python what we want the string representation of the class to be. __repr__() can only have one parameter, self, and must return a string.\n",
    "\n",
    "In our Employee class above, we have an instance variable called .name that should be unique enough to be useful when we’re printing out an instance of the Employee class."
   ]
  },
  {
   "cell_type": "code",
   "execution_count": 24,
   "id": "a151ab7b",
   "metadata": {},
   "outputs": [
    {
     "name": "stdout",
     "output_type": "stream",
     "text": [
      "Argus Filch\n"
     ]
    }
   ],
   "source": [
    "class Employee():\n",
    "  def __init__(self, name):\n",
    "    self.name = name\n",
    " \n",
    "  def __repr__(self):\n",
    "    return self.name\n",
    " \n",
    "argus = Employee(\"Argus Filch\")\n",
    "print(argus)"
   ]
  }
 ],
 "metadata": {
  "kernelspec": {
   "display_name": "Python 3 (ipykernel)",
   "language": "python",
   "name": "python3"
  },
  "language_info": {
   "codemirror_mode": {
    "name": "ipython",
    "version": 3
   },
   "file_extension": ".py",
   "mimetype": "text/x-python",
   "name": "python",
   "nbconvert_exporter": "python",
   "pygments_lexer": "ipython3",
   "version": "3.10.9"
  }
 },
 "nbformat": 4,
 "nbformat_minor": 5
}
