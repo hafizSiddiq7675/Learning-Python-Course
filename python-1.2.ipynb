{
 "cells": [
  {
   "cell_type": "markdown",
   "id": "a81f4990-99ca-4684-94fb-f6cb70aaf192",
   "metadata": {},
   "source": [
    "# Python Control Flows\n",
    "\n",
    "Control the flow of the execution"
   ]
  },
  {
   "cell_type": "markdown",
   "id": "b755d75e-71cd-4b96-9847-14a9e827e7b4",
   "metadata": {},
   "source": [
    "# Boolean Expressions\n",
    "\n",
    "In order to build control flow into our program, we want to be able to check if something is true or not. A boolean expression is a statement that can either be True or False."
   ]
  },
  {
   "cell_type": "code",
   "execution_count": 2,
   "id": "aec8a700-6495-4fbf-b1de-16a625455cb0",
   "metadata": {},
   "outputs": [
    {
     "data": {
      "text/plain": [
       "False"
      ]
     },
     "execution_count": 2,
     "metadata": {},
     "output_type": "execute_result"
    }
   ],
   "source": [
    "1 == 1     # True\n",
    " \n",
    "2 != 4     # True\n",
    " \n",
    "3 == 5     # False\n",
    " \n",
    "'7' == 7   # False"
   ]
  },
  {
   "cell_type": "code",
   "execution_count": 3,
   "id": "c723a1c7-2879-44ec-9c9b-9b0d048e2a3c",
   "metadata": {},
   "outputs": [],
   "source": [
    "bool_one = 5 != 7 \n",
    "bool_two = 1 + 1 != 2\n",
    "bool_three = 3 * 3 == 9"
   ]
  },
  {
   "cell_type": "code",
   "execution_count": 4,
   "id": "1b58accc-0c79-4591-8357-8292f6352bab",
   "metadata": {},
   "outputs": [
    {
     "name": "stdout",
     "output_type": "stream",
     "text": [
      "True\n",
      "False\n",
      "True\n"
     ]
    }
   ],
   "source": [
    "print(bool_one)    # True\n",
    " \n",
    "print(bool_two)    # False\n",
    " \n",
    "print(bool_three)  # True"
   ]
  },
  {
   "cell_type": "markdown",
   "id": "dd2be9ea-7e16-4972-bd99-c2252f5be555",
   "metadata": {},
   "source": [
    "# If Statement\n",
    "If it is raining, then bring an umbrella."
   ]
  },
  {
   "cell_type": "code",
   "execution_count": 4,
   "id": "bfe13747-33ca-421d-84d2-72ae4a9da45c",
   "metadata": {},
   "outputs": [
    {
     "name": "stdout",
     "output_type": "stream",
     "text": [
      "bring an umbrella\n"
     ]
    }
   ],
   "source": [
    "is_raining = True\n",
    "if is_raining:\n",
    "  print(\"bring an umbrella\")"
   ]
  },
  {
   "cell_type": "markdown",
   "id": "b6fa32ce-a77e-41e2-84f2-b5e95a6cd2fa",
   "metadata": {},
   "source": [
    "# Relational Operator"
   ]
  },
  {
   "cell_type": "markdown",
   "id": "530aaa5b-b187-4b4d-a9cf-dc8a27a5b617",
   "metadata": {},
   "source": [
    "# And"
   ]
  },
  {
   "cell_type": "code",
   "execution_count": 8,
   "id": "d01ebcb8-2320-4cf8-9e4b-606e6ae03c7c",
   "metadata": {},
   "outputs": [
    {
     "data": {
      "text/plain": [
       "False"
      ]
     },
     "execution_count": 8,
     "metadata": {},
     "output_type": "execute_result"
    }
   ],
   "source": [
    "(1 + 1 == 2) and (2 + 2 == 4)   # True\n",
    " \n",
    "(1 > 9) and (5 != 6)            # False\n",
    " \n",
    "(1 + 1 == 2) and (2 < 1)        # False\n",
    " \n",
    "(0 == 10) and (1 + 1 == 1)      # False"
   ]
  },
  {
   "cell_type": "markdown",
   "id": "abb47d89-5c04-4b1f-9e9a-c05eb91df2d0",
   "metadata": {},
   "source": [
    "# OR"
   ]
  },
  {
   "cell_type": "code",
   "execution_count": 7,
   "id": "c1fc8e2c-69b9-406f-94b2-5f25e4119bfe",
   "metadata": {},
   "outputs": [
    {
     "data": {
      "text/plain": [
       "False"
      ]
     },
     "execution_count": 7,
     "metadata": {},
     "output_type": "execute_result"
    }
   ],
   "source": [
    "True or (3 + 4 == 7)    # True\n",
    "(1 - 1 == 0) or False   # True\n",
    "(2 < 0) or True         # True\n",
    "(3 == 8) or (3 > 4)     # False"
   ]
  },
  {
   "cell_type": "markdown",
   "id": "a8746297-78be-4b42-b67e-86d16440a4ee",
   "metadata": {},
   "source": [
    "# NOT"
   ]
  },
  {
   "cell_type": "code",
   "execution_count": 11,
   "id": "4e42bf92-d3d3-4f19-b306-6cff5d20ce31",
   "metadata": {},
   "outputs": [
    {
     "data": {
      "text/plain": [
       "True"
      ]
     },
     "execution_count": 11,
     "metadata": {},
     "output_type": "execute_result"
    }
   ],
   "source": [
    "not True == False\n",
    "not False == True"
   ]
  },
  {
   "cell_type": "code",
   "execution_count": 12,
   "id": "14c36338-51b2-4a0c-9821-ce142a3b602b",
   "metadata": {},
   "outputs": [],
   "source": [
    "# Else Statements"
   ]
  },
  {
   "cell_type": "code",
   "execution_count": 8,
   "id": "44f835d4-bbfb-4e0f-9d2a-287451f480c6",
   "metadata": {},
   "outputs": [
    {
     "name": "stdout",
     "output_type": "stream",
     "text": [
      "sleep in\n"
     ]
    }
   ],
   "source": [
    "weekday = False\n",
    "if weekday:\n",
    "  print(\"wake up at 6:30\")\n",
    "else:\n",
    "  print(\"sleep in\")"
   ]
  },
  {
   "cell_type": "code",
   "execution_count": 15,
   "id": "e5f7b21e-3e77-47c7-94d4-d6d6e8a4ed72",
   "metadata": {},
   "outputs": [],
   "source": [
    "# Else If Statements"
   ]
  },
  {
   "cell_type": "code",
   "execution_count": 11,
   "id": "318fcb7e-4465-40c6-8e45-3b387aed6491",
   "metadata": {},
   "outputs": [
    {
     "name": "stdout",
     "output_type": "stream",
     "text": [
      "B\n"
     ]
    }
   ],
   "source": [
    "grade = 86\n",
    "\n",
    "if grade >= 90:\n",
    "  print(\"A\")\n",
    "elif grade >= 80:\n",
    "  print(\"B\")\n",
    "elif grade >= 70:\n",
    "  print(\"C\")\n",
    "elif grade >= 60:\n",
    "  print(\"D\")\n",
    "else:\n",
    "  print(\"F\")"
   ]
  },
  {
   "cell_type": "code",
   "execution_count": null,
   "id": "c6b73027-f5f6-4af0-9d90-b004d8c0930f",
   "metadata": {},
   "outputs": [],
   "source": []
  }
 ],
 "metadata": {
  "kernelspec": {
   "display_name": "Python 3 (ipykernel)",
   "language": "python",
   "name": "python3"
  },
  "language_info": {
   "codemirror_mode": {
    "name": "ipython",
    "version": 3
   },
   "file_extension": ".py",
   "mimetype": "text/x-python",
   "name": "python",
   "nbconvert_exporter": "python",
   "pygments_lexer": "ipython3",
   "version": "3.10.9"
  }
 },
 "nbformat": 4,
 "nbformat_minor": 5
}
