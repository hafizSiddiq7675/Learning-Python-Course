{
 "cells": [
  {
   "cell_type": "markdown",
   "id": "a25b9306-884e-419b-b2ba-64d48171ac48",
   "metadata": {},
   "source": [
    "# Lists\n",
    "\n",
    " it is common to want to work with collections of data. In Python, a list is one of the many built-in data structures that allows us to work with a collection of data in sequential order."
   ]
  },
  {
   "cell_type": "code",
   "execution_count": 1,
   "id": "2e7a3e9f-292a-4d2f-999d-57ff19b3dbce",
   "metadata": {},
   "outputs": [],
   "source": [
    "heights = [61, 70, 67, 64]"
   ]
  },
  {
   "cell_type": "markdown",
   "id": "00825a98-d216-43d4-a16d-b9226fb30065",
   "metadata": {},
   "source": [
    "A list begins and ends with square brackets ([ and ]).\n",
    "Each item (i.e., 67 or 70) is separated by a comma (,)\n",
    "It’s considered good practice to insert a space () after each comma, but your code will run just fine if you forget the space."
   ]
  },
  {
   "cell_type": "markdown",
   "id": "8eb3a2b0-eecc-4532-94af-0304a344f0ef",
   "metadata": {},
   "source": [
    "# Empty Lists"
   ]
  },
  {
   "cell_type": "code",
   "execution_count": 2,
   "id": "cdac5515-ae0d-47b2-9907-681c3cfa9205",
   "metadata": {},
   "outputs": [],
   "source": [
    "heights = []"
   ]
  },
  {
   "cell_type": "markdown",
   "id": "61c28fc9-66b4-4a64-9cac-7d38f36eb0e8",
   "metadata": {},
   "source": [
    "# List Methods"
   ]
  },
  {
   "cell_type": "markdown",
   "id": "d8c58beb-bc8a-4a1e-b34d-a1675a6b8dea",
   "metadata": {},
   "source": [
    "# .append()"
   ]
  },
  {
   "cell_type": "code",
   "execution_count": 4,
   "id": "ab7ac612-cd25-4c14-bec3-06046bfb7bad",
   "metadata": {},
   "outputs": [
    {
     "name": "stdout",
     "output_type": "stream",
     "text": [
      "['This', 'is', 'an', 'example', 'list']\n"
     ]
    }
   ],
   "source": [
    "append_example = [ 'This', 'is', 'an', 'example']\n",
    "append_example.append('list')\n",
    " \n",
    "print(append_example)"
   ]
  },
  {
   "cell_type": "markdown",
   "id": "77764e96-8760-488f-8d17-59ff68b19cc6",
   "metadata": {},
   "source": [
    "# Plus"
   ]
  },
  {
   "cell_type": "code",
   "execution_count": 5,
   "id": "0a26613e-3353-473f-87dc-141c91052a40",
   "metadata": {},
   "outputs": [
    {
     "name": "stdout",
     "output_type": "stream",
     "text": [
      "['cake', 'cookie', 'bread', 'biscuit', 'tart']\n"
     ]
    }
   ],
   "source": [
    "items_sold = [\"cake\", \"cookie\", \"bread\"]\n",
    "\n",
    "items_sold_new = items_sold + [\"biscuit\", \"tart\"]\n",
    "print(items_sold_new)"
   ]
  },
  {
   "cell_type": "markdown",
   "id": "236726ad-f231-43f3-a4a0-ff101ad6eb83",
   "metadata": {},
   "source": [
    "# Both should have the type list else it will throw error"
   ]
  },
  {
   "cell_type": "code",
   "execution_count": 2,
   "id": "6bd36d37-1c3e-424f-b938-c69d6473cfd5",
   "metadata": {},
   "outputs": [
    {
     "ename": "TypeError",
     "evalue": "can only concatenate list (not \"int\") to list",
     "output_type": "error",
     "traceback": [
      "\u001b[0;31m---------------------------------------------------------------------------\u001b[0m",
      "\u001b[0;31mTypeError\u001b[0m                                 Traceback (most recent call last)",
      "Cell \u001b[0;32mIn[2], line 2\u001b[0m\n\u001b[1;32m      1\u001b[0m my_list \u001b[38;5;241m=\u001b[39m [\u001b[38;5;241m1\u001b[39m, \u001b[38;5;241m2\u001b[39m, \u001b[38;5;241m3\u001b[39m]\n\u001b[0;32m----> 2\u001b[0m \u001b[43mmy_list\u001b[49m\u001b[43m \u001b[49m\u001b[38;5;241;43m+\u001b[39;49m\u001b[38;5;241;43m4\u001b[39;49m\n",
      "\u001b[0;31mTypeError\u001b[0m: can only concatenate list (not \"int\") to list"
     ]
    }
   ],
   "source": [
    "my_list = [1, 2, 3]\n",
    "my_list + 4"
   ]
  },
  {
   "cell_type": "markdown",
   "id": "ff46f997-ea7a-44c3-bbff-953069ab25ab",
   "metadata": {},
   "source": [
    "# Accessing List Elements by indexing"
   ]
  },
  {
   "cell_type": "code",
   "execution_count": 8,
   "id": "2c2838ed-cca9-4ffe-833e-cd43b4ccfb60",
   "metadata": {},
   "outputs": [],
   "source": [
    "calls = [\"Juan\", \"Zofia\", \"Amare\", \"Ezio\", \"Ananya\"]"
   ]
  },
  {
   "cell_type": "code",
   "execution_count": 9,
   "id": "b897ebd0-12b0-40a6-b925-c279c73a8ba6",
   "metadata": {},
   "outputs": [
    {
     "name": "stdout",
     "output_type": "stream",
     "text": [
      "Amare\n"
     ]
    }
   ],
   "source": [
    "print(calls[2])"
   ]
  },
  {
   "cell_type": "markdown",
   "id": "a0620613-d060-4f3e-bde7-c5c837bf8b13",
   "metadata": {},
   "source": [
    "# Accessing List Elements: Negative Index"
   ]
  },
  {
   "cell_type": "code",
   "execution_count": 11,
   "id": "002d7e53-14f8-405d-b931-5177116c3431",
   "metadata": {},
   "outputs": [],
   "source": [
    "pancake_recipe = [\"eggs\", \"flour\", \"butter\", \"milk\", \"sugar\", \"love\"]"
   ]
  },
  {
   "cell_type": "code",
   "execution_count": 12,
   "id": "ca05fa62-4b16-4ee0-ba40-9caedeca630a",
   "metadata": {},
   "outputs": [
    {
     "name": "stdout",
     "output_type": "stream",
     "text": [
      "love\n"
     ]
    }
   ],
   "source": [
    "print(pancake_recipe[-1])"
   ]
  },
  {
   "cell_type": "markdown",
   "id": "3b593c1a-acef-4777-803f-a96463124eca",
   "metadata": {},
   "source": [
    "# Modifying List Elements"
   ]
  },
  {
   "cell_type": "code",
   "execution_count": 13,
   "id": "8e4f0428-bcd4-45d7-bd3b-cfa27d9075aa",
   "metadata": {},
   "outputs": [],
   "source": [
    "garden = [\"Tomatoes\", \"Green Beans\", \"Cauliflower\", \"Grapes\"]"
   ]
  },
  {
   "cell_type": "code",
   "execution_count": 14,
   "id": "cd8669a9-c609-4327-af53-420384695291",
   "metadata": {},
   "outputs": [
    {
     "name": "stdout",
     "output_type": "stream",
     "text": [
      "['Tomatoes', 'Green Beans', 'Strawberries', 'Grapes']\n"
     ]
    }
   ],
   "source": [
    "garden[2] = \"Strawberries\"\n",
    " \n",
    "print(garden)\n"
   ]
  },
  {
   "cell_type": "markdown",
   "id": "b68f00b2-8abe-49b3-a09d-904ea4756384",
   "metadata": {},
   "source": [
    "# Shrinking a List: Remove"
   ]
  },
  {
   "cell_type": "code",
   "execution_count": 15,
   "id": "58156640-9cb5-4273-8098-fdc3d8e61e3e",
   "metadata": {},
   "outputs": [
    {
     "name": "stdout",
     "output_type": "stream",
     "text": [
      "['Cole', 'Kip', 'Sylvana']\n"
     ]
    }
   ],
   "source": [
    "shopping_line = [\"Cole\", \"Kip\", \"Chris\", \"Sylvana\"]\n",
    "\n",
    "shopping_line.remove(\"Chris\")\n",
    " \n",
    "print(shopping_line)"
   ]
  },
  {
   "cell_type": "code",
   "execution_count": 16,
   "id": "e076ee2c-bda4-4647-94c5-b22aabc50876",
   "metadata": {},
   "outputs": [
    {
     "name": "stdout",
     "output_type": "stream",
     "text": [
      "['Cole', 'Kip', 'Sylvana', 'Chris']\n"
     ]
    }
   ],
   "source": [
    "shopping_line = [\"Cole\", \"Kip\", \"Chris\", \"Sylvana\", \"Chris\"]\n",
    " \n",
    "# Remove a element\n",
    "shopping_line.remove(\"Chris\")\n",
    "print(shopping_line)"
   ]
  },
  {
   "cell_type": "markdown",
   "id": "3cb75e66-bf80-4f2c-97b7-2715ba55752a",
   "metadata": {},
   "source": [
    "# Two-Dimensional (2D) Lists"
   ]
  },
  {
   "cell_type": "code",
   "execution_count": 18,
   "id": "e3c62b93-3e15-4b1c-8193-e4bd21086d17",
   "metadata": {},
   "outputs": [],
   "source": [
    "heights = [[\"Noelle\", 61], [\"Ava\", 70], [\"Sam\", 67], [\"Mia\", 64]]"
   ]
  },
  {
   "cell_type": "markdown",
   "id": "121478a5-2b09-400b-9d94-25f68c5da96f",
   "metadata": {},
   "source": [
    "# Accessing 2D Lists"
   ]
  },
  {
   "cell_type": "code",
   "execution_count": 19,
   "id": "b7f75358-4f00-486b-8d27-def0a78b2c69",
   "metadata": {},
   "outputs": [
    {
     "name": "stdout",
     "output_type": "stream",
     "text": [
      "61\n"
     ]
    }
   ],
   "source": [
    "noelles_height = heights[0][1] \n",
    "print(noelles_height)"
   ]
  },
  {
   "cell_type": "markdown",
   "id": "b536e73d-30cb-4ce7-afae-9a98bc0532fb",
   "metadata": {},
   "source": [
    "# Modifying 2D Lists"
   ]
  },
  {
   "cell_type": "code",
   "execution_count": 21,
   "id": "eb8021a9-7d50-4317-aae0-5fe146063092",
   "metadata": {},
   "outputs": [
    {
     "name": "stdout",
     "output_type": "stream",
     "text": [
      "[['Jenny', 'Meditation'], ['Alexus', 'Photography'], ['Grace', 'Soccer']]\n"
     ]
    }
   ],
   "source": [
    "class_name_hobbies = [[\"Jenny\", \"Breakdancing\"], [\"Alexus\", \"Photography\"], [\"Grace\", \"Soccer\"]]\n",
    "\n",
    "class_name_hobbies[0][1] = \"Meditation\"\n",
    "print(class_name_hobbies)"
   ]
  },
  {
   "cell_type": "markdown",
   "id": "06beed83-7920-4d9d-a16c-98fedb9f694a",
   "metadata": {},
   "source": [
    "# Working with Lists Built in methods"
   ]
  },
  {
   "cell_type": "markdown",
   "id": "bde35473-fcb4-4c9b-9510-3306905458e9",
   "metadata": {},
   "source": [
    "# Adding by Index: Insert"
   ]
  },
  {
   "cell_type": "code",
   "execution_count": 24,
   "id": "029335f3-3497-4857-ba20-d97084d97dcf",
   "metadata": {},
   "outputs": [],
   "source": [
    "store_line = [\"Karla\", \"Maxium\", \"Martim\", \"Isabella\"]"
   ]
  },
  {
   "cell_type": "code",
   "execution_count": 25,
   "id": "465edd1b-80e6-4263-8929-3b9877b4a514",
   "metadata": {},
   "outputs": [
    {
     "name": "stdout",
     "output_type": "stream",
     "text": [
      "['Karla', 'Maxium', 'Vikor', 'Martim', 'Isabella']\n"
     ]
    }
   ],
   "source": [
    "store_line.insert(2, \"Vikor\")\n",
    "print(store_line) "
   ]
  },
  {
   "cell_type": "markdown",
   "id": "00f1cb38-d2f5-4dd4-9b84-12bbf504ea84",
   "metadata": {},
   "source": [
    "# Removing by Index: Pop"
   ]
  },
  {
   "cell_type": "code",
   "execution_count": 26,
   "id": "5908b94b-278a-4680-9ee1-cbb811fb0df8",
   "metadata": {},
   "outputs": [],
   "source": [
    "cs_topics = [\"Python\", \"Data Structures\", \"Balloon Making\", \"Algorithms\", \"Clowns 101\"]"
   ]
  },
  {
   "cell_type": "code",
   "execution_count": 27,
   "id": "8611a81e-c396-4ce0-8423-57c3c96267fe",
   "metadata": {},
   "outputs": [
    {
     "name": "stdout",
     "output_type": "stream",
     "text": [
      "['Python', 'Data Structures', 'Balloon Making', 'Algorithms']\n",
      "Clowns 101\n"
     ]
    }
   ],
   "source": [
    "removed_element = cs_topics.pop()\n",
    "print(cs_topics)\n",
    "print(removed_element)"
   ]
  },
  {
   "cell_type": "code",
   "execution_count": 28,
   "id": "cd60a290-7126-4530-80b8-f1b34906963f",
   "metadata": {},
   "outputs": [
    {
     "name": "stdout",
     "output_type": "stream",
     "text": [
      "['Python', 'Data Structures', 'Algorithms']\n"
     ]
    }
   ],
   "source": [
    "cs_topics.pop(2)\n",
    "print(cs_topics)"
   ]
  },
  {
   "cell_type": "markdown",
   "id": "e1562a11-f5cc-495e-8bdd-565ff3133248",
   "metadata": {},
   "source": [
    "# Consecutive Lists: Range"
   ]
  },
  {
   "cell_type": "code",
   "execution_count": 30,
   "id": "1d96f9d6-eb96-4b11-86c4-3077d8ff6cc9",
   "metadata": {},
   "outputs": [],
   "source": [
    "my_list = [0, 1, 2, 3, 4, 5, 6, 7, 8, 9]"
   ]
  },
  {
   "cell_type": "code",
   "execution_count": 31,
   "id": "a658bee0-5b8b-40b4-8e14-c59a5f14aafd",
   "metadata": {},
   "outputs": [
    {
     "name": "stdout",
     "output_type": "stream",
     "text": [
      "range(0, 10)\n"
     ]
    }
   ],
   "source": [
    "my_range = range(10)\n",
    "print(my_range)"
   ]
  },
  {
   "cell_type": "code",
   "execution_count": 32,
   "id": "1bb557dc-3d00-4d0b-b6a3-f280dd3c3418",
   "metadata": {},
   "outputs": [
    {
     "name": "stdout",
     "output_type": "stream",
     "text": [
      "[0, 1, 2, 3, 4, 5, 6, 7, 8, 9]\n"
     ]
    }
   ],
   "source": [
    "print(list(my_range))"
   ]
  },
  {
   "cell_type": "code",
   "execution_count": 33,
   "id": "48a6cac3-a0d1-4019-8604-2bef6c28a01d",
   "metadata": {},
   "outputs": [],
   "source": [
    "# The Power of Range!"
   ]
  },
  {
   "cell_type": "code",
   "execution_count": 34,
   "id": "fc605612-5086-44dd-83f7-62761d55bfb3",
   "metadata": {},
   "outputs": [
    {
     "name": "stdout",
     "output_type": "stream",
     "text": [
      "[2, 3, 4, 5, 6, 7, 8]\n"
     ]
    }
   ],
   "source": [
    "my_list = range(2, 9)\n",
    "print(list(my_list))"
   ]
  },
  {
   "cell_type": "code",
   "execution_count": 35,
   "id": "e0d1d308-be0e-4908-b212-9777b5efd1dd",
   "metadata": {},
   "outputs": [
    {
     "name": "stdout",
     "output_type": "stream",
     "text": [
      "[2, 4, 6, 8]\n"
     ]
    }
   ],
   "source": [
    "my_range2 = range(2, 9, 2)\n",
    "print(list(my_range2))"
   ]
  },
  {
   "cell_type": "code",
   "execution_count": 36,
   "id": "d702f304-0713-4077-819a-63fe9db9286f",
   "metadata": {},
   "outputs": [
    {
     "name": "stdout",
     "output_type": "stream",
     "text": [
      "[1, 11, 21, 31, 41, 51, 61, 71, 81, 91]\n"
     ]
    }
   ],
   "source": [
    "my_range3 = range(1, 100, 10)\n",
    "print(list(my_range3))"
   ]
  },
  {
   "cell_type": "markdown",
   "id": "63badc43-af39-4580-b132-234dd35d4c8b",
   "metadata": {},
   "source": [
    "# Length"
   ]
  },
  {
   "cell_type": "code",
   "execution_count": 37,
   "id": "85a8572f-7633-432b-896a-74067e64d96e",
   "metadata": {},
   "outputs": [
    {
     "name": "stdout",
     "output_type": "stream",
     "text": [
      "5\n"
     ]
    }
   ],
   "source": [
    "my_list = [1, 2, 3, 4, 5]\n",
    " \n",
    "print(len(my_list))"
   ]
  },
  {
   "cell_type": "markdown",
   "id": "e25be007-c239-422a-8179-89e0b1196495",
   "metadata": {},
   "source": [
    "# Slicing Lists I"
   ]
  },
  {
   "cell_type": "code",
   "execution_count": 38,
   "id": "2f4ace0b-6974-4efa-8304-f3a37f8217ca",
   "metadata": {},
   "outputs": [],
   "source": [
    "letters = [\"a\", \"b\", \"c\", \"d\", \"e\", \"f\", \"g\"]"
   ]
  },
  {
   "cell_type": "code",
   "execution_count": 39,
   "id": "7923cd7d-680b-4be9-9449-0cac2f2249c8",
   "metadata": {},
   "outputs": [
    {
     "name": "stdout",
     "output_type": "stream",
     "text": [
      "['b', 'c', 'd', 'e', 'f']\n"
     ]
    }
   ],
   "source": [
    "sliced_list = letters[1:6]\n",
    "print(sliced_list)"
   ]
  },
  {
   "cell_type": "markdown",
   "id": "4cee01af-dab1-4b82-8023-be8490654de9",
   "metadata": {},
   "source": [
    "# Slicing Lists II"
   ]
  },
  {
   "cell_type": "code",
   "execution_count": 41,
   "id": "c46eb6d6-0b1d-4e68-adc1-5b0fc91d3211",
   "metadata": {},
   "outputs": [],
   "source": [
    "fruits = [\"apple\", \"cherry\", \"pineapple\", \"orange\", \"mango\"]"
   ]
  },
  {
   "cell_type": "code",
   "execution_count": 43,
   "id": "6c8abd76-e7df-4cfa-b0c3-4f34b15f462c",
   "metadata": {},
   "outputs": [
    {
     "data": {
      "text/plain": [
       "['apple', 'cherry']"
      ]
     },
     "execution_count": 43,
     "metadata": {},
     "output_type": "execute_result"
    }
   ],
   "source": [
    "fruits[:2]"
   ]
  },
  {
   "cell_type": "code",
   "execution_count": 44,
   "id": "184cd283-5aa9-4b39-942d-f057e59fbc88",
   "metadata": {},
   "outputs": [
    {
     "name": "stdout",
     "output_type": "stream",
     "text": [
      "['apple', 'cherry', 'pineapple']\n"
     ]
    }
   ],
   "source": [
    "print(fruits[:3])"
   ]
  },
  {
   "cell_type": "code",
   "execution_count": 45,
   "id": "b3d9b0a5-bc7d-4a2a-b04b-99c40d97d932",
   "metadata": {},
   "outputs": [
    {
     "name": "stdout",
     "output_type": "stream",
     "text": [
      "['orange', 'mango']\n"
     ]
    }
   ],
   "source": [
    "print(fruits[-2:])"
   ]
  },
  {
   "cell_type": "code",
   "execution_count": 47,
   "id": "e9fd86c9-4c04-45d1-add1-824419762d38",
   "metadata": {},
   "outputs": [
    {
     "data": {
      "text/plain": [
       "['apple', 'cherry', 'pineapple']"
      ]
     },
     "execution_count": 47,
     "metadata": {},
     "output_type": "execute_result"
    }
   ],
   "source": [
    "fruits[:-2]"
   ]
  },
  {
   "cell_type": "code",
   "execution_count": 48,
   "id": "6f0ae458-d528-42af-8b31-4abf34a8f35f",
   "metadata": {},
   "outputs": [
    {
     "name": "stdout",
     "output_type": "stream",
     "text": [
      "['apple', 'cherry', 'pineapple', 'orange']\n"
     ]
    }
   ],
   "source": [
    "print(fruits[:-1])"
   ]
  },
  {
   "cell_type": "markdown",
   "id": "5522c4e8-be1e-40c4-80bb-21222ad24449",
   "metadata": {},
   "source": [
    "# Counting in a List"
   ]
  },
  {
   "cell_type": "code",
   "execution_count": 49,
   "id": "26aba2f8-7922-4296-bf5b-1f8d9817d279",
   "metadata": {},
   "outputs": [],
   "source": [
    "letters = [\"m\", \"i\", \"s\", \"s\", \"i\", \"s\", \"s\", \"i\", \"p\", \"p\", \"i\"]"
   ]
  },
  {
   "cell_type": "code",
   "execution_count": 50,
   "id": "7d33c20e-58c8-4ba2-97ca-6718306a5d78",
   "metadata": {},
   "outputs": [
    {
     "name": "stdout",
     "output_type": "stream",
     "text": [
      "4\n"
     ]
    }
   ],
   "source": [
    "num_i = letters.count(\"i\")\n",
    "print(num_i)"
   ]
  },
  {
   "cell_type": "code",
   "execution_count": 51,
   "id": "b6942812-800d-49ed-b2ff-33eab9dc5063",
   "metadata": {},
   "outputs": [],
   "source": [
    "number_collection = [[100, 200], [100, 200], [475, 29], [34, 34]]"
   ]
  },
  {
   "cell_type": "code",
   "execution_count": 52,
   "id": "8cedd67e-567b-41df-97b3-15a7a2a208dd",
   "metadata": {},
   "outputs": [
    {
     "name": "stdout",
     "output_type": "stream",
     "text": [
      "2\n"
     ]
    }
   ],
   "source": [
    "num_pairs = number_collection.count([100, 200])\n",
    "print(num_pairs)"
   ]
  },
  {
   "cell_type": "markdown",
   "id": "d5331781-04fb-47fc-8aa5-695db72dd0d0",
   "metadata": {},
   "source": [
    "# Sorting Lists I"
   ]
  },
  {
   "cell_type": "code",
   "execution_count": 53,
   "id": "7b6dc881-16fe-4cea-a4b3-fbe426231c70",
   "metadata": {},
   "outputs": [],
   "source": [
    "names = [\"Xander\", \"Buffy\", \"Angel\", \"Willow\", \"Giles\"]"
   ]
  },
  {
   "cell_type": "code",
   "execution_count": 54,
   "id": "73c40f34-f8ce-4b94-a699-505649a04304",
   "metadata": {},
   "outputs": [
    {
     "name": "stdout",
     "output_type": "stream",
     "text": [
      "['Angel', 'Buffy', 'Giles', 'Willow', 'Xander']\n"
     ]
    }
   ],
   "source": [
    "names.sort()\n",
    "print(names)"
   ]
  },
  {
   "cell_type": "code",
   "execution_count": 55,
   "id": "399841eb-5581-437f-97ea-91b92695ff65",
   "metadata": {},
   "outputs": [
    {
     "name": "stdout",
     "output_type": "stream",
     "text": [
      "['Xander', 'Willow', 'Giles', 'Buffy', 'Angel']\n"
     ]
    }
   ],
   "source": [
    "names.sort(reverse=True)\n",
    "print(names)"
   ]
  },
  {
   "cell_type": "markdown",
   "id": "777c7316-1457-4246-9055-2008e864e928",
   "metadata": {},
   "source": [
    "# Sorting Lists II"
   ]
  },
  {
   "cell_type": "code",
   "execution_count": 57,
   "id": "2351aed6-02af-42da-953f-d257191a5b8c",
   "metadata": {},
   "outputs": [],
   "source": [
    "names = [\"Xander\", \"Buffy\", \"Angel\", \"Willow\", \"Giles\"]"
   ]
  },
  {
   "cell_type": "code",
   "execution_count": 58,
   "id": "d12fd21c-7329-413c-a297-5208dd9a803d",
   "metadata": {},
   "outputs": [
    {
     "name": "stdout",
     "output_type": "stream",
     "text": [
      "['Angel', 'Buffy', 'Giles', 'Willow', 'Xander']\n"
     ]
    }
   ],
   "source": [
    "sorted_names = sorted(names)\n",
    "print(sorted_names)"
   ]
  },
  {
   "cell_type": "code",
   "execution_count": 59,
   "id": "08a25a50-763a-4b95-aed8-abeecf1f29e0",
   "metadata": {},
   "outputs": [
    {
     "name": "stdout",
     "output_type": "stream",
     "text": [
      "['Xander', 'Buffy', 'Angel', 'Willow', 'Giles']\n"
     ]
    }
   ],
   "source": [
    "print(names)"
   ]
  },
  {
   "cell_type": "code",
   "execution_count": null,
   "id": "b77719f1-fbec-466b-8957-4096f96eea25",
   "metadata": {},
   "outputs": [],
   "source": []
  }
 ],
 "metadata": {
  "kernelspec": {
   "display_name": "Python 3 (ipykernel)",
   "language": "python",
   "name": "python3"
  },
  "language_info": {
   "codemirror_mode": {
    "name": "ipython",
    "version": 3
   },
   "file_extension": ".py",
   "mimetype": "text/x-python",
   "name": "python",
   "nbconvert_exporter": "python",
   "pygments_lexer": "ipython3",
   "version": "3.10.9"
  }
 },
 "nbformat": 4,
 "nbformat_minor": 5
}
