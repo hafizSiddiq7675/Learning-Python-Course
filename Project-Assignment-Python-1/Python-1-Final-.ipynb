{
 "cells": [
  {
   "cell_type": "markdown",
   "metadata": {},
   "source": [
    "# Frida Kahlo Exhibition\n",
    "\n",
    "You've been hired to work on a retrospective of Frida Kahlo's work at a major museum. Your job is to put together the audio tour, but in order to do that you need to create a list of each painting featured in the exhibit, the date it was painted, and its spot in the tour. \n",
    "\n",
    "Use your knowledge of Python lists to create a master list of each painting, its date, and its audio tour ID. \n"
   ]
  },
  {
   "cell_type": "markdown",
   "metadata": {},
   "source": [
    "## Task 1\n",
    "First, create a list called `paintings` and add the following titles to it:\n",
    "\n",
    "`The Two Fridas, My Dress Hangs Here, Tree of Hope, Self Portrait With Monkeys`\n"
   ]
  },
  {
   "cell_type": "code",
   "execution_count": 1,
   "metadata": {},
   "outputs": [],
   "source": [
    "# Create a list of paintings with their titles\n",
    "paintings = [\"The Two Fridas\", \"My Dress Hangs Here\", \"Tree of Hope\", \"Self Portrait With Monkeys\"]\n"
   ]
  },
  {
   "cell_type": "markdown",
   "metadata": {},
   "source": [
    "## Task 2\n",
    "\n",
    "Next, create a second list called `dates` and give it the following values:\n",
    "`1939, 1933, 1946, 1940`"
   ]
  },
  {
   "cell_type": "code",
   "execution_count": 2,
   "metadata": {
    "tags": []
   },
   "outputs": [],
   "source": [
    "# List of dates for each painting\n",
    "dates = [1939, 1933, 1946, 1940]"
   ]
  },
  {
   "cell_type": "markdown",
   "metadata": {},
   "source": [
    "## Task 3 \n",
    "It doesn't do much good to have the paintings without their dates, and vice versa. \n",
    "Zip together the two lists so that each painting is paired with its date and resave it to the `paintings` variable. Make sure to convert the zipped object into a list using the `list()` function. Print the results to the terminal to check your work. "
   ]
  },
  {
   "cell_type": "code",
   "execution_count": 3,
   "metadata": {
    "tags": []
   },
   "outputs": [
    {
     "name": "stdout",
     "output_type": "stream",
     "text": [
      "Title: The Two Fridas, Date: 1939\n",
      "Title: My Dress Hangs Here, Date: 1933\n",
      "Title: Tree of Hope, Date: 1946\n",
      "Title: Self Portrait With Monkeys, Date: 1940\n"
     ]
    }
   ],
   "source": [
    "# Zip the two lists together to pair paintings with their dates\n",
    "paintings = list(zip(paintings, dates))\n",
    "\n",
    "# Print the results to the terminal\n",
    "for item in paintings:\n",
    "    print(f\"Title: {item[0]}, Date: {item[1]}\")\n"
   ]
  },
  {
   "cell_type": "markdown",
   "metadata": {},
   "source": [
    "## Task 4\n",
    "There were some last minute additions to the show that we need to add to our list. Append the following paintings to our `paintings` list then re-print to check they were added correctly:\n",
    "- 'The Broken Column', 1944\n",
    "- 'The Wounded Deer', 1946\n",
    "- 'Me and My Doll', 1937\n",
    "\n",
    "Hint: Make sure to append each painting individually and that you're appending them as tuples, not lists. "
   ]
  },
  {
   "cell_type": "code",
   "execution_count": 4,
   "metadata": {
    "tags": []
   },
   "outputs": [
    {
     "name": "stdout",
     "output_type": "stream",
     "text": [
      "Title: The Two Fridas, Date: 1939\n",
      "Title: My Dress Hangs Here, Date: 1933\n",
      "Title: Tree of Hope, Date: 1946\n",
      "Title: Self Portrait With Monkeys, Date: 1940\n",
      "Title: The Broken Column, Date: 1944\n",
      "Title: The Wounded Deer, Date: 1946\n",
      "Title: Me and My Doll, Date: 1937\n"
     ]
    }
   ],
   "source": [
    "# Append the new paintings as tuples to the 'paintings' list\n",
    "paintings.append((\"The Broken Column\", 1944))\n",
    "paintings.append((\"The Wounded Deer\", 1946))\n",
    "paintings.append((\"Me and My Doll\", 1937))\n",
    "\n",
    "# Print the updated list to verify the additions\n",
    "for item in paintings:\n",
    "    print(f\"Title: {item[0]}, Date: {item[1]}\")"
   ]
  },
  {
   "cell_type": "markdown",
   "metadata": {},
   "source": [
    "## Task 5\n",
    "Since each of these paintings is going to be in the audio tour, they each need a unique identification number.\n",
    "But before we assign them a number, we first need to check how many paintings there are in total.\n",
    "\n",
    "Find the length of the `paintings` list."
   ]
  },
  {
   "cell_type": "code",
   "execution_count": 5,
   "metadata": {
    "tags": []
   },
   "outputs": [
    {
     "name": "stdout",
     "output_type": "stream",
     "text": [
      "Total number of paintings: 7\n"
     ]
    }
   ],
   "source": [
    "# Find the length of the 'paintings' list\n",
    "total_paintings = len(paintings)\n",
    "\n",
    "# Print the total number of paintings\n",
    "print(f\"Total number of paintings: {total_paintings}\")"
   ]
  },
  {
   "cell_type": "markdown",
   "metadata": {},
   "source": [
    "## Task 6\n",
    "Use the `range` method to generate a list of identification numbers that starts at 1 and is equal in length to our list of items. \n",
    "Save the list to the variable `audio_tour_number` and check your work by printing the list."
   ]
  },
  {
   "cell_type": "code",
   "execution_count": 6,
   "metadata": {
    "tags": []
   },
   "outputs": [
    {
     "name": "stdout",
     "output_type": "stream",
     "text": [
      "[1, 2, 3, 4, 5, 6, 7]\n"
     ]
    }
   ],
   "source": [
    "# Generate a list of identification numbers using range\n",
    "audio_tour_number = list(range(1, len(paintings) + 1))\n",
    "\n",
    "# Print the list of identification numbers\n",
    "print(audio_tour_number)"
   ]
  },
  {
   "cell_type": "markdown",
   "metadata": {},
   "source": [
    "## Task 7 \n",
    "\n",
    "We're finally read to create our master list. \n",
    "Zip the `audio_tour_number` list to the `paintings` list and save it as `master_list`.\n",
    "\n",
    "Hint: Make sure to convert the zipped object into a list using the `list()` function."
   ]
  },
  {
   "cell_type": "code",
   "execution_count": 11,
   "metadata": {
    "tags": []
   },
   "outputs": [],
   "source": [
    "# List of identification numbers\n",
    "audio_tour_number = list(range(1, len(paintings) + 1))\n",
    "\n",
    "# Zip the audio_tour_number list to the paintings list\n",
    "master_list = list(zip(audio_tour_number, paintings))\n"
   ]
  },
  {
   "cell_type": "markdown",
   "metadata": {},
   "source": [
    "## Task 8 \n",
    "Print the `master_list` to the terminal."
   ]
  },
  {
   "cell_type": "code",
   "execution_count": 8,
   "metadata": {
    "tags": []
   },
   "outputs": [
    {
     "name": "stdout",
     "output_type": "stream",
     "text": [
      "Audio Tour ID: 1, Title: The Two Fridas, Date: 1939\n",
      "Audio Tour ID: 2, Title: My Dress Hangs Here, Date: 1933\n",
      "Audio Tour ID: 3, Title: Tree of Hope, Date: 1946\n",
      "Audio Tour ID: 4, Title: Self Portrait With Monkeys, Date: 1940\n",
      "Audio Tour ID: 5, Title: The Broken Column, Date: 1944\n",
      "Audio Tour ID: 6, Title: The Wounded Deer, Date: 1946\n",
      "Audio Tour ID: 7, Title: Me and My Doll, Date: 1937\n"
     ]
    }
   ],
   "source": [
    "# Print the master list to check the result\n",
    "for item in master_list:\n",
    "    print(f\"Audio Tour ID: {item[0]}, Title: {item[1][0]}, Date: {item[1][1]}\")"
   ]
  }
 ],
 "metadata": {
  "kernelspec": {
   "display_name": "Python 3 (ipykernel)",
   "language": "python",
   "name": "python3"
  },
  "language_info": {
   "codemirror_mode": {
    "name": "ipython",
    "version": 3
   },
   "file_extension": ".py",
   "mimetype": "text/x-python",
   "name": "python",
   "nbconvert_exporter": "python",
   "pygments_lexer": "ipython3",
   "version": "3.10.9"
  }
 },
 "nbformat": 4,
 "nbformat_minor": 4
}
