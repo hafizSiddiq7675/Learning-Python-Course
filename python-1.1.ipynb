{
 "cells": [
  {
   "cell_type": "markdown",
   "id": "246799be-ddea-46d1-8d8b-04fc0ac62386",
   "metadata": {},
   "source": [
    "# Functions\n",
    "In programming, as we start to write bigger and more complex programs, one thing we will start to notice is we will often have to repeat the same set of steps in many different places in our program."
   ]
  },
  {
   "cell_type": "code",
   "execution_count": 1,
   "id": "b2b960fa-542f-4366-a193-a804fa66e820",
   "metadata": {},
   "outputs": [
    {
     "name": "stdout",
     "output_type": "stream",
     "text": [
      "Walk 4 mins to 34th St Herald Square train station\n",
      "Take the Northbound N, Q, R, or W train 1 stop\n",
      "Get off the Times Square 42nd Street stop\n"
     ]
    }
   ],
   "source": [
    "def function_name():\n",
    "    pass\n",
    "\n",
    "# def is a keyword\n",
    "\n",
    "# parenthesis ( ) that can hold input values known as parameters\n",
    "\n",
    "# A colon : to mark the end of the function header.\n",
    "\n",
    "def directions_to_timesSq():\n",
    "  print(\"Walk 4 mins to 34th St Herald Square train station\")\n",
    "  print(\"Take the Northbound N, Q, R, or W train 1 stop\")\n",
    "  print(\"Get off the Times Square 42nd Street stop\")\n",
    "\n",
    "# Calling function\n",
    "directions_to_timesSq()"
   ]
  },
  {
   "cell_type": "markdown",
   "id": "ccddd6f2-05e7-4cab-bfa8-b8f4f0f40d61",
   "metadata": {},
   "source": [
    "# parameters"
   ]
  },
  {
   "cell_type": "code",
   "execution_count": 3,
   "id": "69246f0d-8afc-44f8-9b9a-ea28312670ca",
   "metadata": {},
   "outputs": [
    {
     "name": "stdout",
     "output_type": "stream",
     "text": [
      "Looks like you are planning a trip to visit Central Park\n",
      "You can use the public subway system to get to Central Park\n",
      "Looks like you are planning a trip to visit Grand Central Station\n",
      "You can use the public subway system to get to Grand Central Station\n",
      "Welcome to Tripcademy\n",
      "Looks like you are traveling from Prospect Park\n",
      "And you are heading to Atlantic Terminal\n"
     ]
    }
   ],
   "source": [
    "def generate_trip_instructions(location):\n",
    "  print(\"Looks like you are planning a trip to visit \" + location)\n",
    "  print(\"You can use the public subway system to get to \" + location)\n",
    "\n",
    "# Single Parameter\n",
    "\n",
    "generate_trip_instructions(\"Central Park\")\n",
    "generate_trip_instructions(\"Grand Central Station\")\n",
    "\n",
    "# Multiple Parameters\n",
    "\n",
    "def my_function(parameter1, parameter2, parameter3):\n",
    "    pass\n",
    "\n",
    "def trip_welcome(origin, destination):\n",
    "  print(\"Welcome to Tripcademy\")\n",
    "  print(\"Looks like you are traveling from \" + origin)\n",
    "  print(\"And you are heading to \" + destination)\n",
    "\n",
    "trip_welcome(\"Prospect Park\", \"Atlantic Terminal\")"
   ]
  },
  {
   "cell_type": "markdown",
   "id": "f733bee4-7e1f-4c0f-b5cc-e0b1144e052a",
   "metadata": {},
   "source": [
    "# Arguments"
   ]
  },
  {
   "cell_type": "code",
   "execution_count": 5,
   "id": "342da866-d90e-4b9c-a8c3-763cbe741381",
   "metadata": {},
   "outputs": [],
   "source": [
    "# Positional Arguments\n",
    "\n",
    "def calculate_taxi_price(miles_to_travel, rate, discount):\n",
    "  print(miles_to_travel * rate - discount )"
   ]
  },
  {
   "cell_type": "code",
   "execution_count": 6,
   "id": "9ec80294-be07-4a47-94da-afab0ee08fd7",
   "metadata": {},
   "outputs": [
    {
     "name": "stdout",
     "output_type": "stream",
     "text": [
      "995\n"
     ]
    }
   ],
   "source": [
    "# 100 is miles_to_travel\n",
    "# 10 is rate\n",
    "# 5 is discount\n",
    "calculate_taxi_price(100, 10, 5)"
   ]
  },
  {
   "cell_type": "code",
   "execution_count": 7,
   "id": "9a20f524-5587-432e-af4e-0be1a17b6674",
   "metadata": {},
   "outputs": [
    {
     "name": "stdout",
     "output_type": "stream",
     "text": [
      "40.0\n"
     ]
    }
   ],
   "source": [
    "# Keyword arguments: arguments that can be called by their name.\n",
    "calculate_taxi_price(rate=0.5, discount=10, miles_to_travel=100)"
   ]
  },
  {
   "cell_type": "code",
   "execution_count": 8,
   "id": "82df6b5c-c8c0-4d84-9b4e-c8a3bd0e2e07",
   "metadata": {},
   "outputs": [],
   "source": [
    "# Default arguments: arguments that are given default values.\n"
   ]
  },
  {
   "cell_type": "code",
   "execution_count": 9,
   "id": "5593a328-30eb-4f19-ab5d-d6de43132a7a",
   "metadata": {},
   "outputs": [],
   "source": [
    "def calculate_taxi_price(miles_to_travel, rate, discount = 10):\n",
    "  print(miles_to_travel * rate - discount )"
   ]
  },
  {
   "cell_type": "code",
   "execution_count": 10,
   "id": "38366bf9-829a-40ce-a0a3-85338a6adbfa",
   "metadata": {},
   "outputs": [
    {
     "name": "stdout",
     "output_type": "stream",
     "text": [
      "-5.0\n",
      "-15.0\n"
     ]
    }
   ],
   "source": [
    "# Using the default value of 10 for discount.\n",
    "calculate_taxi_price(10, 0.5)\n",
    " \n",
    "# Overwriting the default value of 10 with 20\n",
    "calculate_taxi_price(10, 0.5, 20)"
   ]
  },
  {
   "cell_type": "markdown",
   "id": "eef3f8e0-1566-4ef3-a4a3-ae92540de47f",
   "metadata": {},
   "source": [
    "# Built in function VS user defined functions"
   ]
  },
  {
   "cell_type": "code",
   "execution_count": 11,
   "id": "f093c941-63b3-4426-aa4f-db62a1fc5643",
   "metadata": {},
   "outputs": [
    {
     "name": "stdout",
     "output_type": "stream",
     "text": [
      "-5.0\n",
      "-15.0\n"
     ]
    }
   ],
   "source": [
    "# Using the default value of 10 for discount.\n",
    "calculate_taxi_price(10, 0.5)\n",
    " \n",
    "# Overwriting the default value of 10 with 20\n",
    "calculate_taxi_price(10, 0.5, 20)"
   ]
  },
  {
   "cell_type": "markdown",
   "id": "158c70bb-b36d-497e-bafe-4799ced0772d",
   "metadata": {},
   "source": [
    "# Variable Scopes"
   ]
  },
  {
   "cell_type": "code",
   "execution_count": 12,
   "id": "81dd0f2f-c8dc-4a86-bc27-1abd74d5c8c1",
   "metadata": {},
   "outputs": [
    {
     "ename": "NameError",
     "evalue": "name 'destination' is not defined",
     "output_type": "error",
     "traceback": [
      "\u001b[0;31m---------------------------------------------------------------------------\u001b[0m",
      "\u001b[0;31mNameError\u001b[0m                                 Traceback (most recent call last)",
      "Cell \u001b[0;32mIn[12], line 5\u001b[0m\n\u001b[1;32m      2\u001b[0m \u001b[38;5;28;01mdef\u001b[39;00m \u001b[38;5;21mtrip_welcome\u001b[39m(destination):\n\u001b[1;32m      3\u001b[0m   \u001b[38;5;28mprint\u001b[39m(\u001b[38;5;124m\"\u001b[39m\u001b[38;5;124m Looks like you\u001b[39m\u001b[38;5;124m'\u001b[39m\u001b[38;5;124mre going to the \u001b[39m\u001b[38;5;124m\"\u001b[39m \u001b[38;5;241m+\u001b[39m destination \u001b[38;5;241m+\u001b[39m \u001b[38;5;124m\"\u001b[39m\u001b[38;5;124m today. \u001b[39m\u001b[38;5;124m\"\u001b[39m)\n\u001b[0;32m----> 5\u001b[0m \u001b[38;5;28mprint\u001b[39m(\u001b[43mdestination\u001b[49m)\n",
      "\u001b[0;31mNameError\u001b[0m: name 'destination' is not defined"
     ]
    }
   ],
   "source": [
    "# Can't Access destination variable outside\n",
    "def trip_welcome(destination):\n",
    "  print(\" Looks like you're going to the \" + destination + \" today. \")\n",
    " \n",
    "print(destination)"
   ]
  },
  {
   "cell_type": "markdown",
   "id": "4b18d5f3-a3d1-4718-a8f7-29a9b443eedb",
   "metadata": {},
   "source": [
    "# Function Return"
   ]
  },
  {
   "cell_type": "code",
   "execution_count": 14,
   "id": "3f72d999-3c77-4514-bcd8-346a3f4427a9",
   "metadata": {},
   "outputs": [
    {
     "name": "stdout",
     "output_type": "stream",
     "text": [
      "100 dollars in US currency would give you 140.0 New Zealand dollars\n"
     ]
    }
   ],
   "source": [
    "def calculate_exchange_usd(us_dollars, exchange_rate):\n",
    "  return us_dollars * exchange_rate\n",
    " \n",
    "new_zealand_exchange = calculate_exchange_usd(100, 1.4)\n",
    " \n",
    "print(\"100 dollars in US currency would give you \" + str(new_zealand_exchange) + \" New Zealand dollars\")"
   ]
  },
  {
   "cell_type": "code",
   "execution_count": 15,
   "id": "3a4e0b0a-a995-41f3-b884-7e6d1d70bc89",
   "metadata": {},
   "outputs": [],
   "source": [
    "# Multiple Returns\n",
    "\n",
    "weather_data = ['Sunny', 'Sunny', 'Cloudy', 'Raining', 'Snowing']\n",
    " \n",
    "def threeday_weather_report(weather):\n",
    "  first_day = \" Tomorrow the weather will be \" + weather[0]\n",
    "  second_day = \" The following day it will be \" + weather[1]\n",
    "  third_day = \" Two days from now it will be \" + weather[2]\n",
    "  return first_day, second_day, third_day"
   ]
  },
  {
   "cell_type": "code",
   "execution_count": 16,
   "id": "57968bd5-54e2-4f5d-b4ec-3369fa51f14b",
   "metadata": {},
   "outputs": [
    {
     "name": "stdout",
     "output_type": "stream",
     "text": [
      " Tomorrow the weather will be Sunny\n",
      " The following day it will be Sunny\n",
      " Two days from now it will be Cloudy\n"
     ]
    }
   ],
   "source": [
    "monday, tuesday, wednesday = threeday_weather_report(weather_data)\n",
    " \n",
    "print(monday)\n",
    "print(tuesday)\n",
    "print(wednesday)"
   ]
  },
  {
   "cell_type": "code",
   "execution_count": null,
   "id": "7aa2e261-2321-4155-91fe-b78f04d2a06f",
   "metadata": {},
   "outputs": [],
   "source": []
  }
 ],
 "metadata": {
  "kernelspec": {
   "display_name": "Python 3 (ipykernel)",
   "language": "python",
   "name": "python3"
  },
  "language_info": {
   "codemirror_mode": {
    "name": "ipython",
    "version": 3
   },
   "file_extension": ".py",
   "mimetype": "text/x-python",
   "name": "python",
   "nbconvert_exporter": "python",
   "pygments_lexer": "ipython3",
   "version": "3.10.9"
  }
 },
 "nbformat": 4,
 "nbformat_minor": 5
}
